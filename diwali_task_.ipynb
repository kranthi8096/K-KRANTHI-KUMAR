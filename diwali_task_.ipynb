{
 "cells": [
  {
   "cell_type": "markdown",
   "id": "fa9c1560",
   "metadata": {},
   "source": [
    "### 1389_Create Target Array in the Given Order"
   ]
  },
  {
   "cell_type": "markdown",
   "id": "36bf38f5",
   "metadata": {},
   "source": [
    "#### Given two arrays of integers nums and index. Your task is to create target array under the following rules\n",
    "#### Initially target is empty.\n",
    "#### From left to right read nums[i] and index[i], insert at index index[i] the value nums[i] in target array.\n",
    "#### Repeat the previous step until there are no elements to read in nums and index.\n",
    "\n",
    "#### Return: the target.\n",
    "\n",
    "#### Example 1:\n",
    "Input: nums = [0,1,2,3,4], index = [0,1,2,2,1]\n",
    "Output: [0,4,1,3,2]\n",
    "\n",
    "#### Example 2:\n",
    "Input: nums = [1,2,3,4,0], index = [0,1,2,3,0]\n",
    "Output: [0,1,2,3,4]\n",
    "\n",
    "#### Example 3:\n",
    "Input: nums = [1], index = [0]\n",
    "Output: [1]"
   ]
  },
  {
   "cell_type": "code",
   "execution_count": 47,
   "id": "5ab20663",
   "metadata": {},
   "outputs": [
    {
     "name": "stdout",
     "output_type": "stream",
     "text": [
      "[0, 4, 1, 3, 2]\n"
     ]
    }
   ],
   "source": [
    "def create_target_array(nums, index):\n",
    "    target = []\n",
    "\n",
    "    for i in range(len(nums)):\n",
    "        target.insert(index[i], nums[i])\n",
    "\n",
    "    return target\n",
    "\n",
    "nums = [0, 1, 2, 3, 4]\n",
    "index = [0, 1, 2, 2, 1]\n",
    "result = create_target_array(nums, index)\n",
    "print(result)"
   ]
  },
  {
   "cell_type": "code",
   "execution_count": 48,
   "id": "ee09654e",
   "metadata": {},
   "outputs": [
    {
     "name": "stdout",
     "output_type": "stream",
     "text": [
      "[0, 1, 2, 3, 4]\n"
     ]
    }
   ],
   "source": [
    "nums = [1, 2, 3, 4, 0]\n",
    "index = [0, 1, 2, 3, 0]\n",
    "result = create_target_array(nums, index)\n",
    "print(result)"
   ]
  },
  {
   "cell_type": "code",
   "execution_count": 49,
   "id": "5d2c19ca",
   "metadata": {},
   "outputs": [
    {
     "name": "stdout",
     "output_type": "stream",
     "text": [
      "[1]\n"
     ]
    }
   ],
   "source": [
    "nums = [1]\n",
    "index = [0]\n",
    "result = create_target_array(nums, index)\n",
    "print(result)"
   ]
  },
  {
   "cell_type": "markdown",
   "id": "47e06df1",
   "metadata": {},
   "source": [
    "#### Function Definition:\n",
    "The function create_target_array takes two lists, nums and index, as input.\n",
    "\n",
    "#### Initialization:\n",
    "It initializes an empty list target, which will store the elements in the target array.\n",
    "\n",
    "#### Loop through Input Lists:\n",
    "The function uses a for loop to iterate through each element in the nums list.\n",
    "\n",
    "#### Insert Elements at Specified Indices:\n",
    "For each element in nums, it uses the insert method to insert that element at the specified index in target according to the corresponding element in the index list.\n",
    "\n",
    "#### Result:\n",
    "The final target list, representing the target array, is returned."
   ]
  },
  {
   "cell_type": "markdown",
   "id": "e8b04d8c",
   "metadata": {},
   "source": [
    "### 1379_Find a Corresponding Node of a Binary Tree in a Clone of Tree"
   ]
  },
  {
   "cell_type": "markdown",
   "id": "f667603e",
   "metadata": {},
   "source": [
    "#### Given two binary trees (original) and (cloned). given a reference to a node target in the original tree.\n",
    "\n",
    "#### The cloned tree is a copy of the original tree.\n",
    "\n",
    "#### Return: a reference to the same node in the cloned tree.\n",
    "\n",
    "#### Example 1:\n",
    "Input: tree = [7,4,3,null,null,6,19], target = 3\n",
    "\n",
    "Output: 3\n",
    "\n",
    "#### Example 2:\n",
    "Input: tree = [7], target =  7\n",
    "\n",
    "Output: 7\n",
    "\n",
    "#### Example 3:\n",
    "Input: tree = [8,null,6,null,5,null,4,null,3,null,2,null,1], target = 4\n",
    "\n",
    "Output: 4\n",
    " "
   ]
  },
  {
   "cell_type": "code",
   "execution_count": 31,
   "id": "7bd0d9b0",
   "metadata": {},
   "outputs": [
    {
     "name": "stdout",
     "output_type": "stream",
     "text": [
      "3\n"
     ]
    }
   ],
   "source": [
    "class TreeNode:\n",
    "    def __init__(self, val=0, left=None, right=None):\n",
    "        self.val = val\n",
    "        self.left = left\n",
    "        self.right = right\n",
    "def getTargetCopy(original: TreeNode, cloned: TreeNode, target: TreeNode) -> TreeNode:\n",
    "    \"\"\"Find the corresponding node in the clone of a binary tree.\n",
    "\n",
    "    Args:\n",
    "        original (TreeNode): The root of the original binary tree.\n",
    "        cloned (TreeNode): The root of the cloned binary tree.\n",
    "        target (TreeNode): The target node in the original binary tree.\n",
    "\n",
    "    Returns:\n",
    "        TreeNode: The corresponding node in the clone binary tree.\n",
    "    \"\"\"\n",
    "    if not original or not cloned:\n",
    "        return None\n",
    "    queue_original = [original]\n",
    "    queue_cloned = [cloned]\n",
    "    while queue_original:\n",
    "        current_original = queue_original.pop(0)\n",
    "        current_cloned = queue_cloned.pop(0)\n",
    "        if current_original == target:\n",
    "            return current_cloned\n",
    "        if current_original.left:\n",
    "            queue_original.append(current_original.left)\n",
    "            queue_cloned.append(current_cloned.left)\n",
    "        if current_original.right:\n",
    "            queue_original.append(current_original.right)\n",
    "            queue_cloned.append(current_cloned.right)\n",
    "    return None\n",
    "tree = TreeNode(7,TreeNode(4,TreeNode(3),TreeNode(6)),TreeNode(19)) # Create the tree\n",
    "target_node = tree.left.left # Assuming target is the node with value 3\n",
    "cloned_tree = getTargetCopy(tree, tree, target_node) # Use the function to find the corresponding node in the clone\n",
    "print(cloned_tree.val)  # Print the value of the corresponding node in the clone"
   ]
  },
  {
   "cell_type": "code",
   "execution_count": 33,
   "id": "15fad78c",
   "metadata": {},
   "outputs": [
    {
     "name": "stdout",
     "output_type": "stream",
     "text": [
      "Find the corresponding node in the clone of a binary tree.\n",
      "\n",
      "    Args:\n",
      "        original (TreeNode): The root of the original binary tree.\n",
      "        cloned (TreeNode): The root of the cloned binary tree.\n",
      "        target (TreeNode): The target node in the original binary tree.\n",
      "\n",
      "    Returns:\n",
      "        TreeNode: The corresponding node in the clone binary tree.\n",
      "    \n"
     ]
    }
   ],
   "source": [
    "print(getTargetCopy.__doc__) # doc is used for multiline string."
   ]
  },
  {
   "cell_type": "code",
   "execution_count": 26,
   "id": "52fe7b77",
   "metadata": {},
   "outputs": [
    {
     "name": "stdout",
     "output_type": "stream",
     "text": [
      "3\n"
     ]
    }
   ],
   "source": [
    "tree = TreeNode(7,\n",
    "               TreeNode(4,\n",
    "                        TreeNode(3),\n",
    "                        TreeNode(6)),\n",
    "               TreeNode(19))\n",
    "\n",
    "target_node = tree.left.left  # Node with value 3\n",
    "cloned_tree = getTargetCopy(tree, tree, target_node)\n",
    "\n",
    "print(cloned_tree.val)\n"
   ]
  },
  {
   "cell_type": "code",
   "execution_count": 27,
   "id": "61a7cd46",
   "metadata": {},
   "outputs": [
    {
     "name": "stdout",
     "output_type": "stream",
     "text": [
      "7\n"
     ]
    }
   ],
   "source": [
    "tree = TreeNode(7)\n",
    "target_node = tree  # Node with value 7\n",
    "\n",
    "cloned_tree = getTargetCopy(tree, tree, target_node)\n",
    "\n",
    "print(cloned_tree.val)"
   ]
  },
  {
   "cell_type": "code",
   "execution_count": 28,
   "id": "f7a1bf1e",
   "metadata": {},
   "outputs": [
    {
     "name": "stdout",
     "output_type": "stream",
     "text": [
      "4\n"
     ]
    }
   ],
   "source": [
    "original_tree = TreeNode(8, None, TreeNode(6, None, TreeNode(4, None, TreeNode(3, None, TreeNode(2, None, TreeNode(1))))))\n",
    "\n",
    "target_node = original_tree.right.right\n",
    "\n",
    "cloned_tree = original_tree\n",
    "\n",
    "corresponding_node = getTargetCopy(original_tree, cloned_tree, target_node)\n",
    "\n",
    "print(corresponding_node.val)"
   ]
  },
  {
   "cell_type": "markdown",
   "id": "1cf57b69",
   "metadata": {},
   "source": [
    "#### TreeNode Class: \n",
    "This class defines the structure of a binary tree node. Each node has a value (val), a left child (left), and a right child (right).\n",
    "\n",
    "#### getTargetCopy: \n",
    "This function takes three parameters original (the original tree), cloned (the clone of the tree), and target (the node in the original tree for which we want to find the corresponding node in the clone).\n",
    "\n",
    "#### 1) The function starts by checking if either the original or cloned tree is empty. If either is empty, it returns None because there is no corresponding node.\n",
    "\n",
    "#### 2) Two queues (queue_original and queue_cloned) are used to perform a level-order traversal of both the original and cloned trees. The queues are initialized with the root nodes of their respective trees.\n",
    "\n",
    "#### 3) The function enters a while loop that continues until the queue_original is empty. Inside the loop.Nodes are dequeued from both queue_original and queue_cloned.\n",
    "\n",
    "--> If the current node in the original tree (current_original) is equal to the target node, it means we have found the target node, and the corresponding node in the clone tree (current_cloned) is returned.\n",
    "\n",
    "--> If the current original node has a left child, the left children of both the original and cloned nodes are enqueued.\n",
    "\n",
    "--> If the current original node has a right child, the right children of both the original and cloned nodes are enqueued.\n",
    "\n",
    "--> If the while loop completes without finding the target node, the function returns None.\n",
    "\n",
    "#### Conclusion:\n",
    "The getTargetCopy function successfully identifies the corresponding node in the clone of the binary tree for a given target node. The provided example demonstrates how to use this function with a specific tree structure and target node, resulting in the correct output. The function's stack-based traversal allows it to efficiently explore the trees and find the desired nodes."
   ]
  },
  {
   "cell_type": "markdown",
   "id": "11cb3157",
   "metadata": {},
   "source": [
    "### 1365_How Many Numbers Are Smaller Than the Current Number"
   ]
  },
  {
   "cell_type": "markdown",
   "id": "bf7f979d",
   "metadata": {},
   "source": [
    "#### Given the nums, for each nums[i] find out how many numbers in are smaller than it. That is, for each nums[i] you have to count the number of valid j's such that j != i and nums[j] < nums[i].\n",
    "\n",
    "#### Return: the answer in an nums.\n",
    "\n",
    "#### Example 1:\n",
    "Input: nums = [8,1,2,2,3]\n",
    "Output: [4,0,1,1,3]\n",
    "\n",
    "#### Example 2:\n",
    "Input: nums = [6,5,4,8]\n",
    "Output: [2,1,0,3]\n",
    "\n",
    "#### Example 3:\n",
    "Input: nums = [7,7,7,7]\n",
    "Output: [0,0,0,0]"
   ]
  },
  {
   "cell_type": "code",
   "execution_count": 36,
   "id": "149ea81c",
   "metadata": {},
   "outputs": [
    {
     "name": "stdout",
     "output_type": "stream",
     "text": [
      "[4, 0, 1, 1, 3]\n"
     ]
    }
   ],
   "source": [
    "def smaller_numbers_than_current(nums):\n",
    "    result = []\n",
    "    \n",
    "    for i in range(len(nums)):\n",
    "        count = 0\n",
    "        for j in range(len(nums)):\n",
    "            if i != j and nums[j] < nums[i]:\n",
    "                count += 1\n",
    "        result.append(count)\n",
    "    \n",
    "    return result\n",
    "\n",
    "nums = [8, 1, 2, 2, 3]\n",
    "result = smaller_numbers_than_current(nums)\n",
    "print(result)"
   ]
  },
  {
   "cell_type": "code",
   "execution_count": 42,
   "id": "c686403d",
   "metadata": {},
   "outputs": [
    {
     "name": "stdout",
     "output_type": "stream",
     "text": [
      "None\n"
     ]
    }
   ],
   "source": [
    "print(smaller_numbers_than_current.__doc__)"
   ]
  },
  {
   "cell_type": "code",
   "execution_count": 37,
   "id": "72caf222",
   "metadata": {},
   "outputs": [
    {
     "name": "stdout",
     "output_type": "stream",
     "text": [
      "[2, 1, 0, 3]\n"
     ]
    }
   ],
   "source": [
    "nums = [6, 5, 4, 8]\n",
    "result = smaller_numbers_than_current(nums)\n",
    "print(result)"
   ]
  },
  {
   "cell_type": "code",
   "execution_count": 38,
   "id": "1e6de20c",
   "metadata": {},
   "outputs": [
    {
     "name": "stdout",
     "output_type": "stream",
     "text": [
      "[0, 0, 0, 0]\n"
     ]
    }
   ],
   "source": [
    "nums = [7, 7, 7, 7]\n",
    "result = smaller_numbers_than_current(nums)\n",
    "print(result)"
   ]
  },
  {
   "cell_type": "markdown",
   "id": "327ad0c6",
   "metadata": {},
   "source": [
    "#### Function Definition:\n",
    "The function smaller_numbers_than_current takes a list of numbers nums as input.\n",
    "\n",
    "#### Initialization:\n",
    "It initializes an empty list result, which will store the count of numbers smaller than each element in the input list.\n",
    "\n",
    "#### Outer Loop (i):\n",
    "It iterates over each element in the input list using the outer loop (for i in range(len(nums))).\n",
    "\n",
    "#### Inner Loop (j):\n",
    "For each element at index i, it uses an inner loop (for j in range(len(nums))) to compare it with every other element in the list.\n",
    "\n",
    "#### Comparison:\n",
    "Inside the inner loop, it checks if nums[j] < nums[i] (i.e., if the number at index j is smaller than the number at index i). If true, it increments the count variable.\n",
    "\n",
    "#### Appending Count:\n",
    "After the inner loop completes, the count represents the number of elements smaller than the current element at index i. This count is then appended to the result list.\n",
    "\n",
    "#### Result:\n",
    "The final result list contains the count of numbers smaller than each element in the input list."
   ]
  },
  {
   "cell_type": "code",
   "execution_count": null,
   "id": "56aecef2",
   "metadata": {},
   "outputs": [],
   "source": []
  },
  {
   "cell_type": "code",
   "execution_count": null,
   "id": "68227af1",
   "metadata": {},
   "outputs": [],
   "source": []
  },
  {
   "cell_type": "code",
   "execution_count": null,
   "id": "f1ec50e7",
   "metadata": {},
   "outputs": [],
   "source": []
  },
  {
   "cell_type": "code",
   "execution_count": null,
   "id": "aef7d9ea",
   "metadata": {},
   "outputs": [],
   "source": []
  },
  {
   "cell_type": "code",
   "execution_count": null,
   "id": "a8060a33",
   "metadata": {},
   "outputs": [],
   "source": []
  },
  {
   "cell_type": "code",
   "execution_count": null,
   "id": "11c509e1",
   "metadata": {},
   "outputs": [],
   "source": []
  }
 ],
 "metadata": {
  "kernelspec": {
   "display_name": "Python 3 (ipykernel)",
   "language": "python",
   "name": "python3"
  },
  "language_info": {
   "codemirror_mode": {
    "name": "ipython",
    "version": 3
   },
   "file_extension": ".py",
   "mimetype": "text/x-python",
   "name": "python",
   "nbconvert_exporter": "python",
   "pygments_lexer": "ipython3",
   "version": "3.11.5"
  }
 },
 "nbformat": 4,
 "nbformat_minor": 5
}
