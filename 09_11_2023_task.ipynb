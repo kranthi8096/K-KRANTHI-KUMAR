{
 "cells": [
  {
   "cell_type": "markdown",
   "id": "bc86929b",
   "metadata": {},
   "source": [
    "## lambda function()\n",
    "\n",
    "#### these functions are called as anonymous functions.\n",
    "\n",
    "#### these are defined in a single line.\n",
    "\n",
    "#### syntax: lambda var/s : <statements/s using these var/s>\n",
    "\n",
    "#### these function by default will return a value, no need to write a return statement.\n",
    "\n",
    "#### there is no cap on no of vars one can use to define a lambda function."
   ]
  },
  {
   "cell_type": "code",
   "execution_count": 12,
   "id": "5ad6cc1b",
   "metadata": {},
   "outputs": [
    {
     "data": {
      "text/plain": [
       "27"
      ]
     },
     "execution_count": 12,
     "metadata": {},
     "output_type": "execute_result"
    }
   ],
   "source": [
    "(lambda x,y : x**y)(3,3) # these are defined in a single line."
   ]
  },
  {
   "cell_type": "code",
   "execution_count": 13,
   "id": "d33c4648",
   "metadata": {},
   "outputs": [
    {
     "data": {
      "text/plain": [
       "6"
      ]
     },
     "execution_count": 13,
     "metadata": {},
     "output_type": "execute_result"
    }
   ],
   "source": [
    "(lambda x,y : x+y)(3,3)"
   ]
  },
  {
   "cell_type": "markdown",
   "id": "0ba0aac8",
   "metadata": {},
   "source": [
    "### higher-order function\n",
    "\n",
    "#### A higher-order function in programming is a function that can take other functions as arguments or return them as results. \n",
    "\n",
    "#### In other words, it treats functions as first-class citizens. \n",
    "\n",
    "#### In languages like Python, functions are first-class citizens, which means they can be passed around and manipulated just like any other data types, such as integers, strings, or lists. \n",
    "\n",
    "#### Higher-order functions are a fundamental concept in functional programming and are widely used in many programming paradigms.\n",
    "\n",
    "#### higher-order functions like map(), filter(), and reduce() in Python."
   ]
  },
  {
   "cell_type": "markdown",
   "id": "3213c7c3",
   "metadata": {},
   "source": [
    "### map()\n",
    "\n",
    "#### we use map function to apply our function on each element of an iterator\n",
    "\n",
    "#### syntax : map(func,iterator)\n",
    "\n",
    "#### op of map function is a map object, we need to type cast it to a list or other data types to see the op."
   ]
  },
  {
   "cell_type": "code",
   "execution_count": 24,
   "id": "349fd0e9",
   "metadata": {},
   "outputs": [
    {
     "name": "stdout",
     "output_type": "stream",
     "text": [
      "Help on class map in module builtins:\n",
      "\n",
      "class map(object)\n",
      " |  map(func, *iterables) --> map object\n",
      " |  \n",
      " |  Make an iterator that computes the function using arguments from\n",
      " |  each of the iterables.  Stops when the shortest iterable is exhausted.\n",
      " |  \n",
      " |  Methods defined here:\n",
      " |  \n",
      " |  __getattribute__(self, name, /)\n",
      " |      Return getattr(self, name).\n",
      " |  \n",
      " |  __iter__(self, /)\n",
      " |      Implement iter(self).\n",
      " |  \n",
      " |  __next__(self, /)\n",
      " |      Implement next(self).\n",
      " |  \n",
      " |  __reduce__(...)\n",
      " |      Return state information for pickling.\n",
      " |  \n",
      " |  ----------------------------------------------------------------------\n",
      " |  Static methods defined here:\n",
      " |  \n",
      " |  __new__(*args, **kwargs) from builtins.type\n",
      " |      Create and return a new object.  See help(type) for accurate signature.\n",
      "\n"
     ]
    }
   ],
   "source": [
    "help(map)"
   ]
  },
  {
   "cell_type": "code",
   "execution_count": 25,
   "id": "7492f498",
   "metadata": {},
   "outputs": [
    {
     "data": {
      "text/plain": [
       "<map at 0x2522035e8f0>"
      ]
     },
     "execution_count": 25,
     "metadata": {},
     "output_type": "execute_result"
    }
   ],
   "source": [
    "z = map(lambda x : x**2, [1,2,3]) # using variable to map and lambda.\n",
    "z # printing the variable"
   ]
  },
  {
   "cell_type": "code",
   "execution_count": 26,
   "id": "1b2a55a3",
   "metadata": {},
   "outputs": [
    {
     "data": {
      "text/plain": [
       "[1, 4, 9]"
      ]
     },
     "execution_count": 26,
     "metadata": {},
     "output_type": "execute_result"
    }
   ],
   "source": [
    "list(z) # we are calling the list to get values"
   ]
  },
  {
   "cell_type": "code",
   "execution_count": 27,
   "id": "be1b5df4",
   "metadata": {},
   "outputs": [
    {
     "data": {
      "text/plain": [
       "[2.0]"
      ]
     },
     "execution_count": 27,
     "metadata": {},
     "output_type": "execute_result"
    }
   ],
   "source": [
    "list(map(lambda c : c/2,[4])) # direct calling list without using variable."
   ]
  },
  {
   "cell_type": "code",
   "execution_count": 28,
   "id": "d1d072ae",
   "metadata": {},
   "outputs": [
    {
     "ename": "ZeroDivisionError",
     "evalue": "division by zero",
     "output_type": "error",
     "traceback": [
      "\u001b[1;31m---------------------------------------------------------------------------\u001b[0m",
      "\u001b[1;31mZeroDivisionError\u001b[0m                         Traceback (most recent call last)",
      "Cell \u001b[1;32mIn[28], line 1\u001b[0m\n\u001b[1;32m----> 1\u001b[0m \u001b[38;5;28mlist\u001b[39m(\u001b[38;5;28mmap\u001b[39m(\u001b[38;5;28;01mlambda\u001b[39;00m x : x\u001b[38;5;241m/\u001b[39m\u001b[38;5;241m0\u001b[39m, [\u001b[38;5;241m1\u001b[39m,\u001b[38;5;241m2\u001b[39m,\u001b[38;5;241m3\u001b[39m]))\n",
      "Cell \u001b[1;32mIn[28], line 1\u001b[0m, in \u001b[0;36m<lambda>\u001b[1;34m(x)\u001b[0m\n\u001b[1;32m----> 1\u001b[0m \u001b[38;5;28mlist\u001b[39m(\u001b[38;5;28mmap\u001b[39m(\u001b[38;5;28;01mlambda\u001b[39;00m x : x\u001b[38;5;241m/\u001b[39m\u001b[38;5;241m0\u001b[39m, [\u001b[38;5;241m1\u001b[39m,\u001b[38;5;241m2\u001b[39m,\u001b[38;5;241m3\u001b[39m]))\n",
      "\u001b[1;31mZeroDivisionError\u001b[0m: division by zero"
     ]
    }
   ],
   "source": [
    "list(map(lambda x : x/0, [1,2,3])) # if we divide with it shows a zerodivisionerror"
   ]
  },
  {
   "cell_type": "markdown",
   "id": "3e9ae9b3",
   "metadata": {},
   "source": [
    "### filter()\n",
    "\n",
    "#### In Python, the filter function is a built-in higher-order function that filters elements of an iterable based on a specified function. \n",
    "\n",
    "#### The filter function takes two arguments:\n",
    "\n",
    "#### A function that defines the filtering criteria.\n",
    "\n",
    "#### An iterable a list, tuple, or set containing the elements to be filtered.\n",
    "\n",
    "#### The filter function applies the specified function to each element in the iterable. If the function returns True for an element, that element is included in the result; if the function returns False, the element is excluded.\n",
    "\n",
    "#### syntax : filter(function, iterable)"
   ]
  },
  {
   "cell_type": "code",
   "execution_count": 38,
   "id": "0d944628",
   "metadata": {},
   "outputs": [
    {
     "name": "stdout",
     "output_type": "stream",
     "text": [
      "Help on class filter in module builtins:\n",
      "\n",
      "class filter(object)\n",
      " |  filter(function or None, iterable) --> filter object\n",
      " |  \n",
      " |  Return an iterator yielding those items of iterable for which function(item)\n",
      " |  is true. If function is None, return the items that are true.\n",
      " |  \n",
      " |  Methods defined here:\n",
      " |  \n",
      " |  __getattribute__(self, name, /)\n",
      " |      Return getattr(self, name).\n",
      " |  \n",
      " |  __iter__(self, /)\n",
      " |      Implement iter(self).\n",
      " |  \n",
      " |  __next__(self, /)\n",
      " |      Implement next(self).\n",
      " |  \n",
      " |  __reduce__(...)\n",
      " |      Return state information for pickling.\n",
      " |  \n",
      " |  ----------------------------------------------------------------------\n",
      " |  Static methods defined here:\n",
      " |  \n",
      " |  __new__(*args, **kwargs) from builtins.type\n",
      " |      Create and return a new object.  See help(type) for accurate signature.\n",
      "\n"
     ]
    }
   ],
   "source": [
    "help(filter)"
   ]
  },
  {
   "cell_type": "code",
   "execution_count": 32,
   "id": "31bc50a8",
   "metadata": {},
   "outputs": [
    {
     "data": {
      "text/plain": [
       "<filter at 0x25220363190>"
      ]
     },
     "execution_count": 32,
     "metadata": {},
     "output_type": "execute_result"
    }
   ],
   "source": [
    "z = filter(lambda x : x%2==0,[1,2,3,4,5,]) # using variable to filter and lambda.\n",
    "z # print the variable"
   ]
  },
  {
   "cell_type": "code",
   "execution_count": 33,
   "id": "8bfa2339",
   "metadata": {},
   "outputs": [
    {
     "data": {
      "text/plain": [
       "[2, 4]"
      ]
     },
     "execution_count": 33,
     "metadata": {},
     "output_type": "execute_result"
    }
   ],
   "source": [
    "list(z) # we are calling the list to get values"
   ]
  },
  {
   "cell_type": "code",
   "execution_count": 35,
   "id": "1533d673",
   "metadata": {},
   "outputs": [
    {
     "data": {
      "text/plain": [
       "[2, 4, 6, 8]"
      ]
     },
     "execution_count": 35,
     "metadata": {},
     "output_type": "execute_result"
    }
   ],
   "source": [
    "list(filter(lambda x : True if x%2==0 else False, [1,2,3,4,5,6,7,8,9])) # direct calling list without using variable."
   ]
  },
  {
   "cell_type": "code",
   "execution_count": 36,
   "id": "932c69a5",
   "metadata": {},
   "outputs": [
    {
     "data": {
      "text/plain": [
       "<filter at 0x2522035ead0>"
      ]
     },
     "execution_count": 36,
     "metadata": {},
     "output_type": "execute_result"
    }
   ],
   "source": [
    "z = filter(lambda x: True if x in 'aeiouAEIOU' else False, 'kraNTHI') # printing the vowels in a string\n",
    "z"
   ]
  },
  {
   "cell_type": "code",
   "execution_count": 37,
   "id": "ea0ffaef",
   "metadata": {},
   "outputs": [
    {
     "data": {
      "text/plain": [
       "['a', 'I']"
      ]
     },
     "execution_count": 37,
     "metadata": {},
     "output_type": "execute_result"
    }
   ],
   "source": [
    "list(z)"
   ]
  },
  {
   "cell_type": "code",
   "execution_count": null,
   "id": "76e41937",
   "metadata": {},
   "outputs": [],
   "source": []
  },
  {
   "cell_type": "code",
   "execution_count": null,
   "id": "bf14a6a0",
   "metadata": {},
   "outputs": [],
   "source": []
  },
  {
   "cell_type": "code",
   "execution_count": null,
   "id": "b0b5b3b7",
   "metadata": {},
   "outputs": [],
   "source": []
  },
  {
   "cell_type": "code",
   "execution_count": null,
   "id": "a619b3f6",
   "metadata": {},
   "outputs": [],
   "source": []
  },
  {
   "cell_type": "code",
   "execution_count": null,
   "id": "bfa48c1d",
   "metadata": {},
   "outputs": [],
   "source": []
  },
  {
   "cell_type": "code",
   "execution_count": null,
   "id": "70967a6a",
   "metadata": {},
   "outputs": [],
   "source": []
  }
 ],
 "metadata": {
  "kernelspec": {
   "display_name": "Python 3 (ipykernel)",
   "language": "python",
   "name": "python3"
  },
  "language_info": {
   "codemirror_mode": {
    "name": "ipython",
    "version": 3
   },
   "file_extension": ".py",
   "mimetype": "text/x-python",
   "name": "python",
   "nbconvert_exporter": "python",
   "pygments_lexer": "ipython3",
   "version": "3.11.5"
  }
 },
 "nbformat": 4,
 "nbformat_minor": 5
}
