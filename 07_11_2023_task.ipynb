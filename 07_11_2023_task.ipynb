{
 "cells": [
  {
   "cell_type": "markdown",
   "id": "1186f299",
   "metadata": {},
   "source": [
    "## function|()\n",
    "\n",
    "#### it is a block of code, which executes a desired task. a function can be called n-number of times instead of writing the cod required tom execute the task.\n",
    "\n",
    "#### there are two steps in creating a function, defining a function and calling the function. \n",
    "\n",
    "#### syntax of defining function:\n",
    "                               def func_name(parameter/s)\n",
    "                                block of code\n",
    "#### def: is a keyword, which tells the interpretor that we are defining a function.\n",
    "\n",
    "#### fun_name: is name we give to the function we are defining, it acts as avariable name to the block of code we are writing\n",
    "\n",
    "#### parameter: these can be considered as the variables we use to write/define our function.\n",
    "\n",
    "#### syntax for calling a function: \n",
    "                                func_name(arg/s)             \n",
    "#### arg/s are actual inputs for function."
   ]
  },
  {
   "cell_type": "code",
   "execution_count": 1,
   "id": "d9d506ed",
   "metadata": {},
   "outputs": [],
   "source": [
    "def foosum(a, b): # defining a function name \n",
    "    print(a + b)"
   ]
  },
  {
   "cell_type": "code",
   "execution_count": 2,
   "id": "af8c270a",
   "metadata": {},
   "outputs": [
    {
     "name": "stdout",
     "output_type": "stream",
     "text": [
      "4\n"
     ]
    }
   ],
   "source": [
    "foosum(1, 3) # calling the function"
   ]
  },
  {
   "cell_type": "code",
   "execution_count": 4,
   "id": "d0f4742c",
   "metadata": {},
   "outputs": [
    {
     "name": "stdout",
     "output_type": "stream",
     "text": [
      "-13\n"
     ]
    }
   ],
   "source": [
    "foosum(-3, -10) # calling the function"
   ]
  },
  {
   "cell_type": "markdown",
   "id": "498fac29",
   "metadata": {},
   "source": [
    "### positional arguments()\n",
    "\n",
    "#### while passing the arguments, the values of arguments will be assigned to parameters based on the order of parameters at time of defining the function.\n",
    "\n",
    "#### while calling greet function, we interchanged the order of arguments passed and this resulted in a different o/p.\n",
    "\n",
    "#### these kind of passing the arguyments based on positions are called as positional arguments."
   ]
  },
  {
   "cell_type": "code",
   "execution_count": 5,
   "id": "25796ec5",
   "metadata": {},
   "outputs": [],
   "source": [
    "def foodivision(numerator, denominator): # positional arguments matters in parameters\n",
    "    print(numerator/denominator)"
   ]
  },
  {
   "cell_type": "code",
   "execution_count": 6,
   "id": "5ee8be95",
   "metadata": {},
   "outputs": [
    {
     "name": "stdout",
     "output_type": "stream",
     "text": [
      "5.0\n"
     ]
    }
   ],
   "source": [
    "foodivision(10, 2)"
   ]
  },
  {
   "cell_type": "code",
   "execution_count": 7,
   "id": "69911b4c",
   "metadata": {},
   "outputs": [],
   "source": [
    "def foodivisions(denominator, numerator): # positional arguments matters in parameters\n",
    "    print(numerator/denominator)"
   ]
  },
  {
   "cell_type": "code",
   "execution_count": 8,
   "id": "146f3b4d",
   "metadata": {},
   "outputs": [
    {
     "name": "stdout",
     "output_type": "stream",
     "text": [
      "0.2\n"
     ]
    }
   ],
   "source": [
    "foodivisions(10, 2)"
   ]
  },
  {
   "cell_type": "markdown",
   "id": "84533186",
   "metadata": {},
   "source": [
    "### keyword arguments()\n",
    "\n",
    "#### at time of calling the function,if we pass the arguments by usingg the parameter name, these kind of arguments are called as keyword arguments.\n",
    "\n",
    "#### func_name(para1= arg1,para2=arg2)\n"
   ]
  },
  {
   "cell_type": "code",
   "execution_count": 9,
   "id": "e79c56bb",
   "metadata": {},
   "outputs": [],
   "source": [
    "def foodivision(numerator, denominator): # by calling keyword argument \n",
    "    print(numerator/denominator)"
   ]
  },
  {
   "cell_type": "code",
   "execution_count": 10,
   "id": "11c7a448",
   "metadata": {},
   "outputs": [
    {
     "name": "stdout",
     "output_type": "stream",
     "text": [
      "5.0\n"
     ]
    }
   ],
   "source": [
    "foodivisions(numerator = 10, denominator = 2) "
   ]
  },
  {
   "cell_type": "markdown",
   "id": "6f797e4b",
   "metadata": {},
   "source": [
    "### default arguments()\n",
    "\n",
    "#### In Python, you can define default values for function parameters. Default arguments allow you to specify a default value for a parameter\n",
    "\n",
    "#### if no value is provided by the caller of the function. You can set default values for parameters by assigning a value to the parameter in the function definition.\\\n",
    "\n",
    "#### func_name(para1=defaultvalue1, para2=defaultvalue2)"
   ]
  },
  {
   "cell_type": "code",
   "execution_count": 11,
   "id": "e6257221",
   "metadata": {},
   "outputs": [],
   "source": [
    "def foopotentialenergy(m, h, g = 9.8):\n",
    "    print(m*h*g)"
   ]
  },
  {
   "cell_type": "code",
   "execution_count": 12,
   "id": "0f170f5b",
   "metadata": {},
   "outputs": [
    {
     "name": "stdout",
     "output_type": "stream",
     "text": [
      "490.00000000000006\n"
     ]
    }
   ],
   "source": [
    "foopotentialenergy(10,5) # it is  a default argument "
   ]
  },
  {
   "cell_type": "code",
   "execution_count": 13,
   "id": "f8f3732d",
   "metadata": {},
   "outputs": [
    {
     "name": "stdout",
     "output_type": "stream",
     "text": [
      "500\n"
     ]
    }
   ],
   "source": [
    "foopotentialenergy(10,5,10) # we can change the g value positional argument"
   ]
  },
  {
   "cell_type": "code",
   "execution_count": 16,
   "id": "afcefc0a",
   "metadata": {},
   "outputs": [
    {
     "name": "stdout",
     "output_type": "stream",
     "text": [
      "400\n"
     ]
    }
   ],
   "source": [
    "foopotentialenergy(10,5, g = 8) # we can change the g value by keyword arugment"
   ]
  },
  {
   "cell_type": "markdown",
   "id": "6b4cc56a",
   "metadata": {},
   "source": [
    "### __doc__string()\n",
    "\n",
    "#### A docstring in Python is a string literal that occurs as the first statement in a module, function, class, or method definition. \n",
    "\n",
    "#### It is used to provide documentation about the purpose and usage of the module, function, class, or method. \n",
    "\n",
    "#### Docstrings are used to describe what a piece of code does, and they are particularly useful for providing information about how to use functions or classes that you write.\n",
    "\n",
    "#### Docstrings are enclosed in triple quotes  and can span multiple lines."
   ]
  },
  {
   "cell_type": "code",
   "execution_count": 19,
   "id": "be23f249",
   "metadata": {},
   "outputs": [
    {
     "name": "stdout",
     "output_type": "stream",
     "text": [
      "Help on built-in function ord in module builtins:\n",
      "\n",
      "ord(c, /)\n",
      "    Return the Unicode code point for a one-character string.\n",
      "\n"
     ]
    }
   ],
   "source": [
    "help(ord)"
   ]
  },
  {
   "cell_type": "code",
   "execution_count": 17,
   "id": "0b5243db",
   "metadata": {},
   "outputs": [],
   "source": [
    "def foodivisionss(d : float, n : float): # it is used to see the particular character or element\n",
    "    '''\n",
    "    d = denominator\n",
    "    n = n .......\n",
    "    '''\n",
    "    print(n/d)"
   ]
  },
  {
   "cell_type": "code",
   "execution_count": 18,
   "id": "c2f129df",
   "metadata": {},
   "outputs": [
    {
     "name": "stdout",
     "output_type": "stream",
     "text": [
      "\n",
      "    d = denominator\n",
      "    n = n .......\n",
      "    \n"
     ]
    }
   ],
   "source": [
    "print(foodivisionss.__doc__) # for doc we should give double underscore"
   ]
  },
  {
   "cell_type": "code",
   "execution_count": 21,
   "id": "1d04f19f",
   "metadata": {},
   "outputs": [],
   "source": [
    "def foodivisionsss(d : float, n : float): # it is used to see the particular character or element\n",
    "    '''\n",
    "    d = denominator\n",
    "    n = n .......\n",
    "    '''\n",
    "    print(n/d)"
   ]
  },
  {
   "cell_type": "code",
   "execution_count": 22,
   "id": "6a464742",
   "metadata": {},
   "outputs": [],
   "source": [
    "def fooconcatenationofstring(s1, s2 = '', n = 1):\n",
    "    print((s1+s2)*n)"
   ]
  },
  {
   "cell_type": "code",
   "execution_count": 23,
   "id": "74cf28f2",
   "metadata": {},
   "outputs": [
    {
     "name": "stdout",
     "output_type": "stream",
     "text": [
      "hehaahaahehaahaa\n"
     ]
    }
   ],
   "source": [
    "fooconcatenationofstring('he', s2 = 'haahaa', n = 2) # in this case we are mentioning the n as keyword"
   ]
  },
  {
   "cell_type": "code",
   "execution_count": 24,
   "id": "40984a83",
   "metadata": {},
   "outputs": [
    {
     "name": "stdout",
     "output_type": "stream",
     "text": [
      "hehaahaa\n"
     ]
    }
   ],
   "source": [
    "fooconcatenationofstring('he', s2 = 'haahaa') # using n as default"
   ]
  },
  {
   "cell_type": "code",
   "execution_count": null,
   "id": "a96c80c0",
   "metadata": {},
   "outputs": [],
   "source": []
  },
  {
   "cell_type": "code",
   "execution_count": null,
   "id": "fc1f0205",
   "metadata": {},
   "outputs": [],
   "source": []
  },
  {
   "cell_type": "code",
   "execution_count": null,
   "id": "3c15f89d",
   "metadata": {},
   "outputs": [],
   "source": []
  },
  {
   "cell_type": "code",
   "execution_count": null,
   "id": "f0bb34ff",
   "metadata": {},
   "outputs": [],
   "source": []
  },
  {
   "cell_type": "code",
   "execution_count": null,
   "id": "856a9163",
   "metadata": {},
   "outputs": [],
   "source": []
  },
  {
   "cell_type": "code",
   "execution_count": null,
   "id": "3f814235",
   "metadata": {},
   "outputs": [],
   "source": []
  },
  {
   "cell_type": "code",
   "execution_count": null,
   "id": "2378cd8a",
   "metadata": {},
   "outputs": [],
   "source": []
  },
  {
   "cell_type": "code",
   "execution_count": null,
   "id": "e53d0b0b",
   "metadata": {},
   "outputs": [],
   "source": []
  },
  {
   "cell_type": "code",
   "execution_count": null,
   "id": "2f1a8043",
   "metadata": {},
   "outputs": [],
   "source": []
  },
  {
   "cell_type": "code",
   "execution_count": null,
   "id": "9d0a7c52",
   "metadata": {},
   "outputs": [],
   "source": []
  },
  {
   "cell_type": "code",
   "execution_count": null,
   "id": "68339eef",
   "metadata": {},
   "outputs": [],
   "source": []
  },
  {
   "cell_type": "code",
   "execution_count": null,
   "id": "8fed1a6d",
   "metadata": {},
   "outputs": [],
   "source": []
  },
  {
   "cell_type": "code",
   "execution_count": null,
   "id": "59b35528",
   "metadata": {},
   "outputs": [],
   "source": []
  },
  {
   "cell_type": "code",
   "execution_count": null,
   "id": "36895105",
   "metadata": {},
   "outputs": [],
   "source": []
  },
  {
   "cell_type": "code",
   "execution_count": null,
   "id": "a0e25679",
   "metadata": {},
   "outputs": [],
   "source": []
  },
  {
   "cell_type": "code",
   "execution_count": null,
   "id": "64fa0ec2",
   "metadata": {},
   "outputs": [],
   "source": []
  },
  {
   "cell_type": "code",
   "execution_count": null,
   "id": "9299e8de",
   "metadata": {},
   "outputs": [],
   "source": []
  },
  {
   "cell_type": "code",
   "execution_count": null,
   "id": "a10e48d2",
   "metadata": {},
   "outputs": [],
   "source": []
  },
  {
   "cell_type": "code",
   "execution_count": null,
   "id": "d730d231",
   "metadata": {},
   "outputs": [],
   "source": []
  },
  {
   "cell_type": "code",
   "execution_count": null,
   "id": "b3d6215c",
   "metadata": {},
   "outputs": [],
   "source": []
  },
  {
   "cell_type": "code",
   "execution_count": null,
   "id": "50b87b2e",
   "metadata": {},
   "outputs": [],
   "source": []
  },
  {
   "cell_type": "code",
   "execution_count": null,
   "id": "d843edf3",
   "metadata": {},
   "outputs": [],
   "source": []
  },
  {
   "cell_type": "code",
   "execution_count": null,
   "id": "df1dc0ba",
   "metadata": {},
   "outputs": [],
   "source": []
  }
 ],
 "metadata": {
  "kernelspec": {
   "display_name": "Python 3 (ipykernel)",
   "language": "python",
   "name": "python3"
  },
  "language_info": {
   "codemirror_mode": {
    "name": "ipython",
    "version": 3
   },
   "file_extension": ".py",
   "mimetype": "text/x-python",
   "name": "python",
   "nbconvert_exporter": "python",
   "pygments_lexer": "ipython3",
   "version": "3.11.5"
  }
 },
 "nbformat": 4,
 "nbformat_minor": 5
}
