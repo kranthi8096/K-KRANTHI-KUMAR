{
 "cells": [
  {
   "cell_type": "markdown",
   "id": "702d4088",
   "metadata": {},
   "source": [
    "## Dictionary{}\n",
    "\n",
    "#### dictionary are keya nd value pairs enclosed in{}\n",
    "\n",
    "#### key and value are seperated by : while key and value pairs are seperated by ,\n",
    "\n",
    "#### keys are mapped to their values\n",
    "\n",
    "#### in dictionaries, keys are unique, we can't have duplicate values\n",
    "\n",
    "#### (dict) is class of dictionary \n"
   ]
  },
  {
   "cell_type": "code",
   "execution_count": 1,
   "id": "b60fd8b5",
   "metadata": {},
   "outputs": [
    {
     "name": "stdout",
     "output_type": "stream",
     "text": [
      "Help on class dict in module builtins:\n",
      "\n",
      "class dict(object)\n",
      " |  dict() -> new empty dictionary\n",
      " |  dict(mapping) -> new dictionary initialized from a mapping object's\n",
      " |      (key, value) pairs\n",
      " |  dict(iterable) -> new dictionary initialized as if via:\n",
      " |      d = {}\n",
      " |      for k, v in iterable:\n",
      " |          d[k] = v\n",
      " |  dict(**kwargs) -> new dictionary initialized with the name=value pairs\n",
      " |      in the keyword argument list.  For example:  dict(one=1, two=2)\n",
      " |  \n",
      " |  Built-in subclasses:\n",
      " |      StgDict\n",
      " |  \n",
      " |  Methods defined here:\n",
      " |  \n",
      " |  __contains__(self, key, /)\n",
      " |      True if the dictionary has the specified key, else False.\n",
      " |  \n",
      " |  __delitem__(self, key, /)\n",
      " |      Delete self[key].\n",
      " |  \n",
      " |  __eq__(self, value, /)\n",
      " |      Return self==value.\n",
      " |  \n",
      " |  __ge__(self, value, /)\n",
      " |      Return self>=value.\n",
      " |  \n",
      " |  __getattribute__(self, name, /)\n",
      " |      Return getattr(self, name).\n",
      " |  \n",
      " |  __getitem__(...)\n",
      " |      x.__getitem__(y) <==> x[y]\n",
      " |  \n",
      " |  __gt__(self, value, /)\n",
      " |      Return self>value.\n",
      " |  \n",
      " |  __init__(self, /, *args, **kwargs)\n",
      " |      Initialize self.  See help(type(self)) for accurate signature.\n",
      " |  \n",
      " |  __ior__(self, value, /)\n",
      " |      Return self|=value.\n",
      " |  \n",
      " |  __iter__(self, /)\n",
      " |      Implement iter(self).\n",
      " |  \n",
      " |  __le__(self, value, /)\n",
      " |      Return self<=value.\n",
      " |  \n",
      " |  __len__(self, /)\n",
      " |      Return len(self).\n",
      " |  \n",
      " |  __lt__(self, value, /)\n",
      " |      Return self<value.\n",
      " |  \n",
      " |  __ne__(self, value, /)\n",
      " |      Return self!=value.\n",
      " |  \n",
      " |  __or__(self, value, /)\n",
      " |      Return self|value.\n",
      " |  \n",
      " |  __repr__(self, /)\n",
      " |      Return repr(self).\n",
      " |  \n",
      " |  __reversed__(self, /)\n",
      " |      Return a reverse iterator over the dict keys.\n",
      " |  \n",
      " |  __ror__(self, value, /)\n",
      " |      Return value|self.\n",
      " |  \n",
      " |  __setitem__(self, key, value, /)\n",
      " |      Set self[key] to value.\n",
      " |  \n",
      " |  __sizeof__(...)\n",
      " |      D.__sizeof__() -> size of D in memory, in bytes\n",
      " |  \n",
      " |  clear(...)\n",
      " |      D.clear() -> None.  Remove all items from D.\n",
      " |  \n",
      " |  copy(...)\n",
      " |      D.copy() -> a shallow copy of D\n",
      " |  \n",
      " |  get(self, key, default=None, /)\n",
      " |      Return the value for key if key is in the dictionary, else default.\n",
      " |  \n",
      " |  items(...)\n",
      " |      D.items() -> a set-like object providing a view on D's items\n",
      " |  \n",
      " |  keys(...)\n",
      " |      D.keys() -> a set-like object providing a view on D's keys\n",
      " |  \n",
      " |  pop(...)\n",
      " |      D.pop(k[,d]) -> v, remove specified key and return the corresponding value.\n",
      " |      \n",
      " |      If the key is not found, return the default if given; otherwise,\n",
      " |      raise a KeyError.\n",
      " |  \n",
      " |  popitem(self, /)\n",
      " |      Remove and return a (key, value) pair as a 2-tuple.\n",
      " |      \n",
      " |      Pairs are returned in LIFO (last-in, first-out) order.\n",
      " |      Raises KeyError if the dict is empty.\n",
      " |  \n",
      " |  setdefault(self, key, default=None, /)\n",
      " |      Insert key with a value of default if key is not in the dictionary.\n",
      " |      \n",
      " |      Return the value for key if key is in the dictionary, else default.\n",
      " |  \n",
      " |  update(...)\n",
      " |      D.update([E, ]**F) -> None.  Update D from dict/iterable E and F.\n",
      " |      If E is present and has a .keys() method, then does:  for k in E: D[k] = E[k]\n",
      " |      If E is present and lacks a .keys() method, then does:  for k, v in E: D[k] = v\n",
      " |      In either case, this is followed by: for k in F:  D[k] = F[k]\n",
      " |  \n",
      " |  values(...)\n",
      " |      D.values() -> an object providing a view on D's values\n",
      " |  \n",
      " |  ----------------------------------------------------------------------\n",
      " |  Class methods defined here:\n",
      " |  \n",
      " |  __class_getitem__(...) from builtins.type\n",
      " |      See PEP 585\n",
      " |  \n",
      " |  fromkeys(iterable, value=None, /) from builtins.type\n",
      " |      Create a new dictionary with keys from iterable and values set to value.\n",
      " |  \n",
      " |  ----------------------------------------------------------------------\n",
      " |  Static methods defined here:\n",
      " |  \n",
      " |  __new__(*args, **kwargs) from builtins.type\n",
      " |      Create and return a new object.  See help(type) for accurate signature.\n",
      " |  \n",
      " |  ----------------------------------------------------------------------\n",
      " |  Data and other attributes defined here:\n",
      " |  \n",
      " |  __hash__ = None\n",
      "\n"
     ]
    }
   ],
   "source": [
    "help(dict)"
   ]
  },
  {
   "cell_type": "code",
   "execution_count": 2,
   "id": "37ab64ad",
   "metadata": {},
   "outputs": [
    {
     "data": {
      "text/plain": [
       "{}"
      ]
     },
     "execution_count": 2,
     "metadata": {},
     "output_type": "execute_result"
    }
   ],
   "source": [
    "d = { } # empty dictionary\n",
    "d"
   ]
  },
  {
   "cell_type": "code",
   "execution_count": 3,
   "id": "7079c4be",
   "metadata": {},
   "outputs": [
    {
     "data": {
      "text/plain": [
       "{1: [1, 2, 3], 'hello': (4, 5, 6), ('f', 'g'): 5}"
      ]
     },
     "execution_count": 3,
     "metadata": {},
     "output_type": "execute_result"
    }
   ],
   "source": [
    "x = {1 : [1,2,3],\n",
    "    'hello' : (4,5,6),\n",
    "    ('f', 'g') : 5}\n",
    "x"
   ]
  },
  {
   "cell_type": "code",
   "execution_count": 4,
   "id": "3c5fd07d",
   "metadata": {},
   "outputs": [
    {
     "data": {
      "text/plain": [
       "{1: [1, 2, 3], 'hello': ['hi']}"
      ]
     },
     "execution_count": 4,
     "metadata": {},
     "output_type": "execute_result"
    }
   ],
   "source": [
    "x = {1 : [1,2,3],\n",
    "    'hello' : (4,5,6),\n",
    "    'hello' : ['hi']}\n",
    "x"
   ]
  },
  {
   "cell_type": "code",
   "execution_count": 5,
   "id": "64854457",
   "metadata": {},
   "outputs": [
    {
     "data": {
      "text/plain": [
       "[1, 2, 3]"
      ]
     },
     "execution_count": 5,
     "metadata": {},
     "output_type": "execute_result"
    }
   ],
   "source": [
    "x[1]"
   ]
  },
  {
   "cell_type": "code",
   "execution_count": 6,
   "id": "38da64e4",
   "metadata": {},
   "outputs": [
    {
     "data": {
      "text/plain": [
       "['hi']"
      ]
     },
     "execution_count": 6,
     "metadata": {},
     "output_type": "execute_result"
    }
   ],
   "source": [
    "x['hello']"
   ]
  },
  {
   "cell_type": "code",
   "execution_count": 7,
   "id": "2b28c67c",
   "metadata": {},
   "outputs": [
    {
     "data": {
      "text/plain": [
       "'i'"
      ]
     },
     "execution_count": 7,
     "metadata": {},
     "output_type": "execute_result"
    }
   ],
   "source": [
    "x['hello'][0][-1]"
   ]
  },
  {
   "cell_type": "code",
   "execution_count": 8,
   "id": "d2a1955b",
   "metadata": {},
   "outputs": [
    {
     "name": "stdout",
     "output_type": "stream",
     "text": [
      "{'brand': 'Ford', 'model': 'Mustang', 'year': 2020}\n"
     ]
    }
   ],
   "source": [
    "ddict = {          # duplicate values not allowed\n",
    "  \"brand\": \"Ford\",\n",
    "  \"model\": \"Mustang\",\n",
    "  \"year\": 1964,\n",
    "  \"year\": 2020\n",
    "}\n",
    "print(ddict)"
   ]
  },
  {
   "cell_type": "code",
   "execution_count": 9,
   "id": "ef259769",
   "metadata": {},
   "outputs": [
    {
     "data": {
      "text/plain": [
       "['__class__',\n",
       " '__class_getitem__',\n",
       " '__contains__',\n",
       " '__delattr__',\n",
       " '__delitem__',\n",
       " '__dir__',\n",
       " '__doc__',\n",
       " '__eq__',\n",
       " '__format__',\n",
       " '__ge__',\n",
       " '__getattribute__',\n",
       " '__getitem__',\n",
       " '__getstate__',\n",
       " '__gt__',\n",
       " '__hash__',\n",
       " '__init__',\n",
       " '__init_subclass__',\n",
       " '__ior__',\n",
       " '__iter__',\n",
       " '__le__',\n",
       " '__len__',\n",
       " '__lt__',\n",
       " '__ne__',\n",
       " '__new__',\n",
       " '__or__',\n",
       " '__reduce__',\n",
       " '__reduce_ex__',\n",
       " '__repr__',\n",
       " '__reversed__',\n",
       " '__ror__',\n",
       " '__setattr__',\n",
       " '__setitem__',\n",
       " '__sizeof__',\n",
       " '__str__',\n",
       " '__subclasshook__',\n",
       " 'clear',\n",
       " 'copy',\n",
       " 'fromkeys',\n",
       " 'get',\n",
       " 'items',\n",
       " 'keys',\n",
       " 'pop',\n",
       " 'popitem',\n",
       " 'setdefault',\n",
       " 'update',\n",
       " 'values']"
      ]
     },
     "execution_count": 9,
     "metadata": {},
     "output_type": "execute_result"
    }
   ],
   "source": [
    "dir(dict)"
   ]
  },
  {
   "cell_type": "markdown",
   "id": "6b38fd60",
   "metadata": {},
   "source": [
    "### methods in dictionary\n",
    "['clear',\n",
    " 'copy',\n",
    " 'fromkeys',\n",
    " 'get',\n",
    " 'items',\n",
    " 'keys',\n",
    " 'pop',\n",
    " 'popitem',\n",
    " 'setdefault',\n",
    " 'update',\n",
    " 'values']"
   ]
  },
  {
   "cell_type": "markdown",
   "id": "87b8754d",
   "metadata": {},
   "source": [
    "### clear()\n",
    "\n",
    "#### The clear() method removes all the elements from a dictionary.\n",
    "\n",
    "#### Syntax : dictionary.clear()"
   ]
  },
  {
   "cell_type": "code",
   "execution_count": 25,
   "id": "95cbcf56",
   "metadata": {},
   "outputs": [
    {
     "name": "stdout",
     "output_type": "stream",
     "text": [
      "Help on method_descriptor:\n",
      "\n",
      "clear(...)\n",
      "    D.clear() -> None.  Remove all items from D.\n",
      "\n"
     ]
    }
   ],
   "source": [
    "help(dict.clear)"
   ]
  },
  {
   "cell_type": "code",
   "execution_count": 14,
   "id": "e71bb1dd",
   "metadata": {},
   "outputs": [
    {
     "data": {
      "text/plain": [
       "{'brand': 'suzuki', 'model': 'baleno', 'year': 2023}"
      ]
     },
     "execution_count": 14,
     "metadata": {},
     "output_type": "execute_result"
    }
   ],
   "source": [
    "c = {\n",
    "  \"brand\": \"suzuki\",\n",
    "  \"model\": \"baleno\",\n",
    "  \"year\": 2023\n",
    "}\n",
    "c"
   ]
  },
  {
   "cell_type": "code",
   "execution_count": 15,
   "id": "b3a299e5",
   "metadata": {},
   "outputs": [
    {
     "data": {
      "text/plain": [
       "{}"
      ]
     },
     "execution_count": 15,
     "metadata": {},
     "output_type": "execute_result"
    }
   ],
   "source": [
    "c.clear() # it clears all the elements and gives empty dictionary.\n",
    "c"
   ]
  },
  {
   "cell_type": "markdown",
   "id": "da23dd93",
   "metadata": {},
   "source": [
    "### copy()\n",
    "\n",
    "#### The copy() method returns a copy of the specified dictionary.\n",
    "\n",
    "#### syntax : dictionary.copy()"
   ]
  },
  {
   "cell_type": "code",
   "execution_count": 26,
   "id": "75f03262",
   "metadata": {},
   "outputs": [
    {
     "name": "stdout",
     "output_type": "stream",
     "text": [
      "Help on method_descriptor:\n",
      "\n",
      "copy(...)\n",
      "    D.copy() -> a shallow copy of D\n",
      "\n"
     ]
    }
   ],
   "source": [
    "help(dict.copy)"
   ]
  },
  {
   "cell_type": "code",
   "execution_count": 19,
   "id": "ceccc24d",
   "metadata": {},
   "outputs": [
    {
     "data": {
      "text/plain": [
       "{'brand': 'suzuki', 'model': 'baleno', 'year': 2023}"
      ]
     },
     "execution_count": 19,
     "metadata": {},
     "output_type": "execute_result"
    }
   ],
   "source": [
    "c = {\n",
    "  \"brand\": \"suzuki\",\n",
    "  \"model\": \"baleno\",\n",
    "  \"year\": 2023\n",
    "}\n",
    "c"
   ]
  },
  {
   "cell_type": "code",
   "execution_count": 20,
   "id": "999b62fe",
   "metadata": {},
   "outputs": [
    {
     "name": "stdout",
     "output_type": "stream",
     "text": [
      "{'brand': 'suzuki', 'model': 'baleno', 'year': 2023}\n"
     ]
    }
   ],
   "source": [
    "x = c.copy()\n",
    "print(x)"
   ]
  },
  {
   "cell_type": "markdown",
   "id": "49b32deb",
   "metadata": {},
   "source": [
    "### fromkeys()\n",
    "\n",
    "#### The fromkeys() method returns a dictionary with the specified keys and the specified value.\n",
    "\n",
    "#### Parameter\n",
    "\n",
    "#### keys Required: An iterable specifying the keys of the new dictionary\n",
    "\n",
    "#### value Optional: The value for all keys. Default value is None\n",
    "\n",
    "#### Syntax : dict.fromkeys(keys, value)"
   ]
  },
  {
   "cell_type": "code",
   "execution_count": 28,
   "id": "33bc1b4c",
   "metadata": {},
   "outputs": [
    {
     "name": "stdout",
     "output_type": "stream",
     "text": [
      "Help on built-in function fromkeys:\n",
      "\n",
      "fromkeys(iterable, value=None, /) method of builtins.type instance\n",
      "    Create a new dictionary with keys from iterable and values set to value.\n",
      "\n"
     ]
    }
   ],
   "source": [
    "help(dict.fromkeys)"
   ]
  },
  {
   "cell_type": "code",
   "execution_count": 29,
   "id": "8fc15755",
   "metadata": {},
   "outputs": [
    {
     "data": {
      "text/plain": [
       "{'g': 'god', 'h': 'holla', 'i': 'ice'}"
      ]
     },
     "execution_count": 29,
     "metadata": {},
     "output_type": "execute_result"
    }
   ],
   "source": [
    "c = {'g':'god', # gives a keys in fromkeys\n",
    "     'h':'holla',\n",
    "    'i':'ice'}\n",
    "c"
   ]
  },
  {
   "cell_type": "code",
   "execution_count": 31,
   "id": "422118e4",
   "metadata": {},
   "outputs": [
    {
     "data": {
      "text/plain": [
       "{'g': None, 'h': None, 'i': None}"
      ]
     },
     "execution_count": 31,
     "metadata": {},
     "output_type": "execute_result"
    }
   ],
   "source": [
    "d = dict.fromkeys(c) # fromkeys is a class dictionary creates a new dictionary whose keys are given dictionary values all none.\n",
    "d"
   ]
  },
  {
   "cell_type": "markdown",
   "id": "fa8d624d",
   "metadata": {},
   "source": [
    "### get() \n",
    "\n",
    "####  The get() method returns the value of the item with the specified key.\n",
    "\n",
    "#### Parameter\n",
    "\n",
    "#### keyname:\tRequired. The keyname of the item you want to return the value from\n",
    "\n",
    "#### value\tOptional:  A value to return if the specified key does not exist.Default value None\n",
    "\n",
    "#### Syntax : dictionary.get(keyname, value)"
   ]
  },
  {
   "cell_type": "code",
   "execution_count": 32,
   "id": "21d7e6bc",
   "metadata": {},
   "outputs": [
    {
     "name": "stdout",
     "output_type": "stream",
     "text": [
      "Help on method_descriptor:\n",
      "\n",
      "get(self, key, default=None, /)\n",
      "    Return the value for key if key is in the dictionary, else default.\n",
      "\n"
     ]
    }
   ],
   "source": [
    "help(dict.get)"
   ]
  },
  {
   "cell_type": "code",
   "execution_count": 33,
   "id": "718294c1",
   "metadata": {},
   "outputs": [
    {
     "data": {
      "text/plain": [
       "{'k1': 1, 'k2': 2, 'k3': 3}"
      ]
     },
     "execution_count": 33,
     "metadata": {},
     "output_type": "execute_result"
    }
   ],
   "source": [
    "x = {'k1':1,\n",
    "    'k2':2,\n",
    "    'k3':3}\n",
    "x"
   ]
  },
  {
   "cell_type": "code",
   "execution_count": 34,
   "id": "e088f163",
   "metadata": {},
   "outputs": [
    {
     "data": {
      "text/plain": [
       "3"
      ]
     },
     "execution_count": 34,
     "metadata": {},
     "output_type": "execute_result"
    }
   ],
   "source": [
    "x.get('k3')"
   ]
  },
  {
   "cell_type": "code",
   "execution_count": 35,
   "id": "d4c75894",
   "metadata": {},
   "outputs": [
    {
     "ename": "KeyError",
     "evalue": "'k'",
     "output_type": "error",
     "traceback": [
      "\u001b[1;31m---------------------------------------------------------------------------\u001b[0m",
      "\u001b[1;31mKeyError\u001b[0m                                  Traceback (most recent call last)",
      "Cell \u001b[1;32mIn[35], line 1\u001b[0m\n\u001b[1;32m----> 1\u001b[0m x[\u001b[38;5;124m'\u001b[39m\u001b[38;5;124mk\u001b[39m\u001b[38;5;124m'\u001b[39m]\n",
      "\u001b[1;31mKeyError\u001b[0m: 'k'"
     ]
    }
   ],
   "source": [
    "x['k'] # it shows error if the element is not executed"
   ]
  },
  {
   "cell_type": "code",
   "execution_count": 36,
   "id": "1112ed01",
   "metadata": {},
   "outputs": [],
   "source": [
    "x.get('k') # it not shows error if the element is not executed"
   ]
  },
  {
   "cell_type": "markdown",
   "id": "5cc7b3a3",
   "metadata": {},
   "source": [
    "### items()\n",
    "\n",
    "#### The items() method returns a view object. The view object contains the key-value pairs of the dictionary, as tuples in a list.The view object will reflect any changes done to the dictionary.\n",
    "\n",
    "#### Syntax : dictionary.items()"
   ]
  },
  {
   "cell_type": "code",
   "execution_count": 37,
   "id": "db7e69ec",
   "metadata": {},
   "outputs": [
    {
     "name": "stdout",
     "output_type": "stream",
     "text": [
      "Help on method_descriptor:\n",
      "\n",
      "items(...)\n",
      "    D.items() -> a set-like object providing a view on D's items\n",
      "\n"
     ]
    }
   ],
   "source": [
    "help(dict.items)"
   ]
  },
  {
   "cell_type": "code",
   "execution_count": 55,
   "id": "f0355bb7",
   "metadata": {},
   "outputs": [
    {
     "data": {
      "text/plain": [
       "{'brand': 'suzuki', 'model': 'baleno', 'year': 2023}"
      ]
     },
     "execution_count": 55,
     "metadata": {},
     "output_type": "execute_result"
    }
   ],
   "source": [
    "c = {\n",
    "  \"brand\": \"suzuki\",\n",
    "  \"model\": \"baleno\",\n",
    "  \"year\": 2023\n",
    "}\n",
    "c"
   ]
  },
  {
   "cell_type": "code",
   "execution_count": 45,
   "id": "007fc1e0",
   "metadata": {},
   "outputs": [
    {
     "name": "stdout",
     "output_type": "stream",
     "text": [
      "dict_items([('brand', 'suzuki'), ('model', 'baleno'), ('year', 2025)])\n"
     ]
    }
   ],
   "source": [
    "x = c.items() # the items we can find and we can change # it not allows duplicate keys so it over writes the value\n",
    "\n",
    "c[\"year\"] = 2025 \n",
    "\n",
    "print(x)"
   ]
  },
  {
   "cell_type": "markdown",
   "id": "f874c56f",
   "metadata": {},
   "source": [
    "### keys()\n",
    "\n",
    "#### The keys() method returns a view object. The view object contains the keys of the dictionary, as a list.The view object will reflect any changes done to the dictionary.\n",
    "\n",
    "#### syntax : dictionary.keys()"
   ]
  },
  {
   "cell_type": "code",
   "execution_count": 40,
   "id": "de46921f",
   "metadata": {},
   "outputs": [
    {
     "name": "stdout",
     "output_type": "stream",
     "text": [
      "Help on method_descriptor:\n",
      "\n",
      "keys(...)\n",
      "    D.keys() -> a set-like object providing a view on D's keys\n",
      "\n"
     ]
    }
   ],
   "source": [
    "help(dict.keys)"
   ]
  },
  {
   "cell_type": "code",
   "execution_count": 41,
   "id": "dc6fd7a6",
   "metadata": {},
   "outputs": [
    {
     "data": {
      "text/plain": [
       "{'brand': 'suzuki', 'model': 'baleno', 'year': 2025}"
      ]
     },
     "execution_count": 41,
     "metadata": {},
     "output_type": "execute_result"
    }
   ],
   "source": [
    "c"
   ]
  },
  {
   "cell_type": "code",
   "execution_count": 44,
   "id": "eb6e9d67",
   "metadata": {},
   "outputs": [
    {
     "name": "stdout",
     "output_type": "stream",
     "text": [
      "dict_keys(['brand', 'model', 'year'])\n"
     ]
    }
   ],
   "source": [
    "y = c.keys() # keys shows only keys in dictionary\n",
    "print(y)"
   ]
  },
  {
   "cell_type": "markdown",
   "id": "6296e066",
   "metadata": {},
   "source": [
    "### pop()\n",
    "\n",
    "#### The pop() method removes the specified item from the dictionary.The value of the removed item is the return value of the pop() method.\n",
    "\n",
    "#### Parameter\n",
    "\n",
    "#### keyname Required:The keyname of the item you want to remove\n",
    "\n",
    "#### defaultvalue Optional: A value to return if the specified key do not exist.If this parameter is not specified, and the no item with the specified key is found, an error is raised\n",
    "\n",
    "#### Syntax : dictionary.pop(keyname, defaultvalue)"
   ]
  },
  {
   "cell_type": "code",
   "execution_count": 46,
   "id": "3df758e9",
   "metadata": {},
   "outputs": [
    {
     "name": "stdout",
     "output_type": "stream",
     "text": [
      "Help on method_descriptor:\n",
      "\n",
      "pop(...)\n",
      "    D.pop(k[,d]) -> v, remove specified key and return the corresponding value.\n",
      "    \n",
      "    If the key is not found, return the default if given; otherwise,\n",
      "    raise a KeyError.\n",
      "\n"
     ]
    }
   ],
   "source": [
    "help(dict.pop)"
   ]
  },
  {
   "cell_type": "code",
   "execution_count": 56,
   "id": "d9bf4eb3",
   "metadata": {},
   "outputs": [
    {
     "data": {
      "text/plain": [
       "{'brand': 'suzuki', 'model': 'baleno', 'year': 2023}"
      ]
     },
     "execution_count": 56,
     "metadata": {},
     "output_type": "execute_result"
    }
   ],
   "source": [
    "c"
   ]
  },
  {
   "cell_type": "code",
   "execution_count": 57,
   "id": "4c3dc745",
   "metadata": {},
   "outputs": [
    {
     "data": {
      "text/plain": [
       "{'brand': 'suzuki', 'model': 'baleno'}"
      ]
     },
     "execution_count": 57,
     "metadata": {},
     "output_type": "execute_result"
    }
   ],
   "source": [
    "c.pop('year') # it pops out the value\n",
    "c"
   ]
  },
  {
   "cell_type": "markdown",
   "id": "407ac9eb",
   "metadata": {},
   "source": [
    "### popitem()\n",
    "\n",
    "#### The popitem() method removes the item that was last inserted into the dictionary. In versions before 3.7, the popitem() method removes a random item.The removed item is the return value of the popitem() method, as a tuple.\n",
    "\n",
    "#### Syntax : dictionary.popitem()"
   ]
  },
  {
   "cell_type": "code",
   "execution_count": 58,
   "id": "30d92a9e",
   "metadata": {},
   "outputs": [
    {
     "name": "stdout",
     "output_type": "stream",
     "text": [
      "Help on method_descriptor:\n",
      "\n",
      "popitem(self, /)\n",
      "    Remove and return a (key, value) pair as a 2-tuple.\n",
      "    \n",
      "    Pairs are returned in LIFO (last-in, first-out) order.\n",
      "    Raises KeyError if the dict is empty.\n",
      "\n"
     ]
    }
   ],
   "source": [
    "help(dict.popitem)"
   ]
  },
  {
   "cell_type": "code",
   "execution_count": 59,
   "id": "4cb1b8ee",
   "metadata": {},
   "outputs": [
    {
     "data": {
      "text/plain": [
       "{'brand': 'suzuki', 'model': 'baleno', 'year': 2023}"
      ]
     },
     "execution_count": 59,
     "metadata": {},
     "output_type": "execute_result"
    }
   ],
   "source": [
    "c = {\n",
    "  \"brand\": \"suzuki\",\n",
    "  \"model\": \"baleno\",\n",
    "  \"year\": 2023\n",
    "}\n",
    "c"
   ]
  },
  {
   "cell_type": "code",
   "execution_count": 60,
   "id": "5798b6d4",
   "metadata": {},
   "outputs": [
    {
     "name": "stdout",
     "output_type": "stream",
     "text": [
      "{'brand': 'suzuki', 'model': 'baleno'}\n"
     ]
    }
   ],
   "source": [
    "c.popitem() # if we not mention any value it pop outs very end value.\n",
    "print(c)"
   ]
  },
  {
   "cell_type": "markdown",
   "id": "d514e168",
   "metadata": {},
   "source": [
    "### update()\n",
    "\n",
    "#### The update() method inserts the specified items to the dictionary.The specified items can be a dictionary, or an iterable object with key value pairs.\n",
    "\n",
    "#### Parameter\tDescription\n",
    "\n",
    "#### iterable:\tA dictionary or an iterable object with key value pairs, that will be inserted to the dictionary\n",
    "\n",
    "#### Syntax : dictionary.update(iterable)"
   ]
  },
  {
   "cell_type": "code",
   "execution_count": 61,
   "id": "e17a4497",
   "metadata": {},
   "outputs": [
    {
     "name": "stdout",
     "output_type": "stream",
     "text": [
      "Help on method_descriptor:\n",
      "\n",
      "update(...)\n",
      "    D.update([E, ]**F) -> None.  Update D from dict/iterable E and F.\n",
      "    If E is present and has a .keys() method, then does:  for k in E: D[k] = E[k]\n",
      "    If E is present and lacks a .keys() method, then does:  for k, v in E: D[k] = v\n",
      "    In either case, this is followed by: for k in F:  D[k] = F[k]\n",
      "\n"
     ]
    }
   ],
   "source": [
    "help(dict.update)"
   ]
  },
  {
   "cell_type": "code",
   "execution_count": 62,
   "id": "3d7b250e",
   "metadata": {},
   "outputs": [
    {
     "data": {
      "text/plain": [
       "{'k1': 1, 'k2': 2, 'k3': 3}"
      ]
     },
     "execution_count": 62,
     "metadata": {},
     "output_type": "execute_result"
    }
   ],
   "source": [
    "x = {'k1':1,\n",
    "    'k2':2,\n",
    "    'k3':3}\n",
    "x"
   ]
  },
  {
   "cell_type": "code",
   "execution_count": 63,
   "id": "62acbda4",
   "metadata": {},
   "outputs": [
    {
     "data": {
      "text/plain": [
       "{'k1': 1, 'k2': 2, 'k3': 3, 'k4': 4}"
      ]
     },
     "execution_count": 63,
     "metadata": {},
     "output_type": "execute_result"
    }
   ],
   "source": [
    "x['k4'] = 4 # for adding to existing dictionary\n",
    "x"
   ]
  },
  {
   "cell_type": "code",
   "execution_count": 64,
   "id": "604e7c0a",
   "metadata": {},
   "outputs": [
    {
     "data": {
      "text/plain": [
       "{'k1': 111, 'k2': 2, 'k3': 3, 'k4': 4}"
      ]
     },
     "execution_count": 64,
     "metadata": {},
     "output_type": "execute_result"
    }
   ],
   "source": [
    "x['k1']  = 111 # it not allows duplicate keys so it over writes the value\n",
    "x"
   ]
  },
  {
   "cell_type": "code",
   "execution_count": 65,
   "id": "b8273294",
   "metadata": {},
   "outputs": [
    {
     "data": {
      "text/plain": [
       "{'k1': 111, 'k2': 2, 'k3': 3, 'k4': 4, 'k5': 5, 'k6': 6}"
      ]
     },
     "execution_count": 65,
     "metadata": {},
     "output_type": "execute_result"
    }
   ],
   "source": [
    "x.update([('k5',5), # we can use update also to add a key and value to existing dictionary using tuples\n",
    "         ('k6',6)])\n",
    "x"
   ]
  },
  {
   "cell_type": "code",
   "execution_count": 66,
   "id": "63e85950",
   "metadata": {},
   "outputs": [
    {
     "data": {
      "text/plain": [
       "{'k1': 111, 'k2': 2, 'k3': 3, 'k4': 4, 'k5': 5, 'k6': 6, 'k7': 7, 'k8': 8}"
      ]
     },
     "execution_count": 66,
     "metadata": {},
     "output_type": "execute_result"
    }
   ],
   "source": [
    "x.update({'k7':7,'k8':8}) # we can use update also to add a key and value to existing dictionary using tuples with dictionary\n",
    "x"
   ]
  },
  {
   "cell_type": "markdown",
   "id": "138acab1",
   "metadata": {},
   "source": [
    "### values()\n",
    "\n",
    "#### The values() method returns a view object. The view object contains the values of the dictionary, as a list.The view object will reflect any changes done to the dictionary.\n",
    "\n",
    "#### Syntax : dictionary.values()"
   ]
  },
  {
   "cell_type": "code",
   "execution_count": 68,
   "id": "5db8dcd4",
   "metadata": {},
   "outputs": [
    {
     "name": "stdout",
     "output_type": "stream",
     "text": [
      "Help on method_descriptor:\n",
      "\n",
      "values(...)\n",
      "    D.values() -> an object providing a view on D's values\n",
      "\n"
     ]
    }
   ],
   "source": [
    "help(dict.values)"
   ]
  },
  {
   "cell_type": "code",
   "execution_count": 76,
   "id": "830d73d4",
   "metadata": {},
   "outputs": [
    {
     "data": {
      "text/plain": [
       "{'k1': 1, 'k2': 2, 'k3': 3}"
      ]
     },
     "execution_count": 76,
     "metadata": {},
     "output_type": "execute_result"
    }
   ],
   "source": [
    "x = {'k1':1,\n",
    "    'k2':2,\n",
    "    'k3':3}\n",
    "x"
   ]
  },
  {
   "cell_type": "code",
   "execution_count": 80,
   "id": "b162fbc7",
   "metadata": {},
   "outputs": [
    {
     "data": {
      "text/plain": [
       "dict_values([1, 2, 3])"
      ]
     },
     "execution_count": 80,
     "metadata": {},
     "output_type": "execute_result"
    }
   ],
   "source": [
    "z = x.values() # by using values it shows only the values in dictionary\n",
    "z"
   ]
  },
  {
   "cell_type": "markdown",
   "id": "b1470727",
   "metadata": {},
   "source": [
    "### setdefault()\n",
    "\n",
    "#### The setdefault() method returns the value of the item with the specified key. If the key does not exist, insert the key, with the specified value.\n",
    "\n",
    "#### Parameter\n",
    "\n",
    "#### keyname Required: The keyname of the item you want to return the value from\n",
    "\n",
    "#### value\tOptional: If the key exist, this parameter has no effect.If the key does not exist, this value becomes the key's valueDefault value None\n",
    "\n",
    "#### Syntax : dictionary.setdefault(keyname, value)\n"
   ]
  },
  {
   "cell_type": "code",
   "execution_count": 81,
   "id": "be48e8a6",
   "metadata": {},
   "outputs": [
    {
     "name": "stdout",
     "output_type": "stream",
     "text": [
      "Help on method_descriptor:\n",
      "\n",
      "setdefault(self, key, default=None, /)\n",
      "    Insert key with a value of default if key is not in the dictionary.\n",
      "    \n",
      "    Return the value for key if key is in the dictionary, else default.\n",
      "\n"
     ]
    }
   ],
   "source": [
    "help(dict.setdefault)"
   ]
  },
  {
   "cell_type": "code",
   "execution_count": 82,
   "id": "5894f5af",
   "metadata": {},
   "outputs": [
    {
     "data": {
      "text/plain": [
       "{'k1': 1, 'k2': 2, 'k3': 3}"
      ]
     },
     "execution_count": 82,
     "metadata": {},
     "output_type": "execute_result"
    }
   ],
   "source": [
    "x = {'k1':1,\n",
    "    'k2':2,\n",
    "    'k3':3}\n",
    "x"
   ]
  },
  {
   "cell_type": "code",
   "execution_count": 105,
   "id": "a775fdd1",
   "metadata": {},
   "outputs": [
    {
     "name": "stdout",
     "output_type": "stream",
     "text": [
      "2\n"
     ]
    }
   ],
   "source": [
    "v = x.setdefault('k2', 6) # If the key exist, this parameter has no effect.\n",
    "\n",
    "print(v)"
   ]
  },
  {
   "cell_type": "code",
   "execution_count": 104,
   "id": "85fe95a3",
   "metadata": {},
   "outputs": [
    {
     "data": {
      "text/plain": [
       "2"
      ]
     },
     "execution_count": 104,
     "metadata": {},
     "output_type": "execute_result"
    }
   ],
   "source": [
    "v"
   ]
  },
  {
   "cell_type": "code",
   "execution_count": 92,
   "id": "ad0e1572",
   "metadata": {},
   "outputs": [
    {
     "data": {
      "text/plain": [
       "{'k1': 1, 'k2': 2, 'k3': 3}"
      ]
     },
     "execution_count": 92,
     "metadata": {},
     "output_type": "execute_result"
    }
   ],
   "source": [
    "x = {'k1':1,\n",
    "    'k2':2,\n",
    "    'k3':3}\n",
    "x"
   ]
  },
  {
   "cell_type": "code",
   "execution_count": 103,
   "id": "5a5ffdd3",
   "metadata": {},
   "outputs": [
    {
     "name": "stdout",
     "output_type": "stream",
     "text": [
      "None\n"
     ]
    }
   ],
   "source": [
    "k = x.setdefault('k') # if If the key does not exist, this value becomes the key's valueDefault value None.\n",
    "print(k)"
   ]
  },
  {
   "cell_type": "markdown",
   "id": "2f964ea0",
   "metadata": {},
   "source": [
    "## string methods \n",
    "\n",
    "### maketrans()\n",
    "\n",
    "#### The maketrans() method returns a mapping table that can be used with the translate() method to replace specified characters.\n",
    "\n",
    "#### Parameter \n",
    "\n",
    "#### x:\tRequired. If only one parameter is specified, this has to be a dictionary describing how to perform the replace. If two or more parameters are specified, this parameter has to be a string specifying the characters you want to replace.\n",
    "\n",
    "#### y:\tOptional. A string with the same length as parameter x. Each character in the first parameter will be replaced with the corresponding character in this string.\n",
    "\n",
    "#### z:\tOptional. A string describing which characters to remove from the original string.\n",
    "\n",
    "#### Syntax : str.maketrans(x, y, z)"
   ]
  },
  {
   "cell_type": "code",
   "execution_count": 106,
   "id": "55192918",
   "metadata": {},
   "outputs": [
    {
     "name": "stdout",
     "output_type": "stream",
     "text": [
      "Help on built-in function maketrans:\n",
      "\n",
      "maketrans(...)\n",
      "    Return a translation table usable for str.translate().\n",
      "    \n",
      "    If there is only one argument, it must be a dictionary mapping Unicode\n",
      "    ordinals (integers) or characters to Unicode ordinals, strings or None.\n",
      "    Character keys will be then converted to ordinals.\n",
      "    If there are two arguments, they must be strings of equal length, and\n",
      "    in the resulting dictionary, each character in x will be mapped to the\n",
      "    character at the same position in y. If there is a third argument, it\n",
      "    must be a string, whose characters will be mapped to None in the result.\n",
      "\n"
     ]
    }
   ],
   "source": [
    "help(str.maketrans)"
   ]
  },
  {
   "cell_type": "code",
   "execution_count": 107,
   "id": "dcdf9717",
   "metadata": {},
   "outputs": [
    {
     "name": "stdout",
     "output_type": "stream",
     "text": [
      "Fello goodevening!\n"
     ]
    }
   ],
   "source": [
    "t = \"Hello goodevening!\"\n",
    "\n",
    "m = str.maketrans(\"H\", \"F\")\n",
    "\n",
    "print(t.translate(m))"
   ]
  },
  {
   "cell_type": "code",
   "execution_count": 113,
   "id": "24a4ff51",
   "metadata": {},
   "outputs": [
    {
     "name": "stdout",
     "output_type": "stream",
     "text": [
      "G i kiu!\n"
     ]
    }
   ],
   "source": [
    "k = \"Good night chintu!\"\n",
    "x = \"thc\"\n",
    "y = \"kok\"\n",
    "z = \"odnght\"\n",
    "L = str.maketrans(x, y, z)\n",
    "print(k.translate(L))"
   ]
  },
  {
   "cell_type": "markdown",
   "id": "9fa36268",
   "metadata": {},
   "source": [
    "### translate()\n",
    "\n",
    "#### The translate() method returns a string where some specified characters are replaced with the character described in a dictionary, or in a mapping table.\n",
    "\n",
    "#### Use the maketrans() method to create a mapping table.\n",
    "\n",
    "#### If a character is not specified in the dictionary/table, the character will not be replaced.\n",
    "\n",
    "#### If you use a dictionary, you must use ascii codes instead of characters.\n",
    "\n",
    "#### Parameter\n",
    "\n",
    "#### table\tRequired: Either a dictionary, or a mapping table describing how to perform the replace\n",
    "\n",
    "#### Syntax : string.translate(table)\n"
   ]
  },
  {
   "cell_type": "code",
   "execution_count": 115,
   "id": "50e65a67",
   "metadata": {},
   "outputs": [
    {
     "name": "stdout",
     "output_type": "stream",
     "text": [
      "Help on method_descriptor:\n",
      "\n",
      "translate(self, table, /)\n",
      "    Replace each character in the string using the given translation table.\n",
      "    \n",
      "      table\n",
      "        Translation table, which must be a mapping of Unicode ordinals to\n",
      "        Unicode ordinals, strings, or None.\n",
      "    \n",
      "    The table must implement lookup/indexing via __getitem__, for instance a\n",
      "    dictionary or list.  If this operation raises LookupError, the character is\n",
      "    left untouched.  Characters mapped to None are deleted.\n",
      "\n"
     ]
    }
   ],
   "source": [
    "help(str.translate)"
   ]
  },
  {
   "cell_type": "code",
   "execution_count": 127,
   "id": "14c67a22",
   "metadata": {},
   "outputs": [
    {
     "name": "stdout",
     "output_type": "stream",
     "text": [
      "Fello Phintu!\n"
     ]
    }
   ],
   "source": [
    "d = {67:  80,\n",
    "    72: 70} #use a dictionary with ascii codes to replace 67 (C) with 80 (P) # 72 (H) with 70 (F).\n",
    "k = \"Hello Chintu!\"\n",
    "print(k.translate(d))"
   ]
  },
  {
   "cell_type": "code",
   "execution_count": 138,
   "id": "b631db36",
   "metadata": {},
   "outputs": [
    {
     "name": "stdout",
     "output_type": "stream",
     "text": [
      "era are yr y riend\n"
     ]
    }
   ],
   "source": [
    "t = 'how are you my friend'\n",
    "x = 'ohw'\n",
    "y = 'rea'\n",
    "z = 'ufm'\n",
    "k = str.maketrans(x,y,z)\n",
    "print(t.translate(k))"
   ]
  },
  {
   "cell_type": "markdown",
   "id": "2937ff47",
   "metadata": {},
   "source": [
    "### conditional statement\n",
    "\n",
    "#### if,elif,else"
   ]
  },
  {
   "cell_type": "code",
   "execution_count": 1,
   "id": "75651cce",
   "metadata": {},
   "outputs": [
    {
     "name": "stdout",
     "output_type": "stream",
     "text": [
      "marks scored; 90\n",
      "first round\n"
     ]
    }
   ],
   "source": [
    "kranthimarks = int(input('marks scored; '))\n",
    "\n",
    "if kranthimarks >= 85:\n",
    "    print('first round')\n",
    "elif kranthimarks >= 75:\n",
    "    print('second round')\n",
    "elif kranthimarks >=65:\n",
    "    print('screening round')\n",
    "else:\n",
    "    print('study hard')"
   ]
  },
  {
   "cell_type": "code",
   "execution_count": 2,
   "id": "8c432520",
   "metadata": {},
   "outputs": [
    {
     "name": "stdout",
     "output_type": "stream",
     "text": [
      "marks scored; 80\n",
      "second round\n"
     ]
    }
   ],
   "source": [
    "kranthimarks = int(input('marks scored; '))\n",
    "\n",
    "if kranthimarks >= 85:\n",
    "    print('first round')\n",
    "elif kranthimarks >= 75:\n",
    "    print('second round')\n",
    "elif kranthimarks >=65:\n",
    "    print('screening round')\n",
    "else:\n",
    "    print('study hard')"
   ]
  },
  {
   "cell_type": "code",
   "execution_count": 3,
   "id": "5acde14a",
   "metadata": {},
   "outputs": [
    {
     "name": "stdout",
     "output_type": "stream",
     "text": [
      "marks scored; 70\n",
      "screening round\n"
     ]
    }
   ],
   "source": [
    "kranthimarks = int(input('marks scored; '))\n",
    "\n",
    "if kranthimarks >= 85:\n",
    "    print('first round')\n",
    "elif kranthimarks >= 75:\n",
    "    print('second round')\n",
    "elif kranthimarks >=65:\n",
    "    print('screening round')\n",
    "else:\n",
    "    print('study hard')"
   ]
  },
  {
   "cell_type": "code",
   "execution_count": 4,
   "id": "8613f6f7",
   "metadata": {},
   "outputs": [
    {
     "name": "stdout",
     "output_type": "stream",
     "text": [
      "marks scored; 60\n",
      "study hard\n"
     ]
    }
   ],
   "source": [
    "kranthimarks = int(input('marks scored; '))\n",
    "\n",
    "if kranthimarks >= 85:\n",
    "    print('first round')\n",
    "elif kranthimarks >= 75:\n",
    "    print('second round')\n",
    "elif kranthimarks >=65:\n",
    "    print('screening round')\n",
    "else:\n",
    "    print('study hard')"
   ]
  },
  {
   "cell_type": "code",
   "execution_count": 6,
   "id": "c7ab4ecf",
   "metadata": {},
   "outputs": [
    {
     "name": "stdout",
     "output_type": "stream",
     "text": [
      "marks scored; 45\n",
      "study hard\n"
     ]
    }
   ],
   "source": [
    "kranthimarks = int(input('marks scored; '))\n",
    "\n",
    "if kranthimarks <= 60:\n",
    "    print('study hard')\n",
    "elif kranthimarks <= 70:\n",
    "    print('screening round')\n",
    "elif kranthimarks <= 80:\n",
    "    print('second round')\n",
    "else:\n",
    "    print('first round')"
   ]
  },
  {
   "cell_type": "code",
   "execution_count": 7,
   "id": "c27eb1ed",
   "metadata": {},
   "outputs": [
    {
     "name": "stdout",
     "output_type": "stream",
     "text": [
      "marks scored; 61\n",
      "screening round\n"
     ]
    }
   ],
   "source": [
    "kranthimarks = int(input('marks scored; '))\n",
    "\n",
    "if kranthimarks <= 60:\n",
    "    print('study hard')\n",
    "elif kranthimarks <= 70:\n",
    "    print('screening round')\n",
    "elif kranthimarks <= 80:\n",
    "    print('second round')\n",
    "else:\n",
    "    print('first round')"
   ]
  },
  {
   "cell_type": "code",
   "execution_count": 8,
   "id": "23ebeccb",
   "metadata": {},
   "outputs": [
    {
     "name": "stdout",
     "output_type": "stream",
     "text": [
      "marks scored; 74\n",
      "second round\n"
     ]
    }
   ],
   "source": [
    "kranthimarks = int(input('marks scored; '))\n",
    "\n",
    "if kranthimarks <= 60:\n",
    "    print('study hard')\n",
    "elif kranthimarks <= 70:\n",
    "    print('screening round')\n",
    "elif kranthimarks <= 80:\n",
    "    print('second round')\n",
    "else:\n",
    "    print('first round')"
   ]
  },
  {
   "cell_type": "code",
   "execution_count": 9,
   "id": "7f4112fa",
   "metadata": {},
   "outputs": [
    {
     "name": "stdout",
     "output_type": "stream",
     "text": [
      "marks scored; 89\n",
      "first round\n"
     ]
    }
   ],
   "source": [
    "kranthimarks = int(input('marks scored; '))\n",
    "\n",
    "if kranthimarks <= 60:\n",
    "    print('study hard')\n",
    "elif kranthimarks <= 70:\n",
    "    print('screening round')\n",
    "elif kranthimarks <= 80:\n",
    "    print('second round')\n",
    "else:\n",
    "    print('first round')"
   ]
  },
  {
   "cell_type": "code",
   "execution_count": null,
   "id": "85392ecc",
   "metadata": {},
   "outputs": [],
   "source": []
  }
 ],
 "metadata": {
  "kernelspec": {
   "display_name": "Python 3 (ipykernel)",
   "language": "python",
   "name": "python3"
  },
  "language_info": {
   "codemirror_mode": {
    "name": "ipython",
    "version": 3
   },
   "file_extension": ".py",
   "mimetype": "text/x-python",
   "name": "python",
   "nbconvert_exporter": "python",
   "pygments_lexer": "ipython3",
   "version": "3.11.5"
  }
 },
 "nbformat": 4,
 "nbformat_minor": 5
}
