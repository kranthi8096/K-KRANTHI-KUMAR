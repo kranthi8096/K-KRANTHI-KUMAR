{
 "cells": [
  {
   "cell_type": "markdown",
   "id": "74de2d17",
   "metadata": {},
   "source": [
    "## Decorators:\n",
    "* Python Decorator function is a function that adds functionality to another, but does not modify it. \n",
    "* In other words, Python Decorator wraps another function.\n",
    "* Decorators allow you to wrap another function and execute code before and/or after the wrapped function runs. \n",
    "* They are often used for tasks such as logging, timing, access control, and more."
   ]
  },
  {
   "cell_type": "code",
   "execution_count": 4,
   "id": "09a424dd",
   "metadata": {},
   "outputs": [],
   "source": [
    "def fooouter(f):\n",
    "    def fooinner():\n",
    "        print('^'*5)\n",
    "        f()\n",
    "        print('^'*5)\n",
    "    return fooinner"
   ]
  },
  {
   "cell_type": "code",
   "execution_count": 5,
   "id": "a9e81c6f",
   "metadata": {},
   "outputs": [],
   "source": [
    "@fooouter # Decorators are essentially syntactic sugar for modifying functions. They use the @decorator syntax.\n",
    "def abc():\n",
    "    print('hello world')"
   ]
  },
  {
   "cell_type": "code",
   "execution_count": 6,
   "id": "e3b8150b",
   "metadata": {},
   "outputs": [
    {
     "name": "stdout",
     "output_type": "stream",
     "text": [
      "^^^^^\n",
      "hello world\n",
      "^^^^^\n"
     ]
    }
   ],
   "source": [
    "abc()"
   ]
  },
  {
   "cell_type": "code",
   "execution_count": 27,
   "id": "a4db970f",
   "metadata": {},
   "outputs": [],
   "source": [
    "def fooouter(f):\n",
    "    '''outer'''\n",
    "    @wraps(f)\n",
    "    def fooinner():\n",
    "        '''inner'''\n",
    "        print('*'*5)\n",
    "        f()\n",
    "        print('*'*5)\n",
    "    return fooinner"
   ]
  },
  {
   "cell_type": "code",
   "execution_count": 28,
   "id": "f3ecba99",
   "metadata": {},
   "outputs": [],
   "source": [
    "@fooouter\n",
    "def abc(a,b,c):\n",
    "    '''abc func call'''\n",
    "    print(a+b+c)"
   ]
  },
  {
   "cell_type": "code",
   "execution_count": 29,
   "id": "466b4fee",
   "metadata": {},
   "outputs": [
    {
     "name": "stdout",
     "output_type": "stream",
     "text": [
      "*****\n"
     ]
    },
    {
     "ename": "TypeError",
     "evalue": "abc() missing 3 required positional arguments: 'a', 'b', and 'c'",
     "output_type": "error",
     "traceback": [
      "\u001b[1;31m---------------------------------------------------------------------------\u001b[0m",
      "\u001b[1;31mTypeError\u001b[0m                                 Traceback (most recent call last)",
      "Cell \u001b[1;32mIn[29], line 1\u001b[0m\n\u001b[1;32m----> 1\u001b[0m abc()\n",
      "Cell \u001b[1;32mIn[27], line 7\u001b[0m, in \u001b[0;36mfooouter.<locals>.fooinner\u001b[1;34m()\u001b[0m\n\u001b[0;32m      5\u001b[0m \u001b[38;5;250m\u001b[39m\u001b[38;5;124;03m'''inner'''\u001b[39;00m\n\u001b[0;32m      6\u001b[0m \u001b[38;5;28mprint\u001b[39m(\u001b[38;5;124m'\u001b[39m\u001b[38;5;124m*\u001b[39m\u001b[38;5;124m'\u001b[39m\u001b[38;5;241m*\u001b[39m\u001b[38;5;241m5\u001b[39m)\n\u001b[1;32m----> 7\u001b[0m f()\n\u001b[0;32m      8\u001b[0m \u001b[38;5;28mprint\u001b[39m(\u001b[38;5;124m'\u001b[39m\u001b[38;5;124m*\u001b[39m\u001b[38;5;124m'\u001b[39m\u001b[38;5;241m*\u001b[39m\u001b[38;5;241m5\u001b[39m)\n",
      "\u001b[1;31mTypeError\u001b[0m: abc() missing 3 required positional arguments: 'a', 'b', and 'c'"
     ]
    }
   ],
   "source": [
    "abc() # if we not mention values it shows # TypeError: abc() missing 3 required positional arguments: 'a', 'b', and 'c'"
   ]
  },
  {
   "cell_type": "code",
   "execution_count": 30,
   "id": "98e76507",
   "metadata": {},
   "outputs": [
    {
     "ename": "TypeError",
     "evalue": "abc() takes 0 positional arguments but 3 were given",
     "output_type": "error",
     "traceback": [
      "\u001b[1;31m---------------------------------------------------------------------------\u001b[0m",
      "\u001b[1;31mTypeError\u001b[0m                                 Traceback (most recent call last)",
      "Cell \u001b[1;32mIn[30], line 1\u001b[0m\n\u001b[1;32m----> 1\u001b[0m abc(\u001b[38;5;241m1\u001b[39m,\u001b[38;5;241m2\u001b[39m,\u001b[38;5;241m3\u001b[39m)\n",
      "\u001b[1;31mTypeError\u001b[0m: abc() takes 0 positional arguments but 3 were given"
     ]
    }
   ],
   "source": [
    "abc(1,2,3) # if we mention values it shows # abc() takes 0 positional arguments but 3 were given"
   ]
  },
  {
   "cell_type": "code",
   "execution_count": 31,
   "id": "74f472e0",
   "metadata": {},
   "outputs": [],
   "source": [
    "def fooouter(f,*args,**kwargs): # by using *args,**kwargs\n",
    "    '''outer'''\n",
    "    @wraps(f)\n",
    "    def fooinner(*args,**kwargs):\n",
    "        '''inner'''\n",
    "        print('*'*5)\n",
    "        f(*args,**kwargs)\n",
    "        print('*'*5)\n",
    "    return fooinner"
   ]
  },
  {
   "cell_type": "code",
   "execution_count": 32,
   "id": "e0ac180f",
   "metadata": {},
   "outputs": [],
   "source": [
    "@fooouter\n",
    "def abc(a,b,c):\n",
    "    '''abc func call'''\n",
    "    print(a+b+c)"
   ]
  },
  {
   "cell_type": "code",
   "execution_count": 33,
   "id": "8aa3ee14",
   "metadata": {},
   "outputs": [
    {
     "name": "stdout",
     "output_type": "stream",
     "text": [
      "*****\n",
      "6\n",
      "*****\n"
     ]
    }
   ],
   "source": [
    "abc(1,2,3) # if we use *args,**kwargs we can enter the values there will be no error"
   ]
  },
  {
   "cell_type": "markdown",
   "id": "187710b8",
   "metadata": {},
   "source": [
    "### wraps:\n",
    "* functools is a standard Python module for higher-order functions (functions that act on or return other functions). \n",
    "* wraps() is a decorator that is applied to the wrapper function of a decorator. It updates the wrapper function to look like wrapped function by copying attributes such as __name__, __doc__ (the docstring), etc."
   ]
  },
  {
   "cell_type": "code",
   "execution_count": 2,
   "id": "c4a2d0fe",
   "metadata": {},
   "outputs": [],
   "source": [
    "import functools\n",
    "from functools import wraps"
   ]
  },
  {
   "cell_type": "code",
   "execution_count": 3,
   "id": "1e6deb12",
   "metadata": {},
   "outputs": [],
   "source": [
    "# using nested wraps in decorator\n",
    "def kooouter(k):\n",
    "    def kooinner():\n",
    "        print('*'*5)\n",
    "        k()\n",
    "        print('*'*5)\n",
    "    return kooinner\n",
    "def koo(k,*args,**kwargs):\n",
    "    '''outer value'''\n",
    "    wraps(k)\n",
    "    def kooi(*args,**kwargs):\n",
    "        '''inner value'''\n",
    "        print('&&'*5)\n",
    "        k(*args,**kwargs)\n",
    "        print('&&'*5)\n",
    "    return kooi"
   ]
  },
  {
   "cell_type": "code",
   "execution_count": 4,
   "id": "c089000b",
   "metadata": {},
   "outputs": [],
   "source": [
    "@koo\n",
    "@kooouter\n",
    "def jkl():\n",
    "    '''jkl func call'''\n",
    "    print('12345')"
   ]
  },
  {
   "cell_type": "code",
   "execution_count": 5,
   "id": "38e248ae",
   "metadata": {},
   "outputs": [
    {
     "name": "stdout",
     "output_type": "stream",
     "text": [
      "&&&&&&&&&&\n",
      "*****\n",
      "12345\n",
      "*****\n",
      "&&&&&&&&&&\n"
     ]
    }
   ],
   "source": [
    "jkl()"
   ]
  },
  {
   "cell_type": "code",
   "execution_count": 7,
   "id": "e215fe1d",
   "metadata": {},
   "outputs": [
    {
     "data": {
      "text/plain": [
       "'kooouter'"
      ]
     },
     "execution_count": 7,
     "metadata": {},
     "output_type": "execute_result"
    }
   ],
   "source": [
    "kooouter.__name__ # using name "
   ]
  },
  {
   "cell_type": "code",
   "execution_count": 8,
   "id": "1b1853ec",
   "metadata": {},
   "outputs": [
    {
     "data": {
      "text/plain": [
       "'inner value'"
      ]
     },
     "execution_count": 8,
     "metadata": {},
     "output_type": "execute_result"
    }
   ],
   "source": [
    "jkl.__doc__ # using doc"
   ]
  },
  {
   "cell_type": "code",
   "execution_count": 9,
   "id": "bde86bbc",
   "metadata": {},
   "outputs": [],
   "source": []
  },
  {
   "cell_type": "markdown",
   "id": "4ca4f0ae",
   "metadata": {},
   "source": [
    "### class:\n",
    "\n",
    "A class is a blueprint for creating objects. It defines a set of attributes (variables) and methods (functions) that the objects created from the class will have. Think of a class as a template or a prototype."
   ]
  },
  {
   "cell_type": "code",
   "execution_count": 28,
   "id": "3caab364",
   "metadata": {},
   "outputs": [],
   "source": [
    "class InnoStudent:\n",
    "    pass"
   ]
  },
  {
   "cell_type": "markdown",
   "id": "a28489d5",
   "metadata": {},
   "source": [
    "### Objects:\n",
    "\n",
    "An object is an instance of a class. It is a concrete realization of the class, created from the class blueprint. Objects have attributes and behaviors defined by the class."
   ]
  },
  {
   "cell_type": "code",
   "execution_count": 29,
   "id": "d32d0e21",
   "metadata": {},
   "outputs": [],
   "source": [
    "uthampurushotam = InnoStudent()"
   ]
  },
  {
   "cell_type": "markdown",
   "id": "215ceab2",
   "metadata": {},
   "source": [
    "### public attribute:\n",
    "* In Python, every member of the class is public by default. Public members in a class can be accessed from anywhere outside the class. \n",
    "* You can access the public members by creating the object of the class."
   ]
  },
  {
   "cell_type": "code",
   "execution_count": 31,
   "id": "cb4bd765",
   "metadata": {},
   "outputs": [],
   "source": [
    "class FooClass:\n",
    "    def __init__(self,*marks):\n",
    "        self.passmark = 40      # constructor assign values to the objects\n",
    "        self.marks = marks\n",
    "    def result(self):\n",
    "        return 'Fail' if min(self.marks) < self.passmark else 'success'"
   ]
  },
  {
   "cell_type": "code",
   "execution_count": 32,
   "id": "850ec7ac",
   "metadata": {},
   "outputs": [],
   "source": [
    "x = FooClass(*[32,50,45])"
   ]
  },
  {
   "cell_type": "code",
   "execution_count": 33,
   "id": "d446a4b0",
   "metadata": {},
   "outputs": [
    {
     "data": {
      "text/plain": [
       "'Fail'"
      ]
     },
     "execution_count": 33,
     "metadata": {},
     "output_type": "execute_result"
    }
   ],
   "source": [
    "x.result()"
   ]
  },
  {
   "cell_type": "code",
   "execution_count": 34,
   "id": "148afa36",
   "metadata": {},
   "outputs": [
    {
     "name": "stdout",
     "output_type": "stream",
     "text": [
      "['__class__', '__delattr__', '__dict__', '__dir__', '__doc__', '__eq__', '__format__', '__ge__', '__getattribute__', '__getstate__', '__gt__', '__hash__', '__init__', '__init_subclass__', '__le__', '__lt__', '__module__', '__ne__', '__new__', '__reduce__', '__reduce_ex__', '__repr__', '__setattr__', '__sizeof__', '__str__', '__subclasshook__', '__weakref__', 'marks', 'passmark', 'result']\n"
     ]
    }
   ],
   "source": [
    "print(dir(x))"
   ]
  },
  {
   "cell_type": "code",
   "execution_count": 35,
   "id": "d170c88b",
   "metadata": {},
   "outputs": [
    {
     "data": {
      "text/plain": [
       "40"
      ]
     },
     "execution_count": 35,
     "metadata": {},
     "output_type": "execute_result"
    }
   ],
   "source": [
    "x.passmark # actual passmark is 40"
   ]
  },
  {
   "cell_type": "code",
   "execution_count": 36,
   "id": "f83d1f93",
   "metadata": {},
   "outputs": [],
   "source": [
    "x.passmark = 1 # by using dir the stu seen and change the passmarks to 1"
   ]
  },
  {
   "cell_type": "code",
   "execution_count": 37,
   "id": "48a3fa6c",
   "metadata": {},
   "outputs": [
    {
     "data": {
      "text/plain": [
       "1"
      ]
     },
     "execution_count": 37,
     "metadata": {},
     "output_type": "execute_result"
    }
   ],
   "source": [
    "x. passmark # pass mark is changed "
   ]
  },
  {
   "cell_type": "code",
   "execution_count": 38,
   "id": "ae6c8e43",
   "metadata": {},
   "outputs": [
    {
     "data": {
      "text/plain": [
       "'success'"
      ]
     },
     "execution_count": 38,
     "metadata": {},
     "output_type": "execute_result"
    }
   ],
   "source": [
    "x.result() # after changing passmarks result will be changed to success"
   ]
  },
  {
   "cell_type": "markdown",
   "id": "79d7cf01",
   "metadata": {},
   "source": [
    "### private attribute:\n",
    "* Unfortunately, Python does not have a way to effectively restrict access to instance variables or methods.\n",
    "* However, we do have a workaround. To declare a member as private in Python, you have to use double underscore __ as a prefix to the variables.\n",
    "* Private members are restricted within the same class, i.e. we can access the private members only within the same class."
   ]
  },
  {
   "cell_type": "code",
   "execution_count": 39,
   "id": "c5d891a1",
   "metadata": {},
   "outputs": [],
   "source": [
    "class FooClass:\n",
    "    __passmark = 40   # private attribute # double underscore before variable is called private attribute\n",
    "    def __init__(self,*marks):              \n",
    "        self.marks = marks\n",
    "    def result(self):\n",
    "        return 'Fail' if min(self.marks) < self.__passmark else 'success'"
   ]
  },
  {
   "cell_type": "code",
   "execution_count": 40,
   "id": "9878fd16",
   "metadata": {},
   "outputs": [],
   "source": [
    " x = FooClass(*[32,89,77])"
   ]
  },
  {
   "cell_type": "code",
   "execution_count": 41,
   "id": "837bee51",
   "metadata": {},
   "outputs": [
    {
     "data": {
      "text/plain": [
       "'Fail'"
      ]
     },
     "execution_count": 41,
     "metadata": {},
     "output_type": "execute_result"
    }
   ],
   "source": [
    "x.result()"
   ]
  },
  {
   "cell_type": "code",
   "execution_count": 42,
   "id": "f4a26ca1",
   "metadata": {},
   "outputs": [
    {
     "name": "stdout",
     "output_type": "stream",
     "text": [
      "['_FooClass__passmark', '__class__', '__delattr__', '__dict__', '__dir__', '__doc__', '__eq__', '__format__', '__ge__', '__getattribute__', '__getstate__', '__gt__', '__hash__', '__init__', '__init_subclass__', '__le__', '__lt__', '__module__', '__ne__', '__new__', '__reduce__', '__reduce_ex__', '__repr__', '__setattr__', '__sizeof__', '__str__', '__subclasshook__', '__weakref__', 'marks', 'result']\n"
     ]
    }
   ],
   "source": [
    "print(dir(x))"
   ]
  },
  {
   "cell_type": "code",
   "execution_count": 43,
   "id": "2808b38c",
   "metadata": {},
   "outputs": [],
   "source": [
    "x.__passmark = 1"
   ]
  },
  {
   "cell_type": "code",
   "execution_count": 44,
   "id": "8000c1d7",
   "metadata": {},
   "outputs": [
    {
     "data": {
      "text/plain": [
       "'Fail'"
      ]
     },
     "execution_count": 44,
     "metadata": {},
     "output_type": "execute_result"
    }
   ],
   "source": [
    "x.result() # still it is fail because passmark is in private attribute"
   ]
  },
  {
   "cell_type": "code",
   "execution_count": 45,
   "id": "4826f52f",
   "metadata": {},
   "outputs": [
    {
     "data": {
      "text/plain": [
       "40"
      ]
     },
     "execution_count": 45,
     "metadata": {},
     "output_type": "execute_result"
    }
   ],
   "source": [
    "x._FooClass__passmark"
   ]
  },
  {
   "cell_type": "code",
   "execution_count": 46,
   "id": "314a2370",
   "metadata": {},
   "outputs": [],
   "source": [
    "x._FooClass__passmark = 1 # by using name mangling we can change the value of static attribute"
   ]
  },
  {
   "cell_type": "code",
   "execution_count": 47,
   "id": "554b1489",
   "metadata": {},
   "outputs": [
    {
     "data": {
      "text/plain": [
       "1"
      ]
     },
     "execution_count": 47,
     "metadata": {},
     "output_type": "execute_result"
    }
   ],
   "source": [
    "x.__passmark"
   ]
  },
  {
   "cell_type": "code",
   "execution_count": 48,
   "id": "29ea263c",
   "metadata": {},
   "outputs": [
    {
     "data": {
      "text/plain": [
       "'success'"
      ]
     },
     "execution_count": 48,
     "metadata": {},
     "output_type": "execute_result"
    }
   ],
   "source": [
    "x.result() # result is success"
   ]
  },
  {
   "cell_type": "markdown",
   "id": "c45c323f",
   "metadata": {},
   "source": [
    "### static attribute:\n",
    "\n",
    "When we declare a variable inside a class, but outside the method, it is called a static or class variable. It can be called directly from a class but not through the instances of a class."
   ]
  },
  {
   "cell_type": "code",
   "execution_count": 49,
   "id": "492c5195",
   "metadata": {},
   "outputs": [],
   "source": [
    "class FooClass:\n",
    "    passmark = 40    # if we use passmark in above the def func it is static attribute  \n",
    "    def __init__(self,*marks):              \n",
    "        self.marks = marks\n",
    "    def result(self):\n",
    "        return 'Fail' if min(self.marks) < self.passmark else 'success'"
   ]
  },
  {
   "cell_type": "code",
   "execution_count": 50,
   "id": "a3dc5f1c",
   "metadata": {},
   "outputs": [],
   "source": [
    "x = FooClass(*[23,56])"
   ]
  },
  {
   "cell_type": "code",
   "execution_count": 51,
   "id": "d2984553",
   "metadata": {},
   "outputs": [
    {
     "data": {
      "text/plain": [
       "'Fail'"
      ]
     },
     "execution_count": 51,
     "metadata": {},
     "output_type": "execute_result"
    }
   ],
   "source": [
    "x.result()"
   ]
  },
  {
   "cell_type": "code",
   "execution_count": 52,
   "id": "e213c108",
   "metadata": {},
   "outputs": [],
   "source": [
    "x.passmark = 1"
   ]
  },
  {
   "cell_type": "code",
   "execution_count": 53,
   "id": "b6ce7b52",
   "metadata": {},
   "outputs": [
    {
     "data": {
      "text/plain": [
       "'success'"
      ]
     },
     "execution_count": 53,
     "metadata": {},
     "output_type": "execute_result"
    }
   ],
   "source": [
    "x.result()"
   ]
  },
  {
   "cell_type": "code",
   "execution_count": null,
   "id": "4c20f3f3",
   "metadata": {},
   "outputs": [],
   "source": []
  }
 ],
 "metadata": {
  "kernelspec": {
   "display_name": "Python 3 (ipykernel)",
   "language": "python",
   "name": "python3"
  },
  "language_info": {
   "codemirror_mode": {
    "name": "ipython",
    "version": 3
   },
   "file_extension": ".py",
   "mimetype": "text/x-python",
   "name": "python",
   "nbconvert_exporter": "python",
   "pygments_lexer": "ipython3",
   "version": "3.11.5"
  }
 },
 "nbformat": 4,
 "nbformat_minor": 5
}
