{
 "cells": [
  {
   "cell_type": "code",
   "execution_count": 6,
   "id": "e783a14c",
   "metadata": {},
   "outputs": [],
   "source": [
    "import numpy as np"
   ]
  },
  {
   "cell_type": "markdown",
   "id": "6122ef9f",
   "metadata": {},
   "source": [
    "#### 1. Write a function, foo_1, that takes a NumPy array `arr` and returns the indices of the elements that are closest to a given target. If target is not in the given array, it should return ‘no item found’"
   ]
  },
  {
   "cell_type": "code",
   "execution_count": 7,
   "id": "f241fc47",
   "metadata": {},
   "outputs": [],
   "source": [
    "def foo_1(arr, target):\n",
    "    if target in arr:\n",
    "        x=np.abs(arr - target) \n",
    "        index = np.argsort(x) \n",
    "        return index \n",
    "    else:\n",
    "        return 'no item found'"
   ]
  },
  {
   "cell_type": "code",
   "execution_count": 8,
   "id": "97282374",
   "metadata": {},
   "outputs": [
    {
     "name": "stdout",
     "output_type": "stream",
     "text": [
      "[2 3 4 5 6 8 1 7 9 0]\n",
      "no item found\n"
     ]
    }
   ],
   "source": [
    "arr = np.array([3, 8, 7, 7, 7, 7, 7, 8, 7, 10])\n",
    "\n",
    "print(foo_1(arr, 7))\n",
    "\n",
    "print(foo_1(arr, 11))"
   ]
  },
  {
   "cell_type": "markdown",
   "id": "67d10aa5",
   "metadata": {},
   "source": [
    "Import NumPy: import numpy as np imports the NumPy library and gives it the alias np for convenience.\n",
    "\n",
    "Function Definition: The foo_1 function takes two parameters - arr (NumPy array) and target (the target value to find in the array).\n",
    "\n",
    "Check if Target in Array: The if target in arr statement checks whether the target value is present in the array. If it is, the function proceeds; otherwise, it returns the string 'no item found'.\n",
    "\n",
    "Calculate Absolute Differences: x = np.abs(arr - target) calculates the absolute differences between each element in the array arr and the target value.\n",
    "\n",
    "Sort Indices: index = np.argsort(x) returns the indices that would sort the array x in ascending order.\n",
    "\n",
    "Create Result Array: result = np.array(list(zip(arr[index], index))) creates a result array by zipping the original array elements at the sorted indices. The result is a 2D array where the first column contains the original array elements, and the second column contains the corresponding sorted indices.\n",
    "\n",
    "Return Result: The function returns the result array if the target is found in the array; otherwise, it returns the string 'no item found'."
   ]
  },
  {
   "cell_type": "markdown",
   "id": "4e0e3af1",
   "metadata": {},
   "source": [
    "#### 3.1 You are given a 2D NumPy array of data representing student scores. Each row represents a student, and each column represents a subject. Extract the scores of all students who scored above 90 in at least one subject. Provide the resulting array."
   ]
  },
  {
   "cell_type": "code",
   "execution_count": 9,
   "id": "cd09730e",
   "metadata": {},
   "outputs": [],
   "source": [
    "def foo_marks(scores):\n",
    "    x = np.any(scores > 90, axis=1)\n",
    "    result = scores[x]\n",
    "    return result"
   ]
  },
  {
   "cell_type": "code",
   "execution_count": 10,
   "id": "a611da8e",
   "metadata": {},
   "outputs": [],
   "source": [
    "student_score = np.array([[85, 89, 88],\n",
    "                 [78, 89, 94],\n",
    "                 [91, 87, 90],\n",
    "                 [87, 95, 84]])"
   ]
  },
  {
   "cell_type": "code",
   "execution_count": 11,
   "id": "b0e2a03c",
   "metadata": {},
   "outputs": [
    {
     "data": {
      "text/plain": [
       "array([[78, 89, 94],\n",
       "       [91, 87, 90],\n",
       "       [87, 95, 84]])"
      ]
     },
     "execution_count": 11,
     "metadata": {},
     "output_type": "execute_result"
    }
   ],
   "source": [
    "foo_marks(student_score)"
   ]
  },
  {
   "cell_type": "markdown",
   "id": "df07db1f",
   "metadata": {},
   "source": [
    "np.any(scores > 90, axis=1):\n",
    "\n",
    "This line creates a boolean array x by using NumPy's any function along axis=1. It checks for each row (student) whether there is any score greater than 90 in any subject. The resulting boolean array has True where the condition is met (at least one subject score is greater than 90) and False otherwise.\n",
    "\n",
    "result = scores[x]:\n",
    "\n",
    "This line creates a subset of the original array scores by using the boolean array x as a mask. It selects only those rows (students) where the corresponding element in x is True. In other words, it includes only the rows where at least one subject score is above 90.\n",
    "Return Result:\n",
    "\n",
    "The function returns the resulting array, which includes only those rows (students) where at least one subject score is above 90."
   ]
  },
  {
   "cell_type": "markdown",
   "id": "b1fa62d0",
   "metadata": {},
   "source": [
    "#### 3.2 You are provided with a 2D NumPy array of data representing sales data for different products. Each row corresponds to a product, and each column represents the monthly sales for a specific month. Calculate the following statistics for each product: mean, median, standard deviation, and the month with the highest sales.\n"
   ]
  },
  {
   "cell_type": "code",
   "execution_count": 12,
   "id": "c259642c",
   "metadata": {},
   "outputs": [],
   "source": [
    "def foo(sales_data):\n",
    "    sd = {}\n",
    "    for x, y in enumerate(sales_data):\n",
    "        mean_sales = np.mean(y)\n",
    "        median_sales = np.median(y)\n",
    "        std_dev_sales = np.std(y)\n",
    "        highest_sales_month = np.argmax(y) + 1\n",
    "        sd[x + 1] = {\n",
    "            'mean': mean_sales,\n",
    "            'median': median_sales,\n",
    "            'std_dev': std_dev_sales,\n",
    "            'highest_sales_month': highest_sales_month\n",
    "        }\n",
    "    return sd"
   ]
  },
  {
   "cell_type": "markdown",
   "id": "64751711",
   "metadata": {},
   "source": [
    "Initialize an Empty Dictionary sd:\n",
    "\n",
    "sd = {} initializes an empty dictionary sd to store the calculated statistics for each product.\n",
    "\n",
    "Iterate Over Each Row (Product) in sales_data:\n",
    "\n",
    "for x, y in enumerate(sales_data): uses the enumerate function to iterate over each row (y) in sales_data. The variable x represents the index of the current row (product).\n",
    "\n",
    "Calculate Statistics for Each Product:\n",
    "\n",
    "Inside the loop, the following statistics are calculated for each product (row):\n",
    "mean_sales: The mean of sales for the current product (np.mean(y)).\n",
    "median_sales: The median of sales for the current product (np.median(y)).\n",
    "std_dev_sales: The standard deviation of sales for the current product (np.std(y)).\n",
    "highest_sales_month: The month with the highest sales for the current product (np.argmax(y) + 1 to convert to 1-based indexing).\n",
    "\n",
    "Store Results in the Dictionary sd:\n",
    "\n",
    "The calculated statistics for each product are stored in the dictionary sd. The key is the product index (x + 1 to convert to 1-based indexing), and the value is another dictionary containing the calculated statistics.\n",
    "Return the Resulting Dictionary sd:\n",
    "\n",
    "The function returns the final dictionary sd containing statistics for each product."
   ]
  },
  {
   "cell_type": "code",
   "execution_count": 13,
   "id": "b0210077",
   "metadata": {},
   "outputs": [],
   "source": [
    "sales_data=np.array([[120, 150, 130, 110],\n",
    "                    [200, 180, 220, 250],\n",
    "                    [90, 100, 95, 110],\n",
    "                    [300,280,320, 340]])"
   ]
  },
  {
   "cell_type": "code",
   "execution_count": 14,
   "id": "39d5d0b4",
   "metadata": {},
   "outputs": [
    {
     "data": {
      "text/plain": [
       "{1: {'mean': 127.5,\n",
       "  'median': 125.0,\n",
       "  'std_dev': 14.79019945774904,\n",
       "  'highest_sales_month': 2},\n",
       " 2: {'mean': 212.5,\n",
       "  'median': 210.0,\n",
       "  'std_dev': 25.8602010819715,\n",
       "  'highest_sales_month': 4},\n",
       " 3: {'mean': 98.75,\n",
       "  'median': 97.5,\n",
       "  'std_dev': 7.39509972887452,\n",
       "  'highest_sales_month': 4},\n",
       " 4: {'mean': 310.0,\n",
       "  'median': 310.0,\n",
       "  'std_dev': 22.360679774997898,\n",
       "  'highest_sales_month': 4}}"
      ]
     },
     "execution_count": 14,
     "metadata": {},
     "output_type": "execute_result"
    }
   ],
   "source": [
    "foo(sales_data)"
   ]
  },
  {
   "cell_type": "markdown",
   "id": "1d7dddfa",
   "metadata": {},
   "source": [
    "#### 3.3 Create a NumPy array of size 1000 with random integers between 1 and 100. Then, use NumPy functions to find the top 10 most frequently occurring values in the array."
   ]
  },
  {
   "cell_type": "code",
   "execution_count": 15,
   "id": "43505707",
   "metadata": {},
   "outputs": [],
   "source": [
    "def freq(x):\n",
    "    unique_values, counts = np.unique(x, return_counts=True)\n",
    "    sorted = np.argsort(-counts)\n",
    "    top_10_values = unique_values[sorted[:10]]\n",
    "    top_10_counts = counts[sorted[:10]] \n",
    "    print(\"Top 10 most frequently occurring values:\")\n",
    "    for value, count in zip(top_10_values, top_10_counts):\n",
    "        print(f\"Value: {value}, Occurrences: {count}\")"
   ]
  },
  {
   "cell_type": "markdown",
   "id": "c0f68025",
   "metadata": {},
   "source": [
    "unique_values, counts = np.unique(x, return_counts=True):\n",
    "\n",
    "This line uses NumPy's unique function to find the unique values in the array x along with their counts.\n",
    "\n",
    "sorted_indices = np.argsort(-counts):\n",
    "\n",
    "The indices are sorted in descending order based on the counts using argsort. The negative sign (-) is used to sort in descending order."
   ]
  },
  {
   "cell_type": "code",
   "execution_count": 16,
   "id": "fa6e796d",
   "metadata": {},
   "outputs": [
    {
     "data": {
      "text/plain": [
       "array([57, 10,  8, 69, 81, 84, 29, 44, 55,  7, 76, 88, 10, 88,  7, 87, 93,\n",
       "       86, 25, 93, 31, 31, 68, 32, 83, 74, 91, 32, 62, 60, 17, 85, 89, 36,\n",
       "       48, 45, 80, 25, 99, 31,  7, 98, 27, 40, 20,  5, 37, 96, 71, 93, 75,\n",
       "       19, 28, 76, 48, 33, 57, 33, 63, 34,  7, 21, 24, 23, 84, 46, 57, 22,\n",
       "       93, 50, 81, 98, 31, 76, 70, 27, 98, 23, 40,  1, 40, 32, 88, 63, 67,\n",
       "        3, 23, 69, 98, 31,  5, 50, 55, 34, 71, 32, 15, 86, 24, 52, 59, 17,\n",
       "       37, 31, 42, 81, 69, 11, 88, 33, 55, 85, 72, 89, 51, 93, 90, 95,  5,\n",
       "       19, 35, 51, 57, 39, 76, 53,  1, 73, 85, 17, 13, 22, 20, 97, 73, 87,\n",
       "       67, 12, 76, 60, 57, 56, 45, 82,  5, 75, 71, 94, 51, 59,  4, 50, 55,\n",
       "       39, 87, 46, 24, 62, 26, 18, 56, 29, 86, 40,  3, 75, 46, 23, 59, 11,\n",
       "       71, 80,  3, 87, 39, 14, 97, 74, 48, 87,  3,  6, 63, 90, 85, 49, 40,\n",
       "       61, 31, 90, 81,  4, 98, 30, 49, 42, 21, 84, 14, 83, 18, 95,  4, 78,\n",
       "        4,  2, 14, 10, 35, 33,  8, 98, 81, 53, 44, 75, 29, 74, 99, 11, 63,\n",
       "       28, 36, 29, 64, 59, 63, 24, 53, 43, 88, 57, 76, 15, 77, 81, 97, 36,\n",
       "       46, 28, 96, 69,  4, 44, 17, 87, 78, 19, 38, 16, 16, 12, 17, 92, 29,\n",
       "       99, 34, 94, 74, 40, 79, 15, 57, 79,  4, 63, 34, 92, 66, 77, 33, 72,\n",
       "       16,  1, 36, 36, 13, 57, 39, 64, 64,  4, 54, 75, 89, 83, 95, 26, 94,\n",
       "        8, 45,  3, 60, 47, 74, 22, 70, 77, 26, 57, 57, 43, 72, 70, 97, 78,\n",
       "       77, 96, 68, 36, 70,  5, 40, 59, 64, 53, 15, 53, 87, 96, 60, 25, 71,\n",
       "       28, 10, 66, 95, 39, 90, 90, 12, 45, 65, 54,  9, 74,  3,  9, 77, 25,\n",
       "       60, 80, 99, 39, 40, 75, 57, 41, 48, 17, 64, 21, 63, 41, 14, 50, 75,\n",
       "       11, 11, 53,  5,  5, 64, 84, 58, 93,  4, 68, 80,  8, 96,  7, 80, 87,\n",
       "       53,  8, 88, 62, 30, 10, 33, 36, 23, 72, 12, 64, 84, 49, 37, 42, 83,\n",
       "       70, 61, 63, 39, 77, 18, 40, 68, 71, 37, 54, 53,  5,  1, 38, 81, 37,\n",
       "        7, 15, 34, 45, 92,  1, 42, 69, 88, 85, 70, 59, 12, 20, 39, 83, 87,\n",
       "       95, 13,  5, 19, 74, 75, 98, 33, 85, 74, 21, 70, 99, 48, 55,  1, 97,\n",
       "        2,  3, 38, 85, 63, 23, 59, 75, 62, 96, 54, 68, 61,  7, 57,  5, 10,\n",
       "       40, 94, 46, 86, 63, 71, 39, 36, 17, 72, 34, 86, 15, 98, 46, 79, 40,\n",
       "       33, 99, 25, 53, 25, 28, 59, 66, 54, 70, 48, 27, 82, 21, 57,  8, 85,\n",
       "       41, 51, 69, 69, 61,  2, 16, 33, 10, 83, 26,  1, 31, 79, 68, 66, 46,\n",
       "       30, 74, 86, 27, 11, 82, 84, 78, 93, 97, 43, 95, 40,  3, 85, 86,  5,\n",
       "       47, 52,  2, 38, 49, 57, 22, 10, 46, 71,  3, 49, 98, 97, 11, 28, 26,\n",
       "       46,  5, 40, 26, 60, 30, 40, 49, 39, 87, 20, 39, 13, 35, 11, 63, 45,\n",
       "        2, 78,  1, 46, 69, 45, 58, 89,  1,  2, 98, 60, 60,  4,  8, 14, 91,\n",
       "       57, 98, 13, 82, 21, 91, 42, 34,  1, 55, 56, 15, 39, 58, 88, 93, 41,\n",
       "       50, 13, 52, 91, 23, 32, 60, 29,  3, 23, 20, 18, 76, 95, 45,  3, 63,\n",
       "        7, 70, 71, 36, 28, 78, 21, 31, 51, 38, 60, 69, 52,  9, 47, 23, 76,\n",
       "       36, 99, 17, 47, 31, 17,  3, 43,  1, 28, 93, 21, 45, 89, 69, 72,  7,\n",
       "       88, 27, 82, 32, 60, 52, 99, 95, 94, 77, 73, 70, 64, 18, 49, 29, 90,\n",
       "       20, 25, 25, 34, 94, 48, 87, 60, 87, 78, 56,  5, 88, 41, 69, 67, 33,\n",
       "       23, 71, 34, 42, 80, 16,  3, 69, 12, 40, 30, 64,  2, 26, 36, 35, 74,\n",
       "        5, 57, 48, 82, 99, 71, 41, 48, 30, 59, 29, 25, 40, 24, 79, 67,  7,\n",
       "       54, 24, 92, 69, 79, 25, 18, 41, 42,  3, 83, 81, 67, 82, 85, 32, 47,\n",
       "       36, 25, 97, 90, 15, 29, 67, 18, 29, 59, 35, 19, 94, 76, 36, 42, 85,\n",
       "       52, 62, 65, 84, 57, 35, 74, 23, 69,  9, 42, 60, 26,  1, 70,  5, 92,\n",
       "       36, 51,  6, 24, 96, 49, 25, 49, 45, 78, 89, 11, 42, 21, 69,  8, 71,\n",
       "       88, 38, 42, 10, 61, 92, 45, 94, 97, 46, 90, 79, 43, 17, 88, 10, 51,\n",
       "       52, 83, 29, 15,  7, 60, 59, 13, 26, 37, 96, 43, 21, 71,  5, 24, 51,\n",
       "       52, 10, 89, 95, 75, 92, 18, 58, 41, 81,  9, 14, 82, 88, 14, 47, 72,\n",
       "       47, 26,  7, 10, 88, 79, 14, 24, 82, 46, 50, 33,  6, 11, 56, 58, 59,\n",
       "       15, 48, 34, 88, 67, 52,  7, 85, 41, 28, 22, 94, 94,  4, 24, 83, 39,\n",
       "       97, 24, 80, 75,  5, 87, 69, 20, 22, 76, 52,  5, 22, 87, 51, 65, 84,\n",
       "       91, 44, 44, 98, 71, 72, 14,  4, 57,  6, 42, 74, 83, 54, 16, 77, 93,\n",
       "       13, 29,  9, 37, 74, 24, 28,  1, 25,  4, 29, 38, 82, 37, 68, 72,  6,\n",
       "       70, 77, 31, 53,  8, 70, 96,  5, 12, 37, 19, 12, 72, 67,  4, 46, 51,\n",
       "        7, 34, 68, 36, 23, 36, 96, 62, 93, 60, 61, 48, 56, 71,  6, 73, 21,\n",
       "       67, 44, 52, 22, 74, 49,  5, 39, 62, 91, 32, 37, 25, 37, 61, 25, 34,\n",
       "       28,  7, 85, 26, 80, 75, 17, 59, 92,  4, 44, 60, 68, 63, 23, 64, 76,\n",
       "       10, 13, 42, 97, 90, 89, 56,  7, 33, 86, 81, 62, 82, 30])"
      ]
     },
     "execution_count": 16,
     "metadata": {},
     "output_type": "execute_result"
    }
   ],
   "source": [
    "x=np.random.randint(1,100,1000)\n",
    "x"
   ]
  },
  {
   "cell_type": "code",
   "execution_count": 17,
   "id": "2e8bed8b",
   "metadata": {},
   "outputs": [
    {
     "name": "stdout",
     "output_type": "stream",
     "text": [
      "Top 10 most frequently occurring values:\n",
      "Value: 5, Occurrences: 20\n",
      "Value: 57, Occurrences: 18\n",
      "Value: 69, Occurrences: 16\n",
      "Value: 40, Occurrences: 16\n",
      "Value: 60, Occurrences: 16\n",
      "Value: 7, Occurrences: 16\n",
      "Value: 36, Occurrences: 16\n",
      "Value: 25, Occurrences: 15\n",
      "Value: 71, Occurrences: 15\n",
      "Value: 88, Occurrences: 15\n"
     ]
    }
   ],
   "source": [
    "freq(x)"
   ]
  },
  {
   "cell_type": "code",
   "execution_count": null,
   "id": "175a5acb",
   "metadata": {},
   "outputs": [],
   "source": []
  }
 ],
 "metadata": {
  "kernelspec": {
   "display_name": "Python 3 (ipykernel)",
   "language": "python",
   "name": "python3"
  },
  "language_info": {
   "codemirror_mode": {
    "name": "ipython",
    "version": 3
   },
   "file_extension": ".py",
   "mimetype": "text/x-python",
   "name": "python",
   "nbconvert_exporter": "python",
   "pygments_lexer": "ipython3",
   "version": "3.11.5"
  }
 },
 "nbformat": 4,
 "nbformat_minor": 5
}
