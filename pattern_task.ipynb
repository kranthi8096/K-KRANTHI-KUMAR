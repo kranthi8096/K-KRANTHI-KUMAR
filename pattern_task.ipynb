{
 "cells": [
  {
   "cell_type": "code",
   "execution_count": 12,
   "id": "2db9a1b2",
   "metadata": {},
   "outputs": [],
   "source": [
    "# right angle triangle\n",
    "def footriangle(r):\n",
    "    for i in range (1, r+1):\n",
    "        for j in range(i):\n",
    "            print(j, end = ' ')\n",
    "        print()"
   ]
  },
  {
   "cell_type": "code",
   "execution_count": 13,
   "id": "7b31bd7e",
   "metadata": {},
   "outputs": [
    {
     "name": "stdout",
     "output_type": "stream",
     "text": [
      "0 \n",
      "0 1 \n",
      "0 1 2 \n",
      "0 1 2 3 \n",
      "0 1 2 3 4 \n"
     ]
    }
   ],
   "source": [
    "footriangle(5)"
   ]
  },
  {
   "cell_type": "code",
   "execution_count": 14,
   "id": "53c8b3c3",
   "metadata": {},
   "outputs": [],
   "source": [
    "# right angle triangle\n",
    "def footriangles(r):\n",
    "    for i in range (r):\n",
    "        for j in range(i, r):\n",
    "            print(j, end = ' ')\n",
    "        print()"
   ]
  },
  {
   "cell_type": "code",
   "execution_count": 15,
   "id": "ec301984",
   "metadata": {},
   "outputs": [
    {
     "name": "stdout",
     "output_type": "stream",
     "text": [
      "0 1 2 3 4 \n",
      "1 2 3 4 \n",
      "2 3 4 \n",
      "3 4 \n",
      "4 \n"
     ]
    }
   ],
   "source": [
    "footriangles(5)"
   ]
  },
  {
   "cell_type": "code",
   "execution_count": 77,
   "id": "64803078",
   "metadata": {},
   "outputs": [
    {
     "name": "stdout",
     "output_type": "stream",
     "text": [
      "A B C D E F \n",
      "  A B C D E \n",
      "    A B C D \n",
      "      A B C \n",
      "        A B \n",
      "          A \n"
     ]
    }
   ],
   "source": [
    "# right angle triangle\n",
    "r = 5\n",
    "for i in range(r,-1,-1):\n",
    "    for j in range(i,r):\n",
    "         print(' ',end=' ')\n",
    "    for j in range(i+1):\n",
    "        print(chr(65+j),end=' ')\n",
    "    print()"
   ]
  },
  {
   "cell_type": "code",
   "execution_count": 75,
   "id": "41c2756f",
   "metadata": {},
   "outputs": [
    {
     "name": "stdout",
     "output_type": "stream",
     "text": [
      "        * \n",
      "      * * \n",
      "    * * * \n",
      "  * * * * \n",
      "* * * * * \n"
     ]
    }
   ],
   "source": [
    "# right angle triangle\n",
    "n = 5\n",
    "for i in range(n):\n",
    "    for j in range(n - i - 1):\n",
    "        print(' ', end=' ')\n",
    "    for j in range(i + 1):\n",
    "        print('*', end=' ')\n",
    "    print()"
   ]
  },
  {
   "cell_type": "code",
   "execution_count": 203,
   "id": "4efd17a6",
   "metadata": {},
   "outputs": [
    {
     "name": "stdout",
     "output_type": "stream",
     "text": [
      "     * \n",
      "    * * \n",
      "   * * * \n",
      "  * * * * \n",
      " * * * * * \n",
      "* * * * * * \n"
     ]
    }
   ],
   "source": [
    "# triangle\n",
    "n = 6\n",
    "for i in range(n):\n",
    "    for j in range(n - i - 1):\n",
    "        print('', end=' ')\n",
    "    for j in range(i + 1):\n",
    "        print('*', end=' ')\n",
    "    print()\n"
   ]
  },
  {
   "cell_type": "code",
   "execution_count": 220,
   "id": "5451391d",
   "metadata": {},
   "outputs": [
    {
     "name": "stdout",
     "output_type": "stream",
     "text": [
      "     A \n",
      "    A B \n",
      "   A B C \n",
      "  A B C D \n",
      " A B C D E \n",
      "A B C D E F \n"
     ]
    }
   ],
   "source": [
    "# triangle\n",
    "n = 6\n",
    "for i in range(n):\n",
    "    for j in range(n - i - 1):\n",
    "        print('', end=' ')\n",
    "    for j in range(i + 1):\n",
    "        print(chr(65+j),end=' ')\n",
    "    print()\n"
   ]
  },
  {
   "cell_type": "code",
   "execution_count": 31,
   "id": "27154b28",
   "metadata": {},
   "outputs": [],
   "source": [
    "# pyramid\n",
    "def foopyramid(r):\n",
    "    for i in range (r):\n",
    "        for j in range(i,r):\n",
    "            print(' ', end = ' ')\n",
    "        for j in range(i):\n",
    "            print('&', end = ' ')\n",
    "        for j in range(i+1):\n",
    "            print('&', end = ' ')\n",
    "        print()"
   ]
  },
  {
   "cell_type": "code",
   "execution_count": 19,
   "id": "fb041b60",
   "metadata": {},
   "outputs": [
    {
     "name": "stdout",
     "output_type": "stream",
     "text": [
      "          & \n",
      "        & & & \n",
      "      & & & & & \n",
      "    & & & & & & & \n",
      "  & & & & & & & & & \n"
     ]
    }
   ],
   "source": [
    "foopyramid(5)"
   ]
  },
  {
   "cell_type": "code",
   "execution_count": 111,
   "id": "1afa1531",
   "metadata": {},
   "outputs": [
    {
     "name": "stdout",
     "output_type": "stream",
     "text": [
      "  a b c d e f g h i \n",
      "    b c d f g h i \n",
      "      c d g h i \n",
      "        d h i \n",
      "          i \n"
     ]
    }
   ],
   "source": [
    "# reverse pyramid\n",
    "n = 5\n",
    "for i in range(n):\n",
    "        for j in range(i+1):\n",
    "            print(' ',end=' ')\n",
    "        for j in range(i, n-1):\n",
    "            print(chr(97+j),end=' ')\n",
    "        for j in range(i,n):\n",
    "            print(chr(101+j),end=' ')\n",
    "        print()"
   ]
  },
  {
   "cell_type": "code",
   "execution_count": 205,
   "id": "f2823251",
   "metadata": {},
   "outputs": [
    {
     "name": "stdout",
     "output_type": "stream",
     "text": [
      "\n",
      " & \n",
      " &  & \n",
      " &  &  & \n",
      " &  &  &  & \n",
      " &  &  &  &  & \n",
      " &  &  &  & \n",
      " &  &  & \n",
      " &  & \n",
      " & \n"
     ]
    }
   ],
   "source": [
    "# rightside pyramid\n",
    "r = 5\n",
    "for i in range (r):\n",
    "    for j in range(i):\n",
    "        print(' &', end = ' ')\n",
    "    print()\n",
    "for i in range (r):\n",
    "    for j in range(i, r):\n",
    "        print(' &', end = ' ')\n",
    "    print()"
   ]
  },
  {
   "cell_type": "code",
   "execution_count": 206,
   "id": "d5f79557",
   "metadata": {},
   "outputs": [
    {
     "name": "stdout",
     "output_type": "stream",
     "text": [
      "          A \n",
      "        A B \n",
      "      A B C \n",
      "    A B C D \n",
      "  A B C D E \n",
      "A B C D E F \n",
      "  A B C D E \n",
      "    A B C D \n",
      "      A B C \n",
      "        A B \n",
      "          A \n"
     ]
    }
   ],
   "source": [
    "# leftside pyramid\n",
    "r = 5\n",
    "for i in range(r):\n",
    "    for j in range(r - i):\n",
    "        print(' ', end=' ')\n",
    "    for j in range(i + 1):\n",
    "        print(chr(65+j),end=' ')\n",
    "    print()\n",
    "for i in range(r,-1,-1):\n",
    "    for j in range(i,r):\n",
    "         print(' ',end=' ')\n",
    "    for j in range(i+1):\n",
    "        print(chr(65+j),end=' ')\n",
    "    print()"
   ]
  },
  {
   "cell_type": "code",
   "execution_count": 207,
   "id": "eb4404c3",
   "metadata": {},
   "outputs": [
    {
     "name": "stdout",
     "output_type": "stream",
     "text": [
      "  0 1 2 3 0 1 2 3 4 \n",
      "    0 1 2 0 1 2 3 \n",
      "      0 1 0 1 2 \n",
      "        0 0 1 \n",
      "          0 \n",
      "          0 \n",
      "        0 0 1 \n",
      "      0 1 0 1 2 \n",
      "    0 1 2 0 1 2 3 \n",
      "  0 1 2 3 0 1 2 3 4 \n"
     ]
    }
   ],
   "source": [
    "# hover glass\n",
    "n = 5\n",
    "for i in range(n-1,-1,-1):\n",
    "    for j in range(i,n):\n",
    "        print(' ',end=' ')\n",
    "    for j in range(i):\n",
    "        print(j,end=' ')\n",
    "    for j in range(i+1):\n",
    "        print(j,end=' ')\n",
    "    print()\n",
    "for i in range(n):\n",
    "    for j in range(i,n):\n",
    "        print(' ',end=' ')\n",
    "    for j in range(i):\n",
    "        print(j,end=' ')\n",
    "    for j in range(i+1):\n",
    "        print(j,end=' ')\n",
    "    print()"
   ]
  },
  {
   "cell_type": "code",
   "execution_count": 208,
   "id": "548cc08d",
   "metadata": {},
   "outputs": [
    {
     "name": "stdout",
     "output_type": "stream",
     "text": [
      "  @ @ @ @ @ @ @ @ @ \n",
      "    @ @ @ @ @ @ @ \n",
      "      @ @ @ @ @ \n",
      "        @ @ @ \n",
      "          @ \n",
      "          & \n",
      "        & & & \n",
      "      & & & & & \n",
      "    & & & & & & & \n",
      "  & & & & & & & & & \n"
     ]
    }
   ],
   "source": [
    "# hover glass\n",
    "n = 5\n",
    "for i in range(n):\n",
    "    for j in range(i+1):\n",
    "        print(' ',end=' ')\n",
    "    for j in range(i, n-1):\n",
    "        print('@',end=' ')\n",
    "    for j in range(i,n):\n",
    "        print('@',end=' ')\n",
    "    print()\n",
    "for i in range (n):\n",
    "    for j in range(i,n):\n",
    "        print(' ', end = ' ')\n",
    "    for j in range(i):\n",
    "        print('&', end = ' ')\n",
    "    for j in range(i+1):\n",
    "        print('&', end = ' ')\n",
    "    print()"
   ]
  },
  {
   "cell_type": "code",
   "execution_count": 209,
   "id": "c2c1201f",
   "metadata": {},
   "outputs": [
    {
     "name": "stdout",
     "output_type": "stream",
     "text": [
      "          # \n",
      "        # # # \n",
      "      # # # # # \n",
      "    # # # # # # # \n",
      "  # # # # # # # # # \n",
      "  # # # # # # # # # \n",
      "    # # # # # # # \n",
      "      # # # # # \n",
      "        # # # \n",
      "          # \n"
     ]
    }
   ],
   "source": [
    "# rhombus\n",
    "def foorhombus(n):\n",
    "    for i in range(n):\n",
    "        for j in range(i,n):\n",
    "            print(' ',end=' ')\n",
    "        for j in range(i):\n",
    "            print('#',end=' ')\n",
    "        for j in range(i+1):\n",
    "            print('#',end=' ')\n",
    "        print()\n",
    "    for i in range(n):\n",
    "        for j in range(i+1):\n",
    "            print(' ',end=' ')\n",
    "        for j in range(i, n-1):\n",
    "            print('#',end=' ')\n",
    "        for j in range(i,n):\n",
    "            print('#',end=' ')\n",
    "        print()\n",
    "foorhombus(5)"
   ]
  },
  {
   "cell_type": "code",
   "execution_count": 219,
   "id": "38e2a2b2",
   "metadata": {},
   "outputs": [
    {
     "name": "stdout",
     "output_type": "stream",
     "text": [
      "          E \n",
      "        A E F \n",
      "      A B E F G \n",
      "    A B C E F G H \n",
      "  A B C D E F G H I \n",
      "  J K L M N O P Q R \n",
      "    K L M O P Q R \n",
      "      L M P Q R \n",
      "        M Q R \n",
      "          R \n"
     ]
    }
   ],
   "source": [
    "# rhombus\n",
    "def foorhombus(n):\n",
    "    for i in range(n):\n",
    "        for j in range(i,n):\n",
    "            print(' ',end=' ')\n",
    "        for j in range(i):\n",
    "            print(chr(65+j),end=' ')\n",
    "        for j in range(i+1):\n",
    "            print(chr(69+j),end=' ')\n",
    "        print()\n",
    "    for i in range(n):\n",
    "        for j in range(i+1):\n",
    "            print(' ',end=' ')\n",
    "        for j in range(i, n-1):\n",
    "            print(chr(74+j),end=' ')\n",
    "        for j in range(i,n):\n",
    "            print(chr(78+j),end=' ')\n",
    "        print()\n",
    "foorhombus(5)"
   ]
  },
  {
   "cell_type": "code",
   "execution_count": 115,
   "id": "97b1856e",
   "metadata": {},
   "outputs": [
    {
     "name": "stdout",
     "output_type": "stream",
     "text": [
      "A B C D E \n",
      "A B C D E \n",
      "A B C D E \n",
      "A B C D E \n",
      "A B C D E \n"
     ]
    }
   ],
   "source": [
    "# square\n",
    "n = 5\n",
    "if n % 2 == 0:\n",
    "    n += 1 \n",
    "for i in range(n):\n",
    "    for j in range(n):\n",
    "        print(chr(65+j),end=' ')\n",
    "    print()"
   ]
  },
  {
   "cell_type": "code",
   "execution_count": 116,
   "id": "1c29902a",
   "metadata": {},
   "outputs": [
    {
     "name": "stdout",
     "output_type": "stream",
     "text": [
      "0 1 2 3 4 \n",
      "0 1 2 3 4 \n",
      "0 1 2 3 4 \n",
      "0 1 2 3 4 \n",
      "0 1 2 3 4 \n"
     ]
    }
   ],
   "source": [
    "# square\n",
    "n = 5\n",
    "if n % 2 == 0:\n",
    "    n += 1 \n",
    "for i in range(n):\n",
    "    for j in range(n):\n",
    "        print(j, end=' ')\n",
    "    print()"
   ]
  },
  {
   "cell_type": "code",
   "execution_count": 22,
   "id": "3f289389",
   "metadata": {},
   "outputs": [
    {
     "name": "stdout",
     "output_type": "stream",
     "text": [
      "          # # # # # # # # # # # \n",
      "        # # # # # # # # # # # \n",
      "      # # # # # # # # # # # \n",
      "    # # # # # # # # # # # \n",
      "  # # # # # # # # # # # \n"
     ]
    }
   ],
   "source": [
    "# parallelogram\n",
    "n = 5\n",
    "for i in range(n):\n",
    "    for j in range(i,n):\n",
    "        print(' ',end=' ')\n",
    "    for j in range(n):\n",
    "        print('#',end=' ')\n",
    "    for j in range(n+1):\n",
    "        print('#',end=' ')\n",
    "    print()"
   ]
  },
  {
   "cell_type": "code",
   "execution_count": 112,
   "id": "1cf68f00",
   "metadata": {},
   "outputs": [
    {
     "name": "stdout",
     "output_type": "stream",
     "text": [
      "          A B C D E F G H I J K \n",
      "        A B C D E F G H I J K \n",
      "      A B C D E F G H I J K \n",
      "    A B C D E F G H I J K \n",
      "  A B C D E F G H I J K \n"
     ]
    }
   ],
   "source": [
    "# parallelogram\n",
    "n = 5\n",
    "for i in range(n):\n",
    "    for j in range(i,n):\n",
    "        print(' ',end=' ')\n",
    "    for j in range(n):\n",
    "        print(chr(65+j),end=' ')\n",
    "    for j in range(n+1):\n",
    "        print(chr(70+j),end=' ')\n",
    "    print()"
   ]
  },
  {
   "cell_type": "code",
   "execution_count": null,
   "id": "f677cdf6",
   "metadata": {},
   "outputs": [],
   "source": []
  },
  {
   "cell_type": "code",
   "execution_count": null,
   "id": "55082037",
   "metadata": {},
   "outputs": [],
   "source": []
  },
  {
   "cell_type": "code",
   "execution_count": null,
   "id": "dd4921b2",
   "metadata": {},
   "outputs": [],
   "source": []
  }
 ],
 "metadata": {
  "kernelspec": {
   "display_name": "Python 3 (ipykernel)",
   "language": "python",
   "name": "python3"
  },
  "language_info": {
   "codemirror_mode": {
    "name": "ipython",
    "version": 3
   },
   "file_extension": ".py",
   "mimetype": "text/x-python",
   "name": "python",
   "nbconvert_exporter": "python",
   "pygments_lexer": "ipython3",
   "version": "3.11.5"
  }
 },
 "nbformat": 4,
 "nbformat_minor": 5
}
