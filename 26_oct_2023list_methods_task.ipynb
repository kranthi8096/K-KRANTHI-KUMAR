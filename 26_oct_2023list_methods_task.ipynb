{
 "cells": [
  {
   "cell_type": "markdown",
   "id": "6f20d5e5",
   "metadata": {},
   "source": [
    "## LISTS\n",
    "\n",
    "#### Lists are used to store multiple items in a single variable.\n",
    "\n",
    "#### Lists are one of 4 built-in data types in Python used to store collections of data, the other 3 are Tuple, Set, and Dictionary, all with different qualities and usage.\n",
    "\n",
    "#### Lists are created using square brackets[ ]."
   ]
  },
  {
   "cell_type": "code",
   "execution_count": 44,
   "id": "d51f1bc2",
   "metadata": {},
   "outputs": [],
   "source": [
    "l = [\"apple\", \"banana\", \"cherry\"]"
   ]
  },
  {
   "cell_type": "code",
   "execution_count": 45,
   "id": "a43ad34b",
   "metadata": {},
   "outputs": [
    {
     "name": "stdout",
     "output_type": "stream",
     "text": [
      "['apple', 'banana', 'cherry']\n"
     ]
    }
   ],
   "source": [
    "print(l)"
   ]
  },
  {
   "cell_type": "markdown",
   "id": "e9ba0e51",
   "metadata": {},
   "source": [
    "### List Items\n",
    "\n",
    "#### List items are ordered, changeable, and allow duplicate values.\n",
    "\n",
    "#### List items are indexed, the first item has index [0], the second item has index [1] etc.\n",
    "\n",
    "### Ordered\n",
    "\n",
    "#### When we say that lists are ordered, it means that the items have a defined order, and that order will not change.\n",
    "\n",
    "#### If you add new items to a list, the new items will be placed at the end of the list.\n",
    "\n",
    "### Changeable\n",
    "\n",
    "#### The list is changeable, meaning that we can change, add, and remove items in a list after it has been created."
   ]
  },
  {
   "cell_type": "markdown",
   "id": "825d8da4",
   "metadata": {},
   "source": [
    "### Allow Duplicates\n",
    "\n",
    "#### Since lists are indexed, lists can have items with the same value"
   ]
  },
  {
   "cell_type": "code",
   "execution_count": 46,
   "id": "d160021e",
   "metadata": {},
   "outputs": [
    {
     "data": {
      "text/plain": [
       "['apple', 'banana', 'cherry', 'apple', 'cherry']"
      ]
     },
     "execution_count": 46,
     "metadata": {},
     "output_type": "execute_result"
    }
   ],
   "source": [
    "L = [\"apple\", \"banana\", \"cherry\", \"apple\", \"cherry\"]\n",
    "L"
   ]
  },
  {
   "cell_type": "markdown",
   "id": "26bb9128",
   "metadata": {},
   "source": [
    "### List Length\n",
    "\n",
    "#### To determine how many items a list has, use the len() function"
   ]
  },
  {
   "cell_type": "code",
   "execution_count": 47,
   "id": "94e32314",
   "metadata": {},
   "outputs": [
    {
     "data": {
      "text/plain": [
       "5"
      ]
     },
     "execution_count": 47,
     "metadata": {},
     "output_type": "execute_result"
    }
   ],
   "source": [
    "L = [\"apple\", \"banana\", \"cherry\", \"apple\", \"cherry\"]\n",
    "len(L)"
   ]
  },
  {
   "cell_type": "markdown",
   "id": "c2e24096",
   "metadata": {},
   "source": [
    "### type()\n",
    "\n",
    "#### From Python's perspective, lists are defined as objects with the data type 'list'"
   ]
  },
  {
   "cell_type": "code",
   "execution_count": 48,
   "id": "dac2161e",
   "metadata": {},
   "outputs": [
    {
     "name": "stdout",
     "output_type": "stream",
     "text": [
      "<class 'list'>\n"
     ]
    }
   ],
   "source": [
    "L = [\"apple\", \"banana\", \"cherry\", \"apple\", \"cherry\"]\n",
    "print(type(L))"
   ]
  },
  {
   "cell_type": "markdown",
   "id": "a2b28e2b",
   "metadata": {},
   "source": [
    "### Access List Elements\n",
    "\n",
    "#### In Python, lists are ordered and each item in a list is associated with a number. The number is known as a list index.\n",
    "\n",
    "#### The index of the first element is 0, second element is 1 and so on. For example,"
   ]
  },
  {
   "cell_type": "code",
   "execution_count": 49,
   "id": "5d6eb6a2",
   "metadata": {},
   "outputs": [
    {
     "name": "stdout",
     "output_type": "stream",
     "text": [
      "Python\n",
      "Java\n"
     ]
    }
   ],
   "source": [
    "la = [\"Python\", \"Sql\", \"Java\"] \n",
    "print(la[0]) # access item at index 0\n",
    "print(la[2]) # access item at index 2"
   ]
  },
  {
   "cell_type": "markdown",
   "id": "c4996016",
   "metadata": {},
   "source": [
    "### Negative Indexing in list\n",
    "\n",
    "#### Python allows negative indexing for its sequences. The index of -1 refers to the last item, -2 to the second last item and so on."
   ]
  },
  {
   "cell_type": "code",
   "execution_count": 50,
   "id": "ee6b26f0",
   "metadata": {},
   "outputs": [
    {
     "name": "stdout",
     "output_type": "stream",
     "text": [
      "Java\n",
      "Sql\n"
     ]
    }
   ],
   "source": [
    "la = [\"Python\", \"Sql\", \"Java\"] \n",
    "print(la[-1]) # access item at index -1\n",
    "print(la[-2]) # access item at index -2"
   ]
  },
  {
   "cell_type": "markdown",
   "id": "992c3d70",
   "metadata": {},
   "source": [
    "### Slicing of a List\n",
    "\n",
    "#### In Python, it is possible to access a portion of a list using the slicing operator "
   ]
  },
  {
   "cell_type": "code",
   "execution_count": 51,
   "id": "7e92e09c",
   "metadata": {},
   "outputs": [
    {
     "name": "stdout",
     "output_type": "stream",
     "text": [
      "['o', 'g', 'r']\n",
      "['a', 'm', 'i', 'z']\n",
      "['p', 'r', 'o', 'g', 'r', 'a', 'm', 'i', 'z']\n"
     ]
    }
   ],
   "source": [
    "my_list = ['p','r','o','g','r','a','m','i','z']\n",
    "print(my_list[2:5]) # items from index 2 to index 4\n",
    "print(my_list[5:]) # items from index 5 to end\n",
    "print(my_list[:]) # items beginning to end"
   ]
  },
  {
   "cell_type": "markdown",
   "id": "45e8a25f",
   "metadata": {},
   "source": [
    "### nested lists\n",
    "\n",
    "#### It is a smart and concise way of creating lists by iterating over an iterable object. Nested List Comprehensions are nothing but a list comprehension within another list comprehension which is quite similar to nested for loops.\n"
   ]
  },
  {
   "cell_type": "code",
   "execution_count": 52,
   "id": "f96905ed",
   "metadata": {},
   "outputs": [
    {
     "name": "stdout",
     "output_type": "stream",
     "text": [
      "[1, 2, 3, [4, 5, 6]]\n",
      "<class 'list'>\n",
      "4\n",
      "0x18e9fe60880\n"
     ]
    }
   ],
   "source": [
    "l = [1, 2, 3, [4, 5, 6]]\n",
    "print(l, type(l), len(l),  hex(id(l)), sep = '\\n')"
   ]
  },
  {
   "cell_type": "code",
   "execution_count": 53,
   "id": "c75c135d",
   "metadata": {},
   "outputs": [
    {
     "name": "stdout",
     "output_type": "stream",
     "text": [
      "[4, 5, 6]\n",
      "4\n",
      "[6, 5, 4]\n"
     ]
    }
   ],
   "source": [
    "print(l[3])\n",
    "print(l[3][0])\n",
    "print(l[3][::-1])"
   ]
  },
  {
   "cell_type": "markdown",
   "id": "958926c7",
   "metadata": {},
   "source": [
    "### range list\n",
    "\n",
    "#### The range() function returns a sequence of numbers, starting from 0 by default, and increments by 1 (by default), and stops before a specified number.\n",
    "\n",
    "#### syntax: ranger(start, end, step) # end means till end"
   ]
  },
  {
   "cell_type": "code",
   "execution_count": 54,
   "id": "4b500f2f",
   "metadata": {},
   "outputs": [
    {
     "name": "stdout",
     "output_type": "stream",
     "text": [
      "range(1, 11)\n",
      "<class 'range'>\n",
      "10\n",
      "0x18e9fde3d80\n"
     ]
    }
   ],
   "source": [
    "r = range(1, 11)\n",
    "print(r, type(r), len(r),  hex(id(r)), sep = '\\n')"
   ]
  },
  {
   "cell_type": "code",
   "execution_count": 55,
   "id": "ec2c3ab9",
   "metadata": {},
   "outputs": [
    {
     "data": {
      "text/plain": [
       "[1, 2, 3, 4, 5, 6, 7, 8, 9, 10]"
      ]
     },
     "execution_count": 55,
     "metadata": {},
     "output_type": "execute_result"
    }
   ],
   "source": [
    "list(r) # we called it is a type casting method , the range is converted to list."
   ]
  },
  {
   "cell_type": "code",
   "execution_count": 56,
   "id": "53d9afe5",
   "metadata": {},
   "outputs": [
    {
     "name": "stdout",
     "output_type": "stream",
     "text": [
      "range(1, 19)\n",
      "<class 'range'>\n",
      "18\n",
      "0x18e9fde2430\n"
     ]
    }
   ],
   "source": [
    "r = range(1, 19)\n",
    "print(r, type(r), len(r),  hex(id(r)), sep = '\\n')"
   ]
  },
  {
   "cell_type": "code",
   "execution_count": 57,
   "id": "4c735182",
   "metadata": {},
   "outputs": [
    {
     "name": "stdout",
     "output_type": "stream",
     "text": [
      "range(10, 1, -1)\n",
      "<class 'range'>\n",
      "9\n",
      "0x18e9fde2a60\n"
     ]
    }
   ],
   "source": [
    "r = range(10, 1, -1) # range in indexing method and slicinbg\n",
    "print(r, type(r), len(r),  hex(id(r)), sep = '\\n')"
   ]
  },
  {
   "cell_type": "code",
   "execution_count": 58,
   "id": "7346a292",
   "metadata": {},
   "outputs": [
    {
     "data": {
      "text/plain": [
       "['__add__',\n",
       " '__class__',\n",
       " '__class_getitem__',\n",
       " '__contains__',\n",
       " '__delattr__',\n",
       " '__delitem__',\n",
       " '__dir__',\n",
       " '__doc__',\n",
       " '__eq__',\n",
       " '__format__',\n",
       " '__ge__',\n",
       " '__getattribute__',\n",
       " '__getitem__',\n",
       " '__getstate__',\n",
       " '__gt__',\n",
       " '__hash__',\n",
       " '__iadd__',\n",
       " '__imul__',\n",
       " '__init__',\n",
       " '__init_subclass__',\n",
       " '__iter__',\n",
       " '__le__',\n",
       " '__len__',\n",
       " '__lt__',\n",
       " '__mul__',\n",
       " '__ne__',\n",
       " '__new__',\n",
       " '__reduce__',\n",
       " '__reduce_ex__',\n",
       " '__repr__',\n",
       " '__reversed__',\n",
       " '__rmul__',\n",
       " '__setattr__',\n",
       " '__setitem__',\n",
       " '__sizeof__',\n",
       " '__str__',\n",
       " '__subclasshook__',\n",
       " 'append',\n",
       " 'clear',\n",
       " 'copy',\n",
       " 'count',\n",
       " 'extend',\n",
       " 'index',\n",
       " 'insert',\n",
       " 'pop',\n",
       " 'remove',\n",
       " 'reverse',\n",
       " 'sort']"
      ]
     },
     "execution_count": 58,
     "metadata": {},
     "output_type": "execute_result"
    }
   ],
   "source": [
    "dir(l)"
   ]
  },
  {
   "cell_type": "markdown",
   "id": "6acb43cf",
   "metadata": {},
   "source": [
    "### list methods\n",
    "\n",
    "'append',\n",
    " 'clear',\n",
    " 'copy',\n",
    " 'count',\n",
    " 'extend',\n",
    " 'index',\n",
    " 'insert',\n",
    " 'pop',\n",
    " 'remove',\n",
    " 'reverse',\n",
    " 'sort'"
   ]
  },
  {
   "cell_type": "markdown",
   "id": "53cf1110",
   "metadata": {},
   "source": [
    "### append()\n",
    "\n",
    "#### The append() method adds an item at the end of the list.\n",
    "\n",
    "#### syntax (list.append(elmnt))\n"
   ]
  },
  {
   "cell_type": "code",
   "execution_count": 59,
   "id": "7daf51df",
   "metadata": {},
   "outputs": [
    {
     "name": "stdout",
     "output_type": "stream",
     "text": [
      "Help on method_descriptor:\n",
      "\n",
      "append(self, object, /)\n",
      "    Append object to the end of the list.\n",
      "\n"
     ]
    }
   ],
   "source": [
    "help(list.append)"
   ]
  },
  {
   "cell_type": "code",
   "execution_count": 60,
   "id": "849d2491",
   "metadata": {},
   "outputs": [
    {
     "name": "stdout",
     "output_type": "stream",
     "text": [
      "[]\n",
      "<class 'list'>\n",
      "0\n",
      "0x18e9fe72100\n"
     ]
    }
   ],
   "source": [
    "l = []\n",
    "print(l, type(l), len(l),  hex(id(l)), sep = '\\n')"
   ]
  },
  {
   "cell_type": "code",
   "execution_count": 61,
   "id": "df0e96ff",
   "metadata": {},
   "outputs": [
    {
     "name": "stdout",
     "output_type": "stream",
     "text": [
      "[100]\n",
      "<class 'list'>\n",
      "1\n",
      "0x18e9fe72100\n"
     ]
    }
   ],
   "source": [
    "l.append(100) # to add only one value in lsit we use .append. it adds to end of the list\n",
    "print(l, type(l), len(l),  hex(id(l)), sep = '\\n')"
   ]
  },
  {
   "cell_type": "code",
   "execution_count": 62,
   "id": "e3263ea1",
   "metadata": {},
   "outputs": [
    {
     "name": "stdout",
     "output_type": "stream",
     "text": [
      "['abc', 100, ['xyz']]\n",
      "<class 'list'>\n",
      "3\n",
      "0x18e9fe69480\n"
     ]
    }
   ],
   "source": [
    "a = ['abc', 100,]\n",
    "b = ['xyz']\n",
    "a.append(b)\n",
    "print(a, type(a), len(a),  hex(id(a)), sep = '\\n')"
   ]
  },
  {
   "cell_type": "markdown",
   "id": "59de47ea",
   "metadata": {},
   "source": [
    "### extend()\n",
    "\n",
    "#### The extend() method adds the specified list elements (or any iterable) to the end of the current list.\n",
    "\n",
    "#### syntax:list.extend(iterable)"
   ]
  },
  {
   "cell_type": "code",
   "execution_count": 63,
   "id": "d7188faf",
   "metadata": {},
   "outputs": [
    {
     "name": "stdout",
     "output_type": "stream",
     "text": [
      "Help on method_descriptor:\n",
      "\n",
      "extend(self, iterable, /)\n",
      "    Extend list by appending elements from the iterable.\n",
      "\n"
     ]
    }
   ],
   "source": [
    "help(list.extend)"
   ]
  },
  {
   "cell_type": "code",
   "execution_count": 64,
   "id": "2dc68c0b",
   "metadata": {},
   "outputs": [
    {
     "name": "stdout",
     "output_type": "stream",
     "text": [
      "[100, 's', 't', 'r', 'i', 'n', 'g']\n",
      "<class 'list'>\n",
      "7\n",
      "0x18e9fe72100\n"
     ]
    }
   ],
   "source": [
    "l.extend('string') \n",
    "print(l, type(l), len(l),  hex(id(l)), sep = '\\n')"
   ]
  },
  {
   "cell_type": "markdown",
   "id": "3351cff1",
   "metadata": {},
   "source": [
    "### insert()\n",
    "\n",
    "#### append() method only works for the addition of elements at the end of the List, for the addition of elements at the desired position, insert() method is used. Unlike append() which takes only one argument, the insert() method requires two arguments.\n",
    "\n",
    "#### syntax: list.insert(pos, elmnt)"
   ]
  },
  {
   "cell_type": "code",
   "execution_count": 65,
   "id": "3f1bd0c8",
   "metadata": {},
   "outputs": [
    {
     "name": "stdout",
     "output_type": "stream",
     "text": [
      "Help on method_descriptor:\n",
      "\n",
      "insert(self, index, object, /)\n",
      "    Insert object before index.\n",
      "\n"
     ]
    }
   ],
   "source": [
    "help(list.insert)"
   ]
  },
  {
   "cell_type": "code",
   "execution_count": 66,
   "id": "96508d7d",
   "metadata": {},
   "outputs": [
    {
     "data": {
      "text/plain": [
       "[100, 50, 's', 't', 'r', 'i', 'n', 'g']"
      ]
     },
     "execution_count": 66,
     "metadata": {},
     "output_type": "execute_result"
    }
   ],
   "source": [
    "l.insert(1, 50) # always it moves to right side and adding to a particular index .insert.\n",
    "l"
   ]
  },
  {
   "cell_type": "code",
   "execution_count": 67,
   "id": "28a6c218",
   "metadata": {},
   "outputs": [
    {
     "data": {
      "text/plain": [
       "[100, 50, 's', 't', 'r', 'i', 'aaa', 'n', 'g']"
      ]
     },
     "execution_count": 67,
     "metadata": {},
     "output_type": "execute_result"
    }
   ],
   "source": [
    "l.insert(-2, 'aaa')\n",
    "l"
   ]
  },
  {
   "cell_type": "markdown",
   "id": "eb68a153",
   "metadata": {},
   "source": [
    "### remove()\n",
    "\n",
    "#### Elements can be removed from the List by using the built-in remove() function but an Error arises if the element doesn’t exist in the list. Remove() method only removes one element at a time, to remove a range of elements, the iterator is used. The remove() method removes the specified item.\n",
    "\n",
    "#### syntax: list.remove(element)"
   ]
  },
  {
   "cell_type": "code",
   "execution_count": 68,
   "id": "c1be632b",
   "metadata": {},
   "outputs": [
    {
     "name": "stdout",
     "output_type": "stream",
     "text": [
      "Help on method_descriptor:\n",
      "\n",
      "remove(self, value, /)\n",
      "    Remove first occurrence of value.\n",
      "    \n",
      "    Raises ValueError if the value is not present.\n",
      "\n"
     ]
    }
   ],
   "source": [
    "help(list.remove)"
   ]
  },
  {
   "cell_type": "code",
   "execution_count": 69,
   "id": "a2c66d5d",
   "metadata": {},
   "outputs": [
    {
     "data": {
      "text/plain": [
       "['m', 'a', 'l', 'a', 'y', 'a', 'l', 'a', 'm']"
      ]
     },
     "execution_count": 69,
     "metadata": {},
     "output_type": "execute_result"
    }
   ],
   "source": [
    "x =list('malayalam') #.remove works with an element # .pop always works on the index\n",
    "x"
   ]
  },
  {
   "cell_type": "code",
   "execution_count": 70,
   "id": "cc308f16",
   "metadata": {},
   "outputs": [
    {
     "data": {
      "text/plain": [
       "['m', 'l', 'a', 'y', 'a', 'l', 'a', 'm']"
      ]
     },
     "execution_count": 70,
     "metadata": {},
     "output_type": "execute_result"
    }
   ],
   "source": [
    "x.remove('a')\n",
    "x"
   ]
  },
  {
   "cell_type": "markdown",
   "id": "5ca07c0b",
   "metadata": {},
   "source": [
    "### pop()\n",
    "\n",
    "#### The list pop() method removes the item at the specified index. The method also returns the removed item.\n",
    "\n",
    "#### syntax: list.pop(index)"
   ]
  },
  {
   "cell_type": "code",
   "execution_count": 71,
   "id": "16485cdf",
   "metadata": {},
   "outputs": [
    {
     "name": "stdout",
     "output_type": "stream",
     "text": [
      "Help on method_descriptor:\n",
      "\n",
      "pop(self, index=-1, /)\n",
      "    Remove and return item at index (default last).\n",
      "    \n",
      "    Raises IndexError if list is empty or index is out of range.\n",
      "\n"
     ]
    }
   ],
   "source": [
    "help(list.pop)"
   ]
  },
  {
   "cell_type": "code",
   "execution_count": 72,
   "id": "78cc2e52",
   "metadata": {},
   "outputs": [
    {
     "data": {
      "text/plain": [
       "[0, 1, 2, 3, 4, 5]"
      ]
     },
     "execution_count": 72,
     "metadata": {},
     "output_type": "execute_result"
    }
   ],
   "source": [
    "l = [0, 1, 2, 3, 4, 5] # by default .pop removes last value of the index\n",
    "l"
   ]
  },
  {
   "cell_type": "code",
   "execution_count": 73,
   "id": "7034071e",
   "metadata": {},
   "outputs": [
    {
     "data": {
      "text/plain": [
       "5"
      ]
     },
     "execution_count": 73,
     "metadata": {},
     "output_type": "execute_result"
    }
   ],
   "source": [
    "l.pop()"
   ]
  },
  {
   "cell_type": "code",
   "execution_count": 74,
   "id": "708155a8",
   "metadata": {},
   "outputs": [
    {
     "data": {
      "text/plain": [
       "(4, [0, 1, 2, 3])"
      ]
     },
     "execution_count": 74,
     "metadata": {},
     "output_type": "execute_result"
    }
   ],
   "source": [
    "a = l.pop()\n",
    "a, l"
   ]
  },
  {
   "cell_type": "markdown",
   "id": "a3f8362d",
   "metadata": {},
   "source": [
    "### index()\n",
    "\n",
    "#### The index() method returns the index of the specified element in the list.\n",
    "\n",
    "#### syntax: list.index(element, start, end)"
   ]
  },
  {
   "cell_type": "code",
   "execution_count": 75,
   "id": "c20a96ef",
   "metadata": {},
   "outputs": [
    {
     "name": "stdout",
     "output_type": "stream",
     "text": [
      "Help on method_descriptor:\n",
      "\n",
      "index(self, value, start=0, stop=9223372036854775807, /)\n",
      "    Return first index of value.\n",
      "    \n",
      "    Raises ValueError if the value is not present.\n",
      "\n"
     ]
    }
   ],
   "source": [
    "help(list.index)"
   ]
  },
  {
   "cell_type": "code",
   "execution_count": 76,
   "id": "1e0344fe",
   "metadata": {},
   "outputs": [
    {
     "name": "stdout",
     "output_type": "stream",
     "text": [
      "The index of e: 1\n",
      "The index of i: 2\n"
     ]
    }
   ],
   "source": [
    "vowels = ['a', 'e', 'i', 'o', 'i', 'u']\n",
    "index = vowels.index('e') # index of 'e' in vowels\n",
    "\n",
    "print('The index of e:', index)\n",
    "index = vowels.index('i') # element 'i' is searched # index of the first 'i' is returned\n",
    "print('The index of i:', index)"
   ]
  },
  {
   "cell_type": "markdown",
   "id": "4e313e69",
   "metadata": {},
   "source": [
    "### count()\n",
    "\n",
    "#### The count() method returns the number of times the specified element appears in the list.\n",
    "\n",
    "#### syntax: list.count(element)"
   ]
  },
  {
   "cell_type": "code",
   "execution_count": 77,
   "id": "e750baf8",
   "metadata": {},
   "outputs": [
    {
     "name": "stdout",
     "output_type": "stream",
     "text": [
      "Help on method_descriptor:\n",
      "\n",
      "count(self, value, /)\n",
      "    Return number of occurrences of value.\n",
      "\n"
     ]
    }
   ],
   "source": [
    "help(list.count)"
   ]
  },
  {
   "cell_type": "code",
   "execution_count": 78,
   "id": "954253e7",
   "metadata": {},
   "outputs": [
    {
     "name": "stdout",
     "output_type": "stream",
     "text": [
      "Count of 2: 3\n"
     ]
    }
   ],
   "source": [
    "numbers = [2, 3, 5, 2, 11, 2, 7] \n",
    "count = numbers.count(2)\n",
    "print('Count of 2:', count)\n"
   ]
  },
  {
   "cell_type": "markdown",
   "id": "178be01a",
   "metadata": {},
   "source": [
    "### clear()\n",
    "\n",
    "#### The clear() method removes all items from the list.\n",
    "\n",
    "#### syntax: list.clear()"
   ]
  },
  {
   "cell_type": "code",
   "execution_count": 79,
   "id": "fda9efdb",
   "metadata": {},
   "outputs": [
    {
     "name": "stdout",
     "output_type": "stream",
     "text": [
      "Help on method_descriptor:\n",
      "\n",
      "clear(self, /)\n",
      "    Remove all items from list.\n",
      "\n"
     ]
    }
   ],
   "source": [
    "help(list.clear)"
   ]
  },
  {
   "cell_type": "code",
   "execution_count": 80,
   "id": "170c0798",
   "metadata": {},
   "outputs": [
    {
     "name": "stdout",
     "output_type": "stream",
     "text": [
      "[]\n"
     ]
    }
   ],
   "source": [
    "prime_numbers = [2, 3, 5, 7, 9, 11]\n",
    "prime_numbers.clear() # remove all elements\n",
    "print(prime_numbers)"
   ]
  },
  {
   "cell_type": "markdown",
   "id": "e8a9ecf2",
   "metadata": {},
   "source": [
    "### copy()\n",
    "\n",
    "#### The copy() method returns a shallow copy of the list.\n",
    "\n",
    "#### syntax: new_list = list.copy()"
   ]
  },
  {
   "cell_type": "code",
   "execution_count": 81,
   "id": "3d53604d",
   "metadata": {},
   "outputs": [
    {
     "name": "stdout",
     "output_type": "stream",
     "text": [
      "Help on method_descriptor:\n",
      "\n",
      "copy(self, /)\n",
      "    Return a shallow copy of the list.\n",
      "\n"
     ]
    }
   ],
   "source": [
    "help(list.copy)"
   ]
  },
  {
   "cell_type": "code",
   "execution_count": 82,
   "id": "c3597f4a",
   "metadata": {},
   "outputs": [
    {
     "name": "stdout",
     "output_type": "stream",
     "text": [
      "Copied List: [2, 3, 5]\n"
     ]
    }
   ],
   "source": [
    "s = [2, 3, 5]\n",
    "numbers = s.copy() # copying a list\n",
    "print('Copied List:', s)"
   ]
  },
  {
   "cell_type": "markdown",
   "id": "65ef5443",
   "metadata": {},
   "source": [
    "### sort()\n",
    "\n",
    "#### The sort() method sorts the items of a list in ascending or descending order.\n",
    "\n",
    "#### syntax: list.sort(key=..., reverse=...) # Alternatively we can use function sorted(list, key=..., reverse=...)"
   ]
  },
  {
   "cell_type": "code",
   "execution_count": 83,
   "id": "cfff0a01",
   "metadata": {},
   "outputs": [
    {
     "name": "stdout",
     "output_type": "stream",
     "text": [
      "Help on method_descriptor:\n",
      "\n",
      "sort(self, /, *, key=None, reverse=False)\n",
      "    Sort the list in ascending order and return None.\n",
      "    \n",
      "    The sort is in-place (i.e. the list itself is modified) and stable (i.e. the\n",
      "    order of two equal elements is maintained).\n",
      "    \n",
      "    If a key function is given, apply it once to each list item and sort them,\n",
      "    ascending or descending, according to their function values.\n",
      "    \n",
      "    The reverse flag can be set to sort in descending order.\n",
      "\n"
     ]
    }
   ],
   "source": [
    "help(list.sort)"
   ]
  },
  {
   "cell_type": "code",
   "execution_count": 84,
   "id": "3dc9dd70",
   "metadata": {},
   "outputs": [
    {
     "name": "stdout",
     "output_type": "stream",
     "text": [
      "[2, 3, 5, 7, 11]\n"
     ]
    }
   ],
   "source": [
    "x = [11, 3, 7, 5, 2]\n",
    "x.sort() # sorting the list in ascending order\n",
    "print(x)"
   ]
  },
  {
   "cell_type": "markdown",
   "id": "bb0ba60e",
   "metadata": {},
   "source": [
    "### reverse()\n",
    "\n",
    "#### The reverse() method reverses the elements of the list.\n",
    "\n",
    "#### syntax:  list.reverse()"
   ]
  },
  {
   "cell_type": "code",
   "execution_count": 85,
   "id": "9999dcc4",
   "metadata": {},
   "outputs": [
    {
     "name": "stdout",
     "output_type": "stream",
     "text": [
      "Help on method_descriptor:\n",
      "\n",
      "reverse(self, /)\n",
      "    Reverse *IN PLACE*.\n",
      "\n"
     ]
    }
   ],
   "source": [
    "help(list.reverse)"
   ]
  },
  {
   "cell_type": "code",
   "execution_count": 43,
   "id": "4ce2b657",
   "metadata": {},
   "outputs": [
    {
     "name": "stdout",
     "output_type": "stream",
     "text": [
      "zee: [7, 5, 3, 2]\n"
     ]
    }
   ],
   "source": [
    "z = [2, 3, 5, 7]\n",
    "z.reverse() # reverse the order of list elements\n",
    "print('zee:', z)\n"
   ]
  },
  {
   "cell_type": "code",
   "execution_count": null,
   "id": "a84ca61d",
   "metadata": {},
   "outputs": [],
   "source": []
  },
  {
   "cell_type": "code",
   "execution_count": null,
   "id": "335a84a4",
   "metadata": {},
   "outputs": [],
   "source": []
  }
 ],
 "metadata": {
  "kernelspec": {
   "display_name": "Python 3 (ipykernel)",
   "language": "python",
   "name": "python3"
  },
  "language_info": {
   "codemirror_mode": {
    "name": "ipython",
    "version": 3
   },
   "file_extension": ".py",
   "mimetype": "text/x-python",
   "name": "python",
   "nbconvert_exporter": "python",
   "pygments_lexer": "ipython3",
   "version": "3.11.5"
  }
 },
 "nbformat": 4,
 "nbformat_minor": 5
}
