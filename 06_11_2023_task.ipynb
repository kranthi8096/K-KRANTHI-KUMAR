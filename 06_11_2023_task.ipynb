{
 "cells": [
  {
   "cell_type": "markdown",
   "id": "85a4c9f2",
   "metadata": {},
   "source": [
    "### else loop\n",
    "\n",
    "#### The statements in the else block will be executed after all iterations are completed. The program exits the loop only after the else block is executed."
   ]
  },
  {
   "cell_type": "markdown",
   "id": "e2907cbc",
   "metadata": {},
   "source": [
    "### Else in For Loop()\n",
    "\n",
    "#### The else keyword in a for loop specifies a block of code to be executed when the loop is finished."
   ]
  },
  {
   "cell_type": "code",
   "execution_count": 2,
   "id": "299f8692",
   "metadata": {},
   "outputs": [
    {
     "name": "stdout",
     "output_type": "stream",
     "text": [
      "0\n",
      "1\n",
      "2\n",
      "3\n",
      "4\n",
      "execution completed\n"
     ]
    }
   ],
   "source": [
    "for ele in range(5): # natural for else process\n",
    "    print(ele)\n",
    "else:\n",
    "    print('execution completed')"
   ]
  },
  {
   "cell_type": "markdown",
   "id": "14c840cd",
   "metadata": {},
   "source": [
    "#### The else block will NOT be executed if the loop is stopped by a break statement."
   ]
  },
  {
   "cell_type": "code",
   "execution_count": 27,
   "id": "606988a0",
   "metadata": {},
   "outputs": [
    {
     "name": "stdout",
     "output_type": "stream",
     "text": [
      "0\n",
      "1\n",
      "2\n",
      "3\n",
      "4\n"
     ]
    }
   ],
   "source": [
    "for ele in range(10):\n",
    "    if ele == 5:\n",
    "        break\n",
    "    print(ele)\n",
    "else:\n",
    "    print('execution completed')"
   ]
  },
  {
   "cell_type": "markdown",
   "id": "8320e3be",
   "metadata": {},
   "source": [
    "### Else While Loop()\n",
    "\n",
    "#### With the else statement we can run a block of code once when the condition no longer is true."
   ]
  },
  {
   "cell_type": "code",
   "execution_count": 24,
   "id": "03cb489a",
   "metadata": {},
   "outputs": [
    {
     "name": "stdout",
     "output_type": "stream",
     "text": [
      "0\n",
      "1\n",
      "2\n",
      "3\n",
      "4\n",
      "aa\n"
     ]
    }
   ],
   "source": [
    "ele = 0 # natural while else process\n",
    "while ele in range(5):\n",
    "    print(ele)\n",
    "    ele+=1\n",
    "else:\n",
    "    print('aa')"
   ]
  },
  {
   "cell_type": "markdown",
   "id": "087ace14",
   "metadata": {},
   "source": [
    "#### With the break statement we can stop the loop even if the while condition is true."
   ]
  },
  {
   "cell_type": "code",
   "execution_count": 26,
   "id": "9f121b51",
   "metadata": {},
   "outputs": [
    {
     "name": "stdout",
     "output_type": "stream",
     "text": [
      "0\n",
      "1\n",
      "2\n",
      "Break the loop = 3\n"
     ]
    }
   ],
   "source": [
    "ele = 0  # natural while else process\n",
    "\n",
    "while ele in range(5):\n",
    "    if ele == 3:\n",
    "        print(\"Break the loop =\", ele)\n",
    "        break  # using break \n",
    "    print(ele)\n",
    "    ele += 1\n",
    "else:\n",
    "    print('This will not be executed because the loop was terminated by the break statement.')"
   ]
  },
  {
   "cell_type": "markdown",
   "id": "696f32a2",
   "metadata": {},
   "source": [
    "### enumerate()\n",
    "\n",
    "#### The enumerate function takes a collection and returns it as an enumerate object.The enumerate function adds a counter as the key of the enumerate object.\n",
    "\n",
    "#### syntax: enumerate(iterable, start)"
   ]
  },
  {
   "cell_type": "code",
   "execution_count": 28,
   "id": "cd502e8f",
   "metadata": {},
   "outputs": [
    {
     "name": "stdout",
     "output_type": "stream",
     "text": [
      "0 s\n",
      "1 t\n",
      "2 r\n",
      "3 i\n",
      "4 n\n",
      "5 g\n"
     ]
    }
   ],
   "source": [
    "x = 'string' # enumerate: gives index and value of index\n",
    "\n",
    "for ind,val in enumerate(x):\n",
    "    print(ind,val)"
   ]
  },
  {
   "cell_type": "code",
   "execution_count": 29,
   "id": "20e102e3",
   "metadata": {},
   "outputs": [
    {
     "name": "stdout",
     "output_type": "stream",
     "text": [
      "enter a num: 5\n",
      "0 1\n",
      "1 2\n",
      "2 3\n",
      "3 0\n",
      "4 4\n",
      "5 5\n",
      "value 5.0 entered is there in the container at index 5\n"
     ]
    }
   ],
   "source": [
    "x = [1,2,3,0,4,5] # taking a list \n",
    "y = float(input('enter a num: '))\n",
    "\n",
    "for i, ele in enumerate (x):\n",
    "    print(i, ele)\n",
    "    if ele == y:\n",
    "        print(f'value {y} entered is there in the container at index {i}') # using format \n",
    "        break # using break\n",
    "else: \n",
    "    print('value not found')"
   ]
  },
  {
   "cell_type": "code",
   "execution_count": 30,
   "id": "7604d8e1",
   "metadata": {},
   "outputs": [
    {
     "name": "stdout",
     "output_type": "stream",
     "text": [
      "enter a num: 4\n",
      "(0, 1)\n",
      "(1, 2)\n",
      "(2, 3)\n",
      "(3, 0)\n",
      "(4, 4)\n",
      "(5, 5)\n",
      "value not found\n"
     ]
    }
   ],
   "source": [
    "x = [1,2,3,0,4,5] # taking a list\n",
    "y = float(input('enter a num: '))\n",
    "\n",
    "for ele in enumerate (x): # with out taking i it is a tuple \n",
    "    print(ele)\n",
    "    if ele == y:\n",
    "        print(f'value {y} entered is there in the container at index {i}') # using format\n",
    "        break\n",
    "else: \n",
    "    print('value not found') "
   ]
  },
  {
   "cell_type": "code",
   "execution_count": 36,
   "id": "6de8609f",
   "metadata": {},
   "outputs": [
    {
     "data": {
      "text/plain": [
       "{0: 'k', 1: 'r', 2: 'a', 3: 'n', 4: 't', 5: 'h', 6: 'i'}"
      ]
     },
     "execution_count": 36,
     "metadata": {},
     "output_type": "execute_result"
    }
   ],
   "source": [
    "x = 'kranthi' # using key value pair in enumerate\n",
    "{key : value for key, value in enumerate(x)}"
   ]
  },
  {
   "cell_type": "markdown",
   "id": "e7f5c5b7",
   "metadata": {},
   "source": [
    "### List Comprehension()\n",
    "\n",
    "#### List comprehension offers a shorter syntax when you want to create a new list based on the values of an existing list."
   ]
  },
  {
   "cell_type": "code",
   "execution_count": 32,
   "id": "aa1c92cb",
   "metadata": {},
   "outputs": [
    {
     "data": {
      "text/plain": [
       "[0, 1, 2, 3, 4, 5, 6, 7, 8, 9, 10]"
      ]
     },
     "execution_count": 32,
     "metadata": {},
     "output_type": "execute_result"
    }
   ],
   "source": [
    "a = [] # taking empty list\n",
    "for i in range(0,11):\n",
    "    a.append(i) # appending i range to empty list.\n",
    "a"
   ]
  },
  {
   "cell_type": "code",
   "execution_count": 34,
   "id": "4eaddbb0",
   "metadata": {},
   "outputs": [
    {
     "data": {
      "text/plain": [
       "[0, 1, 2, 3, 4, 5, 6, 7, 8, 9, 10]"
      ]
     },
     "execution_count": 34,
     "metadata": {},
     "output_type": "execute_result"
    }
   ],
   "source": [
    "x = [ele for ele in range(0,11)] # with out using empty list we can use list comphrensive\n",
    "x"
   ]
  },
  {
   "cell_type": "code",
   "execution_count": 35,
   "id": "075a3417",
   "metadata": {},
   "outputs": [
    {
     "data": {
      "text/plain": [
       "[0, 4, 8, 12, 16, 20]"
      ]
     },
     "execution_count": 35,
     "metadata": {},
     "output_type": "execute_result"
    }
   ],
   "source": [
    "x = [2*ele for ele in range(0,11) if ele%2 == 0] # syntax: [var for var in iterator if c.e(using the var)]\n",
    "x"
   ]
  },
  {
   "cell_type": "code",
   "execution_count": 40,
   "id": "b0f09139",
   "metadata": {},
   "outputs": [
    {
     "data": {
      "text/plain": [
       "{'g', 'i', 'k', 'n', 'o', 'r', 'u'}"
      ]
     },
     "execution_count": 40,
     "metadata": {},
     "output_type": "execute_result"
    }
   ],
   "source": [
    "y = ('Your ARE Looking gooD')  # using for check lower alphabets \n",
    "y = {var for var in y if var.islower()}\n",
    "     \n",
    "y"
   ]
  },
  {
   "cell_type": "code",
   "execution_count": 41,
   "id": "c36b6b6a",
   "metadata": {},
   "outputs": [
    {
     "data": {
      "text/plain": [
       "['Y', 'A', 'R', 'E', 'L', 'D']"
      ]
     },
     "execution_count": 41,
     "metadata": {},
     "output_type": "execute_result"
    }
   ],
   "source": [
    "y = ('Your ARE Looking gooD') # using for check upper alphabets \n",
    "y = [var for var in y if var.isupper()]\n",
    "y"
   ]
  },
  {
   "cell_type": "code",
   "execution_count": 42,
   "id": "30775bcf",
   "metadata": {},
   "outputs": [
    {
     "data": {
      "text/plain": [
       "{'A', 'D', 'E', 'L', 'R', 'Y'}"
      ]
     },
     "execution_count": 42,
     "metadata": {},
     "output_type": "execute_result"
    }
   ],
   "source": [
    "y = ('Your ARE Looking gooD') \n",
    "y = {var for var in y if var.isupper()} # duplicates are not allowe in sets.\n",
    "     \n",
    "y "
   ]
  },
  {
   "cell_type": "markdown",
   "id": "b88bc58a",
   "metadata": {},
   "source": [
    "### zip()\n",
    "\n",
    "#### The zip() function returns a zip object, which is an iterator of tuples where the first item in each passed iterator is paired together, and then the second item in each passed iterator are paired together etc.\n",
    "\n",
    "#### If the passed iterables have different lengths, the iterable with the least items decides the length of the new iterator.\n"
   ]
  },
  {
   "cell_type": "code",
   "execution_count": 43,
   "id": "6a799fa9",
   "metadata": {},
   "outputs": [
    {
     "name": "stdout",
     "output_type": "stream",
     "text": [
      "(1, 11)\n",
      "(2, 22)\n",
      "(3, 33)\n"
     ]
    }
   ],
   "source": [
    "for ele in zip([1,2,3,4], [11,22,33]):\n",
    "    print(ele)"
   ]
  },
  {
   "cell_type": "code",
   "execution_count": 44,
   "id": "e63122cf",
   "metadata": {},
   "outputs": [
    {
     "data": {
      "text/plain": [
       "{1: 'a', 11: 'b', 22: 'c'}"
      ]
     },
     "execution_count": 44,
     "metadata": {},
     "output_type": "execute_result"
    }
   ],
   "source": [
    "{key : value for key, value in zip([1,11,22],['a', 'b', 'c'])} # using key value pair for zip"
   ]
  },
  {
   "cell_type": "code",
   "execution_count": null,
   "id": "2c349c71",
   "metadata": {},
   "outputs": [],
   "source": []
  },
  {
   "cell_type": "code",
   "execution_count": null,
   "id": "f3d051f6",
   "metadata": {},
   "outputs": [],
   "source": []
  },
  {
   "cell_type": "code",
   "execution_count": null,
   "id": "5c32047f",
   "metadata": {},
   "outputs": [],
   "source": []
  }
 ],
 "metadata": {
  "kernelspec": {
   "display_name": "Python 3 (ipykernel)",
   "language": "python",
   "name": "python3"
  },
  "language_info": {
   "codemirror_mode": {
    "name": "ipython",
    "version": 3
   },
   "file_extension": ".py",
   "mimetype": "text/x-python",
   "name": "python",
   "nbconvert_exporter": "python",
   "pygments_lexer": "ipython3",
   "version": "3.11.5"
  }
 },
 "nbformat": 4,
 "nbformat_minor": 5
}
