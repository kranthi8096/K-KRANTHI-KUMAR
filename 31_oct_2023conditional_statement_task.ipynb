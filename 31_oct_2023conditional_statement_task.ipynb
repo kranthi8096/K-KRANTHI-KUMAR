{
 "cells": [
  {
   "cell_type": "markdown",
   "id": "4a7dcbba",
   "metadata": {},
   "source": [
    "#### 1) Write a Python program that asks the user for their age and prints \"You are an adult\" if the age is 18 or older, otherwise prints \"You are a minor'."
   ]
  },
  {
   "cell_type": "code",
   "execution_count": 3,
   "id": "b6517b6c",
   "metadata": {},
   "outputs": [
    {
     "name": "stdout",
     "output_type": "stream",
     "text": [
      "Please enter your age: 24\n",
      "You are an adult\n"
     ]
    }
   ],
   "source": [
    "age = int(input(\"Please enter your age: \")) # input() function is used to get the user's input,\n",
    "                                            # which is then converted to an integer using int().\n",
    "if age >= 18:  \n",
    "    print(\"You are an adult\") # 'if' statement checks the age entered by the user.\n",
    "else:\n",
    "    print(\"You are a minor\") # else will print other statement."
   ]
  },
  {
   "cell_type": "code",
   "execution_count": 8,
   "id": "029e2c71",
   "metadata": {},
   "outputs": [
    {
     "name": "stdout",
     "output_type": "stream",
     "text": [
      "Please enter your age: 12\n",
      "You are a minor\n"
     ]
    }
   ],
   "source": [
    "age = int(input(\"Please enter your age: \")) # input() function is used to get the user's input,\n",
    "                                            # which is then converted to an integer using int().\n",
    "if age >= 18:  \n",
    "    print(\"You are an adult\") # 'if' statement checks the age entered by the user.\n",
    "else:\n",
    "    print(\"You are a minor\") # else will print other statement."
   ]
  },
  {
   "cell_type": "markdown",
   "id": "a741636d",
   "metadata": {},
   "source": [
    "#### 2) Write a program that takes a numerical grade (out of 100) as input and prints the corresponding letter grade according to the following scale:\n",
    "90-100: A\n",
    "80-89: B\n",
    "70-79: C\n",
    "60-69: D\n",
    "Below 60: F"
   ]
  },
  {
   "cell_type": "code",
   "execution_count": 9,
   "id": "3b3d07b1",
   "metadata": {},
   "outputs": [
    {
     "name": "stdout",
     "output_type": "stream",
     "text": [
      "Please enter your numerical grade (out of 100): 58\n",
      "Your letter grade is: F\n"
     ]
    }
   ],
   "source": [
    "numerical_grade = int(input(\"Please enter your numerical grade (out of 100): \")) # Ask the user for the numerical grade\n",
    "\n",
    "if numerical_grade >= 90 and numerical_grade <= 100: # Determine the corresponding letter grade\n",
    "    letter_grade = \"A\"\n",
    "elif numerical_grade >= 80 and numerical_grade < 90:\n",
    "    letter_grade = \"B\"\n",
    "elif numerical_grade >= 70 and numerical_grade < 80:\n",
    "    letter_grade = \"C\"\n",
    "elif numerical_grade >= 60 and numerical_grade < 70:\n",
    "    letter_grade = \"D\"\n",
    "else:\n",
    "    letter_grade = \"F\"\n",
    "\n",
    "print(\"Your letter grade is:\", letter_grade) # Print the corresponding letter grade"
   ]
  },
  {
   "cell_type": "code",
   "execution_count": 12,
   "id": "8d1c8102",
   "metadata": {},
   "outputs": [
    {
     "name": "stdout",
     "output_type": "stream",
     "text": [
      "Please enter your numerical grade (out of 100): 99\n",
      "Your letter grade is: A\n"
     ]
    }
   ],
   "source": [
    "numerical_grade = int(input(\"Please enter your numerical grade (out of 100): \")) # Ask the user for the numerical grade\n",
    "\n",
    "if numerical_grade >= 90 and numerical_grade <= 100: # Determine the corresponding letter grade\n",
    "    letter_grade = \"A\"\n",
    "elif numerical_grade >= 80 and numerical_grade < 90: #The code checks each grade range one by one and\n",
    "    letter_grade = \"B\"\n",
    "elif numerical_grade >= 70 and numerical_grade < 80: # assigns the appropriate letter grade accordingly.\n",
    "    letter_grade = \"C\"\n",
    "elif numerical_grade >= 60 and numerical_grade < 70:\n",
    "    letter_grade = \"D\"\n",
    "else:\n",
    "    letter_grade = \"F\"\n",
    "\n",
    "print(\"Your letter grade is:\", letter_grade) # Print the corresponding letter grade"
   ]
  },
  {
   "cell_type": "markdown",
   "id": "30f67668",
   "metadata": {},
   "source": [
    "#### 3) Write a program that calculates the Body Mass Index (BMI) of a person. The user should input their weight in kilograms and height in meters. The program should then print whether the person is underweight, normal weight, overweight, or obese"
   ]
  },
  {
   "cell_type": "code",
   "execution_count": 22,
   "id": "e512756b",
   "metadata": {},
   "outputs": [
    {
     "name": "stdout",
     "output_type": "stream",
     "text": [
      "Please enter your weight in kilograms: 66\n",
      "Please enter your height in meters: 1.65\n",
      "Your BMI is: 24.24\n",
      "You are normal weight\n"
     ]
    }
   ],
   "source": [
    "weight_kg = float(input(\"Please enter your weight in kilograms: \")) # Ask the user weight in kilograms.\n",
    "\n",
    "height_m = float(input(\"Please enter your height in meters: \")) #  Ask the user height in meters.\n",
    "\n",
    "bmi = weight_kg / (height_m ** 2) # Calculating  BMI by height in meters and weight in kg's\n",
    "\n",
    "if bmi < 18.5: # Determining perons BMI status \n",
    "    status = \"underweight\"\n",
    "elif 18.5 <= bmi < 24.9:\n",
    "    status = \"normal weight\"\n",
    "elif 25 <= bmi < 29.9:\n",
    "    status = \"overweight\"\n",
    "else:\n",
    "    status = \"obese\"\n",
    "print(\"Your BMI is: {:.2f}\".format(bmi)) # Print BMI and status\n",
    "print(\"You are\", status) "
   ]
  },
  {
   "cell_type": "code",
   "execution_count": 17,
   "id": "1b8bdfbe",
   "metadata": {},
   "outputs": [
    {
     "name": "stdout",
     "output_type": "stream",
     "text": [
      "Please enter your weight in kilograms: 87\n",
      "Please enter your height in meters: 1.6\n",
      "Your BMI is: 33.98\n",
      "You are obese\n"
     ]
    }
   ],
   "source": [
    "weight_kg = float(input(\"Please enter your weight in kilograms: \")) # Ask the user weight in kilograms.\n",
    "\n",
    "height_m = float(input(\"Please enter your height in meters: \")) #  Ask the user height in meters.\n",
    "\n",
    "bmi = weight_kg / (height_m ** 2) # Calculating  BMI by height in meters and weight in kg's\n",
    "\n",
    "if bmi < 18.5: # Determining perons BMI status \n",
    "    status = \"underweight\"\n",
    "elif 18.5 <= bmi < 24.9:\n",
    "    status = \"normal weight\"\n",
    "elif 25 <= bmi < 29.9:\n",
    "    status = \"overweight\"\n",
    "else:\n",
    "    status = \"obese\"\n",
    "print(\"Your BMI is: {:.2f}\".format(bmi)) # Print BMI and status\n",
    "print(\"You are\", status) "
   ]
  },
  {
   "cell_type": "code",
   "execution_count": 23,
   "id": "28386c37",
   "metadata": {},
   "outputs": [
    {
     "name": "stdout",
     "output_type": "stream",
     "text": [
      "Enter your weight in kilograms: 90\n",
      "Enter your height in meters: 1.9\n",
      "Your BMI is: 24.930747922437675\n",
      "You are in the healthy weight range.\n"
     ]
    }
   ],
   "source": [
    "weight_kg = float(input(\"Enter your weight in kilograms: \")) # Ask the user for weight in kilograms and height in meters\n",
    "height_m = float(input(\"Enter your height in meters: \"))\n",
    "\n",
    "bmi = weight_kg / (height_m ** 2) # Calculate BMI\n",
    "print(\"Your BMI is:\", bmi) # Print BMI\n",
    "\n",
    "if bmi < 25: # Basic classification of bmi \n",
    "    print(\"You are in the healthy weight range.\")\n",
    "else:\n",
    "    print(\"You are overweight.\")"
   ]
  },
  {
   "cell_type": "markdown",
   "id": "74da7a79",
   "metadata": {},
   "source": [
    "#### 4) Write a program that asks the user for three numbers and prints the maximum of the three."
   ]
  },
  {
   "cell_type": "code",
   "execution_count": 26,
   "id": "3a370c54",
   "metadata": {},
   "outputs": [
    {
     "name": "stdout",
     "output_type": "stream",
     "text": [
      "Enter the first number: 5.5\n",
      "Enter the second number: 6.6\n",
      "Enter the third number: 13\n",
      "The maximum of the three numbers is: 13.0\n"
     ]
    }
   ],
   "source": [
    "n1 = float(input(\"Enter the first number: \")) # Ask the user for three numbers\n",
    "n2 = float(input(\"Enter the second number: \"))\n",
    "n3 = float(input(\"Enter the third number: \"))\n",
    "\n",
    "maximum = max(n1, n2, n3) # Find the maximum number\n",
    "\n",
    "print(\"The maximum of the three numbers is:\", maximum) # Print the maximum number"
   ]
  },
  {
   "cell_type": "code",
   "execution_count": 24,
   "id": "f0e306db",
   "metadata": {},
   "outputs": [
    {
     "name": "stdout",
     "output_type": "stream",
     "text": [
      "Enter the first number: 10.2\n",
      "Enter the second number: 12.6\n",
      "Enter the third number: 3.8\n",
      "The maximum of the three numbers is: 12.6\n"
     ]
    }
   ],
   "source": [
    "no1 = float(input(\"Enter the first number: \"))\n",
    "no2 = float(input(\"Enter the second number: \")) # Ask the user for three numbers\n",
    "no3 = float(input(\"Enter the third number: \"))\n",
    "\n",
    "if no1 >= no2 and no1 >= no3: # Find the maximum number using condition\n",
    "    maximum = no1\n",
    "elif no2 >= no1 and no2 >= no3:\n",
    "    maximum = no2\n",
    "else:\n",
    "    maximum = no3\n",
    "print(\"The maximum of the three numbers is:\", maximum) # Print the maximum number"
   ]
  },
  {
   "cell_type": "markdown",
   "id": "03a77837",
   "metadata": {},
   "source": [
    "#### 5) Write a program that asks the user for a temperature (in Celsius) and prints \"It's freezing\" if the temperature is below 0, \"It's cool\" if it's between 0 and 10, \"It's warm\" if it's between 10 and 20, and \"It's hot\" if it's above 20\n"
   ]
  },
  {
   "cell_type": "code",
   "execution_count": 27,
   "id": "d730f228",
   "metadata": {},
   "outputs": [
    {
     "name": "stdout",
     "output_type": "stream",
     "text": [
      "Please enter the temperature in Celsius: -2\n",
      "It's freezing\n"
     ]
    }
   ],
   "source": [
    "temperature = float(input(\"Please enter the temperature in Celsius: \")) # Ask the user for temperature in Celsius\n",
    " \n",
    "if temperature < 0: # Determine the appropriate message based on the temperature range\n",
    "    print(\"It's freezing\")\n",
    "elif 0 <= temperature <= 10:\n",
    "    print(\"It's cool\")\n",
    "elif 10 < temperature <= 20:\n",
    "    print(\"It's warm\")\n",
    "else:\n",
    "    print(\"It's hot\") # print the temperature"
   ]
  },
  {
   "cell_type": "code",
   "execution_count": 29,
   "id": "e3a8149b",
   "metadata": {},
   "outputs": [
    {
     "name": "stdout",
     "output_type": "stream",
     "text": [
      "Please enter the temperature in Celsius: 25\n",
      "It's hot\n"
     ]
    }
   ],
   "source": [
    "temperature = float(input(\"Please enter the temperature in Celsius: \")) # Ask the user for temperature in Celsius\n",
    " \n",
    "if temperature < 0: # Determine the appropriate message based on the temperature range\n",
    "    print(\"It's freezing\")\n",
    "elif 0 <= temperature <= 10:\n",
    "    print(\"It's cool\")\n",
    "elif 10 < temperature <= 20:\n",
    "    print(\"It's warm\")\n",
    "else:\n",
    "    print(\"It's hot\") # print the temperature"
   ]
  },
  {
   "cell_type": "markdown",
   "id": "156ff38d",
   "metadata": {},
   "source": [
    "#### 6) Write a program that asks the user for a number (1-7) and prints the corresponding day of the week."
   ]
  },
  {
   "cell_type": "code",
   "execution_count": 31,
   "id": "39adb137",
   "metadata": {},
   "outputs": [
    {
     "name": "stdout",
     "output_type": "stream",
     "text": [
      "enter a number between 1 and 7: 6\n",
      "The day of the week is: Friday\n"
     ]
    }
   ],
   "source": [
    "day_num = int(input(\"enter a number between 1 and 7: \")) # Ask the user for a number (1-7)\n",
    "\n",
    "if day_num == 1: # Determine the corresponding day of the week by giving 'if','elif',else. statements\n",
    "    day_name = \"Sunday\"\n",
    "elif day_num == 2:\n",
    "    day_name = \"Monday\"\n",
    "elif day_num == 3:\n",
    "    day_name = \"Tuesday\"\n",
    "elif day_num == 4:\n",
    "    day_name = \"Wednesday\"\n",
    "elif day_num == 5:\n",
    "    day_name = \"Thursday\"\n",
    "elif day_num == 6:\n",
    "    day_name = \"Friday\"\n",
    "elif day_num == 7:\n",
    "    day_name = \"Saturday\"\n",
    "else:\n",
    "    day_name = \"Invalid input. enter a number between 1 and 7.\"\n",
    "print(\"The day of the week is:\", day_name) # Print the corresponding day of the week"
   ]
  },
  {
   "cell_type": "code",
   "execution_count": 32,
   "id": "f957166f",
   "metadata": {},
   "outputs": [
    {
     "name": "stdout",
     "output_type": "stream",
     "text": [
      "enter a number between 1 and 7: 8\n",
      "Invalid input. enter a number between 1 and 7.\n"
     ]
    }
   ],
   "source": [
    "day_num = int(input(\"enter a number between 1 and 7: \")) # Ask the user for a number (1-7)\n",
    "\n",
    "days_of_week = {  # Define a dictionary mapping numbers to days of the week\n",
    "    1: \"Monday\",\n",
    "    2: \"Tuesday\",\n",
    "    3: \"Wednesday\",\n",
    "    4: \"Thursday\",\n",
    "    5: \"Friday\",\n",
    "    6: \"Saturday\",\n",
    "    7: \"Sunday\"\n",
    "}\n",
    "day_name = days_of_week.get(day_num)\n",
    "if day_name: # Print the corresponding day of the week if the input is valid\n",
    "    print(\"The day of the week is:\", day_name)\n",
    "else:\n",
    "    print(\"Invalid input. enter a number between 1 and 7.\")"
   ]
  },
  {
   "cell_type": "markdown",
   "id": "9c0668e2",
   "metadata": {},
   "source": [
    "#### 7) Write a program that asks the user for a number and prints \"In range\" if the number is between 10 and 20 (inclusive), and \"Out of range\" otherwise.\n"
   ]
  },
  {
   "cell_type": "code",
   "execution_count": 33,
   "id": "031da51c",
   "metadata": {},
   "outputs": [
    {
     "name": "stdout",
     "output_type": "stream",
     "text": [
      "Please enter a number: 16\n",
      "In range\n"
     ]
    }
   ],
   "source": [
    "number = int(input(\"Please enter a number: \")) # Ask the user for a number\n",
    "\n",
    "if 10 <= number <= 20: # Check if the number is in the range 10 to 20 (inclusive) and print the appropriate number\n",
    "    print(\"In range\")\n",
    "else:\n",
    "    print(\"Out of range\")"
   ]
  },
  {
   "cell_type": "code",
   "execution_count": 34,
   "id": "1c697ece",
   "metadata": {},
   "outputs": [
    {
     "name": "stdout",
     "output_type": "stream",
     "text": [
      "Please enter a number: 8\n",
      "Out of range\n"
     ]
    }
   ],
   "source": [
    "number = int(input(\"Please enter a number: \")) # Ask the user for a number\n",
    "\n",
    "if 10 <= number <= 20: # Check if the number is in the range 10 to 20 (inclusive) and print the appropriate print value\n",
    "    print(\"In range\")\n",
    "else:\n",
    "    print(\"Out of range\")"
   ]
  },
  {
   "cell_type": "markdown",
   "id": "aaeb0e8c",
   "metadata": {},
   "source": [
    "#### 8) Write a program that asks the user for an integer and prints whether it's even or odd."
   ]
  },
  {
   "cell_type": "code",
   "execution_count": 35,
   "id": "c546bafa",
   "metadata": {},
   "outputs": [
    {
     "name": "stdout",
     "output_type": "stream",
     "text": [
      "Please enter an integer: 6\n",
      "The number is even.\n"
     ]
    }
   ],
   "source": [
    "number = int(input(\"Please enter an integer: \")) # Ask the user for an integer\n",
    "\n",
    "if number % 2 == 0: # Check if the number is even or odd and print the appropriate message\n",
    "    print(\"The number is even.\")\n",
    "else:\n",
    "    print(\"The number is odd.\")"
   ]
  },
  {
   "cell_type": "code",
   "execution_count": 36,
   "id": "1bc01821",
   "metadata": {},
   "outputs": [
    {
     "name": "stdout",
     "output_type": "stream",
     "text": [
      "Please enter an integer: 7\n",
      "The number is odd.\n"
     ]
    }
   ],
   "source": [
    "number = int(input(\"Please enter an integer: \")) # Ask the user for an integer\n",
    "\n",
    "if number % 2 == 0: # Check if the number is even or odd and print the appropriate message\n",
    "    print(\"The number is even.\")\n",
    "else:\n",
    "    print(\"The number is odd.\")"
   ]
  },
  {
   "cell_type": "markdown",
   "id": "43ec9f25",
   "metadata": {},
   "source": [
    "#### 9) Write a Python program to add 'ing' at the end of a given string (string length should be equal to or more than 3). If the given string already ends with 'ing' then add 'ly' instead.If the string length of the given string is less than 3, leave it unchanged"
   ]
  },
  {
   "cell_type": "code",
   "execution_count": 38,
   "id": "4232b095",
   "metadata": {},
   "outputs": [
    {
     "name": "stdout",
     "output_type": "stream",
     "text": [
      "Please enter a string: accordingly\n",
      "Modified string: accordinglying\n"
     ]
    }
   ],
   "source": [
    "input_string = input(\"Please enter a string: \") # Ask the user for a string\n",
    "\n",
    "if len(input_string) >= 3: # first Check the length of the input string and we have to modify it accordingly\n",
    "    if input_string.endswith('ing'):\n",
    "        modified_string = input_string + 'ly'\n",
    "    else:\n",
    "        modified_string = input_string + 'ing'\n",
    "else:\n",
    "    modified_string = input_string\n",
    "\n",
    "print(\"Modified string:\", modified_string) # Print the modified string"
   ]
  },
  {
   "cell_type": "code",
   "execution_count": 39,
   "id": "a83ddabe",
   "metadata": {},
   "outputs": [
    {
     "name": "stdout",
     "output_type": "stream",
     "text": [
      "Please enter a string: tring\n",
      "Modified string: tringly\n"
     ]
    }
   ],
   "source": [
    "input_string = input(\"Please enter a string: \") # Ask the user for a string\n",
    "\n",
    "if len(input_string) >= 3: # first Check the length of the input string and we have to modify it accordingly\n",
    "    if input_string.endswith('ing'):\n",
    "        modified_string = input_string + 'ly'\n",
    "    else:\n",
    "        modified_string = input_string + 'ing'\n",
    "else:\n",
    "    modified_string = input_string\n",
    "\n",
    "print(\"Modified string:\", modified_string) # Print the modified string"
   ]
  },
  {
   "cell_type": "code",
   "execution_count": 41,
   "id": "4bbc721a",
   "metadata": {},
   "outputs": [
    {
     "name": "stdout",
     "output_type": "stream",
     "text": [
      "Please enter a string: kranthi hop\n",
      "Modified string: kranthi hoping\n"
     ]
    }
   ],
   "source": [
    "input_string = input(\"Please enter a string: \") # Ask the user for a string\n",
    "\n",
    "if len(input_string) >= 3: # first Check the length of the input string and we have to modify it accordingly\n",
    "    if input_string.endswith('ing'):\n",
    "        modified_string = input_string + 'ly'\n",
    "    else:\n",
    "        modified_string = input_string + 'ing'\n",
    "else:\n",
    "    modified_string = input_string\n",
    "\n",
    "print(\"Modified string:\", modified_string) # Print the modified string"
   ]
  },
  {
   "cell_type": "code",
   "execution_count": null,
   "id": "d64fdf29",
   "metadata": {},
   "outputs": [],
   "source": []
  }
 ],
 "metadata": {
  "kernelspec": {
   "display_name": "Python 3 (ipykernel)",
   "language": "python",
   "name": "python3"
  },
  "language_info": {
   "codemirror_mode": {
    "name": "ipython",
    "version": 3
   },
   "file_extension": ".py",
   "mimetype": "text/x-python",
   "name": "python",
   "nbconvert_exporter": "python",
   "pygments_lexer": "ipython3",
   "version": "3.11.5"
  }
 },
 "nbformat": 4,
 "nbformat_minor": 5
}
