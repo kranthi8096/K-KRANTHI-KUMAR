{
 "cells": [
  {
   "cell_type": "markdown",
   "id": "2c56164c",
   "metadata": {},
   "source": [
    "### string methods"
   ]
  },
  {
   "cell_type": "markdown",
   "id": "86310e1c",
   "metadata": {},
   "source": [
    "#### find()\n",
    "##### The find() method finds the first occurrence of the specified value.The find() method returns -1 if the value is not found.The find() method is almost the same as the index() method, the only difference is that the index() method raises an exception if the value is not found."
   ]
  },
  {
   "cell_type": "code",
   "execution_count": 1,
   "id": "b0f0fa1d",
   "metadata": {},
   "outputs": [
    {
     "name": "stdout",
     "output_type": "stream",
     "text": [
      "Help on method_descriptor:\n",
      "\n",
      "find(...)\n",
      "    S.find(sub[, start[, end]]) -> int\n",
      "    \n",
      "    Return the lowest index in S where substring sub is found,\n",
      "    such that sub is contained within S[start:end].  Optional\n",
      "    arguments start and end are interpreted as in slice notation.\n",
      "    \n",
      "    Return -1 on failure.\n",
      "\n"
     ]
    }
   ],
   "source": [
    "help(str.find)"
   ]
  },
  {
   "cell_type": "code",
   "execution_count": 2,
   "id": "a6509215",
   "metadata": {},
   "outputs": [],
   "source": [
    "a = 'This has to be completed by tomorrow i;e 17th october 2023. From hereon, your daily tasks and weekly tasks will be shared'"
   ]
  },
  {
   "cell_type": "code",
   "execution_count": 3,
   "id": "fda73c9e",
   "metadata": {},
   "outputs": [
    {
     "data": {
      "text/plain": [
       "'This has to be completed by tomorrow i;e 17th october 2023. From hereon, your daily tasks and weekly tasks will be shared'"
      ]
     },
     "execution_count": 3,
     "metadata": {},
     "output_type": "execute_result"
    }
   ],
   "source": [
    "a"
   ]
  },
  {
   "cell_type": "code",
   "execution_count": 4,
   "id": "c6ccc23c",
   "metadata": {},
   "outputs": [
    {
     "data": {
      "text/plain": [
       "78"
      ]
     },
     "execution_count": 4,
     "metadata": {},
     "output_type": "execute_result"
    }
   ],
   "source": [
    "a.find('daily')"
   ]
  },
  {
   "cell_type": "code",
   "execution_count": 5,
   "id": "6674162b",
   "metadata": {},
   "outputs": [
    {
     "data": {
      "text/plain": [
       "79"
      ]
     },
     "execution_count": 5,
     "metadata": {},
     "output_type": "execute_result"
    }
   ],
   "source": [
    "a.find('a', 20) #after 20"
   ]
  },
  {
   "cell_type": "code",
   "execution_count": 6,
   "id": "7c22d824",
   "metadata": {},
   "outputs": [
    {
     "data": {
      "text/plain": [
       "-1"
      ]
     },
     "execution_count": 6,
     "metadata": {},
     "output_type": "execute_result"
    }
   ],
   "source": [
    "a.find('b', 0, 10) # no value found"
   ]
  },
  {
   "cell_type": "code",
   "execution_count": 7,
   "id": "f500c997",
   "metadata": {},
   "outputs": [
    {
     "data": {
      "text/plain": [
       "6"
      ]
     },
     "execution_count": 7,
     "metadata": {},
     "output_type": "execute_result"
    }
   ],
   "source": [
    "a.find('a', 0, 20) # b/w 0 to 20"
   ]
  },
  {
   "cell_type": "markdown",
   "id": "73663e5a",
   "metadata": {},
   "source": [
    "#### count()\n",
    "##### The count() method returns the number of elements with the specified value.\n"
   ]
  },
  {
   "cell_type": "code",
   "execution_count": 8,
   "id": "b9829a92",
   "metadata": {},
   "outputs": [
    {
     "name": "stdout",
     "output_type": "stream",
     "text": [
      "Help on method_descriptor:\n",
      "\n",
      "count(...)\n",
      "    S.count(sub[, start[, end]]) -> int\n",
      "    \n",
      "    Return the number of non-overlapping occurrences of substring sub in\n",
      "    string S[start:end].  Optional arguments start and end are\n",
      "    interpreted as in slice notation.\n",
      "\n"
     ]
    }
   ],
   "source": [
    "help(str.count)"
   ]
  },
  {
   "cell_type": "code",
   "execution_count": 10,
   "id": "0d09e84d",
   "metadata": {},
   "outputs": [
    {
     "data": {
      "text/plain": [
       "6"
      ]
     },
     "execution_count": 10,
     "metadata": {},
     "output_type": "execute_result"
    }
   ],
   "source": [
    "a.count('a') # starting a count place"
   ]
  },
  {
   "cell_type": "code",
   "execution_count": 11,
   "id": "04dc7db1",
   "metadata": {},
   "outputs": [
    {
     "data": {
      "text/plain": [
       "1"
      ]
     },
     "execution_count": 11,
     "metadata": {},
     "output_type": "execute_result"
    }
   ],
   "source": [
    "a.count('a', 0, 25) # a count b/w 0 to 25"
   ]
  },
  {
   "cell_type": "code",
   "execution_count": 12,
   "id": "dcfe4563",
   "metadata": {},
   "outputs": [
    {
     "data": {
      "text/plain": [
       "117"
      ]
     },
     "execution_count": 12,
     "metadata": {},
     "output_type": "execute_result"
    }
   ],
   "source": [
    "a.rfind('a') # rfind find start from right"
   ]
  },
  {
   "cell_type": "code",
   "execution_count": 13,
   "id": "52b5f7bb",
   "metadata": {},
   "outputs": [
    {
     "data": {
      "text/plain": [
       "102"
      ]
     },
     "execution_count": 13,
     "metadata": {},
     "output_type": "execute_result"
    }
   ],
   "source": [
    "a.rfind('a', 50, 116) "
   ]
  },
  {
   "cell_type": "code",
   "execution_count": 14,
   "id": "8872cbe0",
   "metadata": {},
   "outputs": [],
   "source": [
    "m = 'malayalam'"
   ]
  },
  {
   "cell_type": "code",
   "execution_count": 15,
   "id": "0f019f63",
   "metadata": {},
   "outputs": [
    {
     "data": {
      "text/plain": [
       "'malayalam'"
      ]
     },
     "execution_count": 15,
     "metadata": {},
     "output_type": "execute_result"
    }
   ],
   "source": [
    "m"
   ]
  },
  {
   "cell_type": "code",
   "execution_count": 17,
   "id": "7d058420",
   "metadata": {},
   "outputs": [
    {
     "data": {
      "text/plain": [
       "(1, 1)"
      ]
     },
     "execution_count": 17,
     "metadata": {},
     "output_type": "execute_result"
    }
   ],
   "source": [
    "m.find('a'), m.index('a')"
   ]
  },
  {
   "cell_type": "code",
   "execution_count": 18,
   "id": "27f8560d",
   "metadata": {},
   "outputs": [
    {
     "data": {
      "text/plain": [
       "-1"
      ]
     },
     "execution_count": 18,
     "metadata": {},
     "output_type": "execute_result"
    }
   ],
   "source": [
    "m.find('z') # if we find no word in it executes -1"
   ]
  },
  {
   "cell_type": "code",
   "execution_count": 19,
   "id": "55164fed",
   "metadata": {},
   "outputs": [
    {
     "ename": "ValueError",
     "evalue": "substring not found",
     "output_type": "error",
     "traceback": [
      "\u001b[1;31m---------------------------------------------------------------------------\u001b[0m",
      "\u001b[1;31mValueError\u001b[0m                                Traceback (most recent call last)",
      "Cell \u001b[1;32mIn[19], line 1\u001b[0m\n\u001b[1;32m----> 1\u001b[0m m\u001b[38;5;241m.\u001b[39mfind(\u001b[38;5;124m'\u001b[39m\u001b[38;5;124mz\u001b[39m\u001b[38;5;124m'\u001b[39m), m\u001b[38;5;241m.\u001b[39mindex(\u001b[38;5;124m'\u001b[39m\u001b[38;5;124mz\u001b[39m\u001b[38;5;124m'\u001b[39m)\n",
      "\u001b[1;31mValueError\u001b[0m: substring not found"
     ]
    }
   ],
   "source": [
    "m.find('z'), m.index('z') # if we find no word in what we gave as a string we find valueerror"
   ]
  },
  {
   "cell_type": "code",
   "execution_count": 20,
   "id": "c04c5365",
   "metadata": {},
   "outputs": [],
   "source": [
    "#m.find('z'), m.index('z') # if we keep # in starting it dosenot show any error valueerror"
   ]
  },
  {
   "cell_type": "markdown",
   "id": "09bd5c05",
   "metadata": {},
   "source": [
    "#### replace()\n",
    "##### The replace() method replaces a specified phrase with another specified phrase."
   ]
  },
  {
   "cell_type": "code",
   "execution_count": 21,
   "id": "98565965",
   "metadata": {},
   "outputs": [
    {
     "name": "stdout",
     "output_type": "stream",
     "text": [
      "Help on method_descriptor:\n",
      "\n",
      "replace(self, old, new, count=-1, /)\n",
      "    Return a copy with all occurrences of substring old replaced by new.\n",
      "    \n",
      "      count\n",
      "        Maximum number of occurrences to replace.\n",
      "        -1 (the default value) means replace all occurrences.\n",
      "    \n",
      "    If the optional argument count is given, only the first count occurrences are\n",
      "    replaced.\n",
      "\n"
     ]
    }
   ],
   "source": [
    "help(str.replace)"
   ]
  },
  {
   "cell_type": "code",
   "execution_count": 24,
   "id": "6b53973a",
   "metadata": {},
   "outputs": [],
   "source": [
    "k = 'language'"
   ]
  },
  {
   "cell_type": "code",
   "execution_count": 27,
   "id": "fdbde2a1",
   "metadata": {},
   "outputs": [
    {
     "data": {
      "text/plain": [
       "'language'"
      ]
     },
     "execution_count": 27,
     "metadata": {},
     "output_type": "execute_result"
    }
   ],
   "source": [
    "k"
   ]
  },
  {
   "cell_type": "code",
   "execution_count": 28,
   "id": "2ff89661",
   "metadata": {},
   "outputs": [
    {
     "data": {
      "text/plain": [
       "'lanGuaGe'"
      ]
     },
     "execution_count": 28,
     "metadata": {},
     "output_type": "execute_result"
    }
   ],
   "source": [
    "k.replace('g', 'G') # replacing the g with G"
   ]
  },
  {
   "cell_type": "code",
   "execution_count": 30,
   "id": "d75ad294",
   "metadata": {},
   "outputs": [
    {
     "data": {
      "text/plain": [
       "'lAnguage'"
      ]
     },
     "execution_count": 30,
     "metadata": {},
     "output_type": "execute_result"
    }
   ],
   "source": [
    "k.replace('a', 'A', 1) # replacing only firt two occurances by giving count(1)"
   ]
  },
  {
   "cell_type": "code",
   "execution_count": 31,
   "id": "cdf5e6ed",
   "metadata": {},
   "outputs": [
    {
     "data": {
      "text/plain": [
       "'lAnguAge'"
      ]
     },
     "execution_count": 31,
     "metadata": {},
     "output_type": "execute_result"
    }
   ],
   "source": [
    "k.replace('a', 'A', 5) # if we gave count is more but characters is less how many it want it take and execute"
   ]
  },
  {
   "cell_type": "markdown",
   "id": "bc061bea",
   "metadata": {},
   "source": [
    "#### split()\n",
    "##### The split() method splits a string into a list.we can specify the separator, default separator is any whitespace."
   ]
  },
  {
   "cell_type": "code",
   "execution_count": 34,
   "id": "da486fc7",
   "metadata": {},
   "outputs": [
    {
     "name": "stdout",
     "output_type": "stream",
     "text": [
      "Help on built-in function split:\n",
      "\n",
      "split(sep=None, maxsplit=-1) method of builtins.str instance\n",
      "    Return a list of the substrings in the string, using sep as the separator string.\n",
      "    \n",
      "      sep\n",
      "        The separator used to split the string.\n",
      "    \n",
      "        When set to None (the default value), will split on any whitespace\n",
      "        character (including \\\\n \\\\r \\\\t \\\\f and spaces) and will discard\n",
      "        empty strings from the result.\n",
      "      maxsplit\n",
      "        Maximum number of splits (starting from the left).\n",
      "        -1 (the default value) means no limit.\n",
      "    \n",
      "    Note, str.split() is mainly useful for data that has been intentionally\n",
      "    delimited.  With natural text that includes punctuation, consider using\n",
      "    the regular expression module.\n",
      "\n"
     ]
    }
   ],
   "source": [
    "help(m.split)"
   ]
  },
  {
   "cell_type": "code",
   "execution_count": 6,
   "id": "93e4a157",
   "metadata": {},
   "outputs": [],
   "source": [
    "x = '''How much wood would a woodchuck chuck if a woodchuck could chuck wood?\n",
    "He would chuck, he would, as much as he could, and chuck as much wood\n",
    "As a woodchuck would if a woodchuck could chuck wood'''"
   ]
  },
  {
   "cell_type": "code",
   "execution_count": 36,
   "id": "0a88a87f",
   "metadata": {},
   "outputs": [
    {
     "data": {
      "text/plain": [
       "'How much wood would a woodchuck chuck if a woodchuck could chuck wood?\\nHe would chuck, he would, as much as he could, and chuck as much wood\\nAs a woodchuck would if a woodchuck could chuck wood'"
      ]
     },
     "execution_count": 36,
     "metadata": {},
     "output_type": "execute_result"
    }
   ],
   "source": [
    "x"
   ]
  },
  {
   "cell_type": "markdown",
   "id": "c06447e4",
   "metadata": {},
   "source": [
    "#### separator\n",
    "##### The separator used to split the string.\n",
    "    "
   ]
  },
  {
   "cell_type": "code",
   "execution_count": 38,
   "id": "ea04a0d0",
   "metadata": {},
   "outputs": [
    {
     "data": {
      "text/plain": [
       "['How',\n",
       " 'much',\n",
       " 'wood',\n",
       " 'would',\n",
       " 'a',\n",
       " 'woodchuck',\n",
       " 'chuck',\n",
       " 'if',\n",
       " 'a',\n",
       " 'woodchuck',\n",
       " 'could',\n",
       " 'chuck',\n",
       " 'wood?',\n",
       " 'He',\n",
       " 'would',\n",
       " 'chuck,',\n",
       " 'he',\n",
       " 'would,',\n",
       " 'as',\n",
       " 'much',\n",
       " 'as',\n",
       " 'he',\n",
       " 'could,',\n",
       " 'and',\n",
       " 'chuck',\n",
       " 'as',\n",
       " 'much',\n",
       " 'wood',\n",
       " 'As',\n",
       " 'a',\n",
       " 'woodchuck',\n",
       " 'would',\n",
       " 'if',\n",
       " 'a',\n",
       " 'woodchuck',\n",
       " 'could',\n",
       " 'chuck',\n",
       " 'wood']"
      ]
     },
     "execution_count": 38,
     "metadata": {},
     "output_type": "execute_result"
    }
   ],
   "source": [
    "x.split() # split will help in seperate every word"
   ]
  },
  {
   "cell_type": "markdown",
   "id": "9651071c",
   "metadata": {},
   "source": [
    "#### maxsplit\n",
    "##### Maximum number of splits (starting from the left).-1 (the default value) means no limit.\n",
    "    "
   ]
  },
  {
   "cell_type": "code",
   "execution_count": 39,
   "id": "53e25401",
   "metadata": {},
   "outputs": [
    {
     "data": {
      "text/plain": [
       "['How',\n",
       " 'much',\n",
       " 'wood',\n",
       " 'would a woodchuck chuck if a woodchuck could chuck wood?\\nHe would chuck, he would, as much as he could, and chuck as much wood\\nAs a woodchuck would if a woodchuck could chuck wood']"
      ]
     },
     "execution_count": 39,
     "metadata": {},
     "output_type": "execute_result"
    }
   ],
   "source": [
    "x.split(' ', maxsplit=3)"
   ]
  },
  {
   "cell_type": "code",
   "execution_count": 40,
   "id": "25bb83fc",
   "metadata": {},
   "outputs": [
    {
     "data": {
      "text/plain": [
       "['How',\n",
       " 'much',\n",
       " 'wood',\n",
       " 'would',\n",
       " 'a',\n",
       " 'woodchuck',\n",
       " 'chuck',\n",
       " 'if',\n",
       " 'a',\n",
       " 'woodchuck',\n",
       " 'could',\n",
       " 'chuck',\n",
       " 'wood?',\n",
       " 'He',\n",
       " 'would',\n",
       " 'chuck,',\n",
       " 'he',\n",
       " 'would,',\n",
       " 'as',\n",
       " 'much',\n",
       " 'as',\n",
       " 'he',\n",
       " 'could,',\n",
       " 'and',\n",
       " 'chuck',\n",
       " 'as',\n",
       " 'much',\n",
       " 'wood',\n",
       " 'As',\n",
       " 'a',\n",
       " 'woodchuck',\n",
       " 'would',\n",
       " 'if',\n",
       " 'a',\n",
       " 'woodchuck',\n",
       " 'could',\n",
       " 'chuck',\n",
       " 'wood']"
      ]
     },
     "execution_count": 40,
     "metadata": {},
     "output_type": "execute_result"
    }
   ],
   "source": [
    "x.rsplit()"
   ]
  },
  {
   "cell_type": "markdown",
   "id": "9fb1c00f",
   "metadata": {},
   "source": [
    "#### rsplit()\n",
    "##### The rsplit() method splits a string into a list, starting from the right.If no \"max\" is specified, this method will return the same as the split() method."
   ]
  },
  {
   "cell_type": "code",
   "execution_count": 41,
   "id": "a03edf2a",
   "metadata": {},
   "outputs": [
    {
     "data": {
      "text/plain": [
       "True"
      ]
     },
     "execution_count": 41,
     "metadata": {},
     "output_type": "execute_result"
    }
   ],
   "source": [
    "'rsplit' in dir(str)"
   ]
  },
  {
   "cell_type": "code",
   "execution_count": 42,
   "id": "48d3251f",
   "metadata": {},
   "outputs": [],
   "source": [
    "rl = x.rsplit\n",
    "ll = x.split"
   ]
  },
  {
   "cell_type": "code",
   "execution_count": 43,
   "id": "20b6e7a0",
   "metadata": {},
   "outputs": [
    {
     "data": {
      "text/plain": [
       "False"
      ]
     },
     "execution_count": 43,
     "metadata": {},
     "output_type": "execute_result"
    }
   ],
   "source": [
    "rl == ll"
   ]
  },
  {
   "cell_type": "code",
   "execution_count": 44,
   "id": "7c82b234",
   "metadata": {},
   "outputs": [
    {
     "data": {
      "text/plain": [
       "['where', 'are', 'you', '?']"
      ]
     },
     "execution_count": 44,
     "metadata": {},
     "output_type": "execute_result"
    }
   ],
   "source": [
    "'where are you ?' .rsplit(maxsplit=3)"
   ]
  },
  {
   "cell_type": "code",
   "execution_count": 45,
   "id": "1b73ed75",
   "metadata": {},
   "outputs": [
    {
     "data": {
      "text/plain": [
       "['where are', 'you', '?']"
      ]
     },
     "execution_count": 45,
     "metadata": {},
     "output_type": "execute_result"
    }
   ],
   "source": [
    "'where are you ?' .rsplit(maxsplit=2)"
   ]
  },
  {
   "cell_type": "markdown",
   "id": "285d63bf",
   "metadata": {},
   "source": [
    "#### partition(), rpartition()\n",
    "##### the partition() method splits the string from the first occurrence of the separator.\n",
    "##### while the rpartition() separates the string from the last occurrence of the separator."
   ]
  },
  {
   "cell_type": "code",
   "execution_count": 46,
   "id": "9cf19d47",
   "metadata": {},
   "outputs": [
    {
     "name": "stdout",
     "output_type": "stream",
     "text": [
      "Help on built-in function partition:\n",
      "\n",
      "partition(sep, /) method of builtins.str instance\n",
      "    Partition the string into three parts using the given separator.\n",
      "    \n",
      "    This will search for the separator in the string.  If the separator is found,\n",
      "    returns a 3-tuple containing the part before the separator, the separator\n",
      "    itself, and the part after it.\n",
      "    \n",
      "    If the separator is not found, returns a 3-tuple containing the original string\n",
      "    and two empty strings.\n",
      "\n"
     ]
    }
   ],
   "source": [
    "help(x.partition)"
   ]
  },
  {
   "cell_type": "code",
   "execution_count": 47,
   "id": "b528f918",
   "metadata": {},
   "outputs": [
    {
     "data": {
      "text/plain": [
       "('How',\n",
       " ' ',\n",
       " 'much wood would a woodchuck chuck if a woodchuck could chuck wood?\\nHe would chuck, he would, as much as he could, and chuck as much wood\\nAs a woodchuck would if a woodchuck could chuck wood')"
      ]
     },
     "execution_count": 47,
     "metadata": {},
     "output_type": "execute_result"
    }
   ],
   "source": [
    "x.partition(' ')"
   ]
  },
  {
   "cell_type": "code",
   "execution_count": 48,
   "id": "6a6f18bc",
   "metadata": {},
   "outputs": [
    {
     "data": {
      "text/plain": [
       "'language'"
      ]
     },
     "execution_count": 48,
     "metadata": {},
     "output_type": "execute_result"
    }
   ],
   "source": [
    "k"
   ]
  },
  {
   "cell_type": "code",
   "execution_count": 49,
   "id": "c3699ce3",
   "metadata": {},
   "outputs": [
    {
     "data": {
      "text/plain": [
       "['l', 'ngu', 'ge']"
      ]
     },
     "execution_count": 49,
     "metadata": {},
     "output_type": "execute_result"
    }
   ],
   "source": [
    "k.split('a')"
   ]
  },
  {
   "cell_type": "code",
   "execution_count": 53,
   "id": "cde8e0cd",
   "metadata": {},
   "outputs": [
    {
     "data": {
      "text/plain": [
       "('l', 'a', 'nguage')"
      ]
     },
     "execution_count": 53,
     "metadata": {},
     "output_type": "execute_result"
    }
   ],
   "source": [
    "k.partition('a') # partition will give you always 3 partitions what ever it may be"
   ]
  },
  {
   "cell_type": "code",
   "execution_count": 54,
   "id": "aa0e8e78",
   "metadata": {},
   "outputs": [
    {
     "data": {
      "text/plain": [
       "(('l', 'a', 'nguage'), ('', 'l', 'anguage'))"
      ]
     },
     "execution_count": 54,
     "metadata": {},
     "output_type": "execute_result"
    }
   ],
   "source": [
    "k.partition('a'), k.partition('l')"
   ]
  },
  {
   "cell_type": "code",
   "execution_count": 60,
   "id": "c04279ee",
   "metadata": {},
   "outputs": [
    {
     "data": {
      "text/plain": [
       "['language']"
      ]
     },
     "execution_count": 60,
     "metadata": {},
     "output_type": "execute_result"
    }
   ],
   "source": [
    "k.split('z') # if we enter different alphabet in split it execute total string what we mentioned"
   ]
  },
  {
   "cell_type": "code",
   "execution_count": 63,
   "id": "99796ae6",
   "metadata": {},
   "outputs": [
    {
     "data": {
      "text/plain": [
       "('language', '', '')"
      ]
     },
     "execution_count": 63,
     "metadata": {},
     "output_type": "execute_result"
    }
   ],
   "source": [
    "k.partition('z')\n",
    "# if we enter different alphabet in partition it execute total string what we mentioned and partition remaining will be empty string'',''"
   ]
  },
  {
   "cell_type": "code",
   "execution_count": 64,
   "id": "cbaa1e42",
   "metadata": {},
   "outputs": [
    {
     "data": {
      "text/plain": [
       "('', 'l', 'anguage')"
      ]
     },
     "execution_count": 64,
     "metadata": {},
     "output_type": "execute_result"
    }
   ],
   "source": [
    "k.partition('l')"
   ]
  },
  {
   "cell_type": "code",
   "execution_count": 65,
   "id": "ae0f4997",
   "metadata": {},
   "outputs": [
    {
     "data": {
      "text/plain": [
       "'language'"
      ]
     },
     "execution_count": 65,
     "metadata": {},
     "output_type": "execute_result"
    }
   ],
   "source": [
    "k.partition('z')[0]+k.partition('z')[1]+k.partition('z')[2]"
   ]
  },
  {
   "cell_type": "code",
   "execution_count": 66,
   "id": "67390f67",
   "metadata": {},
   "outputs": [
    {
     "data": {
      "text/plain": [
       "('langu', 'a', 'ge')"
      ]
     },
     "execution_count": 66,
     "metadata": {},
     "output_type": "execute_result"
    }
   ],
   "source": [
    "k.rpartition('a') # if we execute rpartition it execute from right to left"
   ]
  },
  {
   "cell_type": "markdown",
   "id": "a3b2d29b",
   "metadata": {},
   "source": [
    "#### splitlines()\n",
    "##### The splitlines() method splits a string into a list. The splitting is done at line breaks."
   ]
  },
  {
   "cell_type": "code",
   "execution_count": 2,
   "id": "1c7ddf34",
   "metadata": {},
   "outputs": [
    {
     "name": "stdout",
     "output_type": "stream",
     "text": [
      "Help on method_descriptor:\n",
      "\n",
      "splitlines(self, /, keepends=False)\n",
      "    Return a list of the lines in the string, breaking at line boundaries.\n",
      "    \n",
      "    Line breaks are not included in the resulting list unless keepends is given and\n",
      "    true.\n",
      "\n"
     ]
    }
   ],
   "source": [
    "help(str.splitlines)"
   ]
  },
  {
   "cell_type": "code",
   "execution_count": 6,
   "id": "4ba13ccb",
   "metadata": {},
   "outputs": [
    {
     "data": {
      "text/plain": [
       "'How much wood would a woodchuck chuck if a woodchuck could chuck wood?\\nHe would chuck, he would, as much as he could, and chuck as much wood\\nAs a woodchuck would if a woodchuck could chuck wood'"
      ]
     },
     "execution_count": 6,
     "metadata": {},
     "output_type": "execute_result"
    }
   ],
   "source": [
    "x"
   ]
  },
  {
   "cell_type": "code",
   "execution_count": 7,
   "id": "877600ee",
   "metadata": {},
   "outputs": [
    {
     "data": {
      "text/plain": [
       "str"
      ]
     },
     "execution_count": 7,
     "metadata": {},
     "output_type": "execute_result"
    }
   ],
   "source": [
    "type(x)"
   ]
  },
  {
   "cell_type": "code",
   "execution_count": 69,
   "id": "14fd8182",
   "metadata": {},
   "outputs": [
    {
     "data": {
      "text/plain": [
       "['How much wood would a woodchuck chuck if a woodchuck could chuck wood?',\n",
       " 'He would chuck, he would, as much as he could, and chuck as much wood',\n",
       " 'As a woodchuck would if a woodchuck could chuck wood']"
      ]
     },
     "execution_count": 69,
     "metadata": {},
     "output_type": "execute_result"
    }
   ],
   "source": [
    "x.split('\\n') "
   ]
  },
  {
   "cell_type": "code",
   "execution_count": 70,
   "id": "56186a45",
   "metadata": {},
   "outputs": [
    {
     "data": {
      "text/plain": [
       "['How much wood would a woodchuck chuck if a woodchuck could chuck wood?',\n",
       " 'He would chuck, he would, as much as he could, and chuck as much wood',\n",
       " 'As a woodchuck would if a woodchuck could chuck wood']"
      ]
     },
     "execution_count": 70,
     "metadata": {},
     "output_type": "execute_result"
    }
   ],
   "source": [
    "x.splitlines() # we can use ('\\n') or splitlines() to split "
   ]
  },
  {
   "cell_type": "code",
   "execution_count": null,
   "id": "e29409ff",
   "metadata": {},
   "outputs": [],
   "source": []
  },
  {
   "cell_type": "code",
   "execution_count": null,
   "id": "70977dde",
   "metadata": {},
   "outputs": [],
   "source": []
  }
 ],
 "metadata": {
  "kernelspec": {
   "display_name": "Python 3 (ipykernel)",
   "language": "python",
   "name": "python3"
  },
  "language_info": {
   "codemirror_mode": {
    "name": "ipython",
    "version": 3
   },
   "file_extension": ".py",
   "mimetype": "text/x-python",
   "name": "python",
   "nbconvert_exporter": "python",
   "pygments_lexer": "ipython3",
   "version": "3.11.5"
  }
 },
 "nbformat": 4,
 "nbformat_minor": 5
}
