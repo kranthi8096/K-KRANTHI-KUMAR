{
 "cells": [
  {
   "cell_type": "markdown",
   "id": "773cec05",
   "metadata": {},
   "source": [
    "#### 1) Create rock-paper-scissors by using the if condition."
   ]
  },
  {
   "cell_type": "code",
   "execution_count": 15,
   "id": "2f80bca2",
   "metadata": {},
   "outputs": [
    {
     "name": "stdout",
     "output_type": "stream",
     "text": [
      "player-I:r\n",
      "player-II:s\n",
      "a wins\n"
     ]
    }
   ],
   "source": [
    "a,b = input('player-I:').lower(),input('player-II:').lower() # players playing rock-paper-scissors.\n",
    "if a == 'r': # a is equal to 'r'\n",
    "    if b == 'P': # b is equal to 'p'\n",
    "        print('b wins') # print will be b wins\n",
    "    elif b == 's': # if b equal to 's'\n",
    "        print('a wins') # it print a wins\n",
    "else: # else will be print tie\n",
    "    print('tie') "
   ]
  },
  {
   "cell_type": "code",
   "execution_count": 18,
   "id": "f1291689",
   "metadata": {},
   "outputs": [
    {
     "name": "stdout",
     "output_type": "stream",
     "text": [
      "player-I:p\n",
      "player-II:s\n",
      "tie\n"
     ]
    }
   ],
   "source": [
    "a,b = input('player-I:').lower(),input('player-II:').lower() # players playing rock-paper-scissors.\n",
    "if a == 'r': # a is equal to 'r'\n",
    "    if b == 'P':  # b is equal to 'p'\n",
    "        print('b wins') # print will be b wins\n",
    "    elif b == 's': # if b equal to 's'\n",
    "        print('a wins') # it print a wins\n",
    "else: # else will be print tie\n",
    "    print('tie')"
   ]
  },
  {
   "cell_type": "code",
   "execution_count": 33,
   "id": "7de9a290",
   "metadata": {},
   "outputs": [
    {
     "name": "stdout",
     "output_type": "stream",
     "text": [
      "player-I:r\n",
      "player-II:s\n",
      "b wins\n"
     ]
    }
   ],
   "source": [
    "a,b = input('player-I:').lower(),input('player-II:').lower() # players playing rock-paper-scissors.\n",
    "if a == 'r': # a is equal to 'r'\n",
    "    if b == 's': # b is equal to 'p'\n",
    "        print('b wins') # print will be b wins\n",
    "    elif b == 'p': # if b equal to 'p'\n",
    "        print('a wins') # it print a wins\n",
    "else: # else will be print tie\n",
    "    print('tie')"
   ]
  },
  {
   "cell_type": "markdown",
   "id": "8250f9b9",
   "metadata": {},
   "source": [
    "#### 2) Create a dynamic calculator which asks for numbers and operator and return the answers,\n",
    "#### Example\n",
    "#### Input: Type first number: 10\",\n",
    "#### Type any of this (+, -, *, /, %, **): ,*\n",
    "#### Assignment-2 ,\n",
    "#### Type second number: 19,\n",
    "#### Output:Answer is 190"
   ]
  },
  {
   "cell_type": "code",
   "execution_count": 39,
   "id": "dfc3ad1f",
   "metadata": {},
   "outputs": [
    {
     "name": "stdout",
     "output_type": "stream",
     "text": [
      "first number: 5.8\n",
      "used operators (+, -, *, /, %, **): **\n",
      "second number: 4.1\n",
      "Answer is 1349.1330257246032\n"
     ]
    }
   ],
   "source": [
    "first_number = float(input(\"first number: \")) # user input for first numbers \n",
    "operator = input(\"used operators (+, -, *, /, %, **): \") # user input for operator\n",
    "second_number = float(input(\"second number: \"))# user input for second numbers\n",
    "\n",
    "# Perform the calculation based on the operator and print the result\n",
    "if operator == '+':  # operator is adding\n",
    "    result = first_number + second_number\n",
    "elif operator == '-': # operator is subtracting\n",
    "    result = first_number - second_number\n",
    "elif operator == '*': # operator is multiplication\n",
    "    result = first_number * second_number\n",
    "elif operator == '/': # operator is dividing\n",
    "    result = first_number / second_number\n",
    "elif operator == '%': # operator is percentage\n",
    "    result = first_number % second_number\n",
    "elif operator == '**': # operator is double multiplication\n",
    "    result = first_number ** second_number\n",
    "else:\n",
    "    result = \"Invalid operator entered.\"\n",
    "print(\"Answer is\", result) # Print the result"
   ]
  },
  {
   "cell_type": "code",
   "execution_count": 37,
   "id": "89065223",
   "metadata": {},
   "outputs": [
    {
     "name": "stdout",
     "output_type": "stream",
     "text": [
      "first number: 99\n",
      "used operators (+, -, *, /, %, **): %\n",
      "second number: 66\n",
      "Answer is 33.0\n"
     ]
    }
   ],
   "source": [
    "first_number = float(input(\"first number: \")) # user input for first numbers \n",
    "operator = input(\"used operators (+, -, *, /, %, **): \") # user input for operator\n",
    "second_number = float(input(\"second number: \"))# user input for second numbers\n",
    "\n",
    "# Perform the calculation based on the operator and print the result\n",
    "if operator == '+':  # operator is adding\n",
    "    result = first_number + second_number\n",
    "elif operator == '-': # operator is subtracting\n",
    "    result = first_number - second_number\n",
    "elif operator == '*': # operator is multiplication\n",
    "    result = first_number * second_number\n",
    "elif operator == '/': # operator is dividing\n",
    "    result = first_number / second_number\n",
    "elif operator == '%': # operator is percentage\n",
    "    result = first_number % second_number\n",
    "elif operator == '**': # operator is double multiplication\n",
    "    result = first_number ** second_number\n",
    "else:\n",
    "    result = \"Invalid operator entered.\"\n",
    "print(\"Answer is\", result) # Print the result"
   ]
  },
  {
   "cell_type": "code",
   "execution_count": 41,
   "id": "97e78cae",
   "metadata": {},
   "outputs": [
    {
     "name": "stdout",
     "output_type": "stream",
     "text": [
      "first number: 88.8\n",
      "used operators (+, -, *, /, %, **): -*\n",
      "second number: 52\n",
      "Answer is Invalid operator entered.\n"
     ]
    }
   ],
   "source": [
    "first_number = float(input(\"first number: \")) # user input for first numbers \n",
    "operator = input(\"used operators (+, -, *, /, %, **): \") # user input for operator\n",
    "second_number = float(input(\"second number: \"))# user input for second numbers\n",
    "\n",
    "# Perform the calculation based on the operator and print the result\n",
    "if operator == '+':  # operator is adding\n",
    "    result = first_number + second_number\n",
    "elif operator == '-': # operator is subtracting\n",
    "    result = first_number - second_number\n",
    "elif operator == '*': # operator is multiplication\n",
    "    result = first_number * second_number\n",
    "elif operator == '/': # operator is dividing\n",
    "    result = first_number / second_number\n",
    "elif operator == '%': # operator is percentage\n",
    "    result = first_number % second_number\n",
    "elif operator == '**': # operator is double multiplication\n",
    "    result = first_number ** second_number\n",
    "else:\n",
    "    result = \"Invalid operator entered.\"\n",
    "print(\"Answer is\", result) # Print the result"
   ]
  },
  {
   "cell_type": "markdown",
   "id": "76ecfb73",
   "metadata": {},
   "source": [
    "#### 3) Manoj Kumar has family and friends. Help him remind them who is who. Given a string with a name, return the relation of that person to Manoj Kumar.Person Relation,Shiva father ,Letha mother, Tarun brother,Kavitha sister ,,Strange Coder."
   ]
  },
  {
   "cell_type": "code",
   "execution_count": 73,
   "id": "f1be1723",
   "metadata": {},
   "outputs": [
    {
     "name": "stdout",
     "output_type": "stream",
     "text": [
      "Enter the person's name: kranthi\n",
      "The relationship of kranthi to Manoj Kumar is: relation unknown\n"
     ]
    }
   ],
   "source": [
    "person_name = input(\"Enter the person's name: \") # user input for the person's name\n",
    "\n",
    "if person_name == \"Shiva\": # knowing the relationship based on the person's name to manoj\n",
    "    relation = \"father\" # shiva is father of manoj\n",
    "elif person_name == \"Letha\": # letha is mother of manoj\n",
    "    relation = \"mother\"\n",
    "elif person_name == \"Tarun\": # tarun is brother of manoj\n",
    "    relation = \"brother\"\n",
    "elif person_name == \"Kavitha\":# kavitha is sister of manoj\n",
    "    relation = \"sister\"\n",
    "elif person_name == \"Strange Coder\": # strange coder will be friend of manoj\n",
    "    relation = \"friend\"\n",
    "else: # else will be the unknown relation\n",
    "    relation = \"relation unknown\"\n",
    "print(\"The relationship of\", person_name, \"to Manoj Kumar is:\", relation)"
   ]
  },
  {
   "cell_type": "code",
   "execution_count": 72,
   "id": "f052b2c0",
   "metadata": {},
   "outputs": [
    {
     "name": "stdout",
     "output_type": "stream",
     "text": [
      "Enter the person's name: Letha\n",
      "The relationship of Letha to Manoj Kumar is: mother\n"
     ]
    }
   ],
   "source": [
    "person_name = input(\"Enter the person's name: \") # user input for the person's name\n",
    "\n",
    "if person_name == \"Shiva\": # knowing the relationship based on the person's name to manoj\n",
    "    relation = \"father\" # shiva is father of manoj\n",
    "elif person_name == \"Letha\": # letha is mother of manoj\n",
    "    relation = \"mother\"\n",
    "elif person_name == \"Tarun\": # tarun is brother of manoj\n",
    "    relation = \"brother\"\n",
    "elif person_name == \"Kavitha\":# kavitha is sister of manoj\n",
    "    relation = \"sister\"\n",
    "elif person_name == \"Strange Coder\": # strange coder will be friend of manoj\n",
    "    relation = \"friend\"\n",
    "else: # else will be the unknown relation\n",
    "    relation = \"relation unknown\"\n",
    "print(\"The relationship of\", person_name, \"to Manoj Kumar is:\", relation)"
   ]
  },
  {
   "cell_type": "markdown",
   "id": "31abd013",
   "metadata": {},
   "source": [
    "#### 4) Write a python program that takes in a word and determines whether or not it is plural. A plural word is one that ends with “s”"
   ]
  },
  {
   "cell_type": "code",
   "execution_count": 80,
   "id": "29d48cee",
   "metadata": {},
   "outputs": [
    {
     "name": "stdout",
     "output_type": "stream",
     "text": [
      "Enter a word: kranthi\n",
      "The word 'kranthi' is not plural.\n"
     ]
    }
   ],
   "source": [
    "word = input(\"Enter a word: \") # user input for the word\n",
    "\n",
    "plural = word.endswith('s') # by using .endswith to find word ends with's'\n",
    "\n",
    "if plural: # knowing the appropriate message based on the plural status\n",
    "    message = \"The word '{}' is plural.\".format(word) # by using .format for word\n",
    "else: # else will find not plural\n",
    "    message = \"The word '{}' is not plural.\".format(word)\n",
    "\n",
    "print(message) # Print the result of word"
   ]
  },
  {
   "cell_type": "code",
   "execution_count": 81,
   "id": "80274dfe",
   "metadata": {},
   "outputs": [
    {
     "name": "stdout",
     "output_type": "stream",
     "text": [
      "Enter a word: happiness\n",
      "The word 'happiness' is plural.\n"
     ]
    }
   ],
   "source": [
    "word = input(\"Enter a word: \") # user input for the word\n",
    "\n",
    "plural = word.endswith('s') # by using .endswith to find word ends with's'\n",
    "\n",
    "if plural: # knowing the appropriate message based on the plural status\n",
    "    message = \"The word '{}' is plural.\".format(word) # by using .format for word\n",
    "else: # else will find not plural\n",
    "    message = \"The word '{}' is not plural.\".format(word)\n",
    "\n",
    "print(message) # Print the result of word"
   ]
  },
  {
   "cell_type": "markdown",
   "id": "16a44aac",
   "metadata": {},
   "source": [
    "#### 5) A company decided to give a bonus of 5% to employees if his/her year of service is more than 5 years.Ask user for their salary and year of service and print the net bonus amount."
   ]
  },
  {
   "cell_type": "code",
   "execution_count": 82,
   "id": "db6feaaf",
   "metadata": {},
   "outputs": [
    {
     "name": "stdout",
     "output_type": "stream",
     "text": [
      "Enter your salary: 45000\n",
      "Enter your years of service: 9\n",
      "Congratulations! You qualify for a 5 % bonus.\n",
      "Net bonus amount: 2250.0\n"
     ]
    }
   ],
   "source": [
    "salary = float(input(\"Enter your salary: \")) # user input for salary \n",
    "years_of_service = int(input(\"Enter your years of service: \")) # user input for years of service\n",
    "\n",
    "bonus_percentage = 5  # 5% bonus for employees with more than 5 years of service\n",
    "\n",
    "if years_of_service > 5: # Check if years of service is more than 5 to calculate the bonus\n",
    "    bonus_amount = (bonus_percentage / 100) * salary\n",
    "    print(\"Congratulations! You qualify for a\", bonus_percentage, \"% bonus.\") # print who qualify for bonus percentage\n",
    "    print(\"Net bonus amount:\", bonus_amount) # print bonus amount \n",
    "else: # else you are not qualify for bonus\n",
    "    print(\"Sorry, you do not qualify for the bonus.\")"
   ]
  },
  {
   "cell_type": "code",
   "execution_count": 78,
   "id": "a68451c4",
   "metadata": {},
   "outputs": [
    {
     "name": "stdout",
     "output_type": "stream",
     "text": [
      "Enter your salary: 60000\n",
      "Enter your years of service: 4\n",
      "Sorry, you do not qualify for the bonus.\n"
     ]
    }
   ],
   "source": [
    "salary = float(input(\"Enter your salary: \")) # user input for salary \n",
    "years_of_service = int(input(\"Enter your years of service: \")) # user input for years of service\n",
    "\n",
    "bonus_percentage = 5  # 5% bonus for employees with more than 5 years of service\n",
    "\n",
    "if years_of_service > 5: # Check if years of service is more than 5 to calculate the bonus\n",
    "    bonus_amount = (bonus_percentage / 100) * salary\n",
    "    print(\"Congratulations! You qualify for a\", bonus_percentage, \"% bonus.\") # print who qualify for bonus percentage\n",
    "    print(\"Net bonus amount:\", bonus_amount) # print bonus amount \n",
    "else: # else you are not qualify for bonus\n",
    "    print(\"Sorry, you do not qualify for the bonus.\")"
   ]
  },
  {
   "cell_type": "markdown",
   "id": "dbe22483",
   "metadata": {},
   "source": [
    "#### 6) Take values of length and breadth of a rectangle from the user and check if it is square or not."
   ]
  },
  {
   "cell_type": "code",
   "execution_count": 84,
   "id": "b15201d6",
   "metadata": {},
   "outputs": [
    {
     "name": "stdout",
     "output_type": "stream",
     "text": [
      "Enter the length of the rectangle: 32\n",
      "Enter the breadth of the rectangle: 14\n",
      "It's a rectangle.\n"
     ]
    }
   ],
   "source": [
    "length = float(input(\"Enter the length of the rectangle: \")) # user input for length of the rectangle\n",
    "breadth = float(input(\"Enter the breadth of the rectangle: \")) # user input for breadth of the rectangle\n",
    "\n",
    "if length == breadth: # Check if it's a square or rectangle\n",
    "    print(\"It's a square.\") # print its a square are not\n",
    "else: # print it is rectangle when it is not square \n",
    "    print(\"It's a rectangle.\")"
   ]
  },
  {
   "cell_type": "code",
   "execution_count": 85,
   "id": "34dae52f",
   "metadata": {},
   "outputs": [
    {
     "name": "stdout",
     "output_type": "stream",
     "text": [
      "Enter the length of the rectangle: 16\n",
      "Enter the breadth of the rectangle: 16\n",
      "It's a square.\n"
     ]
    }
   ],
   "source": [
    "length = float(input(\"Enter the length of the rectangle: \")) # user input for length of the rectangle\n",
    "breadth = float(input(\"Enter the breadth of the rectangle: \")) # user input for breadth of the rectangle\n",
    "\n",
    "if length == breadth: # Check if it's a square or rectangle\n",
    "    print(\"It's a square.\") # print its a square are not\n",
    "else: # print it is rectangle when it is not square \n",
    "    print(\"It's a rectangle.\")"
   ]
  },
  {
   "cell_type": "markdown",
   "id": "48b6a293",
   "metadata": {},
   "source": [
    "####  7) Accept any city from the user and display the momentum of the city\n",
    "#### Hyderabad : “charminar”\n",
    "#### “Delhi” : “red fort\n",
    "#### “Agra : Taj mahal\n",
    "#### If the city name is not given correctly, give him a warning message."
   ]
  },
  {
   "cell_type": "code",
   "execution_count": 1,
   "id": "3c43f8d6",
   "metadata": {},
   "outputs": [
    {
     "name": "stdout",
     "output_type": "stream",
     "text": [
      "Enter the name of the city: Hyderabad\n",
      "The monument of Hyderabad is: Charminar\n"
     ]
    }
   ],
   "source": [
    "monuments = {                       # Dictionary containing city-monument \n",
    "    \"Hyderabad\": \"Charminar\",\n",
    "    \"Delhi\": \"Red Fort\",\n",
    "    \"Agra\": \"Taj Mahal\"\n",
    "}\n",
    "city = input(\"Enter the name of the city: \") #  input for the city entered by user\n",
    "\n",
    "if city in monuments: # Check if the city is in the dictionary, and display the corresponding monument of user entered\n",
    "    monument = monuments[city] # it shows the monument equal to monumentscity\n",
    "    print(\"The monument of\", city, \"is:\", monument) # print the monumentcity\n",
    "else: # else will print warning if entered city not in dictionary used given city\n",
    "    print(\"Warning: Monument information not available for the given city.\")"
   ]
  },
  {
   "cell_type": "code",
   "execution_count": 2,
   "id": "95c42581",
   "metadata": {},
   "outputs": [
    {
     "name": "stdout",
     "output_type": "stream",
     "text": [
      "Enter the name of the city: mumbai\n",
      "Warning: Monument information not available for the given city.\n"
     ]
    }
   ],
   "source": [
    "monuments = {                       # Dictionary containing city-monument \n",
    "    \"Hyderabad\": \"Charminar\",\n",
    "    \"Delhi\": \"Red Fort\",\n",
    "    \"Agra\": \"Taj Mahal\"\n",
    "}\n",
    "city = input(\"Enter the name of the city: \") #  input for the city entered by user\n",
    "\n",
    "if city in monuments: # Check if the city is in the dictionary, and display the corresponding monument of user entered\n",
    "    monument = monuments[city] # it shows the monument equal to monumentscity\n",
    "    print(\"The monument of\", city, \"is:\", monument) # print the monumentcity\n",
    "else: # else will print warning if entered city not in dictionary used given city\n",
    "    print(\"Warning: Monument information not available for the given city.\")"
   ]
  },
  {
   "cell_type": "markdown",
   "id": "be395c76",
   "metadata": {},
   "source": [
    "#### 8) Write a program to check whether a person is eligible for voting or not (voting age>=18)"
   ]
  },
  {
   "cell_type": "code",
   "execution_count": 3,
   "id": "b244db9b",
   "metadata": {},
   "outputs": [
    {
     "name": "stdout",
     "output_type": "stream",
     "text": [
      "Enter your age: 22\n",
      "You are eligible for voting.\n"
     ]
    }
   ],
   "source": [
    "age = int(input(\"Enter your age: \")) # user input for  age\n",
    "\n",
    "if age >= 18: # Check if the person is eligible for voting # for voting age should be >= 18 \n",
    "    print(\"You are eligible for voting.\")  # print the eligible candidates\n",
    "else: # else will give not eligible \n",
    "    print(\"You are not eligible for voting yet.\")"
   ]
  },
  {
   "cell_type": "code",
   "execution_count": 4,
   "id": "3e2019ef",
   "metadata": {},
   "outputs": [
    {
     "name": "stdout",
     "output_type": "stream",
     "text": [
      "Enter your age: 16\n",
      "You are not eligible for voting yet.\n"
     ]
    }
   ],
   "source": [
    "age = int(input(\"Enter your age: \")) # user input for  age\n",
    "\n",
    "if age >= 18: # Check if the person is eligible for voting # for voting age should be >= 18 \n",
    "    print(\"You are eligible for voting.\")  # print the eligible candidates\n",
    "else: # else will give not eligible \n",
    "    print(\"You are not eligible for voting yet.\")"
   ]
  },
  {
   "cell_type": "markdown",
   "id": "a56e7570",
   "metadata": {},
   "source": [
    "#### 9) Accept three sides of the triangle and check whether the triangle is possible or not.(Triangle is possible only when the sum of any two sides is greater than 3rd side)"
   ]
  },
  {
   "cell_type": "code",
   "execution_count": 5,
   "id": "b636c83d",
   "metadata": {},
   "outputs": [
    {
     "name": "stdout",
     "output_type": "stream",
     "text": [
      "Enter the length of the first side: 15\n",
      "Enter the length of the second side: 8\n",
      "Enter the length of the third side: 12\n",
      "Triangle is possible with the given sides.\n"
     ]
    }
   ],
   "source": [
    "side1 = float(input(\"Enter the length of the first side: \")) # user input for first side of the triangle\n",
    "side2 = float(input(\"Enter the length of the second side: \")) # user input for second side of the triangle\n",
    "side3 = float(input(\"Enter the length of the third side: \")) # user input for third side of the triangle\n",
    "\n",
    "# Checking the triangle is possible based on the given condition\n",
    "if (side1 + side2 > side3) and (side2 + side3 > side1) and (side1 + side3 > side2):\n",
    "    print(\"Triangle is possible with the given sides.\") # print the possible triangle\n",
    "else: # else will give not possible triangle\n",
    "    print(\"Triangle is not possible with the given sides.\")"
   ]
  },
  {
   "cell_type": "code",
   "execution_count": null,
   "id": "e6407511",
   "metadata": {},
   "outputs": [
    {
     "name": "stdout",
     "output_type": "stream",
     "text": [
      "Enter the length of the first side: 14\n",
      "Enter the length of the second side: 14\n"
     ]
    }
   ],
   "source": [
    "side1 = float(input(\"Enter the length of the first side: \")) # user input for first side of the triangle\n",
    "side2 = float(input(\"Enter the length of the second side: \")) # user input for second side of the triangle\n",
    "side3 = float(input(\"Enter the length of the third side: \")) # user input for third side of the triangle\n",
    "\n",
    "# Checking the triangle is possible based on the given condition\n",
    "if (side1 + side2 > side3) and (side2 + side3 > side1) and (side1 + side3 > side2):\n",
    "    print(\"Triangle is possible with the given sides.\") # print the possible triangle\n",
    "else: # else will give not possible triangle\n",
    "    print(\"Triangle is not possible with the given sides.\")"
   ]
  },
  {
   "cell_type": "code",
   "execution_count": null,
   "id": "3736d3e5",
   "metadata": {},
   "outputs": [],
   "source": []
  }
 ],
 "metadata": {
  "kernelspec": {
   "display_name": "Python 3 (ipykernel)",
   "language": "python",
   "name": "python3"
  },
  "language_info": {
   "codemirror_mode": {
    "name": "ipython",
    "version": 3
   },
   "file_extension": ".py",
   "mimetype": "text/x-python",
   "name": "python",
   "nbconvert_exporter": "python",
   "pygments_lexer": "ipython3",
   "version": "3.11.5"
  }
 },
 "nbformat": 4,
 "nbformat_minor": 5
}
