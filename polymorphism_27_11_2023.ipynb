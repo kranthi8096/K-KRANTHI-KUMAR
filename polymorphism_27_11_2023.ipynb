{
 "cells": [
  {
   "cell_type": "markdown",
   "id": "d43d8342",
   "metadata": {},
   "source": [
    "## Polymorphism:\n",
    "* Poly means many\n",
    "* overloading\n",
    "  - method overloading(vanilla python doesn't supports this)\n",
    "  - constructor overloading(vanilla python doesn't supports this)\n",
    "  - operator\n",
    "* overriding\n",
    "  - method overriding\n",
    "  - constructor overriding"
   ]
  },
  {
   "cell_type": "markdown",
   "id": "31762a1f",
   "metadata": {},
   "source": [
    "### method overriding:\n",
    "* Method overriding is an ability of any object-oriented programming language that allows a subclass or child class to provide a specific implementation of a method that is already provided by one of its super-classes or parent classes. \n",
    "* When a method in a subclass has the same name, same parameters or signature and same return type(or sub-type) as a method in its super-class, then the method in the subclass is said to override the method in the super-class."
   ]
  },
  {
   "cell_type": "code",
   "execution_count": 59,
   "id": "ae928d71",
   "metadata": {},
   "outputs": [],
   "source": [
    "class FooClass: # method over riding\n",
    "    def __init__(self,a,b):\n",
    "        self.a = a\n",
    "        self.b = b\n",
    "    def foo(self):\n",
    "        print('hello')\n",
    "        "
   ]
  },
  {
   "cell_type": "code",
   "execution_count": 60,
   "id": "bb33031e",
   "metadata": {},
   "outputs": [],
   "source": [
    "x = FooClass(5,10)"
   ]
  },
  {
   "cell_type": "code",
   "execution_count": 61,
   "id": "751745a8",
   "metadata": {},
   "outputs": [
    {
     "name": "stdout",
     "output_type": "stream",
     "text": [
      "hello\n"
     ]
    }
   ],
   "source": [
    "x.foo()"
   ]
  },
  {
   "cell_type": "markdown",
   "id": "c3d5dedb",
   "metadata": {},
   "source": [
    "### constructor overriding:\n",
    "* In Python, there is no concept of constructor overloading or constructor overriding in the traditional sense, as seen in some other object-oriented programming languages like Java.\n",
    "* In Python, a class can have only one __init__ method, which serves as the constructor. \n",
    "* If a subclass defines its own __init__ method, it overrides the constructor of the superclass."
   ]
  },
  {
   "cell_type": "code",
   "execution_count": 62,
   "id": "2cfe29c2",
   "metadata": {},
   "outputs": [],
   "source": [
    "class FooClass: # constructor over riding\n",
    "    def __init__(self,a,b): # 1st constructor\n",
    "        self.a = a\n",
    "        self.b = b\n",
    "    def __init__(self,a,b,c,d): # 2nd constructor # 2nd constructor over riding 1st constructor\n",
    "        self.m = a+b\n",
    "        self.n = c-d\n",
    "    def foo(self):\n",
    "        print('hello')\n",
    "    def foo(self):\n",
    "        print('good morning')\n",
    "        "
   ]
  },
  {
   "cell_type": "code",
   "execution_count": 63,
   "id": "f76a0895",
   "metadata": {},
   "outputs": [],
   "source": [
    "x = FooClass(5,10,10,5)"
   ]
  },
  {
   "cell_type": "code",
   "execution_count": 64,
   "id": "b7c512ec",
   "metadata": {},
   "outputs": [
    {
     "name": "stdout",
     "output_type": "stream",
     "text": [
      "good morning\n"
     ]
    }
   ],
   "source": [
    "x.foo()"
   ]
  },
  {
   "cell_type": "code",
   "execution_count": 65,
   "id": "12aca445",
   "metadata": {},
   "outputs": [],
   "source": [
    "class Xclass(FooClass):\n",
    "    def foo(self):\n",
    "        print('baka!')"
   ]
  },
  {
   "cell_type": "code",
   "execution_count": 66,
   "id": "8a78aec6",
   "metadata": {},
   "outputs": [],
   "source": [
    "x = Xclass(10,5,10,5)"
   ]
  },
  {
   "cell_type": "code",
   "execution_count": 67,
   "id": "a1c10f6f",
   "metadata": {},
   "outputs": [
    {
     "name": "stdout",
     "output_type": "stream",
     "text": [
      "baka!\n"
     ]
    }
   ],
   "source": [
    "x.foo()"
   ]
  },
  {
   "cell_type": "markdown",
   "id": "62a92fbc",
   "metadata": {},
   "source": [
    "### method overloading:\n",
    "* In Python, method overloading is not supported in the same way it is in languages like Java. \n",
    "* In Python, you can define multiple functions or methods with the same name, but the method that gets called is determined by the number and types of arguments passed to it at runtime. \n",
    "* The problem with method overloading in Python is that we may overload the methods but can only use the latest defined method."
   ]
  },
  {
   "cell_type": "code",
   "execution_count": 68,
   "id": "afed2a8b",
   "metadata": {},
   "outputs": [],
   "source": [
    "import multipledispatch"
   ]
  },
  {
   "cell_type": "code",
   "execution_count": 69,
   "id": "1477e7f5",
   "metadata": {},
   "outputs": [],
   "source": [
    "from multipledispatch import dispatch"
   ]
  },
  {
   "cell_type": "code",
   "execution_count": 70,
   "id": "888194f3",
   "metadata": {},
   "outputs": [],
   "source": [
    "class Myclass: # method over loading                                   \n",
    "    def __init__(self,a,b):\n",
    "        self.a = a\n",
    "        self.b = b\n",
    "    @dispatch(int,int) # if both are integer execute the x and y\n",
    "    def foo(self,x,y):\n",
    "        return x+y\n",
    "    @dispatch(set,set) # if both are sets execute the m and n\n",
    "    def foo(self,m,n):\n",
    "        return m.union(n)"
   ]
  },
  {
   "cell_type": "code",
   "execution_count": 71,
   "id": "b6850efb",
   "metadata": {},
   "outputs": [],
   "source": [
    "x = Myclass(5,10)"
   ]
  },
  {
   "cell_type": "code",
   "execution_count": 72,
   "id": "e94708ea",
   "metadata": {},
   "outputs": [
    {
     "data": {
      "text/plain": [
       "5"
      ]
     },
     "execution_count": 72,
     "metadata": {},
     "output_type": "execute_result"
    }
   ],
   "source": [
    "x.foo(2,3)"
   ]
  },
  {
   "cell_type": "code",
   "execution_count": 73,
   "id": "2e63c015",
   "metadata": {},
   "outputs": [
    {
     "data": {
      "text/plain": [
       "{1, 2, 3, 4, 5, 6}"
      ]
     },
     "execution_count": 73,
     "metadata": {},
     "output_type": "execute_result"
    }
   ],
   "source": [
    "x.foo({1,2,3},{4,5,6,1,2})"
   ]
  },
  {
   "cell_type": "markdown",
   "id": "4697c02d",
   "metadata": {},
   "source": [
    "### constructor overloading:\n",
    "* Python does not support constructor overloading. \n",
    "* If you try to overload the constructor, the last implementation will be executed each time.\n",
    "* Any previous implementation will be over-written by the latest one."
   ]
  },
  {
   "cell_type": "code",
   "execution_count": 74,
   "id": "5887a75c",
   "metadata": {},
   "outputs": [],
   "source": [
    "# constructor over loading\n",
    "class parent:\n",
    "    @dispatch(int,int)\n",
    "    def __init__(self,a,b):\n",
    "        self.x = a*b\n",
    "    @dispatch(str,str)\n",
    "    def __init__(self, fname, lname):\n",
    "        self.name = fname+' '+lname\n",
    "    @dispatch(int,int) # if both are integer execute the x and y\n",
    "    def foo(self,x,y):\n",
    "        return x+y\n",
    "    @dispatch(set,set) # if both are sets execute the m and n\n",
    "    def foo(self,m,n):\n",
    "        return m.union(n)\n",
    "    @dispatch(str,str)\n",
    "    def foo(self,m,n):\n",
    "        return m+n\n",
    "    @dispatch(int,int,int) \n",
    "    def foo(self,x,y,z):\n",
    "        return (x*y)//z\n",
    "    @dispatch(list,list) \n",
    "    def foo(self,m,n):\n",
    "        return [i*j for i,j in zip(m,n)]"
   ]
  },
  {
   "cell_type": "code",
   "execution_count": 75,
   "id": "f5d75068",
   "metadata": {},
   "outputs": [],
   "source": [
    "class child(parent):\n",
    "    pass"
   ]
  },
  {
   "cell_type": "code",
   "execution_count": 76,
   "id": "8e88137c",
   "metadata": {},
   "outputs": [],
   "source": [
    "x = child(5,2)"
   ]
  },
  {
   "cell_type": "code",
   "execution_count": 77,
   "id": "22e87daf",
   "metadata": {},
   "outputs": [
    {
     "data": {
      "text/plain": [
       "10"
      ]
     },
     "execution_count": 77,
     "metadata": {},
     "output_type": "execute_result"
    }
   ],
   "source": [
    "x.x"
   ]
  },
  {
   "cell_type": "code",
   "execution_count": 78,
   "id": "3ff1d0e7",
   "metadata": {},
   "outputs": [
    {
     "data": {
      "text/plain": [
       "[5, 12]"
      ]
     },
     "execution_count": 78,
     "metadata": {},
     "output_type": "execute_result"
    }
   ],
   "source": [
    "x.foo([1,2],[5,6])"
   ]
  },
  {
   "cell_type": "code",
   "execution_count": 79,
   "id": "8a37e0c6",
   "metadata": {},
   "outputs": [],
   "source": [
    "x = child('kran','thi')"
   ]
  },
  {
   "cell_type": "code",
   "execution_count": 80,
   "id": "f332cc3a",
   "metadata": {},
   "outputs": [
    {
     "data": {
      "text/plain": [
       "'kran thi'"
      ]
     },
     "execution_count": 80,
     "metadata": {},
     "output_type": "execute_result"
    }
   ],
   "source": [
    "x.name"
   ]
  },
  {
   "cell_type": "markdown",
   "id": "0c09ab65",
   "metadata": {},
   "source": [
    "### Abstraction:\n",
    "* Abstraction in python is defined as a process of handling complexity by hiding unnecessary information from the user. \n",
    "* This is one of the core concepts of object-oriented programming (OOP) languages.\n",
    "* the process of simplifying complex systems by modeling classes based on the essential properties and behaviors."
   ]
  },
  {
   "cell_type": "code",
   "execution_count": 81,
   "id": "7e78b91c",
   "metadata": {},
   "outputs": [],
   "source": [
    "import abc"
   ]
  },
  {
   "cell_type": "code",
   "execution_count": 82,
   "id": "490f1ba1",
   "metadata": {},
   "outputs": [],
   "source": [
    "from abc import abstractmethod,ABC  # instance method"
   ]
  },
  {
   "cell_type": "code",
   "execution_count": 83,
   "id": "1e3a28e6",
   "metadata": {},
   "outputs": [],
   "source": [
    "class Ben10(ABC):\n",
    "    @abstractmethod\n",
    "    def omnitransformation(self):\n",
    "        '''yo!'''\n",
    "        pass"
   ]
  },
  {
   "cell_type": "code",
   "execution_count": 84,
   "id": "42524e50",
   "metadata": {},
   "outputs": [],
   "source": [
    "class diamondhead(Ben10):\n",
    "    def omnitransformation(self):\n",
    "        '''diamondhead!'''\n",
    "        print('diamondhead transformation done!')\n",
    "        "
   ]
  },
  {
   "cell_type": "code",
   "execution_count": 85,
   "id": "21f5c788",
   "metadata": {},
   "outputs": [],
   "source": [
    "x = diamondhead()"
   ]
  },
  {
   "cell_type": "code",
   "execution_count": 86,
   "id": "d2b7d560",
   "metadata": {},
   "outputs": [
    {
     "name": "stdout",
     "output_type": "stream",
     "text": [
      "diamondhead transformation done!\n"
     ]
    }
   ],
   "source": [
    "x.omnitransformation()"
   ]
  },
  {
   "cell_type": "code",
   "execution_count": 87,
   "id": "bd178bac",
   "metadata": {},
   "outputs": [
    {
     "name": "stdout",
     "output_type": "stream",
     "text": [
      "Help on method omnitransformation in module __main__:\n",
      "\n",
      "omnitransformation() method of __main__.diamondhead instance\n",
      "    diamondhead!\n",
      "\n"
     ]
    }
   ],
   "source": [
    "help(x.omnitransformation)"
   ]
  },
  {
   "cell_type": "code",
   "execution_count": null,
   "id": "0e119918",
   "metadata": {},
   "outputs": [],
   "source": []
  }
 ],
 "metadata": {
  "kernelspec": {
   "display_name": "Python 3 (ipykernel)",
   "language": "python",
   "name": "python3"
  },
  "language_info": {
   "codemirror_mode": {
    "name": "ipython",
    "version": 3
   },
   "file_extension": ".py",
   "mimetype": "text/x-python",
   "name": "python",
   "nbconvert_exporter": "python",
   "pygments_lexer": "ipython3",
   "version": "3.11.5"
  }
 },
 "nbformat": 4,
 "nbformat_minor": 5
}
