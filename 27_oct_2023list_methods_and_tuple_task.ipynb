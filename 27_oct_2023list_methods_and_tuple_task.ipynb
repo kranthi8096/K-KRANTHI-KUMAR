{
 "cells": [
  {
   "cell_type": "markdown",
   "id": "74fd8814",
   "metadata": {},
   "source": [
    "## LISTS\n",
    "\n",
    "#### 'Lists are used to store multiple items in a single variable.'\n",
    "\n",
    "#### Lists are one of 4 built-in data types in Python used to store collections of data, the other 3 are Tuple, Set, and Dictionary, all with different qualities and usage.\n",
    "\n",
    "#### Lists are created using square brackets[ ]."
   ]
  },
  {
   "cell_type": "code",
   "execution_count": 31,
   "id": "63fae944",
   "metadata": {},
   "outputs": [],
   "source": [
    "l = [\"apple\", \"banana\", \"cherry\"]"
   ]
  },
  {
   "cell_type": "code",
   "execution_count": 32,
   "id": "9ce3876b",
   "metadata": {},
   "outputs": [
    {
     "name": "stdout",
     "output_type": "stream",
     "text": [
      "['apple', 'banana', 'cherry']\n"
     ]
    }
   ],
   "source": [
    "print(l)"
   ]
  },
  {
   "cell_type": "markdown",
   "id": "96cdb03d",
   "metadata": {},
   "source": [
    "### List Items\n",
    "\n",
    "#### List items are ordered, changeable, and allow duplicate values.\n",
    "\n",
    "#### List items are indexed, the first item has index [0], the second item has index [1] etc.\n",
    "\n",
    "### Ordered\n",
    "\n",
    "#### When we say that lists are ordered, it means that the items have a defined order, and that order will not change.\n",
    "\n",
    "#### If you add new items to a list, the new items will be placed at the end of the list.\n",
    "\n",
    "### Changeable\n",
    "\n",
    "#### The list is changeable, meaning that we can change, add, and remove items in a list after it has been created."
   ]
  },
  {
   "cell_type": "markdown",
   "id": "f884515d",
   "metadata": {},
   "source": [
    "### Allow Duplicates\n",
    "\n",
    "#### Since lists are indexed, lists can have items with the same value"
   ]
  },
  {
   "cell_type": "code",
   "execution_count": 33,
   "id": "793d492b",
   "metadata": {},
   "outputs": [
    {
     "name": "stdout",
     "output_type": "stream",
     "text": [
      "['apple', 'banana', 'cherry', 'apple', 'cherry']\n"
     ]
    },
    {
     "data": {
      "text/plain": [
       "5"
      ]
     },
     "execution_count": 33,
     "metadata": {},
     "output_type": "execute_result"
    }
   ],
   "source": [
    "L = [\"apple\", \"banana\", \"cherry\", \"apple\", \"cherry\"]\n",
    "print(L)\n",
    "len(L)"
   ]
  },
  {
   "cell_type": "markdown",
   "id": "b7e593a5",
   "metadata": {},
   "source": [
    "### sort()\n",
    "\n",
    "#### The sort() method sorts the items of a list in ascending or descending order.\n",
    "\n",
    "#### syntax: list.sort(key=..., reverse=...) # Alternatively we can use function sorted(list, key=..., reverse=...)"
   ]
  },
  {
   "cell_type": "code",
   "execution_count": 34,
   "id": "a16ad84a",
   "metadata": {},
   "outputs": [
    {
     "name": "stdout",
     "output_type": "stream",
     "text": [
      "Help on method_descriptor:\n",
      "\n",
      "sort(self, /, *, key=None, reverse=False)\n",
      "    Sort the list in ascending order and return None.\n",
      "    \n",
      "    The sort is in-place (i.e. the list itself is modified) and stable (i.e. the\n",
      "    order of two equal elements is maintained).\n",
      "    \n",
      "    If a key function is given, apply it once to each list item and sort them,\n",
      "    ascending or descending, according to their function values.\n",
      "    \n",
      "    The reverse flag can be set to sort in descending order.\n",
      "\n"
     ]
    }
   ],
   "source": [
    "help(list.sort)"
   ]
  },
  {
   "cell_type": "code",
   "execution_count": 35,
   "id": "55ee6d2b",
   "metadata": {},
   "outputs": [
    {
     "name": "stdout",
     "output_type": "stream",
     "text": [
      "[2, 3, 5, 7, 11]\n"
     ]
    }
   ],
   "source": [
    "x = [11, 3, 7, 5, 2]\n",
    "x.sort() # sorting the list in ascending order\n",
    "print(x)"
   ]
  },
  {
   "cell_type": "code",
   "execution_count": 36,
   "id": "a794a27d",
   "metadata": {},
   "outputs": [
    {
     "data": {
      "text/plain": [
       "[96, 10.1001, 1, -8]"
      ]
     },
     "execution_count": 36,
     "metadata": {},
     "output_type": "execute_result"
    }
   ],
   "source": [
    "aa = [1, -8, 96, 10.1001]\n",
    "aa.sort(reverse=True)\n",
    "aa"
   ]
  },
  {
   "cell_type": "markdown",
   "id": "d7603703",
   "metadata": {},
   "source": [
    "### index()\n",
    "\n",
    "#### The index() method returns the index of the specified element in the list.\n",
    "\n",
    "#### syntax: list.index(element, start, end)"
   ]
  },
  {
   "cell_type": "code",
   "execution_count": 37,
   "id": "5d0aacb3",
   "metadata": {},
   "outputs": [
    {
     "name": "stdout",
     "output_type": "stream",
     "text": [
      "Help on method_descriptor:\n",
      "\n",
      "index(self, value, start=0, stop=9223372036854775807, /)\n",
      "    Return first index of value.\n",
      "    \n",
      "    Raises ValueError if the value is not present.\n",
      "\n"
     ]
    }
   ],
   "source": [
    "help(list.index)"
   ]
  },
  {
   "cell_type": "code",
   "execution_count": 38,
   "id": "adfa2775",
   "metadata": {},
   "outputs": [
    {
     "name": "stdout",
     "output_type": "stream",
     "text": [
      "The index of e: 1\n",
      "The index of i: 2\n"
     ]
    }
   ],
   "source": [
    "vowels = ['a', 'e', 'i', 'o', 'i', 'u']\n",
    "index = vowels.index('e') # index of 'e' in vowels\n",
    "\n",
    "print('The index of e:', index)\n",
    "index = vowels.index('i') # element 'i' is searched # index of the first 'i' is returned\n",
    "print('The index of i:', index)"
   ]
  },
  {
   "cell_type": "markdown",
   "id": "80d5e3b2",
   "metadata": {},
   "source": [
    "### reverse()\n",
    "\n",
    "#### The reverse() method reverses the elements of the list.\n",
    "\n",
    "#### syntax:  list.reverse()"
   ]
  },
  {
   "cell_type": "code",
   "execution_count": 39,
   "id": "6e067c8d",
   "metadata": {},
   "outputs": [
    {
     "name": "stdout",
     "output_type": "stream",
     "text": [
      "Help on method_descriptor:\n",
      "\n",
      "reverse(self, /)\n",
      "    Reverse *IN PLACE*.\n",
      "\n"
     ]
    }
   ],
   "source": [
    "help(list.reverse)"
   ]
  },
  {
   "cell_type": "code",
   "execution_count": 40,
   "id": "8bdb7bb4",
   "metadata": {},
   "outputs": [
    {
     "name": "stdout",
     "output_type": "stream",
     "text": [
      "zee: [7, 5, 3, 2]\n"
     ]
    }
   ],
   "source": [
    "z = [2, 3, 5, 7]\n",
    "z.reverse() # reverse the order of list elements\n",
    "print('zee:', z)\n"
   ]
  },
  {
   "cell_type": "markdown",
   "id": "6977e2e1",
   "metadata": {},
   "source": [
    "### clear()\n",
    "\n",
    "#### The clear() method removes all items from the list.\n",
    "\n",
    "#### syntax: list.clear()"
   ]
  },
  {
   "cell_type": "code",
   "execution_count": 41,
   "id": "14a2a7b6",
   "metadata": {},
   "outputs": [
    {
     "name": "stdout",
     "output_type": "stream",
     "text": [
      "Help on method_descriptor:\n",
      "\n",
      "clear(self, /)\n",
      "    Remove all items from list.\n",
      "\n"
     ]
    }
   ],
   "source": [
    "help(list.clear)"
   ]
  },
  {
   "cell_type": "code",
   "execution_count": 42,
   "id": "2fecdc5b",
   "metadata": {},
   "outputs": [
    {
     "name": "stdout",
     "output_type": "stream",
     "text": [
      "[]\n"
     ]
    }
   ],
   "source": [
    "prime_numbers = [2, 3, 5, 7, 9, 11]\n",
    "prime_numbers.clear() # remove all elements\n",
    "print(prime_numbers)"
   ]
  },
  {
   "cell_type": "markdown",
   "id": "6c7496e2",
   "metadata": {},
   "source": [
    "### copy()\n",
    "\n",
    "#### The copy() method returns a shallow copy of the list.\n",
    "\n",
    "#### syntax: new_list = list.copy()"
   ]
  },
  {
   "cell_type": "code",
   "execution_count": 43,
   "id": "30875bcf",
   "metadata": {},
   "outputs": [
    {
     "name": "stdout",
     "output_type": "stream",
     "text": [
      "Help on method_descriptor:\n",
      "\n",
      "copy(self, /)\n",
      "    Return a shallow copy of the list.\n",
      "\n"
     ]
    }
   ],
   "source": [
    "help(list.copy)"
   ]
  },
  {
   "cell_type": "code",
   "execution_count": 44,
   "id": "d56affe1",
   "metadata": {},
   "outputs": [
    {
     "name": "stdout",
     "output_type": "stream",
     "text": [
      "Copied List: [2, 3, 5]\n"
     ]
    }
   ],
   "source": [
    "s = [2, 3, 5]\n",
    "numbers = s.copy() # copying a list\n",
    "print('Copied List:', s)"
   ]
  },
  {
   "cell_type": "markdown",
   "id": "6dd8aced",
   "metadata": {},
   "source": [
    "## Tuple\n",
    "\n",
    "#### Tuples are used to store multiple items in a single variable.\n",
    "\n",
    "#### Tuple is one of 4 built-in data types in Python used to store collections of data, the other 3 are List, Set, and Dictionary, all with different qualities and usage.\n",
    "\n",
    "#### A tuple is a collection which is ordered and unchangeable.\n",
    "\n",
    "#### Tuples are written with round brackets or parantheses."
   ]
  },
  {
   "cell_type": "markdown",
   "id": "57a3d3d0",
   "metadata": {},
   "source": [
    "### Tuple Items\n",
    "\n",
    "#### Tuple items are ordered, unchangeable, and allow duplicate values.\n",
    "\n",
    "#### Tuple items are indexed, the first item has index [0], the second item has index [1] etc.\n",
    "\n",
    "### Ordered\n",
    "\n",
    "#### When we say that tuples are ordered, it means that the items have a defined order, and that order will not change.\n",
    "\n",
    "### Unchangeable\n",
    "\n",
    "#### Tuples are unchangeable, meaning that we cannot change, add or remove items after the tuple has been created.\n",
    "\n",
    "### Allow Duplicates\n",
    "\n",
    "#### Since tuples are indexed, they can have items with the same value"
   ]
  },
  {
   "cell_type": "code",
   "execution_count": 45,
   "id": "e24c575e",
   "metadata": {},
   "outputs": [
    {
     "name": "stdout",
     "output_type": "stream",
     "text": [
      "(1, 2.2, (3+3j), 'four', <built-in function print>, <class 'range'>)\n",
      "<class 'tuple'>\n",
      "2438456471232\n"
     ]
    }
   ],
   "source": [
    "a = (1, 2.2, 3+3j, 'four', print, range)\n",
    "print(a, type(a), id(a), sep = '\\n')"
   ]
  },
  {
   "cell_type": "code",
   "execution_count": 46,
   "id": "f648be1b",
   "metadata": {},
   "outputs": [
    {
     "data": {
      "text/plain": [
       "(0, 1, 2, 3, 4)"
      ]
     },
     "execution_count": 46,
     "metadata": {},
     "output_type": "execute_result"
    }
   ],
   "source": [
    "b = tuple(range(5))\n",
    "b"
   ]
  },
  {
   "cell_type": "code",
   "execution_count": 47,
   "id": "ca47171a",
   "metadata": {},
   "outputs": [
    {
     "data": {
      "text/plain": [
       "('s', 't', 'r', 'i', 'n', 'g')"
      ]
     },
     "execution_count": 47,
     "metadata": {},
     "output_type": "execute_result"
    }
   ],
   "source": [
    "c = tuple('string')\n",
    "c"
   ]
  },
  {
   "cell_type": "code",
   "execution_count": 48,
   "id": "297b7843",
   "metadata": {},
   "outputs": [
    {
     "data": {
      "text/plain": [
       "((5,), tuple, 1)"
      ]
     },
     "execution_count": 48,
     "metadata": {},
     "output_type": "execute_result"
    }
   ],
   "source": [
    "z = (5, ) # unpacking tuple # tuple it checks for unpacking or not\n",
    "z, type(z), len(z)"
   ]
  },
  {
   "cell_type": "code",
   "execution_count": 49,
   "id": "3b6fcbc4",
   "metadata": {},
   "outputs": [
    {
     "data": {
      "text/plain": [
       "(1, 2, 3, [11, 22])"
      ]
     },
     "execution_count": 49,
     "metadata": {},
     "output_type": "execute_result"
    }
   ],
   "source": [
    "b = (1, 2, 3, [11, 22]) # tuples are immutable but inside tuple if there is container it can be mutuble.\n",
    "b"
   ]
  },
  {
   "cell_type": "code",
   "execution_count": 50,
   "id": "ae8b9801",
   "metadata": {},
   "outputs": [
    {
     "data": {
      "text/plain": [
       "(1, 2, 3, [11, 22, 33])"
      ]
     },
     "execution_count": 50,
     "metadata": {},
     "output_type": "execute_result"
    }
   ],
   "source": [
    "b[3].append(33)\n",
    "b"
   ]
  },
  {
   "cell_type": "code",
   "execution_count": 51,
   "id": "04c55fd5",
   "metadata": {},
   "outputs": [
    {
     "data": {
      "text/plain": [
       "['__add__',\n",
       " '__class__',\n",
       " '__class_getitem__',\n",
       " '__contains__',\n",
       " '__delattr__',\n",
       " '__dir__',\n",
       " '__doc__',\n",
       " '__eq__',\n",
       " '__format__',\n",
       " '__ge__',\n",
       " '__getattribute__',\n",
       " '__getitem__',\n",
       " '__getnewargs__',\n",
       " '__getstate__',\n",
       " '__gt__',\n",
       " '__hash__',\n",
       " '__init__',\n",
       " '__init_subclass__',\n",
       " '__iter__',\n",
       " '__le__',\n",
       " '__len__',\n",
       " '__lt__',\n",
       " '__mul__',\n",
       " '__ne__',\n",
       " '__new__',\n",
       " '__reduce__',\n",
       " '__reduce_ex__',\n",
       " '__repr__',\n",
       " '__rmul__',\n",
       " '__setattr__',\n",
       " '__sizeof__',\n",
       " '__str__',\n",
       " '__subclasshook__',\n",
       " 'count',\n",
       " 'index']"
      ]
     },
     "execution_count": 51,
     "metadata": {},
     "output_type": "execute_result"
    }
   ],
   "source": [
    "dir(tuple)"
   ]
  },
  {
   "cell_type": "markdown",
   "id": "d8b557ab",
   "metadata": {},
   "source": [
    "### list methods\n",
    "\n",
    "#### 'count', 'index'"
   ]
  },
  {
   "cell_type": "markdown",
   "id": "518623fd",
   "metadata": {},
   "source": [
    "### count()\n",
    "\n",
    "#### The count() method returns the number of times a specified value appears in the tuple.\n",
    "\n",
    "#### Parameter : value\n",
    "\n",
    "#### Description : Required The item to search for\n",
    "\n",
    "#### Syntax: tuple.count(value)"
   ]
  },
  {
   "cell_type": "code",
   "execution_count": 52,
   "id": "aaebc6e3",
   "metadata": {},
   "outputs": [
    {
     "name": "stdout",
     "output_type": "stream",
     "text": [
      "Help on method_descriptor:\n",
      "\n",
      "count(self, value, /)\n",
      "    Return number of occurrences of value.\n",
      "\n"
     ]
    }
   ],
   "source": [
    "help(list.count)"
   ]
  },
  {
   "cell_type": "code",
   "execution_count": 53,
   "id": "fbb57011",
   "metadata": {},
   "outputs": [
    {
     "name": "stdout",
     "output_type": "stream",
     "text": [
      "2\n"
     ]
    }
   ],
   "source": [
    "t = (1, 3, 7, 8, 7, 5, 4, 6, 8, 5)\n",
    "\n",
    "x = t.count(5)\n",
    "\n",
    "print(x)"
   ]
  },
  {
   "cell_type": "markdown",
   "id": "5b230995",
   "metadata": {},
   "source": [
    "### index()\n",
    "\n",
    "#### The index() method finds the first occurrence of the specified value.\n",
    "\n",
    "#### The index() method raises an exception if the value is not found.\n",
    "\n",
    "#### Parameter :value\n",
    "\n",
    "#### Description : Required. The item to search for\n",
    "\n",
    "#### Syntax: tuple.index(value)"
   ]
  },
  {
   "cell_type": "code",
   "execution_count": 54,
   "id": "9cf70b05",
   "metadata": {},
   "outputs": [
    {
     "name": "stdout",
     "output_type": "stream",
     "text": [
      "Help on method_descriptor:\n",
      "\n",
      "index(self, value, start=0, stop=9223372036854775807, /)\n",
      "    Return first index of value.\n",
      "    \n",
      "    Raises ValueError if the value is not present.\n",
      "\n"
     ]
    }
   ],
   "source": [
    "help(list.index)"
   ]
  },
  {
   "cell_type": "code",
   "execution_count": 55,
   "id": "ee9e9916",
   "metadata": {},
   "outputs": [
    {
     "name": "stdout",
     "output_type": "stream",
     "text": [
      "3\n"
     ]
    }
   ],
   "source": [
    "i = (1, 3, 7, 8, 7, 5, 4, 6, 8, 5)\n",
    "x = i.index(8)\n",
    "print(x)"
   ]
  },
  {
   "cell_type": "code",
   "execution_count": null,
   "id": "ed2ee4a7",
   "metadata": {},
   "outputs": [],
   "source": []
  },
  {
   "cell_type": "code",
   "execution_count": null,
   "id": "6664a673",
   "metadata": {},
   "outputs": [],
   "source": []
  },
  {
   "cell_type": "code",
   "execution_count": null,
   "id": "393f1cdb",
   "metadata": {},
   "outputs": [],
   "source": []
  }
 ],
 "metadata": {
  "kernelspec": {
   "display_name": "Python 3 (ipykernel)",
   "language": "python",
   "name": "python3"
  },
  "language_info": {
   "codemirror_mode": {
    "name": "ipython",
    "version": 3
   },
   "file_extension": ".py",
   "mimetype": "text/x-python",
   "name": "python",
   "nbconvert_exporter": "python",
   "pygments_lexer": "ipython3",
   "version": "3.11.5"
  }
 },
 "nbformat": 4,
 "nbformat_minor": 5
}
