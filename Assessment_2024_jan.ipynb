{
 "cells": [
  {
   "cell_type": "markdown",
   "id": "ad6fa9ae",
   "metadata": {},
   "source": [
    "### 1. What will be the output of the following Python program?"
   ]
  },
  {
   "cell_type": "code",
   "execution_count": 6,
   "id": "1a6eeef4",
   "metadata": {},
   "outputs": [],
   "source": [
    "def foo(x):\n",
    "    x[0]=['def']       # The function foo(q) modifies q inside the function by changing q[0] to ['def'] and q[1] to ['abc'].\n",
    "    x[1]=['abc']\n",
    "    return id(x)     # q is a list containing two strings, 'abc' and 'def'.\n",
    "q=['abc','def']       # Initially, q is ['abc', 'def'].  "
   ]
  },
  {
   "cell_type": "code",
   "execution_count": 7,
   "id": "d9e6a5ac",
   "metadata": {},
   "outputs": [
    {
     "name": "stdout",
     "output_type": "stream",
     "text": [
      "True\n"
     ]
    }
   ],
   "source": [
    "print(id(q)==foo(q)) # The expression id(q) == foo(q) checks if the memory address of q is equal to the result of foo(q)"
   ]
  },
  {
   "cell_type": "markdown",
   "id": "c6ede1d5",
   "metadata": {},
   "source": [
    "### 2. What will be the output of the following Python code?"
   ]
  },
  {
   "cell_type": "code",
   "execution_count": 4,
   "id": "24a1f939",
   "metadata": {},
   "outputs": [],
   "source": [
    "def fun():\n",
    "    try:\n",
    "        return 1   # try block: The code inside the try block attempts to execute, and it contains the statement return 1\n",
    "    finally:\n",
    "        return 2 # finally block: The finally block always executes, \n",
    "# regardless of whether there was an error in the try block or not"
   ]
  },
  {
   "cell_type": "code",
   "execution_count": 5,
   "id": "13631b5d",
   "metadata": {},
   "outputs": [
    {
     "name": "stdout",
     "output_type": "stream",
     "text": [
      "2\n"
     ]
    }
   ],
   "source": [
    "k=fun()\n",
    "print(k)  # This means that, no matter what happens in the try block, the function will always return the value 2"
   ]
  },
  {
   "cell_type": "markdown",
   "id": "ecb39adc",
   "metadata": {},
   "source": [
    "### 3. What will be the output of the following code snippet?"
   ]
  },
  {
   "cell_type": "code",
   "execution_count": 8,
   "id": "c63d3447",
   "metadata": {},
   "outputs": [],
   "source": [
    "def func():  # global value: Inside the function, there is a global keyword followed by the variable name value.\n",
    "    global value \n",
    "    value = \"local\""
   ]
  },
  {
   "cell_type": "code",
   "execution_count": 9,
   "id": "d787887f",
   "metadata": {},
   "outputs": [],
   "source": [
    "value = \"global\""
   ]
  },
  {
   "cell_type": "code",
   "execution_count": 10,
   "id": "30f57827",
   "metadata": {},
   "outputs": [
    {
     "name": "stdout",
     "output_type": "stream",
     "text": [
      "local\n"
     ]
    }
   ],
   "source": [
    "func()  # When the function is called, it updates the global variable value to \"local\".\n",
    "print(value) \n",
    "# After the function call, when you print the value of the global variable value, \n",
    "#it will be \"local\" because the function modified the global variable."
   ]
  },
  {
   "cell_type": "markdown",
   "id": "a9a31c3e",
   "metadata": {},
   "source": [
    "### 4. ___________ exception are raised as a result of an error in opening a particular file.\n",
    "\n",
    "a)value error\n",
    " \n",
    "b)type error\n",
    "\n",
    "c)import errror\n",
    " \n",
    "d)ioerror"
   ]
  },
  {
   "cell_type": "raw",
   "id": "98a0992a",
   "metadata": {},
   "source": [
    "d)ioerror\n",
    "# In Python, IOError is raised when an error occurs while performing input/output operations, such as when there's an issue opening or accessing a file. \n",
    "# So, if there is an error in opening a particular file, Python will raise an IOError exception."
   ]
  },
  {
   "cell_type": "markdown",
   "id": "8ac6741a",
   "metadata": {},
   "source": [
    "### 5. In python we do not specify types, it is directly interpreted by the compiler, so consider the following operation to be performed.\n",
    "\n",
    "a) x=13//2\n",
    "\n",
    "b) x=int(13/2)\n",
    "\n",
    "c) x=13%2\n",
    "\n",
    "d) All of the mentioned"
   ]
  },
  {
   "cell_type": "code",
   "execution_count": 3,
   "id": "33f9359d",
   "metadata": {},
   "outputs": [
    {
     "data": {
      "text/plain": [
       "6"
      ]
     },
     "execution_count": 3,
     "metadata": {},
     "output_type": "execute_result"
    }
   ],
   "source": [
    "x=13//2\n",
    "x"
   ]
  },
  {
   "cell_type": "code",
   "execution_count": 5,
   "id": "703c836f",
   "metadata": {},
   "outputs": [
    {
     "data": {
      "text/plain": [
       "6"
      ]
     },
     "execution_count": 5,
     "metadata": {},
     "output_type": "execute_result"
    }
   ],
   "source": [
    "x=int(13/2)\n",
    "x"
   ]
  },
  {
   "cell_type": "code",
   "execution_count": 6,
   "id": "3b9cf179",
   "metadata": {},
   "outputs": [
    {
     "data": {
      "text/plain": [
       "1"
      ]
     },
     "execution_count": 6,
     "metadata": {},
     "output_type": "execute_result"
    }
   ],
   "source": [
    "x=13%2\n",
    "x"
   ]
  },
  {
   "cell_type": "markdown",
   "id": "d90ad0ca",
   "metadata": {},
   "source": [
    "d) all of the mentioned"
   ]
  },
  {
   "cell_type": "markdown",
   "id": "6a262e2a",
   "metadata": {},
   "source": [
    "### 6. What will be the output of the following Python code?"
   ]
  },
  {
   "cell_type": "code",
   "execution_count": 1,
   "id": "24c3e94e",
   "metadata": {},
   "outputs": [
    {
     "ename": "NameError",
     "evalue": "name 't' is not defined",
     "output_type": "error",
     "traceback": [
      "\u001b[1;31m---------------------------------------------------------------------------\u001b[0m",
      "\u001b[1;31mNameError\u001b[0m                                 Traceback (most recent call last)",
      "Cell \u001b[1;32mIn[1], line 1\u001b[0m\n\u001b[1;32m----> 1\u001b[0m t[\u001b[38;5;241m5\u001b[39m]\n",
      "\u001b[1;31mNameError\u001b[0m: name 't' is not defined"
     ]
    }
   ],
   "source": [
    "t[5] # NameError: name 't' is not defined"
   ]
  },
  {
   "cell_type": "markdown",
   "id": "04286dfb",
   "metadata": {},
   "source": [
    "### 7. A while loop in Python is used for what type of iteration?\n",
    "\n",
    "a) indefinite\n",
    "\n",
    "b) discriminant\n",
    "\n",
    "c) definite\n",
    "\n",
    "d) indeterminate\n"
   ]
  },
  {
   "cell_type": "code",
   "execution_count": 2,
   "id": "4c47f73e",
   "metadata": {},
   "outputs": [
    {
     "name": "stdout",
     "output_type": "stream",
     "text": [
      "Count is: 0\n",
      "Count is: 1\n",
      "Count is: 2\n",
      "Count is: 3\n",
      "Count is: 4\n"
     ]
    }
   ],
   "source": [
    "count = 0        # A while loop in Python is used for indefinite iteration\n",
    "\n",
    "while count < 5:   # it continues to execute as long as a specified condition is true\n",
    "    print(\"Count is:\", count)\n",
    "    count += 1\n"
   ]
  },
  {
   "cell_type": "markdown",
   "id": "777debfa",
   "metadata": {},
   "source": [
    "### 8. What will be the output of the following Python code? "
   ]
  },
  {
   "cell_type": "code",
   "execution_count": 12,
   "id": "b8d16bcf",
   "metadata": {},
   "outputs": [],
   "source": [
    "x=\"abcdef\""
   ]
  },
  {
   "cell_type": "code",
   "execution_count": 14,
   "id": "8adb42cd",
   "metadata": {},
   "outputs": [
    {
     "ename": "TypeError",
     "evalue": "'in <string>' requires string as left operand, not int",
     "output_type": "error",
     "traceback": [
      "\u001b[1;31m---------------------------------------------------------------------------\u001b[0m",
      "\u001b[1;31mTypeError\u001b[0m                                 Traceback (most recent call last)",
      "Cell \u001b[1;32mIn[14], line 1\u001b[0m\n\u001b[1;32m----> 1\u001b[0m \u001b[38;5;28;01mwhile\u001b[39;00m i \u001b[38;5;129;01min\u001b[39;00m x:\n\u001b[0;32m      2\u001b[0m     \u001b[38;5;28mprint\u001b[39m(i,end\u001b[38;5;241m=\u001b[39m\u001b[38;5;124m\"\u001b[39m\u001b[38;5;124m\"\u001b[39m)\n",
      "\u001b[1;31mTypeError\u001b[0m: 'in <string>' requires string as left operand, not int"
     ]
    }
   ],
   "source": [
    "while i in x:\n",
    "    print(i,end=\"\") \n",
    "# The code you provided has a logical error. It seems like you are trying to iterate over the characters in the string x,\n",
    "# but the variable i is not defined before using it in the loop."
   ]
  },
  {
   "cell_type": "markdown",
   "id": "92ed5bfc",
   "metadata": {},
   "source": [
    "### 9. What is the main advantage of using decorators in Python?\n",
    "\n",
    "a) They make the code more complex\n",
    "\n",
    "b) They simplify the syntax of the decorated functions\n",
    "\n",
    "c) They reduce the performance of the code \n",
    "\n",
    "d) They provide additional security features"
   ]
  },
  {
   "cell_type": "raw",
   "id": "193121a9",
   "metadata": {},
   "source": [
    "b) They simplify the syntax of decorated functions\n",
    "\n",
    "# Decorators in Python offer a concise and readable way to modify or extend the behavior of functions or methods. \n",
    "# They provide a clean and reusable way to wrap or enhance the functionality of functions"
   ]
  },
  {
   "cell_type": "markdown",
   "id": "d4c51a37",
   "metadata": {},
   "source": [
    "### 10. If return statement is not used inside the function, the function will return:\n",
    "\n",
    "a) None\n",
    "\n",
    "b) 0\n",
    "\n",
    "c) Null\n",
    "\n",
    "d) Arbitary value"
   ]
  },
  {
   "cell_type": "raw",
   "id": "745b086f",
   "metadata": {},
   "source": [
    "a) None\n",
    "\n",
    "# If a return statement is not used in a function, Python implicitly returns None by default.\n",
    "# if the function completes its execution without encountering a return statement, it effectively returns None."
   ]
  },
  {
   "cell_type": "markdown",
   "id": "da0bedc3",
   "metadata": {},
   "source": [
    "### 11. What is called when a function is defined inside a class?\n",
    "\n",
    "a) class\n",
    "\n",
    "b) function\n",
    "\n",
    "e) method\n",
    "\n",
    "d) module\n"
   ]
  },
  {
   "cell_type": "raw",
   "id": "aed24b40",
   "metadata": {},
   "source": [
    "c) method\n",
    "\n",
    "# When a function is defined inside a class in Python, it is referred to as a method"
   ]
  },
  {
   "cell_type": "markdown",
   "id": "551a88a9",
   "metadata": {},
   "source": [
    "### 12. Which operator is used in Python to import modules from packages?\n",
    "\n",
    "a).\n",
    "\n",
    "b)*\n",
    "\n",
    "c)->\n",
    "\n",
    "d)&"
   ]
  },
  {
   "cell_type": "raw",
   "id": "8829e8ec",
   "metadata": {},
   "source": [
    "a)\n",
    "\n",
    "# the dot (.) operator is used to import modules from packages. \n",
    "# The dot operator is used to navigate the hierarchy of packages and access the modules contained within them."
   ]
  },
  {
   "cell_type": "markdown",
   "id": "7c22cc5a",
   "metadata": {},
   "source": [
    "### 13. \n",
    "\n",
    "def getMonth(s):\n",
    "    \n",
    "    if m<1 or m 12: \n",
    "        \n",
    "        raise ValueError(\"Invalid\") \n",
    "    \n",
    "    print (m)\n"
   ]
  },
  {
   "cell_type": "code",
   "execution_count": 17,
   "id": "aaa40302",
   "metadata": {},
   "outputs": [],
   "source": [
    "def getmonth(m): # The getMonth function takes a month parameter (m)\n",
    "    if m<1 or m>12: # It checks if the month is invalid (less than 1 or greater than 12)\n",
    "        raise ValueError(\"invalid\") #  and if so it raises a ValueError with the message \"Invalid\"."
   ]
  },
  {
   "cell_type": "code",
   "execution_count": 20,
   "id": "bf6dce2d",
   "metadata": {},
   "outputs": [],
   "source": [
    "getmonth(6) \n",
    "# If the month is valid, it prints the month value. The function is then called with the argument 6."
   ]
  },
  {
   "cell_type": "markdown",
   "id": "993795cb",
   "metadata": {},
   "source": [
    "### 14. in the python programming language, syntax error is detected by _________at ___________\n",
    "\n",
    "a)interpreter/compile time\n",
    "\n",
    "b)run time/interpreter \n",
    "\n",
    "c)interpreter/ run time\n",
    "\n",
    "d)compile time/ run time "
   ]
  },
  {
   "cell_type": "raw",
   "id": "9c1f8290",
   "metadata": {},
   "source": [
    "d) compile time/ run time\n",
    "#Syntax errors in Python are detected by the interpreter during the compilation phase, which occurs before the code is run."
   ]
  },
  {
   "cell_type": "markdown",
   "id": "9b170516",
   "metadata": {},
   "source": [
    "### 15. \n",
    "\n",
    "class Book:\n",
    "    \n",
    "    def init (self,author):\n",
    "        \n",
    "        self.author author\n",
    "\n",
    "book1 Book(\"V.M.Shah\")\n",
    "\n",
    "book2=book1\n",
    "\n",
    "a) Both book1 and book2 will have reference to two different objects of class Book \n",
    "\n",
    "b) id(book1) and id(book2) will have same value\n",
    "\n",
    "c) It will throw error as multiple references to same object is not possible\n",
    "\n",
    "d) None of the above"
   ]
  },
  {
   "cell_type": "code",
   "execution_count": 2,
   "id": "313afd74",
   "metadata": {},
   "outputs": [],
   "source": [
    "class  Book: # A class named Book is defined .\n",
    "    def __init__(self,author): # with a constructor method init taking self and author parameters. \n",
    "    \n",
    "        self.author=author #It initializes the instance's author attribute. "
   ]
  },
  {
   "cell_type": "code",
   "execution_count": 3,
   "id": "e722a4ce",
   "metadata": {},
   "outputs": [],
   "source": [
    "book1=Book(\"V.M.shah\") # An instance, book1, is created with the author 'V.M.Shah' and assigned to book1."
   ]
  },
  {
   "cell_type": "code",
   "execution_count": 4,
   "id": "26dc7834",
   "metadata": {},
   "outputs": [],
   "source": [
    "book2=book1 # book2 is then assigned the same instance as book1."
   ]
  },
  {
   "cell_type": "code",
   "execution_count": 5,
   "id": "695177b9",
   "metadata": {},
   "outputs": [
    {
     "data": {
      "text/plain": [
       "<__main__.Book at 0x18e3def4410>"
      ]
     },
     "execution_count": 5,
     "metadata": {},
     "output_type": "execute_result"
    }
   ],
   "source": [
    "book1 \n",
    "# Both variables, book1 and book2, reference the same Book class instance.\n",
    "# Changes made through one variable will affect the other."
   ]
  },
  {
   "cell_type": "code",
   "execution_count": 7,
   "id": "9d7f733c",
   "metadata": {},
   "outputs": [
    {
     "data": {
      "text/plain": [
       "1710436074512"
      ]
     },
     "execution_count": 7,
     "metadata": {},
     "output_type": "execute_result"
    }
   ],
   "source": [
    "id(book1)"
   ]
  },
  {
   "cell_type": "code",
   "execution_count": 8,
   "id": "5955eab7",
   "metadata": {},
   "outputs": [
    {
     "data": {
      "text/plain": [
       "1710436074512"
      ]
     },
     "execution_count": 8,
     "metadata": {},
     "output_type": "execute_result"
    }
   ],
   "source": [
    "id(book2)"
   ]
  },
  {
   "cell_type": "raw",
   "id": "33e1da73",
   "metadata": {},
   "source": [
    "b) id(book1) and id(book2) will have the same value\n",
    "# When you assign book1 to book2, both variables refer to the same object, and therefore, \n",
    "# the id() values for book1 and book2 will be the same."
   ]
  },
  {
   "cell_type": "markdown",
   "id": "fb81e080",
   "metadata": {},
   "source": [
    "### 16. How to Create a new column Revenue which has value equals to the Quantity * UnitPrice of the current row"
   ]
  },
  {
   "cell_type": "code",
   "execution_count": 4,
   "id": "089b48bf",
   "metadata": {},
   "outputs": [
    {
     "data": {
      "text/html": [
       "<div>\n",
       "<style scoped>\n",
       "    .dataframe tbody tr th:only-of-type {\n",
       "        vertical-align: middle;\n",
       "    }\n",
       "\n",
       "    .dataframe tbody tr th {\n",
       "        vertical-align: top;\n",
       "    }\n",
       "\n",
       "    .dataframe thead th {\n",
       "        text-align: right;\n",
       "    }\n",
       "</style>\n",
       "<table border=\"1\" class=\"dataframe\">\n",
       "  <thead>\n",
       "    <tr style=\"text-align: right;\">\n",
       "      <th></th>\n",
       "      <th>Date</th>\n",
       "      <th>Category</th>\n",
       "      <th>Product</th>\n",
       "      <th>CustomerID</th>\n",
       "      <th>Quantity</th>\n",
       "      <th>UnitPrice</th>\n",
       "    </tr>\n",
       "  </thead>\n",
       "  <tbody>\n",
       "    <tr>\n",
       "      <th>0</th>\n",
       "      <td>1/1/2024</td>\n",
       "      <td>Beverage</td>\n",
       "      <td>Cappuccino</td>\n",
       "      <td>C004</td>\n",
       "      <td>1</td>\n",
       "      <td>3.0</td>\n",
       "    </tr>\n",
       "    <tr>\n",
       "      <th>1</th>\n",
       "      <td>1/2/2024</td>\n",
       "      <td>Food</td>\n",
       "      <td>Croissant</td>\n",
       "      <td>C002</td>\n",
       "      <td>2</td>\n",
       "      <td>2.0</td>\n",
       "    </tr>\n",
       "    <tr>\n",
       "      <th>2</th>\n",
       "      <td>1/3/2024</td>\n",
       "      <td>Beverage</td>\n",
       "      <td>Espresso</td>\n",
       "      <td>C001</td>\n",
       "      <td>2</td>\n",
       "      <td>2.0</td>\n",
       "    </tr>\n",
       "    <tr>\n",
       "      <th>3</th>\n",
       "      <td>1/10/2024</td>\n",
       "      <td>Beverage</td>\n",
       "      <td>Latte</td>\n",
       "      <td>C001</td>\n",
       "      <td>3</td>\n",
       "      <td>3.5</td>\n",
       "    </tr>\n",
       "    <tr>\n",
       "      <th>4</th>\n",
       "      <td>1/9/2024</td>\n",
       "      <td>Beverage</td>\n",
       "      <td>Lattte</td>\n",
       "      <td>C003</td>\n",
       "      <td>1</td>\n",
       "      <td>3.5</td>\n",
       "    </tr>\n",
       "    <tr>\n",
       "      <th>5</th>\n",
       "      <td>1/8/2024</td>\n",
       "      <td>Food</td>\n",
       "      <td>Muffin</td>\n",
       "      <td>C002</td>\n",
       "      <td>1</td>\n",
       "      <td>2.5</td>\n",
       "    </tr>\n",
       "  </tbody>\n",
       "</table>\n",
       "</div>"
      ],
      "text/plain": [
       "        Date  Category     Product CustomerID  Quantity  UnitPrice\n",
       "0   1/1/2024  Beverage  Cappuccino       C004         1        3.0\n",
       "1   1/2/2024      Food   Croissant       C002         2        2.0\n",
       "2   1/3/2024  Beverage    Espresso       C001         2        2.0\n",
       "3  1/10/2024  Beverage       Latte       C001         3        3.5\n",
       "4   1/9/2024  Beverage      Lattte       C003         1        3.5\n",
       "5   1/8/2024      Food      Muffin       C002         1        2.5"
      ]
     },
     "execution_count": 4,
     "metadata": {},
     "output_type": "execute_result"
    }
   ],
   "source": [
    "import pandas as pd \n",
    "df = pd.read_csv(r'D:\\python\\extra\\19_12_2023\\assessment\\data.csv')\n",
    "df"
   ]
  },
  {
   "cell_type": "raw",
   "id": "164701f0",
   "metadata": {},
   "source": [
    "a) df['Revenue'] = df['Quantity'] * df['UnitPrice']"
   ]
  },
  {
   "cell_type": "code",
   "execution_count": 8,
   "id": "da6a6b85",
   "metadata": {},
   "outputs": [
    {
     "data": {
      "text/plain": [
       "0     3.0\n",
       "1     4.0\n",
       "2     4.0\n",
       "3    10.5\n",
       "4     3.5\n",
       "5     2.5\n",
       "Name: Revenue, dtype: float64"
      ]
     },
     "execution_count": 8,
     "metadata": {},
     "output_type": "execute_result"
    }
   ],
   "source": [
    "df['Revenue'] = df['Quantity'] * df['UnitPrice']  # This creates a new column named 'Revenue'\n",
    "df['Revenue'] #in the DataFrame df and assigns it the values obtained from the multiplication operation."
   ]
  },
  {
   "cell_type": "code",
   "execution_count": 9,
   "id": "9a129415",
   "metadata": {},
   "outputs": [
    {
     "data": {
      "text/html": [
       "<div>\n",
       "<style scoped>\n",
       "    .dataframe tbody tr th:only-of-type {\n",
       "        vertical-align: middle;\n",
       "    }\n",
       "\n",
       "    .dataframe tbody tr th {\n",
       "        vertical-align: top;\n",
       "    }\n",
       "\n",
       "    .dataframe thead th {\n",
       "        text-align: right;\n",
       "    }\n",
       "</style>\n",
       "<table border=\"1\" class=\"dataframe\">\n",
       "  <thead>\n",
       "    <tr style=\"text-align: right;\">\n",
       "      <th></th>\n",
       "      <th>Date</th>\n",
       "      <th>Category</th>\n",
       "      <th>Product</th>\n",
       "      <th>CustomerID</th>\n",
       "      <th>Quantity</th>\n",
       "      <th>UnitPrice</th>\n",
       "      <th>Revenue</th>\n",
       "    </tr>\n",
       "  </thead>\n",
       "  <tbody>\n",
       "    <tr>\n",
       "      <th>0</th>\n",
       "      <td>1/1/2024</td>\n",
       "      <td>Beverage</td>\n",
       "      <td>Cappuccino</td>\n",
       "      <td>C004</td>\n",
       "      <td>1</td>\n",
       "      <td>3.0</td>\n",
       "      <td>3.0</td>\n",
       "    </tr>\n",
       "    <tr>\n",
       "      <th>1</th>\n",
       "      <td>1/2/2024</td>\n",
       "      <td>Food</td>\n",
       "      <td>Croissant</td>\n",
       "      <td>C002</td>\n",
       "      <td>2</td>\n",
       "      <td>2.0</td>\n",
       "      <td>4.0</td>\n",
       "    </tr>\n",
       "    <tr>\n",
       "      <th>2</th>\n",
       "      <td>1/3/2024</td>\n",
       "      <td>Beverage</td>\n",
       "      <td>Espresso</td>\n",
       "      <td>C001</td>\n",
       "      <td>2</td>\n",
       "      <td>2.0</td>\n",
       "      <td>4.0</td>\n",
       "    </tr>\n",
       "    <tr>\n",
       "      <th>3</th>\n",
       "      <td>1/10/2024</td>\n",
       "      <td>Beverage</td>\n",
       "      <td>Latte</td>\n",
       "      <td>C001</td>\n",
       "      <td>3</td>\n",
       "      <td>3.5</td>\n",
       "      <td>10.5</td>\n",
       "    </tr>\n",
       "    <tr>\n",
       "      <th>4</th>\n",
       "      <td>1/9/2024</td>\n",
       "      <td>Beverage</td>\n",
       "      <td>Lattte</td>\n",
       "      <td>C003</td>\n",
       "      <td>1</td>\n",
       "      <td>3.5</td>\n",
       "      <td>3.5</td>\n",
       "    </tr>\n",
       "    <tr>\n",
       "      <th>5</th>\n",
       "      <td>1/8/2024</td>\n",
       "      <td>Food</td>\n",
       "      <td>Muffin</td>\n",
       "      <td>C002</td>\n",
       "      <td>1</td>\n",
       "      <td>2.5</td>\n",
       "      <td>2.5</td>\n",
       "    </tr>\n",
       "  </tbody>\n",
       "</table>\n",
       "</div>"
      ],
      "text/plain": [
       "        Date  Category     Product CustomerID  Quantity  UnitPrice  Revenue\n",
       "0   1/1/2024  Beverage  Cappuccino       C004         1        3.0      3.0\n",
       "1   1/2/2024      Food   Croissant       C002         2        2.0      4.0\n",
       "2   1/3/2024  Beverage    Espresso       C001         2        2.0      4.0\n",
       "3  1/10/2024  Beverage       Latte       C001         3        3.5     10.5\n",
       "4   1/9/2024  Beverage      Lattte       C003         1        3.5      3.5\n",
       "5   1/8/2024      Food      Muffin       C002         1        2.5      2.5"
      ]
     },
     "execution_count": 9,
     "metadata": {},
     "output_type": "execute_result"
    }
   ],
   "source": [
    "df # revenue created"
   ]
  },
  {
   "cell_type": "markdown",
   "id": "5687a902",
   "metadata": {},
   "source": [
    "### 17. What is the syntax to find Categorical wise revenue"
   ]
  },
  {
   "cell_type": "raw",
   "id": "cff6d72b",
   "metadata": {},
   "source": [
    "b) df.groupby('Category')['Revenue'].sum()"
   ]
  },
  {
   "cell_type": "code",
   "execution_count": 10,
   "id": "3448b0c0",
   "metadata": {},
   "outputs": [
    {
     "data": {
      "text/plain": [
       "Category\n",
       "Beverage    21.0\n",
       "Food         6.5\n",
       "Name: Revenue, dtype: float64"
      ]
     },
     "execution_count": 10,
     "metadata": {},
     "output_type": "execute_result"
    }
   ],
   "source": [
    "df.groupby('Category')['Revenue'].sum()"
   ]
  },
  {
   "cell_type": "markdown",
   "id": "8969a2d4",
   "metadata": {},
   "source": [
    "### 18. To find the average quantity wrt t date and product what is the correct syntax?"
   ]
  },
  {
   "cell_type": "raw",
   "id": "5bdcee7a",
   "metadata": {},
   "source": [
    "b) df.groupby(['Date', 'Product'])['Quantity'].mean()"
   ]
  },
  {
   "cell_type": "code",
   "execution_count": 11,
   "id": "80f84a49",
   "metadata": {},
   "outputs": [
    {
     "data": {
      "text/plain": [
       "Date       Product   \n",
       "1/1/2024   Cappuccino    1.0\n",
       "1/10/2024  Latte         3.0\n",
       "1/2/2024   Croissant     2.0\n",
       "1/3/2024   Espresso      2.0\n",
       "1/8/2024   Muffin        1.0\n",
       "1/9/2024   Lattte        1.0\n",
       "Name: Quantity, dtype: float64"
      ]
     },
     "execution_count": 11,
     "metadata": {},
     "output_type": "execute_result"
    }
   ],
   "source": [
    "df.groupby(['Date', 'Product'])['Quantity'].mean()"
   ]
  },
  {
   "cell_type": "markdown",
   "id": "9286c5b0",
   "metadata": {},
   "source": [
    "### 19. Categorical wise revenue for Bevarage and Food respectively are\n"
   ]
  },
  {
   "cell_type": "code",
   "execution_count": 12,
   "id": "ba8e4e35",
   "metadata": {},
   "outputs": [
    {
     "data": {
      "text/plain": [
       "Category\n",
       "Beverage    21.0\n",
       "Food         6.5\n",
       "Name: Revenue, dtype: float64"
      ]
     },
     "execution_count": 12,
     "metadata": {},
     "output_type": "execute_result"
    }
   ],
   "source": [
    "df.groupby('Category')['Revenue'].sum()"
   ]
  },
  {
   "cell_type": "markdown",
   "id": "a4923368",
   "metadata": {},
   "source": [
    "### 20. Using transform, What is the syntax to create a column which has a unitprice difference wrt its category mean\n",
    " "
   ]
  },
  {
   "cell_type": "raw",
   "id": "4caf417c",
   "metadata": {},
   "source": [
    "a) df.groupby(\"category\")[\"unitprice\"].transform(lambda x: x - x.mean())"
   ]
  },
  {
   "cell_type": "code",
   "execution_count": 16,
   "id": "997baa13",
   "metadata": {},
   "outputs": [
    {
     "data": {
      "text/plain": [
       "0    0.00\n",
       "1   -0.25\n",
       "2   -1.00\n",
       "3    0.50\n",
       "4    0.50\n",
       "5    0.25\n",
       "Name: UnitPrice, dtype: float64"
      ]
     },
     "execution_count": 16,
     "metadata": {},
     "output_type": "execute_result"
    }
   ],
   "source": [
    "df.groupby(\"Category\")[\"UnitPrice\"].transform(lambda x: x - x.mean())"
   ]
  },
  {
   "cell_type": "raw",
   "id": "a1505010",
   "metadata": {},
   "source": [
    "# df.groupby(\"category\"): Groups the DataFrame by the 'category' column\n",
    "# [\"unitprice\"]: Selects the 'unitprice' column from the grouped data\n",
    "# .transform(lambda x: x - x.mean()): Applies a lambda function to calculate the difference between each unit price (x) and the mean unit price of its category."
   ]
  },
  {
   "cell_type": "markdown",
   "id": "2316a0d8",
   "metadata": {},
   "source": [
    "### 21. What is the correct syntax to get data wrt 'Monday'"
   ]
  },
  {
   "cell_type": "raw",
   "id": "9df7e988",
   "metadata": {},
   "source": [
    "a) df.groupby(df.Date.dt.day_name()).get_group(\"Monday\")"
   ]
  },
  {
   "cell_type": "code",
   "execution_count": 20,
   "id": "514c0091",
   "metadata": {},
   "outputs": [],
   "source": [
    "df['Date'] = pd.to_datetime(df['Date'])"
   ]
  },
  {
   "cell_type": "code",
   "execution_count": 22,
   "id": "80055637",
   "metadata": {},
   "outputs": [
    {
     "data": {
      "text/html": [
       "<div>\n",
       "<style scoped>\n",
       "    .dataframe tbody tr th:only-of-type {\n",
       "        vertical-align: middle;\n",
       "    }\n",
       "\n",
       "    .dataframe tbody tr th {\n",
       "        vertical-align: top;\n",
       "    }\n",
       "\n",
       "    .dataframe thead th {\n",
       "        text-align: right;\n",
       "    }\n",
       "</style>\n",
       "<table border=\"1\" class=\"dataframe\">\n",
       "  <thead>\n",
       "    <tr style=\"text-align: right;\">\n",
       "      <th></th>\n",
       "      <th>Date</th>\n",
       "      <th>Category</th>\n",
       "      <th>Product</th>\n",
       "      <th>CustomerID</th>\n",
       "      <th>Quantity</th>\n",
       "      <th>UnitPrice</th>\n",
       "      <th>Revenue</th>\n",
       "    </tr>\n",
       "  </thead>\n",
       "  <tbody>\n",
       "    <tr>\n",
       "      <th>0</th>\n",
       "      <td>2024-01-01</td>\n",
       "      <td>Beverage</td>\n",
       "      <td>Cappuccino</td>\n",
       "      <td>C004</td>\n",
       "      <td>1</td>\n",
       "      <td>3.0</td>\n",
       "      <td>3.0</td>\n",
       "    </tr>\n",
       "    <tr>\n",
       "      <th>5</th>\n",
       "      <td>2024-01-08</td>\n",
       "      <td>Food</td>\n",
       "      <td>Muffin</td>\n",
       "      <td>C002</td>\n",
       "      <td>1</td>\n",
       "      <td>2.5</td>\n",
       "      <td>2.5</td>\n",
       "    </tr>\n",
       "  </tbody>\n",
       "</table>\n",
       "</div>"
      ],
      "text/plain": [
       "        Date  Category     Product CustomerID  Quantity  UnitPrice  Revenue\n",
       "0 2024-01-01  Beverage  Cappuccino       C004         1        3.0      3.0\n",
       "5 2024-01-08      Food      Muffin       C002         1        2.5      2.5"
      ]
     },
     "execution_count": 22,
     "metadata": {},
     "output_type": "execute_result"
    }
   ],
   "source": [
    "df.groupby(df.Date.dt.day_name()).get_group('Monday')\n",
    "# This syntax correctly uses the groupby method with the get_group method \n",
    "# to filter the DataFrame for data corresponding to Mondays based on the day name."
   ]
  },
  {
   "cell_type": "markdown",
   "id": "ec0b153e",
   "metadata": {},
   "source": [
    "### 22. Which of the following statements is / are true"
   ]
  },
  {
   "cell_type": "raw",
   "id": "d72d7f73",
   "metadata": {},
   "source": [
    "d) apply applies the function one cell at a time"
   ]
  },
  {
   "cell_type": "raw",
   "id": "586e8d5b",
   "metadata": {},
   "source": [
    "# The apply function in pandas can be applied to a Series or DataFrame. \n",
    "#When applied to a Series, it operates on each element of the Series.\n",
    "#When applied to a DataFrame, it can operate on either rows or columns, depending on the specified axis."
   ]
  },
  {
   "cell_type": "markdown",
   "id": "92dcf6d5",
   "metadata": {},
   "source": [
    "### 23. Which of the following statements is / are true"
   ]
  },
  {
   "cell_type": "markdown",
   "id": "97fb3584",
   "metadata": {},
   "source": [
    "b) applymap applies the functionality on each element of the DataFrame, whether it's a row or a column."
   ]
  },
  {
   "cell_type": "raw",
   "id": "a0fab33b",
   "metadata": {},
   "source": [
    "# map is used for element-wise transformations on a Series.\n",
    "# apply can be used to apply a function along the axis of a DataFrame, either on rows or columns, based on the specified axis parameter.\n",
    "# applymap is specifically designed for element-wise operations on DataFrames."
   ]
  },
  {
   "cell_type": "markdown",
   "id": "17f1903d",
   "metadata": {},
   "source": [
    "### 24. create a pivot table with index ass Nort and South and Columns as Product Where values are sum of Quantities Sold"
   ]
  },
  {
   "cell_type": "code",
   "execution_count": 23,
   "id": "713f7c02",
   "metadata": {},
   "outputs": [
    {
     "data": {
      "text/html": [
       "<div>\n",
       "<style scoped>\n",
       "    .dataframe tbody tr th:only-of-type {\n",
       "        vertical-align: middle;\n",
       "    }\n",
       "\n",
       "    .dataframe tbody tr th {\n",
       "        vertical-align: top;\n",
       "    }\n",
       "\n",
       "    .dataframe thead th {\n",
       "        text-align: right;\n",
       "    }\n",
       "</style>\n",
       "<table border=\"1\" class=\"dataframe\">\n",
       "  <thead>\n",
       "    <tr style=\"text-align: right;\">\n",
       "      <th></th>\n",
       "      <th>Date</th>\n",
       "      <th>Region</th>\n",
       "      <th>Salesperson</th>\n",
       "      <th>Product</th>\n",
       "      <th>Quantity</th>\n",
       "      <th>UnitPrice</th>\n",
       "    </tr>\n",
       "  </thead>\n",
       "  <tbody>\n",
       "    <tr>\n",
       "      <th>0</th>\n",
       "      <td>2024-01-10</td>\n",
       "      <td>North</td>\n",
       "      <td>Ajay</td>\n",
       "      <td>Notebook</td>\n",
       "      <td>5</td>\n",
       "      <td>12</td>\n",
       "    </tr>\n",
       "    <tr>\n",
       "      <th>1</th>\n",
       "      <td>2024-01-11</td>\n",
       "      <td>South</td>\n",
       "      <td>Balu</td>\n",
       "      <td>Pen</td>\n",
       "      <td>10</td>\n",
       "      <td>3</td>\n",
       "    </tr>\n",
       "    <tr>\n",
       "      <th>2</th>\n",
       "      <td>2024-01-10</td>\n",
       "      <td>East</td>\n",
       "      <td>Chirag</td>\n",
       "      <td>Notebook</td>\n",
       "      <td>7</td>\n",
       "      <td>12</td>\n",
       "    </tr>\n",
       "    <tr>\n",
       "      <th>3</th>\n",
       "      <td>2024-01-12</td>\n",
       "      <td>West</td>\n",
       "      <td>Ajay</td>\n",
       "      <td>Pen</td>\n",
       "      <td>15</td>\n",
       "      <td>3</td>\n",
       "    </tr>\n",
       "    <tr>\n",
       "      <th>4</th>\n",
       "      <td>2024-01-11</td>\n",
       "      <td>North</td>\n",
       "      <td>Balu</td>\n",
       "      <td>Binder</td>\n",
       "      <td>20</td>\n",
       "      <td>5</td>\n",
       "    </tr>\n",
       "    <tr>\n",
       "      <th>5</th>\n",
       "      <td>2024-01-12</td>\n",
       "      <td>East</td>\n",
       "      <td>Chiraj</td>\n",
       "      <td>Binder</td>\n",
       "      <td>10</td>\n",
       "      <td>5</td>\n",
       "    </tr>\n",
       "  </tbody>\n",
       "</table>\n",
       "</div>"
      ],
      "text/plain": [
       "         Date Region Salesperson   Product  Quantity  UnitPrice\n",
       "0  2024-01-10  North        Ajay  Notebook         5         12\n",
       "1  2024-01-11  South        Balu       Pen        10          3\n",
       "2  2024-01-10   East      Chirag  Notebook         7         12\n",
       "3  2024-01-12   West        Ajay       Pen        15          3\n",
       "4  2024-01-11  North        Balu    Binder        20          5\n",
       "5  2024-01-12   East      Chiraj    Binder        10          5"
      ]
     },
     "execution_count": 23,
     "metadata": {},
     "output_type": "execute_result"
    }
   ],
   "source": [
    "data = {\n",
    "    'Date': ['2024-01-10', '2024-01-11', '2024-01-10','2024-01-12','2024-01-11','2024-01-12'],\n",
    "    'Region': ['North', 'South', 'East','West','North','East'],\n",
    "    'Salesperson': ['Ajay', 'Balu', 'Chirag','Ajay','Balu','Chiraj'],\n",
    "    'Product': ['Notebook', 'Pen', 'Notebook','Pen','Binder','Binder'],\n",
    "    'Quantity': [5, 10, 7,15,20,10],\n",
    "    'UnitPrice': [12, 3, 12,3,5,5]\n",
    "}\n",
    "\n",
    "df1= pd.DataFrame(data)\n",
    "\n",
    "df1"
   ]
  },
  {
   "cell_type": "code",
   "execution_count": 27,
   "id": "b08a0125",
   "metadata": {},
   "outputs": [
    {
     "data": {
      "text/html": [
       "<div>\n",
       "<style scoped>\n",
       "    .dataframe tbody tr th:only-of-type {\n",
       "        vertical-align: middle;\n",
       "    }\n",
       "\n",
       "    .dataframe tbody tr th {\n",
       "        vertical-align: top;\n",
       "    }\n",
       "\n",
       "    .dataframe thead th {\n",
       "        text-align: right;\n",
       "    }\n",
       "</style>\n",
       "<table border=\"1\" class=\"dataframe\">\n",
       "  <thead>\n",
       "    <tr style=\"text-align: right;\">\n",
       "      <th>Region</th>\n",
       "      <th>North</th>\n",
       "      <th>South</th>\n",
       "    </tr>\n",
       "    <tr>\n",
       "      <th>Product</th>\n",
       "      <th></th>\n",
       "      <th></th>\n",
       "    </tr>\n",
       "  </thead>\n",
       "  <tbody>\n",
       "    <tr>\n",
       "      <th>Binder</th>\n",
       "      <td>20.0</td>\n",
       "      <td>NaN</td>\n",
       "    </tr>\n",
       "    <tr>\n",
       "      <th>Notebook</th>\n",
       "      <td>5.0</td>\n",
       "      <td>NaN</td>\n",
       "    </tr>\n",
       "    <tr>\n",
       "      <th>Pen</th>\n",
       "      <td>NaN</td>\n",
       "      <td>10.0</td>\n",
       "    </tr>\n",
       "  </tbody>\n",
       "</table>\n",
       "</div>"
      ],
      "text/plain": [
       "Region    North  South\n",
       "Product               \n",
       "Binder     20.0    NaN\n",
       "Notebook    5.0    NaN\n",
       "Pen         NaN   10.0"
      ]
     },
     "execution_count": 27,
     "metadata": {},
     "output_type": "execute_result"
    }
   ],
   "source": [
    "df1[df1['Region'].isin(['North', 'South'])].pivot_table(index='Product', columns='Region', values='Quantity')"
   ]
  },
  {
   "cell_type": "raw",
   "id": "0a2b0247",
   "metadata": {},
   "source": [
    "# values='Quantity': This specifies the column whose values will be aggregated (summed in this case).\n",
    "\n",
    "# index='Region': This sets the 'Region' column as the index of the pivot table.\n",
    "\n",
    "# columns='Product': This sets the 'Product' column as the columns of the pivot table."
   ]
  },
  {
   "cell_type": "markdown",
   "id": "74d1cc98",
   "metadata": {},
   "source": [
    "### 25. Which of the following statements is/are True"
   ]
  },
  {
   "cell_type": "raw",
   "id": "afb6ad8d",
   "metadata": {},
   "source": [
    "a) .loc method includes the last element when used for slicing."
   ]
  },
  {
   "cell_type": "raw",
   "id": "35c8fda8",
   "metadata": {},
   "source": [
    "a) .iloc is primarily integer-location based indexing, and when you use it for slicing, it includes the last element in the specified range.\n",
    "\n",
    "b) .loc is label-based indexing, and when you use it for slicing, it includes the start but excludes the end.\n",
    "\n",
    "c) This statement is not entirely accurate. When using .loc for slicing, you typically provide labels (not default integer index values). If you pass integer values, it will interpret them as labels, not default integer positions."
   ]
  },
  {
   "cell_type": "markdown",
   "id": "0087a114",
   "metadata": {},
   "source": [
    "### 26. Using a pivot table is it possible to create a multi-index dataframe ,if so what is the syntax to have a multi index of date and region, with total product sold as values"
   ]
  },
  {
   "cell_type": "raw",
   "id": "282c57c2",
   "metadata": {},
   "source": [
    "c) df1.pivot_table(index=['date', 'region'], columns='product', values='quantity', aggfunc='sum')"
   ]
  },
  {
   "cell_type": "code",
   "execution_count": 33,
   "id": "64729dcc",
   "metadata": {},
   "outputs": [
    {
     "data": {
      "text/html": [
       "<div>\n",
       "<style scoped>\n",
       "    .dataframe tbody tr th:only-of-type {\n",
       "        vertical-align: middle;\n",
       "    }\n",
       "\n",
       "    .dataframe tbody tr th {\n",
       "        vertical-align: top;\n",
       "    }\n",
       "\n",
       "    .dataframe thead th {\n",
       "        text-align: right;\n",
       "    }\n",
       "</style>\n",
       "<table border=\"1\" class=\"dataframe\">\n",
       "  <thead>\n",
       "    <tr style=\"text-align: right;\">\n",
       "      <th></th>\n",
       "      <th>Product</th>\n",
       "      <th>Binder</th>\n",
       "      <th>Notebook</th>\n",
       "      <th>Pen</th>\n",
       "    </tr>\n",
       "    <tr>\n",
       "      <th>Date</th>\n",
       "      <th>Region</th>\n",
       "      <th></th>\n",
       "      <th></th>\n",
       "      <th></th>\n",
       "    </tr>\n",
       "  </thead>\n",
       "  <tbody>\n",
       "    <tr>\n",
       "      <th rowspan=\"2\" valign=\"top\">2024-01-10</th>\n",
       "      <th>East</th>\n",
       "      <td>NaN</td>\n",
       "      <td>7.0</td>\n",
       "      <td>NaN</td>\n",
       "    </tr>\n",
       "    <tr>\n",
       "      <th>North</th>\n",
       "      <td>NaN</td>\n",
       "      <td>5.0</td>\n",
       "      <td>NaN</td>\n",
       "    </tr>\n",
       "    <tr>\n",
       "      <th rowspan=\"2\" valign=\"top\">2024-01-11</th>\n",
       "      <th>North</th>\n",
       "      <td>20.0</td>\n",
       "      <td>NaN</td>\n",
       "      <td>NaN</td>\n",
       "    </tr>\n",
       "    <tr>\n",
       "      <th>South</th>\n",
       "      <td>NaN</td>\n",
       "      <td>NaN</td>\n",
       "      <td>10.0</td>\n",
       "    </tr>\n",
       "    <tr>\n",
       "      <th rowspan=\"2\" valign=\"top\">2024-01-12</th>\n",
       "      <th>East</th>\n",
       "      <td>10.0</td>\n",
       "      <td>NaN</td>\n",
       "      <td>NaN</td>\n",
       "    </tr>\n",
       "    <tr>\n",
       "      <th>West</th>\n",
       "      <td>NaN</td>\n",
       "      <td>NaN</td>\n",
       "      <td>15.0</td>\n",
       "    </tr>\n",
       "  </tbody>\n",
       "</table>\n",
       "</div>"
      ],
      "text/plain": [
       "Product            Binder  Notebook   Pen\n",
       "Date       Region                        \n",
       "2024-01-10 East       NaN       7.0   NaN\n",
       "           North      NaN       5.0   NaN\n",
       "2024-01-11 North     20.0       NaN   NaN\n",
       "           South      NaN       NaN  10.0\n",
       "2024-01-12 East      10.0       NaN   NaN\n",
       "           West       NaN       NaN  15.0"
      ]
     },
     "execution_count": 33,
     "metadata": {},
     "output_type": "execute_result"
    }
   ],
   "source": [
    "df1.pivot_table(index=['Date', 'Region'],columns='Product',values='Quantity',aggfunc='sum')"
   ]
  },
  {
   "cell_type": "raw",
   "id": "cd503ca3",
   "metadata": {},
   "source": [
    "# columns='Product': This sets the 'Product' column as the columns of the pivot table. Each unique value in the 'Product' column will become a column in the resulting pivot table.\n",
    "\n",
    "# values='Quantity': This specifies that the values in the pivot table will be taken from the 'Quantity' column of the original DataFrame.\n",
    "\n",
    "# aggfunc='sum': This specifies the aggregation function to be applied. In this case, it's 'sum', meaning that the values for each combination of 'Date', 'Region', and 'Product' will be summed."
   ]
  },
  {
   "cell_type": "markdown",
   "id": "05984d07",
   "metadata": {},
   "source": [
    "### 27. What does the margins parameter in pivot_table() allows to include in the pivot table\n",
    "\n",
    "a) additional margins  and subtotals for rows and columns \n",
    "\n",
    "b)  a list of column names to exclude from the pivot_table \n",
    "\n",
    "c) the numbers of rows and columns to skip at thr beginning of the pivot table \n",
    "\n",
    "d) the maximum number of rows and columns to display the pivot table"
   ]
  },
  {
   "cell_type": "raw",
   "id": "bc38a42a",
   "metadata": {},
   "source": [
    "a) additional margins and subtotals for rows and columns\n",
    "\n",
    "# The margins parameter in the pivot_table function allows you to include additional margins and subtotals for rows and columns in the resulting pivot table. \n",
    "\n",
    "# When you set margins=True, it adds the margins at the end of the rows and columns to display totals for rows, columns, and the grand total."
   ]
  },
  {
   "cell_type": "markdown",
   "id": "de0aae0c",
   "metadata": {},
   "source": [
    "### 28. If we choose to imputing missing values in Price Col by Chaining ffill() and bfill() while limiting the imputation to 1,1 respectively , how many missing values will be left post imputation"
   ]
  },
  {
   "cell_type": "code",
   "execution_count": 69,
   "id": "7ffc7ba5",
   "metadata": {},
   "outputs": [],
   "source": [
    "import pandas as pd"
   ]
  },
  {
   "cell_type": "raw",
   "id": "eaf1b41a",
   "metadata": {},
   "source": [
    "There are 3 missing values left after ffill & bfill imputation"
   ]
  },
  {
   "cell_type": "code",
   "execution_count": 78,
   "id": "ecf2040d",
   "metadata": {},
   "outputs": [
    {
     "data": {
      "text/html": [
       "<div>\n",
       "<style scoped>\n",
       "    .dataframe tbody tr th:only-of-type {\n",
       "        vertical-align: middle;\n",
       "    }\n",
       "\n",
       "    .dataframe tbody tr th {\n",
       "        vertical-align: top;\n",
       "    }\n",
       "\n",
       "    .dataframe thead th {\n",
       "        text-align: right;\n",
       "    }\n",
       "</style>\n",
       "<table border=\"1\" class=\"dataframe\">\n",
       "  <thead>\n",
       "    <tr style=\"text-align: right;\">\n",
       "      <th></th>\n",
       "      <th>Fruits</th>\n",
       "      <th>Price</th>\n",
       "    </tr>\n",
       "  </thead>\n",
       "  <tbody>\n",
       "    <tr>\n",
       "      <th>0</th>\n",
       "      <td>apple</td>\n",
       "      <td></td>\n",
       "    </tr>\n",
       "    <tr>\n",
       "      <th>1</th>\n",
       "      <td>banana</td>\n",
       "      <td></td>\n",
       "    </tr>\n",
       "    <tr>\n",
       "      <th>2</th>\n",
       "      <td>apple</td>\n",
       "      <td>205</td>\n",
       "    </tr>\n",
       "    <tr>\n",
       "      <th>3</th>\n",
       "      <td>apple</td>\n",
       "      <td>200</td>\n",
       "    </tr>\n",
       "    <tr>\n",
       "      <th>4</th>\n",
       "      <td>banana</td>\n",
       "      <td>40</td>\n",
       "    </tr>\n",
       "    <tr>\n",
       "      <th>5</th>\n",
       "      <td>apple</td>\n",
       "      <td>210</td>\n",
       "    </tr>\n",
       "    <tr>\n",
       "      <th>6</th>\n",
       "      <td>kiwi</td>\n",
       "      <td>300</td>\n",
       "    </tr>\n",
       "    <tr>\n",
       "      <th>7</th>\n",
       "      <td>kiwi</td>\n",
       "      <td>320</td>\n",
       "    </tr>\n",
       "    <tr>\n",
       "      <th>8</th>\n",
       "      <td>banana</td>\n",
       "      <td></td>\n",
       "    </tr>\n",
       "    <tr>\n",
       "      <th>9</th>\n",
       "      <td>apple</td>\n",
       "      <td>180</td>\n",
       "    </tr>\n",
       "    <tr>\n",
       "      <th>10</th>\n",
       "      <td>kiwi</td>\n",
       "      <td>350</td>\n",
       "    </tr>\n",
       "    <tr>\n",
       "      <th>11</th>\n",
       "      <td>apple</td>\n",
       "      <td></td>\n",
       "    </tr>\n",
       "    <tr>\n",
       "      <th>12</th>\n",
       "      <td>banana</td>\n",
       "      <td>35</td>\n",
       "    </tr>\n",
       "    <tr>\n",
       "      <th>13</th>\n",
       "      <td>grape</td>\n",
       "      <td></td>\n",
       "    </tr>\n",
       "    <tr>\n",
       "      <th>14</th>\n",
       "      <td>apple</td>\n",
       "      <td>215</td>\n",
       "    </tr>\n",
       "    <tr>\n",
       "      <th>15</th>\n",
       "      <td>banana</td>\n",
       "      <td>40</td>\n",
       "    </tr>\n",
       "    <tr>\n",
       "      <th>16</th>\n",
       "      <td>apple</td>\n",
       "      <td></td>\n",
       "    </tr>\n",
       "    <tr>\n",
       "      <th>17</th>\n",
       "      <td>apple</td>\n",
       "      <td></td>\n",
       "    </tr>\n",
       "    <tr>\n",
       "      <th>18</th>\n",
       "      <td>grape</td>\n",
       "      <td></td>\n",
       "    </tr>\n",
       "  </tbody>\n",
       "</table>\n",
       "</div>"
      ],
      "text/plain": [
       "    Fruits Price\n",
       "0    apple      \n",
       "1   banana      \n",
       "2    apple   205\n",
       "3    apple   200\n",
       "4   banana    40\n",
       "5    apple   210\n",
       "6     kiwi   300\n",
       "7     kiwi   320\n",
       "8   banana      \n",
       "9    apple   180\n",
       "10    kiwi   350\n",
       "11   apple      \n",
       "12  banana    35\n",
       "13   grape      \n",
       "14   apple   215\n",
       "15  banana    40\n",
       "16   apple      \n",
       "17   apple      \n",
       "18   grape      "
      ]
     },
     "execution_count": 78,
     "metadata": {},
     "output_type": "execute_result"
    }
   ],
   "source": [
    "df2 = pd.DataFrame({\n",
    "    'Fruits': ['apple', 'banana', 'apple', 'apple', 'banana', 'apple', 'kiwi', 'kiwi', 'banana', 'apple', 'kiwi', 'apple', 'banana', 'grape', 'apple', 'banana', 'apple', 'apple', 'grape'],\n",
    "    'Price': ['', '', 205, 200, 40, 210, 300, 320, '', 180, 350, '', 35, '', 215, 40, '', '', '']\n",
    "})\n",
    "df2"
   ]
  },
  {
   "cell_type": "code",
   "execution_count": 79,
   "id": "98e36969",
   "metadata": {},
   "outputs": [],
   "source": [
    "df2['Price'] = pd.to_numeric(df2['Price'])\n",
    "df2['Price'] = df2['Price'].ffill(limit=1).bfill(limit=1)"
   ]
  },
  {
   "cell_type": "code",
   "execution_count": 80,
   "id": "ddf53989",
   "metadata": {},
   "outputs": [
    {
     "data": {
      "text/html": [
       "<div>\n",
       "<style scoped>\n",
       "    .dataframe tbody tr th:only-of-type {\n",
       "        vertical-align: middle;\n",
       "    }\n",
       "\n",
       "    .dataframe tbody tr th {\n",
       "        vertical-align: top;\n",
       "    }\n",
       "\n",
       "    .dataframe thead th {\n",
       "        text-align: right;\n",
       "    }\n",
       "</style>\n",
       "<table border=\"1\" class=\"dataframe\">\n",
       "  <thead>\n",
       "    <tr style=\"text-align: right;\">\n",
       "      <th></th>\n",
       "      <th>Fruits</th>\n",
       "      <th>Price</th>\n",
       "    </tr>\n",
       "  </thead>\n",
       "  <tbody>\n",
       "    <tr>\n",
       "      <th>0</th>\n",
       "      <td>apple</td>\n",
       "      <td>NaN</td>\n",
       "    </tr>\n",
       "    <tr>\n",
       "      <th>1</th>\n",
       "      <td>banana</td>\n",
       "      <td>205.0</td>\n",
       "    </tr>\n",
       "    <tr>\n",
       "      <th>2</th>\n",
       "      <td>apple</td>\n",
       "      <td>205.0</td>\n",
       "    </tr>\n",
       "    <tr>\n",
       "      <th>3</th>\n",
       "      <td>apple</td>\n",
       "      <td>200.0</td>\n",
       "    </tr>\n",
       "    <tr>\n",
       "      <th>4</th>\n",
       "      <td>banana</td>\n",
       "      <td>40.0</td>\n",
       "    </tr>\n",
       "    <tr>\n",
       "      <th>5</th>\n",
       "      <td>apple</td>\n",
       "      <td>210.0</td>\n",
       "    </tr>\n",
       "    <tr>\n",
       "      <th>6</th>\n",
       "      <td>kiwi</td>\n",
       "      <td>300.0</td>\n",
       "    </tr>\n",
       "    <tr>\n",
       "      <th>7</th>\n",
       "      <td>kiwi</td>\n",
       "      <td>320.0</td>\n",
       "    </tr>\n",
       "    <tr>\n",
       "      <th>8</th>\n",
       "      <td>banana</td>\n",
       "      <td>320.0</td>\n",
       "    </tr>\n",
       "    <tr>\n",
       "      <th>9</th>\n",
       "      <td>apple</td>\n",
       "      <td>180.0</td>\n",
       "    </tr>\n",
       "    <tr>\n",
       "      <th>10</th>\n",
       "      <td>kiwi</td>\n",
       "      <td>350.0</td>\n",
       "    </tr>\n",
       "    <tr>\n",
       "      <th>11</th>\n",
       "      <td>apple</td>\n",
       "      <td>350.0</td>\n",
       "    </tr>\n",
       "    <tr>\n",
       "      <th>12</th>\n",
       "      <td>banana</td>\n",
       "      <td>35.0</td>\n",
       "    </tr>\n",
       "    <tr>\n",
       "      <th>13</th>\n",
       "      <td>grape</td>\n",
       "      <td>35.0</td>\n",
       "    </tr>\n",
       "    <tr>\n",
       "      <th>14</th>\n",
       "      <td>apple</td>\n",
       "      <td>215.0</td>\n",
       "    </tr>\n",
       "    <tr>\n",
       "      <th>15</th>\n",
       "      <td>banana</td>\n",
       "      <td>40.0</td>\n",
       "    </tr>\n",
       "    <tr>\n",
       "      <th>16</th>\n",
       "      <td>apple</td>\n",
       "      <td>40.0</td>\n",
       "    </tr>\n",
       "    <tr>\n",
       "      <th>17</th>\n",
       "      <td>apple</td>\n",
       "      <td>NaN</td>\n",
       "    </tr>\n",
       "    <tr>\n",
       "      <th>18</th>\n",
       "      <td>grape</td>\n",
       "      <td>NaN</td>\n",
       "    </tr>\n",
       "  </tbody>\n",
       "</table>\n",
       "</div>"
      ],
      "text/plain": [
       "    Fruits  Price\n",
       "0    apple    NaN\n",
       "1   banana  205.0\n",
       "2    apple  205.0\n",
       "3    apple  200.0\n",
       "4   banana   40.0\n",
       "5    apple  210.0\n",
       "6     kiwi  300.0\n",
       "7     kiwi  320.0\n",
       "8   banana  320.0\n",
       "9    apple  180.0\n",
       "10    kiwi  350.0\n",
       "11   apple  350.0\n",
       "12  banana   35.0\n",
       "13   grape   35.0\n",
       "14   apple  215.0\n",
       "15  banana   40.0\n",
       "16   apple   40.0\n",
       "17   apple    NaN\n",
       "18   grape    NaN"
      ]
     },
     "execution_count": 80,
     "metadata": {},
     "output_type": "execute_result"
    }
   ],
   "source": [
    "df2"
   ]
  },
  {
   "cell_type": "code",
   "execution_count": 81,
   "id": "1d149756",
   "metadata": {},
   "outputs": [
    {
     "data": {
      "text/plain": [
       "3"
      ]
     },
     "execution_count": 81,
     "metadata": {},
     "output_type": "execute_result"
    }
   ],
   "source": [
    "x = df2['Price'].isnull().sum()\n",
    "x"
   ]
  },
  {
   "cell_type": "markdown",
   "id": "aed42c9c",
   "metadata": {},
   "source": [
    "### 29. What kind of missing values handling technique is appropriate for df2\n",
    "\n",
    "a) imputing price col with price mean\n",
    "\n",
    "b) imputing price col with price median \n",
    "\n",
    "c) imputing price col with individual fruits price median\n",
    "\n",
    "d) dropping missing value"
   ]
  },
  {
   "cell_type": "raw",
   "id": "cf20468e",
   "metadata": {},
   "source": [
    "c) imputing price col with individual fruits price median"
   ]
  },
  {
   "cell_type": "markdown",
   "id": "a7361137",
   "metadata": {},
   "source": [
    "### 30. If we choose to impute missing values in price col by with individual fruit's price's mean, how many missing values will be post imputation\n",
    "\n",
    "a) 2\n",
    "\n",
    "b) 0\n",
    "\n",
    "c) 1\n",
    "\n",
    "d) 3"
   ]
  },
  {
   "cell_type": "code",
   "execution_count": 82,
   "id": "929edc80",
   "metadata": {},
   "outputs": [],
   "source": [
    "df2['Price'] = df2.groupby('Fruits')['Price'].transform(lambda x: x.fillna(x.mean()))"
   ]
  },
  {
   "cell_type": "code",
   "execution_count": 83,
   "id": "93cd65cd",
   "metadata": {},
   "outputs": [
    {
     "data": {
      "text/plain": [
       "0"
      ]
     },
     "execution_count": 83,
     "metadata": {},
     "output_type": "execute_result"
    }
   ],
   "source": [
    "df2['Price'].isnull().sum()"
   ]
  },
  {
   "cell_type": "raw",
   "id": "a81f8e18",
   "metadata": {},
   "source": [
    "b) 0"
   ]
  },
  {
   "cell_type": "markdown",
   "id": "2cfbc9be",
   "metadata": {},
   "source": [
    "### 31. a = pd.Series([np.nan, 1, 2, np.nan, np.nan, np.nan, np.nan, 4, 5, 7]) What will be the output of a.interpolate()\n"
   ]
  },
  {
   "cell_type": "code",
   "execution_count": 84,
   "id": "62513807",
   "metadata": {},
   "outputs": [],
   "source": [
    "import numpy as np"
   ]
  },
  {
   "cell_type": "code",
   "execution_count": 85,
   "id": "6ac3a06d",
   "metadata": {},
   "outputs": [],
   "source": [
    "a=pd.Series([np.nan, 1,2, np.nan, np.nan,np.nan, np.nan, 4, 5, 7])"
   ]
  },
  {
   "cell_type": "code",
   "execution_count": 86,
   "id": "ef817a4e",
   "metadata": {},
   "outputs": [
    {
     "data": {
      "text/plain": [
       "0    NaN\n",
       "1    1.0\n",
       "2    2.0\n",
       "3    NaN\n",
       "4    NaN\n",
       "5    NaN\n",
       "6    NaN\n",
       "7    4.0\n",
       "8    5.0\n",
       "9    7.0\n",
       "dtype: float64"
      ]
     },
     "execution_count": 86,
     "metadata": {},
     "output_type": "execute_result"
    }
   ],
   "source": [
    "a # It fills NaN values in the Series using linear interpolation."
   ]
  },
  {
   "cell_type": "code",
   "execution_count": 87,
   "id": "fd596bff",
   "metadata": {},
   "outputs": [
    {
     "data": {
      "text/plain": [
       "0    NaN\n",
       "1    1.0\n",
       "2    2.0\n",
       "3    2.4\n",
       "4    2.8\n",
       "5    3.2\n",
       "6    3.6\n",
       "7    4.0\n",
       "8    5.0\n",
       "9    7.0\n",
       "dtype: float64"
      ]
     },
     "execution_count": 87,
     "metadata": {},
     "output_type": "execute_result"
    }
   ],
   "source": [
    "a.interpolate() # The interpolate() function in pandas is applied to the Series 'a'."
   ]
  },
  {
   "cell_type": "code",
   "execution_count": 89,
   "id": "504d0271",
   "metadata": {},
   "outputs": [],
   "source": [
    "# c) c) [nan,1.0,2.0,2.4,2.8,3.2,3.6,4.0,5.0,7.0]\n",
    "# The result is a Series with NaN values replaced based on linear interpolation between neighboring non-NaN values.\n",
    "# the missing values are filled using linear interpolation.\n",
    "# The missing value at index 0 is not filled because there are no preceding values to interpolate from. \n",
    "# Linear interpolation is applied between existing values, and you can see that the NaN values are filled accordingly."
   ]
  },
  {
   "cell_type": "markdown",
   "id": "f1364b1d",
   "metadata": {},
   "source": [
    "### 32. What is the use of the normalization parameter in the crosstab method of pandas"
   ]
  },
  {
   "cell_type": "code",
   "execution_count": 90,
   "id": "7aac23e1",
   "metadata": {},
   "outputs": [
    {
     "data": {
      "text/html": [
       "<div>\n",
       "<style scoped>\n",
       "    .dataframe tbody tr th:only-of-type {\n",
       "        vertical-align: middle;\n",
       "    }\n",
       "\n",
       "    .dataframe tbody tr th {\n",
       "        vertical-align: top;\n",
       "    }\n",
       "\n",
       "    .dataframe thead th {\n",
       "        text-align: right;\n",
       "    }\n",
       "</style>\n",
       "<table border=\"1\" class=\"dataframe\">\n",
       "  <thead>\n",
       "    <tr style=\"text-align: right;\">\n",
       "      <th></th>\n",
       "      <th>Age Group</th>\n",
       "      <th>Favorite Color</th>\n",
       "      <th>Gender</th>\n",
       "      <th>Has Pet</th>\n",
       "    </tr>\n",
       "  </thead>\n",
       "  <tbody>\n",
       "    <tr>\n",
       "      <th>0</th>\n",
       "      <td>26-35</td>\n",
       "      <td>Blue</td>\n",
       "      <td>Male</td>\n",
       "      <td>Yes</td>\n",
       "    </tr>\n",
       "    <tr>\n",
       "      <th>1</th>\n",
       "      <td>18-25</td>\n",
       "      <td>Red</td>\n",
       "      <td>Female</td>\n",
       "      <td>Yes</td>\n",
       "    </tr>\n",
       "    <tr>\n",
       "      <th>2</th>\n",
       "      <td>18-25</td>\n",
       "      <td>Red</td>\n",
       "      <td>Male</td>\n",
       "      <td>Yes</td>\n",
       "    </tr>\n",
       "    <tr>\n",
       "      <th>3</th>\n",
       "      <td>26-35</td>\n",
       "      <td>Blue</td>\n",
       "      <td>Female</td>\n",
       "      <td>Yes</td>\n",
       "    </tr>\n",
       "    <tr>\n",
       "      <th>4</th>\n",
       "      <td>18-25</td>\n",
       "      <td>Red</td>\n",
       "      <td>Female</td>\n",
       "      <td>Yes</td>\n",
       "    </tr>\n",
       "    <tr>\n",
       "      <th>5</th>\n",
       "      <td>18-25</td>\n",
       "      <td>Blue</td>\n",
       "      <td>Female</td>\n",
       "      <td>No</td>\n",
       "    </tr>\n",
       "  </tbody>\n",
       "</table>\n",
       "</div>"
      ],
      "text/plain": [
       "  Age Group Favorite Color  Gender Has Pet\n",
       "0     26-35           Blue    Male     Yes\n",
       "1     18-25            Red  Female     Yes\n",
       "2     18-25            Red    Male     Yes\n",
       "3     26-35           Blue  Female     Yes\n",
       "4     18-25            Red  Female     Yes\n",
       "5     18-25           Blue  Female      No"
      ]
     },
     "execution_count": 90,
     "metadata": {},
     "output_type": "execute_result"
    }
   ],
   "source": [
    "df = pd.DataFrame({'Age Group': ['26-35', '18-25', '18-25', '26-35', '18-25', '18-25'],\n",
    "    'Favorite Color': ['Blue', 'Red', 'Red', 'Blue', 'Red', 'Blue'],\n",
    "    'Gender': ['Male', 'Female', 'Male', 'Female', 'Female', 'Female'],\n",
    "    'Has Pet': ['Yes', 'Yes', 'Yes', 'Yes', 'Yes', 'No']})\n",
    "df"
   ]
  },
  {
   "cell_type": "raw",
   "id": "ddcc5aff",
   "metadata": {},
   "source": [
    "a) It used to normalize values by dividing them by the total count"
   ]
  },
  {
   "cell_type": "code",
   "execution_count": 91,
   "id": "958b7a73",
   "metadata": {},
   "outputs": [],
   "source": [
    "# In the pd.crosstab method in pandas\n",
    "# the normalize parameter is used to normalize the values by dividing them by the total count.\n",
    "# By setting normalize to True, the resulting table will display proportions or percentages instead of counts. \n",
    "# This is useful when you want to see the relative frequencies of the cross-tabulated variables."
   ]
  },
  {
   "cell_type": "code",
   "execution_count": null,
   "id": "0e0802b5",
   "metadata": {},
   "outputs": [],
   "source": []
  }
 ],
 "metadata": {
  "kernelspec": {
   "display_name": "Python 3 (ipykernel)",
   "language": "python",
   "name": "python3"
  },
  "language_info": {
   "codemirror_mode": {
    "name": "ipython",
    "version": 3
   },
   "file_extension": ".py",
   "mimetype": "text/x-python",
   "name": "python",
   "nbconvert_exporter": "python",
   "pygments_lexer": "ipython3",
   "version": "3.11.5"
  }
 },
 "nbformat": 4,
 "nbformat_minor": 5
}
