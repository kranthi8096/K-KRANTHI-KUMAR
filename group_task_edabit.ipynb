{
 "cells": [
  {
   "cell_type": "markdown",
   "id": "84b160cb",
   "metadata": {},
   "source": [
    "### 18) Create a function that returns the mean of all digits."
   ]
  },
  {
   "cell_type": "markdown",
   "id": "e626bc7c",
   "metadata": {},
   "source": [
    "# while loop"
   ]
  },
  {
   "cell_type": "code",
   "execution_count": 2,
   "id": "6c00ca52",
   "metadata": {},
   "outputs": [
    {
     "name": "stdout",
     "output_type": "stream",
     "text": [
      "Enter a number: 10\n",
      "Enter a number: 20\n",
      "Enter a number: 30\n",
      "Enter a number: 40\n",
      "Enter a number: 50\n",
      "Addition is 150\n",
      "Average = 30.0\n"
     ]
    }
   ],
   "source": [
    "count = 0       # Initialize a counter for the number of iterations and a variable to store the sum of numbers\n",
    "add = 0\n",
    "\n",
    "while count < 5:                # Use a while loop to repeatedly ask the user to enter a number until 'count' is less than 5\n",
    "    number = int(input(\"Enter a number: \")) # user to enter a number and convert it to an integer\n",
    "    add += number\n",
    "    count += 1\n",
    "\n",
    "print(\"Addition is\", add)     # Add the entered number to the sum\n",
    "                       \n",
    "average = add / 5               # Calculate the average by dividing the sum by the number of iterations (5 in this case)\n",
    "print(\"Average =\", average)"
   ]
  },
  {
   "cell_type": "markdown",
   "id": "b92e3166",
   "metadata": {},
   "source": [
    "# for loop"
   ]
  },
  {
   "cell_type": "code",
   "execution_count": 3,
   "id": "56222c49",
   "metadata": {},
   "outputs": [
    {
     "name": "stdout",
     "output_type": "stream",
     "text": [
      "Enter a number: 10\n",
      "Enter a number: 20\n",
      "Enter a number: 30\n",
      "Enter a number: 40\n",
      "Enter a number: 50\n",
      "Addition is 150\n",
      "Average = 30.0\n"
     ]
    }
   ],
   "source": [
    "add = 0      # Initialize a variable to store the sum of numbers\n",
    "\n",
    "for _ in range(5):        # Use a for loop to iterate five times\n",
    "    number = int(input(\"Enter a number: \"))  #Prompt the user to enter a number and convert it to an integer\n",
    "    add += number\n",
    "                                          # Add the entered number to the sum\n",
    "print(\"Addition is\", add)                # Print the sum of the entered numbers\n",
    "\n",
    "average = add / 5              # Calculate the average by dividing the sum by the count of numbers (5)\n",
    "print(\"Average =\", average)\n"
   ]
  },
  {
   "cell_type": "markdown",
   "id": "ad7993e7",
   "metadata": {},
   "source": [
    "### 19) Create a function that takes in two lists: the list of user-typed words, and the list of correctly-typed words and outputs a list containing 1s (correctly-typed words) and -1s (incorrectly-typed words)."
   ]
  },
  {
   "cell_type": "markdown",
   "id": "f99e746f",
   "metadata": {},
   "source": [
    "# while loop"
   ]
  },
  {
   "cell_type": "code",
   "execution_count": 8,
   "id": "025ec2a9",
   "metadata": {},
   "outputs": [
    {
     "name": "stdout",
     "output_type": "stream",
     "text": [
      "Type this word: Qw5Je\n",
      "Your answer: qwyhs\n",
      "Incorrect. Try again.\n",
      "Type this word: WaTer\n",
      "Your answer: WaTeR\n",
      "Incorrect. Try again.\n",
      "Type this word: HiI2J\n",
      "Your answer: HiJ\n",
      "Incorrect. Try again.\n",
      "Type this word: HoTeL\n",
      "Your answer: HoTeL\n",
      "Correct!\n",
      "Type this word: FiNe3\n",
      "Your answer: fine\n",
      "Incorrect. Try again.\n",
      "Game over! You've reached the maximum number of attempts.\n",
      "Your score is: 1\n",
      "Results: [-1, -1, -1, 1, -1]\n"
     ]
    }
   ],
   "source": [
    "import random          # random.shuffle(sequence): Shuffles the elements of a sequence\n",
    "\n",
    "word_list = [\"ApPlE\", \"HoTeL\", \"HiI2J\", \"FiNe3\", \"WaTer\", \"Qw5Je\", \"sNaKe\", \"oOg5\", \"HeLlO\", \"Dr6Pe\"]\n",
    "max_attempts = 5\n",
    "attempts = 0\n",
    "score = 0\n",
    "results = []  # last all value stores in results\n",
    "\n",
    "while attempts < max_attempts:\n",
    "    random_word = random.choice(word_list)\n",
    "    print(\"Type this word: \" + random_word) # random words to type correct\n",
    "    player_input = input(\"Your answer: \")\n",
    "    if player_input == random_word: # if input is correct and same add to result\n",
    "        print(\"Correct!\")\n",
    "        score += 1\n",
    "        results.append(1)           # and append to result list\n",
    "    else:\n",
    "        print(\"Incorrect. Try again.\")     # if it wrong then show -1\n",
    "        results.append(-1)                   # results will append\n",
    "    attempts += 1\n",
    "\n",
    "print(\"Game over! You've reached the maximum number of attempts.\")\n",
    "print(\"Your score is:\", score)\n",
    "print(\"Results:\", results)\n"
   ]
  },
  {
   "cell_type": "markdown",
   "id": "88b77c0e",
   "metadata": {},
   "source": [
    "# for loop"
   ]
  },
  {
   "cell_type": "code",
   "execution_count": 1,
   "id": "4314dfcf",
   "metadata": {},
   "outputs": [
    {
     "name": "stdout",
     "output_type": "stream",
     "text": [
      "Type this word: HiI2J\n",
      "Your answer: HiI2J\n",
      "Correct!\n",
      "Type this word: Qw5Je\n",
      "Your answer: Qw5Je\n",
      "Correct!\n",
      "Type this word: FiNe3\n",
      "Your answer: Fine3\n",
      "Incorrect. Try again.\n",
      "Type this word: HoTeL\n",
      "Your answer: HoTel\n",
      "Incorrect. Try again.\n",
      "Type this word: HiI2J\n",
      "Your answer: HiI2J\n",
      "Correct!\n",
      "Game over! You've reached the maximum number of attempts.\n",
      "Your score is: 3\n",
      "Results: [1, 1, -1, -1, 1]\n"
     ]
    }
   ],
   "source": [
    "import random\n",
    "\n",
    "word_list = [\"ApPlE\", \"HoTeL\", \"HiI2J\", \"FiNe3\", \"WaTer\", \"Qw5Je\", \"sNaKe\", \"oOg5\", \"HeLlO\", \"Dr6Pe\"]\n",
    "max_attempts = 5\n",
    "score = 0\n",
    "results = []\n",
    "\n",
    "for _ in range(max_attempts):\n",
    "    random_word = random.choice(word_list)\n",
    "    print(\"Type this word: \" + random_word)\n",
    "    player_input = input(\"Your answer: \")\n",
    "    \n",
    "    if player_input == random_word:\n",
    "        print(\"Correct!\")\n",
    "        score += 1\n",
    "        results.append(1)\n",
    "    else:\n",
    "        print(\"Incorrect. Try again.\")\n",
    "        results.append(-1)\n",
    "\n",
    "print(\"Game over! You've reached the maximum number of attempts.\")\n",
    "print(\"Your score is:\", score)\n",
    "print(\"Results:\", results)\n"
   ]
  },
  {
   "cell_type": "markdown",
   "id": "6e67935b",
   "metadata": {},
   "source": [
    "### 20) Create a function which returns a list of booleans, from a given number. Iterating through the number one digit at a time, append True if the digit is 1 and False if it is 0."
   ]
  },
  {
   "cell_type": "markdown",
   "id": "1dddfe03",
   "metadata": {},
   "source": [
    "# while loop"
   ]
  },
  {
   "cell_type": "code",
   "execution_count": 9,
   "id": "c07ae5e7",
   "metadata": {},
   "outputs": [
    {
     "name": "stdout",
     "output_type": "stream",
     "text": [
      "Enter a number: 10011\n",
      "[True, False, False, True, True]\n"
     ]
    }
   ],
   "source": [
    "input_number = input('Enter a number: ')\n",
    "boolean_list = []\n",
    "index = 0\n",
    "\n",
    "while index < len(input_number):\n",
    "    if input_number[index] == '1':\n",
    "        boolean_list.append(True)\n",
    "    elif input_number[index] == '0':\n",
    "        boolean_list.append(False)\n",
    "    index += 1\n",
    "\n",
    "print(boolean_list)\n"
   ]
  },
  {
   "cell_type": "markdown",
   "id": "86f57ac7",
   "metadata": {},
   "source": [
    "# for loop"
   ]
  },
  {
   "cell_type": "code",
   "execution_count": 2,
   "id": "c8a1cff3",
   "metadata": {},
   "outputs": [
    {
     "name": "stdout",
     "output_type": "stream",
     "text": [
      "Enter a number: 10020\n",
      "invalid number\n",
      "[True, False, False, False]\n"
     ]
    }
   ],
   "source": [
    "input_number = input('Enter a number: ')\n",
    "boolean_list = []\n",
    "\n",
    "for digit in input_number:\n",
    "    if digit == '1':\n",
    "        boolean_list.append(True)\n",
    "    elif digit == '0':\n",
    "        boolean_list.append(False)\n",
    "        \n",
    "    else:\n",
    "        print(\"invalid number\")\n",
    "\n",
    "print(boolean_list)\n"
   ]
  },
  {
   "cell_type": "markdown",
   "id": "0072e2f6",
   "metadata": {},
   "source": [
    "### 21) Create a function that returns True if the first list is a subset of the second. Return False otherwise."
   ]
  },
  {
   "cell_type": "markdown",
   "id": "1ae9b969",
   "metadata": {},
   "source": [
    "# while loop"
   ]
  },
  {
   "cell_type": "code",
   "execution_count": 22,
   "id": "9acb67d0",
   "metadata": {},
   "outputs": [
    {
     "name": "stdout",
     "output_type": "stream",
     "text": [
      "Enter a set (comma-separated): 1,2,3\n",
      "Enter another set (comma-separated): 1,2,3,4,5\n",
      "True\n"
     ]
    }
   ],
   "source": [
    "a1 = set(input('Enter a set (comma-separated): ').split(','))  # user to enter  set (comma-separated) for set b\n",
    "\n",
    "b1 = input('Enter another set (comma-separated): ')   #user to enter another set (comma-separated) for set b\n",
    "b = set(b1.split(','))\n",
    "\n",
    "is_subset = True                          # check if a1 is a subset of b\n",
    "\n",
    "while a1:                                    # while loop to iterate through each element in set a1\n",
    "    element = a1.pop()                   # Pop an element from set a1\n",
    "    \n",
    "    if element not in b:\n",
    "        is_subset = False\n",
    "        break\n",
    "\n",
    "if is_subset:                       #True if a1 is a subset of b, otherwise, print False\n",
    "    print(True)\n",
    "else:\n",
    "    print(False)\n"
   ]
  },
  {
   "cell_type": "markdown",
   "id": "edbec494",
   "metadata": {},
   "source": [
    "# for loop"
   ]
  },
  {
   "cell_type": "code",
   "execution_count": 24,
   "id": "431c1acf",
   "metadata": {},
   "outputs": [
    {
     "name": "stdout",
     "output_type": "stream",
     "text": [
      "Enter a set (comma-separated): 3,5,6,8\n",
      "Enter another set (comma-separated): 1,2,3,6,8\n",
      "False\n"
     ]
    }
   ],
   "source": [
    "a1 = set(input('Enter a set (comma-separated): ').split(','))    # enter a set (comma-separated) for set a1\n",
    "\n",
    "b1 = input('Enter another set (comma-separated): ') #enter another set (comma-separated) for set b\n",
    "b = set(b1.split(','))\n",
    "\n",
    "is_subset = True       # check if a1 is a subset of b\n",
    "\n",
    "for element in a1:    #  for loop to iterate through each element in set a1\n",
    "    if element not in b1:\n",
    "        is_subset = False\n",
    "        break\n",
    "\n",
    "if is_subset:                  #True if a1 is a subset of b, otherwise, print False\n",
    "    print(True)\n",
    "else:\n",
    "    print(False)\n"
   ]
  },
  {
   "cell_type": "markdown",
   "id": "c012c8ba",
   "metadata": {},
   "source": [
    "### 22) create a function that outputs the maximum possible score a player can achieve by summing up the total number of points for all the tiles in their hand. Each hand contains 7 scrabble tiles."
   ]
  },
  {
   "cell_type": "markdown",
   "id": "3232af12",
   "metadata": {},
   "source": [
    "# while loop"
   ]
  },
  {
   "cell_type": "code",
   "execution_count": 18,
   "id": "22b19026",
   "metadata": {},
   "outputs": [
    {
     "name": "stdout",
     "output_type": "stream",
     "text": [
      "Enter a tile (or 'done' to finish): h\n",
      "Enter the score for tile h: 4\n",
      "Enter a tile (or 'done' to finish): u\n",
      "Enter the score for tile u: 7\n",
      "Enter a tile (or 'done' to finish): exit\n",
      "11\n"
     ]
    }
   ],
   "source": [
    "tile_hand = []\n",
    "while True:\n",
    "    tile = input(\"Enter a tile (or 'exit' to finish): \")\n",
    "    \n",
    "    if tile == 'exit':\n",
    "        break                   # Exit the loop if the user is done entering tiles with help of break function\n",
    "    \n",
    "    score = int(input(f\"Enter the score for tile {tile}: \"))\n",
    "    tile_hand.append({'tile': tile, 'score': score})\n",
    "\n",
    "max_score = 0\n",
    "index = 0\n",
    "\n",
    "while index < len(tile_hand):\n",
    "    max_score += tile_hand[index]['score']\n",
    "    index += 1\n",
    "\n",
    "print(max_score)\n"
   ]
  },
  {
   "cell_type": "markdown",
   "id": "dea3e468",
   "metadata": {},
   "source": [
    "# for loop"
   ]
  },
  {
   "cell_type": "code",
   "execution_count": 19,
   "id": "d1980283",
   "metadata": {},
   "outputs": [
    {
     "name": "stdout",
     "output_type": "stream",
     "text": [
      "Enter a tile: h\n",
      "Enter the score for tile h: 2\n",
      "Enter a tile: y\n",
      "Enter the score for tile y: 4\n",
      "Enter a tile: r\n",
      "Enter the score for tile r: 1\n",
      "The maximum score of the tiles is: 7\n"
     ]
    }
   ],
   "source": [
    "tile_hand = []\n",
    "limit = 3             # Set the limit to 3\n",
    "\n",
    "for _ in range(limit):                   # for loop to prompt the user to enter tiles and their scores.\n",
    "    tile = input(\"Enter a tile: \")      #  the user to enter the tile's name.\n",
    "    score = int(input(f\"Enter the score for tile {tile}: \"))  # user to enter the score for the tile\n",
    "    tile_hand.append({'tile': tile, 'score': score})      # Append the til\n",
    "\n",
    "max_score = 0      maximum score and set it to 0.\n",
    "\n",
    "for tile in tile_hand:                      #for loop to iterate through the list of tiles and their scores\n",
    "    max_score += tile['score']                    # Add the score of the current tile to the max_score\n",
    "\n",
    "print(f\"The maximum score of the tiles is: {max_score}\")\n"
   ]
  },
  {
   "cell_type": "markdown",
   "id": "da55903a",
   "metadata": {},
   "source": [
    "### 23) Create a function that takes an integer and returns a list from 1 to the given number, where:\n",
    "\n",
    "### If the number can be divided evenly by 4, amplify it by 10 (i.e. return 10 times the number).\n",
    "### If the number cannot be divided evenly by 4, simply return the number."
   ]
  },
  {
   "cell_type": "markdown",
   "id": "de7f3b53",
   "metadata": {},
   "source": [
    "# while loop"
   ]
  },
  {
   "cell_type": "code",
   "execution_count": 84,
   "id": "378d9cad",
   "metadata": {},
   "outputs": [
    {
     "name": "stdout",
     "output_type": "stream",
     "text": [
      "Enter a number: 4\n",
      "[1, 2, 3, 40]\n"
     ]
    }
   ],
   "source": [
    "n = int(input(\"Enter a number: \"))\n",
    "result = []\n",
    "i = 1\n",
    "\n",
    "while i <= n:\n",
    "    if i % 4 == 0:\n",
    "        result.append(10 * i)\n",
    "    else:\n",
    "        result.append(i)\n",
    "    i += 1\n",
    "\n",
    "print(result)\n"
   ]
  },
  {
   "cell_type": "markdown",
   "id": "dd44fa47",
   "metadata": {},
   "source": [
    "# for loop"
   ]
  },
  {
   "cell_type": "code",
   "execution_count": 1,
   "id": "93f24a06",
   "metadata": {},
   "outputs": [
    {
     "name": "stdout",
     "output_type": "stream",
     "text": [
      "Enter a number: 25\n",
      "[1, 2, 3, 40, 5, 6, 7, 80, 9, 10, 11, 120, 13, 14, 15, 160, 17, 18, 19, 200, 21, 22, 23, 240, 25]\n"
     ]
    }
   ],
   "source": [
    "n = int(input(\"Enter a number: \"))\n",
    "result = []\n",
    "\n",
    "for i in range(1, n + 1):\n",
    "    if i % 4 == 0:\n",
    "        result.append(10 * i)\n",
    "    else:\n",
    "        result.append(i)\n",
    "\n",
    "print(result)\n"
   ]
  },
  {
   "cell_type": "markdown",
   "id": "0e606111",
   "metadata": {},
   "source": [
    "### 24) Return the smallest number of steps it takes to convert a string entirely into uppercase or entirely into lower case, whichever takes the fewest number of steps. A step consists of changing one character from lower to upper case, or vice versa."
   ]
  },
  {
   "cell_type": "markdown",
   "id": "179d99b1",
   "metadata": {},
   "source": [
    "# for loop "
   ]
  },
  {
   "cell_type": "code",
   "execution_count": 85,
   "id": "32afafcf",
   "metadata": {},
   "outputs": [
    {
     "name": "stdout",
     "output_type": "stream",
     "text": [
      "Enter a string: Alex\n",
      "Minimum steps to convert: 1\n",
      "Converted string: alex\n"
     ]
    }
   ],
   "source": [
    "input_string = input(\"Enter a string: \")\n",
    "\n",
    "countU = 0\n",
    "countL = 0\n",
    "\n",
    "for t in input_string:\n",
    "    if t.isupper():\n",
    "        countU += 1\n",
    "    if t.islower():\n",
    "        countL += 1\n",
    "\n",
    "if countL > countU:\n",
    "    steps = countU\n",
    "    converted_string = input_string.lower()\n",
    "else:\n",
    "    steps = countL\n",
    "    converted_string = input_string.upper()\n",
    "\n",
    "print(\"Minimum steps to convert:\", steps)\n",
    "print(\"Converted string:\", converted_string)\n"
   ]
  },
  {
   "cell_type": "markdown",
   "id": "1dc8aaf8",
   "metadata": {},
   "source": [
    "## while loop"
   ]
  },
  {
   "cell_type": "code",
   "execution_count": 34,
   "id": "7cef843f",
   "metadata": {},
   "outputs": [
    {
     "name": "stdout",
     "output_type": "stream",
     "text": [
      "Enter a string (or type 'quit' to exit): Hotel\n",
      "Minimum steps to convert: 1\n",
      "Converted string: hotel\n",
      "Enter a string (or type 'quit' to exit): FOOTBAll\n",
      "Minimum steps to convert: 2\n",
      "Converted string: FOOTBALL\n",
      "Enter a string (or type 'quit' to exit): quit\n"
     ]
    }
   ],
   "source": [
    "while True:\n",
    "    input_string = input(\"Enter a string (or type 'quit' to exit): \")\n",
    "\n",
    "    if input_string.lower() == 'quit':\n",
    "        break\n",
    "\n",
    "    countU = 0\n",
    "    countL = 0\n",
    "\n",
    "    for t in input_string:\n",
    "        if t.isupper():\n",
    "            countU += 1\n",
    "        if t.islower():\n",
    "            countL += 1\n",
    "\n",
    "    if countL > countU:\n",
    "        steps = countU\n",
    "        converted_string = input_string.lower()\n",
    "    else:\n",
    "        steps = countL\n",
    "        converted_string = input_string.upper()\n",
    "\n",
    "    print(\"Minimum steps to convert:\", steps)\n",
    "    print(\"Converted string:\", converted_string)"
   ]
  },
  {
   "cell_type": "markdown",
   "id": "1f96fda1",
   "metadata": {},
   "source": [
    "### 25) Create a function that compares two words based on the sum of their ASCII codes and returns the word with the smaller ASCII sum."
   ]
  },
  {
   "cell_type": "markdown",
   "id": "3ea5c542",
   "metadata": {},
   "source": [
    "# while loop"
   ]
  },
  {
   "cell_type": "code",
   "execution_count": 20,
   "id": "bdb58a10",
   "metadata": {},
   "outputs": [
    {
     "name": "stdout",
     "output_type": "stream",
     "text": [
      "Enter the first word: hotel\n",
      "Enter the second word: football\n",
      "hotel has a smaller ASCII sum than football.\n"
     ]
    }
   ],
   "source": [
    "word1 = input(\"Enter the first word: \")\n",
    "word2 = input(\"Enter the second word: \")\n",
    "\n",
    "\n",
    "ascii_sum_word1 = 0               # Calculate the sum of ASCII codes for word1\n",
    "i = 0\n",
    "while i < len(word1):\n",
    "    ascii_sum_word1 += ord(word1[i])\n",
    "    i += 1\n",
    "\n",
    "\n",
    "ascii_sum_word2 = 0               # Calculate the sum of ASCII codes for word2\n",
    "i = 0\n",
    "while i < len(word2):\n",
    "    ascii_sum_word2 += ord(word2[i])\n",
    "    i += 1\n",
    "\n",
    "                                                                 # Compare the sums and determine the result\n",
    "if ascii_sum_word1 < ascii_sum_word2:\n",
    "    print(f\"{word1} has a smaller ASCII sum than {word2}.\")\n",
    "elif ascii_sum_word1 > ascii_sum_word2:\n",
    "    print(f\"{word2} has a smaller ASCII sum than {word1}.\")\n",
    "else:\n",
    "    print(\"Both words have the same ASCII sum.\")\n",
    "\n"
   ]
  },
  {
   "cell_type": "markdown",
   "id": "51c63cc3",
   "metadata": {},
   "source": [
    "# for loop"
   ]
  },
  {
   "cell_type": "code",
   "execution_count": 4,
   "id": "8bdc26fe",
   "metadata": {},
   "outputs": [
    {
     "name": "stdout",
     "output_type": "stream",
     "text": [
      "Enter the first word: football\n",
      "Enter the second word: game\n",
      "game has a smaller ASCII sum than football.\n"
     ]
    }
   ],
   "source": [
    "# Input two words\n",
    "word1 = input(\"Enter the first word: \")\n",
    "word2 = input(\"Enter the second word: \")\n",
    "\n",
    "# Calculate the sum of ASCII codes for word1\n",
    "ascii_sum_word1 = 0\n",
    "for char in word1:\n",
    "    ascii_sum_word1 += ord(char)\n",
    "\n",
    "# Calculate the sum of ASCII codes for word2\n",
    "ascii_sum_word2 = 0\n",
    "for char in word2:\n",
    "    ascii_sum_word2 += ord(char)\n",
    "\n",
    "# Compare the sums and determine the result\n",
    "if ascii_sum_word1 < ascii_sum_word2:\n",
    "    print(f\"{word1} has a smaller ASCII sum than {word2}.\")\n",
    "elif ascii_sum_word1 > ascii_sum_word2:\n",
    "    print(f\"{word2} has a smaller ASCII sum than {word1}.\")\n",
    "else:\n",
    "    print(\"Both words have the same ASCII sum.\")\n"
   ]
  },
  {
   "cell_type": "markdown",
   "id": "25f68e99",
   "metadata": {},
   "source": [
    "### 26) Imagine a messaging device with only one button. For the letter A, you press the button one time, for E, you press it five times, for G, it's pressed seven times, etc, etc.\n",
    "\n",
    "###  Write a function that takes a string (the message) and returns the total number of times the button is pressed."
   ]
  },
  {
   "cell_type": "markdown",
   "id": "244cbf7a",
   "metadata": {},
   "source": [
    "# while loop"
   ]
  },
  {
   "cell_type": "code",
   "execution_count": 5,
   "id": "0278469d",
   "metadata": {},
   "outputs": [
    {
     "name": "stdout",
     "output_type": "stream",
     "text": [
      "Enter the message: acddey\n",
      "Total button presses: 42\n"
     ]
    }
   ],
   "source": [
    "                                                       \n",
    "message = input(\"Enter the message: \")\n",
    "\n",
    "letters = 'abcdefghijklmnopqrstuvwxyz'             # Define the alphabet\n",
    "\n",
    "total = 0                                                   # Initialize the total button presses counter\n",
    "\n",
    "i = 0                                                # Create an index variable for the while loop\n",
    "\n",
    "while i < len(message):                      #  Iterate through the characters in the message\n",
    "    char = message[i]     \n",
    "    index = letters.find(char)\n",
    "    if index >= 0:\n",
    "        total += index + 1\n",
    "    i += 1\n",
    "\n",
    "\n",
    "print(f\"Total button presses: {total}\")            # Print the total number of button presses\n"
   ]
  },
  {
   "cell_type": "markdown",
   "id": "1b6b40b3",
   "metadata": {},
   "source": [
    "# for loop"
   ]
  },
  {
   "cell_type": "code",
   "execution_count": 6,
   "id": "efdac8c4",
   "metadata": {},
   "outputs": [
    {
     "name": "stdout",
     "output_type": "stream",
     "text": [
      "Enter the message: hottel\n",
      "Total button presses: 80\n"
     ]
    }
   ],
   "source": [
    "message = input(\"Enter the message: \")\n",
    "\n",
    "letters = 'abcdefghijklmnopqrstuvwxyz'         # Define the alphabet\n",
    "\n",
    "total = 0                       # Initialize the total button presses counter\n",
    "\n",
    "\n",
    "for char in message:                        # Iterate through the characters in the message using a for loop\n",
    "    index = letters.find(char)\n",
    "    if index >= 0:\n",
    "        total += index + 1\n",
    "\n",
    "\n",
    "print(f\"Total button presses: {total}\")        # Print the total number of button presses\n"
   ]
  },
  {
   "cell_type": "markdown",
   "id": "5df40a97",
   "metadata": {},
   "source": [
    "### 27) Your job is to help me create a function that takes a string and checks to see if it contains the following words or phrases:\n",
    "### If it does, return \"NO!\". Otherwise, return \"Safe watching!\"."
   ]
  },
  {
   "cell_type": "markdown",
   "id": "4ff91ccd",
   "metadata": {},
   "source": [
    "# while loop"
   ]
  },
  {
   "cell_type": "code",
   "execution_count": 12,
   "id": "0ee467d6",
   "metadata": {},
   "outputs": [
    {
     "name": "stdout",
     "output_type": "stream",
     "text": [
      "Enter the text: free pubg online\n",
      "NO!\n"
     ]
    }
   ],
   "source": [
    "\n",
    "txt = input(\"Enter the text: \")\n",
    "\n",
    "\n",
    "lst = ['facebook', 'meme', 'instagram', 'twitter', 'pubg'] # List of words and phrases to check for\n",
    "\n",
    "\n",
    "txt = txt.lower() # Convert the input text to lowercase for case-insensitive matching\n",
    "\n",
    "distraction_found = False   # Initialize a flag to indicate whether a distraction is found\n",
    "\n",
    "\n",
    "i = 0          # Initialize an index variable for the while loop\n",
    "\n",
    "\n",
    "while i < len(lst):\n",
    "    word = lst[i]        # Iterate through the list of words and phrases\n",
    "    if word in txt:\n",
    "        print(\"NO!\")\n",
    "        distraction_found = True\n",
    "        break\n",
    "    i += 1\n",
    "\n",
    "\n",
    "if not distraction_found:\n",
    "    print(\"Safe watching!\")\n"
   ]
  },
  {
   "cell_type": "markdown",
   "id": "6e50d08e",
   "metadata": {},
   "source": [
    "# for loop"
   ]
  },
  {
   "cell_type": "code",
   "execution_count": 38,
   "id": "84854279",
   "metadata": {},
   "outputs": [
    {
     "name": "stdout",
     "output_type": "stream",
     "text": [
      "Enter the text: free gta GAMES\n",
      "NO!\n"
     ]
    }
   ],
   "source": [
    "txt = input(\"Enter the text: \")\n",
    "\n",
    "lst = ['facebook', 'instagram', 'tiktok', 'blood', 'games'] # List of words and phrases to check for\n",
    "\n",
    "txt = txt.lower()  # Convert the input text to lowercase for case-insensitive matching\n",
    "\n",
    "\n",
    "for word in lst:\n",
    "    if word in txt:             # Check if any of the specified words or phrases are found in the text\n",
    "        print(\"NO!\")\n",
    "        break\n",
    "else:\n",
    "    print(\"Safe watching!\")\n"
   ]
  },
  {
   "cell_type": "markdown",
   "id": "597c879b",
   "metadata": {},
   "source": [
    "### 28) You are given a list of dates in the format Dec 11 and a month in the format Dec as arguments. Each date represents a video that was uploaded on that day. Return the number of uploads for a given month."
   ]
  },
  {
   "cell_type": "markdown",
   "id": "88483afb",
   "metadata": {},
   "source": [
    "# while loop"
   ]
  },
  {
   "cell_type": "code",
   "execution_count": 21,
   "id": "29f94be4",
   "metadata": {},
   "outputs": [
    {
     "name": "stdout",
     "output_type": "stream",
     "text": [
      "Enter a list of dates separated by spaces: 10 sept\n",
      "Enter the month to count (e.g., '01' for January): 10\n",
      "1\n"
     ]
    }
   ],
   "source": [
    "dates_input = input(\"Enter a list of dates separated by spaces: \")\n",
    "dates = dates_input.split()\n",
    "\n",
    "\n",
    "month = input(\"Enter the month to count (e.g., '01' for January): \") # Input the month to count\n",
    "\n",
    "\n",
    "count = 0                   # Initialize a counter for the month count\n",
    "\n",
    "\n",
    "i = 0                     # Create an index variable for the while loop\n",
    "\n",
    "\n",
    "while i < len(dates):         # Iterate through the list of dates\n",
    "    date = dates[i]\n",
    "    if date.endswith(month):\n",
    "        count += 1\n",
    "    i += 1\n",
    "\n",
    "# Print the count\n",
    "print(count)\n"
   ]
  },
  {
   "cell_type": "markdown",
   "id": "183ff291",
   "metadata": {},
   "source": [
    "# for loop"
   ]
  },
  {
   "cell_type": "code",
   "execution_count": 23,
   "id": "4a564e7c",
   "metadata": {},
   "outputs": [
    {
     "name": "stdout",
     "output_type": "stream",
     "text": [
      "Enter a list of dates separated by spaces: 10 sept\n",
      "Enter the month to count (e.g., '01' for January): 9\n",
      "0\n"
     ]
    }
   ],
   "source": [
    "dates_input = input(\"Enter a list of dates separated by spaces: \")\n",
    "dates = dates_input.split()\n",
    "\n",
    "\n",
    "month = input(\"Enter the month to count (e.g., '01' for January): \")      # Input the month to count\n",
    "\n",
    "count = 0                                                  # Initialize a counter for the month count\n",
    "\n",
    "for date in dates:\n",
    "    if date.endswith(month):                             # Iterate through the list of dates using a for loop\n",
    "        count += 1\n",
    "\n",
    "print(count)\n"
   ]
  },
  {
   "cell_type": "markdown",
   "id": "7de7e70c",
   "metadata": {},
   "source": [
    "### 29) Create a function that returns the sum of all even elements in a 2D matrix."
   ]
  },
  {
   "cell_type": "markdown",
   "id": "f5e647a4",
   "metadata": {},
   "source": [
    "# while loop"
   ]
  },
  {
   "cell_type": "code",
   "execution_count": 27,
   "id": "8ef25b23",
   "metadata": {},
   "outputs": [
    {
     "name": "stdout",
     "output_type": "stream",
     "text": [
      "Enter the number of rows: 3\n",
      "Enter the number of columns: 3\n",
      "Enter the element at row 1, column 1: 1\n",
      "Enter the element at row 1, column 2: 0\n",
      "Enter the element at row 1, column 3: 2\n",
      "Enter the element at row 2, column 1: 5\n",
      "Enter the element at row 2, column 2: 5\n",
      "Enter the element at row 2, column 3: 7\n",
      "Enter the element at row 3, column 1: 9\n",
      "Enter the element at row 3, column 2: 4\n",
      "Enter the element at row 3, column 3: 3\n",
      "The sum of even elements in the matrix is: 6\n"
     ]
    }
   ],
   "source": [
    "rows = int(input(\"Enter the number of rows: \"))   # Input the number of rows and columns for the matrix\n",
    "cols = int(input(\"Enter the number of columns: \"))\n",
    "\n",
    "matrix = []          # Initialize the 2D matrix and the row and column counters\n",
    "row = 0\n",
    "\n",
    "while row < rows:       # Input the elements for the matrix\n",
    "    col = 0\n",
    "    matrix_row = []\n",
    "    while col < cols:\n",
    "        element = int(input(f\"Enter the element at row {row + 1}, column {col + 1}: \"))\n",
    "        matrix_row.append(element)\n",
    "        col += 1\n",
    "    matrix.append(matrix_row)\n",
    "    row += 1\n",
    "\n",
    "even_sum = 0                  # Initialize the sum of even elements\n",
    "\n",
    "row = 0\n",
    "while row < rows:             # Iterate through the matrix to calculate the sum of even elements\n",
    "    col = 0\n",
    "    while col < cols:\n",
    "        if matrix[row][col] % 2 == 0:\n",
    "            even_sum += matrix[row][col]\n",
    "        col += 1\n",
    "    row += 1\n",
    "\n",
    "\n",
    "print(f\"The sum of even elements in the matrix is: {even_sum}\")\n"
   ]
  },
  {
   "cell_type": "markdown",
   "id": "709d2969",
   "metadata": {},
   "source": [
    "# for loop"
   ]
  },
  {
   "cell_type": "code",
   "execution_count": 26,
   "id": "4369167d",
   "metadata": {},
   "outputs": [
    {
     "name": "stdout",
     "output_type": "stream",
     "text": [
      "Enter the number of rows: 2\n",
      "Enter the number of columns: 2\n",
      "Enter the element at row 1, column 1: 2\n",
      "Enter the element at row 1, column 2: 4\n",
      "Enter the element at row 2, column 1: 1\n",
      "Enter the element at row 2, column 2: 2\n",
      "The sum of even elements in the matrix is: 8\n"
     ]
    }
   ],
   "source": [
    "\n",
    "rows = int(input(\"Enter the number of rows: \"))    # Input the number of rows and columns for the matrix\n",
    "cols = int(input(\"Enter the number of columns: \"))\n",
    "\n",
    "matrix = []\n",
    "for row in range(rows):       # Initialize the 2D matrix and input the elements for the matrix using for loops\n",
    "    matrix_row = []\n",
    "    for col in range(cols):\n",
    "        element = int(input(f\"Enter the element at row {row + 1}, column {col + 1}: \"))\n",
    "        matrix_row.append(element)\n",
    "    matrix.append(matrix_row)\n",
    "\n",
    "even_sum = 0          # Initialize the sum of even elements\n",
    "\n",
    "for row in range(rows):   # Iterate through the matrix to calculate the sum of even elements using for loops\n",
    "    for col in range(cols):\n",
    "        if matrix[row][col] % 2 == 0:\n",
    "            even_sum += matrix[row][col]\n",
    "\n",
    "\n",
    "print(f\"The sum of even elements in the matrix is: {even_sum}\")\n"
   ]
  },
  {
   "cell_type": "markdown",
   "id": "08569b5a",
   "metadata": {},
   "source": [
    "### 30)  A factor chain is a list where each previous element is a factor of the next consecutive element. The following is a factor chain:"
   ]
  },
  {
   "cell_type": "markdown",
   "id": "bd1ee1ee",
   "metadata": {},
   "source": [
    "# while loop"
   ]
  },
  {
   "cell_type": "code",
   "execution_count": 29,
   "id": "6ac0b5a3",
   "metadata": {},
   "outputs": [
    {
     "name": "stdout",
     "output_type": "stream",
     "text": [
      "Enter a list of numbers separated by spaces: 2 4 6 7 12\n",
      "False\n"
     ]
    }
   ],
   "source": [
    "\n",
    "numbers = input(\"Enter a list of numbers separated by spaces: \").split()\n",
    "\n",
    "\n",
    "numbers = [int(num) for num in numbers] # Convert the input numbers to integers\n",
    "\n",
    "is_factor_chain = True             # Initialize a variable to keep track of whether it's a factor chain\n",
    "\n",
    "i = 1            # Create an index variable for the while loop\n",
    "\n",
    "while i < len(numbers):\n",
    "    if numbers[i] % numbers[i - 1] != 0:            # Iterate through the list to check if it's a factor chain\n",
    "        is_factor_chain = False\n",
    "        break\n",
    "    i += 1\n",
    "\n",
    "if is_factor_chain:\n",
    "    print(\"True\")            # Check if it's a factor chain and print the result\n",
    "else:\n",
    "    print(\"False\")\n"
   ]
  },
  {
   "cell_type": "markdown",
   "id": "b880665e",
   "metadata": {},
   "source": [
    "# for loop"
   ]
  },
  {
   "cell_type": "code",
   "execution_count": 33,
   "id": "dd3303f2",
   "metadata": {},
   "outputs": [
    {
     "name": "stdout",
     "output_type": "stream",
     "text": [
      "Enter a list of numbers separated by spaces: 1 2 4 8 16 32\n",
      "True\n"
     ]
    }
   ],
   "source": [
    "\n",
    "numbers = input(\"Enter a list of numbers separated by spaces: \").split()\n",
    "\n",
    "numbers = [int(num) for num in numbers]  # Convert the input numbers to integers\n",
    "\n",
    "is_factor_chain = True  # Initialize a variable to keep track of whether it's a factor chain\n",
    "\n",
    "\n",
    "for i in range(1, len(numbers)):  # Iterate through the list to check if it's a factor chain using a for loop\n",
    "    if numbers[i] % numbers[i - 1] != 0:\n",
    "        is_factor_chain = False\n",
    "        break\n",
    "\n",
    "\n",
    "if is_factor_chain: # Check if it's a factor chain and print the result\n",
    "    print(\"True\")\n",
    "else:\n",
    "    print(\"False\")\n"
   ]
  },
  {
   "cell_type": "markdown",
   "id": "8820f75c",
   "metadata": {},
   "source": [
    "### 31) Create a function, that will for a given a, b, c, do the following:\n",
    "\n",
    "### Add a to itself b times.\n",
    "### Check if the result is divisible by c."
   ]
  },
  {
   "cell_type": "markdown",
   "id": "cb78d062",
   "metadata": {},
   "source": [
    "# while loop"
   ]
  },
  {
   "cell_type": "code",
   "execution_count": 36,
   "id": "3c70762d",
   "metadata": {},
   "outputs": [
    {
     "name": "stdout",
     "output_type": "stream",
     "text": [
      "Enter a value for 'a': 5\n",
      "Enter a value for 'b': 2\n",
      "Enter a value for 'c': 1\n",
      "Is 20 + (20 * 2) divisible by 1 True\n"
     ]
    }
   ],
   "source": [
    "a = int(input(\"Enter a value for 'a': \"))\n",
    "b = int(input(\"Enter a value for 'b': \"))\n",
    "c = int(input(\"Enter a value for 'c': \"))\n",
    "\n",
    "\n",
    "i = 0 # Initialize a loop counter\n",
    "\n",
    "\n",
    "while i < b:  # Multiply 'a' by itself 'b' times using a while loop\n",
    "    a += a\n",
    "    i += 1  # Check if the result is divisible by\n",
    "\n",
    "\n",
    "is_divisible = a % c == 0   # Multiply 'a' by 2 (equivalent to a * 2) for each iteration of the loop.\n",
    "                                      # Calculate the remainder of 'a' divided by 'c' and check if it's equal to 0.\n",
    "\n",
    "print(f\"Is {a} + ({a} * {b}) divisible by {c} {is_divisible}\")\n"
   ]
  },
  {
   "cell_type": "markdown",
   "id": "37256b75",
   "metadata": {},
   "source": [
    "# for loop"
   ]
  },
  {
   "cell_type": "code",
   "execution_count": null,
   "id": "a94e032f",
   "metadata": {},
   "outputs": [],
   "source": [
    "a = int(input(\"Enter a value for 'a': \"))\n",
    "b = int(input(\"Enter a value for 'b': \"))\n",
    "c = int(input(\"Enter a value for 'c': \"))\n",
    "\n",
    "for i in range(b):                           # Initialize a loop to multiply 'a' by itself 'b' times\n",
    "    a += a\n",
    "\n",
    "is_divisible = a % c == 0                      # Multiply 'a' by 2 (equivalent to a * 2) for each iteration of the loop.\n",
    "                                                # Calculate the remainder of 'a' divided by 'c' and check if it's equal to 0.\n",
    "print(f\"Is {a} + ({a} * {b}) divisible by {c} {  is_divisible  }\") # Output whether the result is divisible by 'c' or no. given\n"
   ]
  },
  {
   "cell_type": "markdown",
   "id": "e2fe4d9f",
   "metadata": {},
   "source": [
    "### 32)  Write a function that takes three arguments (x, y, z) and returns a list containing x sublists (e.g. [[], [], []]), each containing y number of item z.\n",
    "\n",
    "### x Number of sublists contained within the main list.\n",
    "### y Number of items contained within each sublist.\n",
    "### z Item contained within each sublist."
   ]
  },
  {
   "cell_type": "markdown",
   "id": "69470da8",
   "metadata": {},
   "source": [
    "# while loop"
   ]
  },
  {
   "cell_type": "code",
   "execution_count": 5,
   "id": "35acde3c",
   "metadata": {},
   "outputs": [
    {
     "name": "stdout",
     "output_type": "stream",
     "text": [
      "Enter the number of sublists: 3\n",
      "Enter the number of items in each sublist: 2\n",
      "Enter the item value: 0\n",
      "[[0, 0], [0, 0], [0, 0]]\n"
     ]
    }
   ],
   "source": [
    "x = int(input(\"Enter the number of sublists: \")) # enter the number of sublists, items per sublist,and the item value.\n",
    "y = int(input(\"Enter the number of items in each sublist: \"))\n",
    "z = int(input(\"Enter the item value: \"))\n",
    "\n",
    "matrix = []       # Create an empty list to store the matrix.\n",
    "row = 0             # Initialize a variable to keep track of the current row.\n",
    "\n",
    "while row < x:           # Use a while loop to create the matrix with the specified number of rows (x).\n",
    "    column = 0             # Initialize a variable to keep track of the current column within the row.\n",
    "    row_data = []\n",
    "    while column < y:           # Use another while loop to create each row with the specified number of items (y).\n",
    "        row_data.append(z)      # Append the specified item value (z) to the current row's data.\n",
    "        column += 1               # Increment the column count.\n",
    "    matrix.append(row_data)\n",
    "    row += 1                     # Append the current row's data to the matrix.\n",
    "\n",
    "print(matrix)\n"
   ]
  },
  {
   "cell_type": "markdown",
   "id": "bd527d4a",
   "metadata": {},
   "source": [
    "# for loop"
   ]
  },
  {
   "cell_type": "code",
   "execution_count": 9,
   "id": "d246d9e8",
   "metadata": {},
   "outputs": [
    {
     "name": "stdout",
     "output_type": "stream",
     "text": [
      "Enter the number of sublists: 3\n",
      "Enter the number of items in each sublist: 2\n",
      "Enter the item value: 6\n",
      "[[6, 6], [6, 6], [6, 6]]\n"
     ]
    }
   ],
   "source": [
    "x = int(input(\"Enter the number of sublists: \"))\n",
    "y = int(input(\"Enter the number of items in each sublist: \"))\n",
    "z = int(input(\"Enter the item value: \"))\n",
    "\n",
    "matrix = [] # Create an empty list to store the matrix.\n",
    "\n",
    "for _ in range(x): # Use a for loop to create the matrix with the specified number of rows (x).\n",
    "    \n",
    "    row_data = [z] * y\n",
    "    \n",
    "    \n",
    "    matrix.append(row_data) # Append the current row's data to the matrix.\n",
    "\n",
    "\n",
    "print(matrix)"
   ]
  },
  {
   "cell_type": "markdown",
   "id": "99f0b94f",
   "metadata": {},
   "source": [
    "### 33) The insurance guy calls again and apologizes. They found another policy made by your spouse, but this one is limited to cover a particular maximum in losses (for example, 50,000€). You send a bill to your spouse for the difference you lost.\n",
    "\n",
    "### Given a dict of the stolen items and a limit, return the difference between the total value of those items and the limit of the policy."
   ]
  },
  {
   "cell_type": "markdown",
   "id": "02e08463",
   "metadata": {},
   "source": [
    "# while loop"
   ]
  },
  {
   "cell_type": "code",
   "execution_count": 11,
   "id": "36b95fcb",
   "metadata": {},
   "outputs": [
    {
     "name": "stdout",
     "output_type": "stream",
     "text": [
      "Enter a key (or 'done' to finish): baseball bat\n",
      "Enter the value for baseball bat: 20\n",
      "Enter a key (or 'done' to finish): done\n",
      "Enter the limit: 5\n",
      "The difference between the sum of values and the limit is: 15\n"
     ]
    }
   ],
   "source": [
    "obj = {}\n",
    "\n",
    "while True:\n",
    "    key = input(\"Enter a key (or 'done' to finish): \")  # user to enter key-value pairs until they're done\n",
    "    \n",
    "    if key == 'done': # Exit the loop if the user is done entering values and exit the loop\n",
    "        break  \n",
    "    \n",
    "    value = int(input(f\"Enter the value for {key}: \"))\n",
    "    obj[key] = value\n",
    "\n",
    "limit = int(input(\"Enter the limit: \")) # Prompt the user to enter the limit\n",
    "\n",
    "total = sum(obj.values())    # Calculate the difference\n",
    "difference = total - limit\n",
    "\n",
    "print(f\"The difference between the sum of values and the limit is: {difference}\")\n"
   ]
  },
  {
   "cell_type": "markdown",
   "id": "17c86b34",
   "metadata": {},
   "source": [
    "# for loop"
   ]
  },
  {
   "cell_type": "code",
   "execution_count": 12,
   "id": "bb51cedf",
   "metadata": {},
   "outputs": [
    {
     "name": "stdout",
     "output_type": "stream",
     "text": [
      "Enter a key (or 'done' to finish): skate\n",
      "Enter the value for skate: 10\n",
      "Enter a key (or 'done' to finish): painting\n",
      "Enter the value for painting: 20\n",
      "Enter a key (or 'done' to finish): done\n",
      "Enter the limit: 19\n",
      "The difference between the sum of values and the limit is: 11\n"
     ]
    }
   ],
   "source": [
    "obj = {}\n",
    "\n",
    "for i in range(0,20):               # Prompt the user to enter key-value pairs until they're done\n",
    "    key = input(\"Enter a key (or 'done' to finish): \")\n",
    "\n",
    "    if key == 'done':\n",
    "        break                                # Exit the loop if the user is done entering values\n",
    "\n",
    "    value = int(input(f\"Enter the value for {key}: \"))\n",
    "    obj[key] = value\n",
    "\n",
    "limit = int(input(\"Enter the limit: \")) # Prompt the user to enter the limit\n",
    "\n",
    "total = sum(obj.values())\n",
    "difference = total - limit\n",
    "\n",
    "print(f\"The difference between the sum of values and the limit is: {difference}\")\n",
    "\n"
   ]
  },
  {
   "cell_type": "markdown",
   "id": "39fd1025",
   "metadata": {},
   "source": [
    "### 34) Create a function that takes a list of integers, sums the even and odd numbers separately, then returns the difference between the sums of the even and odd numbers."
   ]
  },
  {
   "cell_type": "markdown",
   "id": "455c15dd",
   "metadata": {},
   "source": [
    "# while loop"
   ]
  },
  {
   "cell_type": "code",
   "execution_count": 13,
   "id": "2587c7b6",
   "metadata": {},
   "outputs": [
    {
     "name": "stdout",
     "output_type": "stream",
     "text": [
      "Enter a list of numbers separated by spaces: 5 9 45 6 2 7 34 8 6 90 5 243\n",
      "168\n"
     ]
    }
   ],
   "source": [
    "input_numbers = input(\"Enter a list of numbers separated by spaces: \")  # enter a list of numbers separated by spaces\n",
    "lst = [int(num) for num in input_numbers.split()]\n",
    "                        # Split the input string by spaces and convert the  substrings to the integers,  creating a list.\n",
    "even_sum = 0\n",
    "odd_sum = 0                    #  keep track of the sums of even and odd numbers.\n",
    "index = 0                       # an index variable to iterate through the list.\n",
    "                              \n",
    "while index < len(lst):            # while loop to iterate through the list until the end is reached\n",
    "    if lst[index] % 2 == 0:\n",
    "        even_sum += lst[index]    # is even (divisible by 2)\n",
    "    else:\n",
    "        odd_sum += lst[index]    # Add the even number to the even_sum.   # Add the odd number to the odd_sum.\n",
    "    index += 1\n",
    "\n",
    "result = abs(even_sum - odd_sum)    # he index to move to the next number in the list.\n",
    "\n",
    "print(result)\n"
   ]
  },
  {
   "cell_type": "markdown",
   "id": "f105be91",
   "metadata": {},
   "source": [
    "# for loop"
   ]
  },
  {
   "cell_type": "code",
   "execution_count": 16,
   "id": "ea3ef6d2",
   "metadata": {},
   "outputs": [
    {
     "name": "stdout",
     "output_type": "stream",
     "text": [
      "Enter a list of numbers separated by spaces: 2 8 7 5\n",
      "2\n"
     ]
    }
   ],
   "source": [
    "# Prompt the user to enter a list of numbers separated by spaces\n",
    "input_numbers = input(\"Enter a list of numbers separated by spaces: \")\n",
    "lst = [int(num) for num in input_numbers.split()]\n",
    "\n",
    "even_sum = 0\n",
    "odd_sum = 0\n",
    "\n",
    "for num in lst:                     # for loop to iterate through the list of numbers\n",
    "    if num % 2 == 0:\n",
    "        even_sum += num            # Check if the current number (num) in the list is even.\n",
    "    else:\n",
    "        odd_sum += num            #  even numbers are divisible by 2 with no remainder.\n",
    "                                   # If the number is even, it enters this block of code.\n",
    "result = abs(even_sum - odd_sum)   # Add the even number (num) to the even_sum\n",
    "\n",
    "print(result)\n"
   ]
  },
  {
   "cell_type": "markdown",
   "id": "a0f39948",
   "metadata": {},
   "source": [
    "## MEDIUM"
   ]
  },
  {
   "cell_type": "markdown",
   "id": "90508dd1",
   "metadata": {},
   "source": [
    "### 8) Create a function that takes an integer and outputs an n x n square solely consisting of the integer n."
   ]
  },
  {
   "cell_type": "markdown",
   "id": "ad4905a7",
   "metadata": {},
   "source": [
    "## while loop"
   ]
  },
  {
   "cell_type": "code",
   "execution_count": 1,
   "id": "25651b0c",
   "metadata": {},
   "outputs": [
    {
     "name": "stdout",
     "output_type": "stream",
     "text": [
      "Enter a positive integer n: 3\n",
      "[3, 3, 3]\n",
      "[3, 3, 3]\n",
      "[3, 3, 3]\n"
     ]
    }
   ],
   "source": [
    "n = int(input(\"Enter a positive integer n: \")) # Check if n is a positive integer\n",
    "\n",
    "if n <= 0:\n",
    "    print(\"n must be a positive integer\")\n",
    "else:\n",
    "    square = []      # assign an empty list to store the n x n square\n",
    "    i = 0\n",
    "    while i < n:         # Use a while loop to iterate from 0 to n - 1 to create rows\n",
    "        row = [n] * n              # Create a list with n copies of the integer n\n",
    "        square.append(row)    # Append the row to the square list\n",
    "        i += 1               # Increment the row counter\n",
    "\n",
    "    for row in square:    #Within the loop, this line prints the current value of row\n",
    "        print(row)\n"
   ]
  },
  {
   "cell_type": "markdown",
   "id": "aff1e861",
   "metadata": {},
   "source": [
    "## for loop"
   ]
  },
  {
   "cell_type": "code",
   "execution_count": 2,
   "id": "e03e85b3",
   "metadata": {},
   "outputs": [
    {
     "name": "stdout",
     "output_type": "stream",
     "text": [
      "Enter a positive integer n: 5\n",
      "[5, 5, 5, 5, 5]\n",
      "[5, 5, 5, 5, 5]\n",
      "[5, 5, 5, 5, 5]\n",
      "[5, 5, 5, 5, 5]\n",
      "[5, 5, 5, 5, 5]\n"
     ]
    }
   ],
   "source": [
    "n = int(input(\"Enter a positive integer n: \"))\n",
    "\n",
    "if n <= 0:\n",
    "    print(\"n must be a positive integer\")\n",
    "else:\n",
    "    square = [] # assign square matrix\n",
    "    for i in range(n):     # for loop to iterate from 0 to n-1 for creating rows\n",
    "        row = [n] * n          # Create a list with n copies of the integer n\n",
    "        square.append(row)     # Append the row to the square list\n",
    "\n",
    "    for row in square:       # the resulting square\n",
    "        print(row)        #Within the loop, this line prints the current value of row\n"
   ]
  },
  {
   "cell_type": "markdown",
   "id": "959c9702",
   "metadata": {},
   "source": [
    "### 9) Given two strings comprised of + and -, return a new string which shows how the two strings interact in the following way:\n",
    "\n",
    "### When positives and positives interact, they remain positive.\n",
    "### When negatives and negatives interact, they remain negative.\n",
    "### But when negatives and positives interact, they become neutral, and are shown as the number 0."
   ]
  },
  {
   "cell_type": "markdown",
   "id": "7298b395",
   "metadata": {},
   "source": [
    "## while loop"
   ]
  },
  {
   "cell_type": "code",
   "execution_count": 3,
   "id": "ae2953f6",
   "metadata": {},
   "outputs": [
    {
     "name": "stdout",
     "output_type": "stream",
     "text": [
      "Enter the first string of + and - signs (or type 'exit' to exit): ++-\n",
      "Enter the second string of + and - signs: --*/+\n",
      "Interaction result: 000\n",
      "Enter the first string of + and - signs (or type 'exit' to exit): ++-\n",
      "Enter the second string of + and - signs: *-+\n",
      "Interaction result: 000\n",
      "Enter the first string of + and - signs (or type 'exit' to exit): exit\n"
     ]
    }
   ],
   "source": [
    "while True:\n",
    "    string1 = input(\"Enter the first string of + and - signs (or type 'exit' to exit): \")\n",
    "    if string1.lower() == 'exit':\n",
    "        break  # Exit the loop if the user types 'quit'\n",
    "\n",
    "    string2 = input(\"Enter the second string of + and - signs: \")\n",
    "\n",
    "    result = \"\"\n",
    "    for char1, char2 in zip(string1, string2):\n",
    "        if char1 == '+' and char2 == '+':\n",
    "            result += '+'\n",
    "        elif char1 == '-' and char2 == '-':\n",
    "            result += '-'\n",
    "        else:\n",
    "            result += '0'\n",
    "\n",
    "    print(\"Interaction result:\", result)\n"
   ]
  },
  {
   "cell_type": "markdown",
   "id": "16a86282",
   "metadata": {},
   "source": [
    "## for loop"
   ]
  },
  {
   "cell_type": "code",
   "execution_count": 4,
   "id": "96cd4c34",
   "metadata": {},
   "outputs": [
    {
     "name": "stdout",
     "output_type": "stream",
     "text": [
      "Enter the first string of + and - signs: -+-\n",
      "Enter the second string of + and - signs: --*\n",
      "Interaction result: -00\n"
     ]
    }
   ],
   "source": [
    "string1 = input(\"Enter the first string of + and - signs: \")\n",
    "string2 = input(\"Enter the second string of + and - signs: \")\n",
    "\n",
    "result = \"\"\n",
    "for char1, char2 in zip(string1, string2): # Initialize an empty string to store the interaction result.\n",
    "    if char1 == '+' and char2 == '+':           # Iterate through both input strings character by character using zip.\n",
    "        result += '+'\n",
    "    elif char1 == '-' and char2 == '-':              # If so, add '+' to the result.\n",
    "        result += '-'                              # If so, add '-' to the result.\n",
    "    else:\n",
    "        result += '0'       # If the characters don't match the above conditions, they are of opposite signs.\n",
    "\n",
    "print(\"Interaction result:\", result)       # Add '0' to the result, as they interact to become neutral.\n"
   ]
  },
  {
   "cell_type": "markdown",
   "id": "50e46391",
   "metadata": {},
   "source": [
    "### 10)The iterated square root of a number is the number of times the square root function must be applied to bring the number strictly under 2.\n",
    "\n",
    "### Given an integer, return its iterated square root. Return \"invalid\" if it is negative."
   ]
  },
  {
   "cell_type": "markdown",
   "id": "de85e984",
   "metadata": {},
   "source": [
    "## while loop"
   ]
  },
  {
   "cell_type": "code",
   "execution_count": 5,
   "id": "05623ba4",
   "metadata": {},
   "outputs": [
    {
     "name": "stdout",
     "output_type": "stream",
     "text": [
      "Enter an integer (or type 'exit' to exit): 652\n",
      "The iterated square root is 4.\n"
     ]
    }
   ],
   "source": [
    "import math\n",
    "\n",
    "while True:\n",
    "    number = int(input(\"Enter an integer (or type 'exit' to exit): \")) # Prompt the user to enter an integer.\n",
    "    \n",
    "    if number < 0:\n",
    "        print(\"Invalid input: The number is negative.\")  # Check if the input number is negative.\n",
    "    elif number == 0:\n",
    "        print(\"The iterated square root is 0.\")  # Handle special cases for number 0 and 1.\n",
    "    elif number == 1:\n",
    "        print(\"The iterated square root is 1.\")\n",
    "    else:\n",
    "        count = 0\n",
    "        while number >= 2:\n",
    "            number = math.sqrt(number)  # Calculate the square root.\n",
    "            count += 1\n",
    "\n",
    "        print(f\"The iterated square root is {count}.\")\n",
    "    \n",
    "    if number > 1:\n",
    "        break\n"
   ]
  },
  {
   "cell_type": "markdown",
   "id": "96527c3f",
   "metadata": {},
   "source": [
    "## for loop"
   ]
  },
  {
   "cell_type": "code",
   "execution_count": 7,
   "id": "cee8e5ec",
   "metadata": {},
   "outputs": [],
   "source": [
    "import math\n",
    "def num_iterations():\n",
    "    for _ in range(num_iterations):                  # Use a for loop to allow a fixed number of iterations.\n",
    "        number = int(input(\"Enter an integer: \"))      # Prompt the user to enter an integer.\n",
    "    \n",
    "        if number < 0:\n",
    "            print(\"Invalid input: The number is negative.\") # Check if the input number is negative.\n",
    "        elif number == 0:\n",
    "            print(\"The iterated square root is 0.\")  # Handle special cases for number 0 and 1.\n",
    "        elif number == 1:\n",
    "            print(\"The iterated square root is 1.\")\n",
    "        else:\n",
    "            count = 0\n",
    "        while number >= 2:\n",
    "            number = math.sqrt(number)  # Calculate the square root.\n",
    "            count += 1\n",
    "\n",
    "            print(f\"The iterated square root is {count}.\")  # Print the iterated square root count.\n",
    "    \n",
    "        if number > 1:\n",
    "            break\n"
   ]
  },
  {
   "cell_type": "markdown",
   "id": "f1a6f1f4",
   "metadata": {},
   "source": [
    "### 11)Syncopation means an emphasis on a weak beat of a bar of music; most commonly, beats 2 and 4 (and all other even-numbered beats if applicable).\n",
    "\n",
    "### You will be given a string representing beats, where hashtags # represent emphasized beats. Create a function that returns if True the line of music contains any syncopation, and False otherwise."
   ]
  },
  {
   "cell_type": "markdown",
   "id": "313b9962",
   "metadata": {},
   "source": [
    "## while loop"
   ]
  },
  {
   "cell_type": "code",
   "execution_count": 8,
   "id": "da015117",
   "metadata": {},
   "outputs": [
    {
     "name": "stdout",
     "output_type": "stream",
     "text": [
      "Enter the string of beats: #.##.###\n",
      "The line of music contains syncopation.\n"
     ]
    }
   ],
   "source": [
    "beats = input(\"Enter the string of beats: \")  # Input the string of beats representing the music\n",
    "\n",
    "has_syncopation = False                    # Initialize a variable to track if there's syncopation (False by default)\n",
    "i = 1                              # Start with the second character (index 1)\n",
    "\n",
    "while i < len(beats):\n",
    "    if beats[i] == '#':                  # Check if there's a '#' on even-numbered beats (beats 2, 4, 6, etc.)\n",
    "        has_syncopation = True\n",
    "        break              # If a '#' is found on an even-numbered beat, set has_syncopation to True and break out of the loop\n",
    "    i += 2                             # Move to the next even-numbered beat.\n",
    "\n",
    "if has_syncopation:\n",
    "    print(\"The line of music contains syncopation.\")     # Print the result based on whether syncopation was found or not\n",
    "else:\n",
    "    print(\"The line of music does not contain syncopation.\")\n"
   ]
  },
  {
   "cell_type": "markdown",
   "id": "e04567ff",
   "metadata": {},
   "source": [
    "## for loop"
   ]
  },
  {
   "cell_type": "code",
   "execution_count": 9,
   "id": "1753c3ab",
   "metadata": {},
   "outputs": [
    {
     "name": "stdout",
     "output_type": "stream",
     "text": [
      "Enter the string of beats: #.##\n",
      "The line of music contains syncopation.\n"
     ]
    }
   ],
   "source": [
    "beats = input(\"Enter the string of beats: \") # Input the string of beats representing the music\n",
    "\n",
    "                                # Check if there's a syncopation by looking for '#' on even-numbered beats.\n",
    "has_syncopation = False            # Initialize a variable to track if there's syncopation (False by default)\n",
    "for i in range(1, len(beats), 2):  # Use a for loop to iterate through the string, starting from the second character (index 1)\n",
    "    if beats[i] == '#':              # Check if there's a '#' on even-numbered beats (beats 2, 4, 6, etc.)\n",
    "        has_syncopation = True\n",
    "        break               # If a '#' is found on an even-numbered beat, set has_syncopation to True and break out of the loop\n",
    "\n",
    "if has_syncopation:\n",
    "    print(\"The line of music contains syncopation.\") # Print the result based on whether syncopation was found or not\n",
    "else:\n",
    "    print(\"The line of music does not contain syncopation.\")\n"
   ]
  },
  {
   "cell_type": "markdown",
   "id": "317ecade",
   "metadata": {},
   "source": [
    "### 12)Create a function that returns the amount of duplicate characters in a string. It will be case sensitive and spaces are included. If there are no duplicates, return 0."
   ]
  },
  {
   "cell_type": "markdown",
   "id": "83532ce4",
   "metadata": {},
   "source": [
    "## while loop"
   ]
  },
  {
   "cell_type": "code",
   "execution_count": 12,
   "id": "c89deef2",
   "metadata": {},
   "outputs": [
    {
     "name": "stdout",
     "output_type": "stream",
     "text": [
      "Enter a string: world is beautiful\n",
      "4\n"
     ]
    }
   ],
   "source": [
    "char_count = {}  # Dictionary to store the count of each character\n",
    "input_str = input(\"Enter a string: \")\n",
    "index = 0\n",
    "\n",
    "while index < len(input_str):\n",
    "    char = input_str[index]\n",
    "\n",
    "    if char.isalpha() or char.isspace():  # Consider only alphabetic characters and spaces\n",
    "        if char in char_count:\n",
    "            char_count[char] += 1\n",
    "        else:\n",
    "            char_count[char] = 1\n",
    "\n",
    "    index += 1\n",
    "\n",
    "duplicate_count = sum(count - 1 for count in char_count.values() if count > 1)\n",
    "print(duplicate_count)\n"
   ]
  },
  {
   "cell_type": "markdown",
   "id": "3cd3d511",
   "metadata": {},
   "source": [
    "## for loop"
   ]
  },
  {
   "cell_type": "code",
   "execution_count": 13,
   "id": "2936278b",
   "metadata": {},
   "outputs": [
    {
     "name": "stdout",
     "output_type": "stream",
     "text": [
      "Enter a string: is world beautiful\n",
      "4\n"
     ]
    }
   ],
   "source": [
    "char_count = {}  # Dictionary to store the count of each character\n",
    "input_str = input(\"Enter a string: \")\n",
    "\n",
    "for char in input_str:\n",
    "    if char.isalpha() or char.isspace():  # Consider only alphabetic characters and spaces\n",
    "        if char in char_count:\n",
    "            char_count[char] += 1\n",
    "        else:\n",
    "            char_count[char] = 1\n",
    "\n",
    "duplicate_count = sum(count - 1 for count in char_count.values() if count > 1)\n",
    "print(duplicate_count)\n"
   ]
  },
  {
   "cell_type": "markdown",
   "id": "efd22478",
   "metadata": {},
   "source": [
    "### 13) Create a function that takes in a list of tuples as input, and return John's score after his game has ended."
   ]
  },
  {
   "cell_type": "markdown",
   "id": "103adc4f",
   "metadata": {},
   "source": [
    "## while loop"
   ]
  },
  {
   "cell_type": "code",
   "execution_count": 15,
   "id": "1409c812",
   "metadata": {},
   "outputs": [
    {
     "name": "stdout",
     "output_type": "stream",
     "text": [
      "Enter a tuple (e.g., 1 2): 1 8\n",
      "Enter a tuple (e.g., 1 2): 2 9\n",
      "Enter a tuple (e.g., 1 2): 1 7\n",
      "28\n"
     ]
    }
   ],
   "source": [
    "score = 0\n",
    "rounds = 0\n",
    "\n",
    "while rounds < 3:\n",
    "    # Get input for each round\n",
    "    a, b = map(int, input(\"Enter a tuple (e.g., 1 2): \").split())\n",
    "\n",
    "    if a == b:\n",
    "        score = 0\n",
    "        break\n",
    "\n",
    "    score += a + b\n",
    "    rounds += 1\n",
    "\n",
    "print(score)\n"
   ]
  },
  {
   "cell_type": "markdown",
   "id": "99d6c3e7",
   "metadata": {},
   "source": [
    "## for loop"
   ]
  },
  {
   "cell_type": "code",
   "execution_count": 16,
   "id": "d82b906e",
   "metadata": {},
   "outputs": [
    {
     "name": "stdout",
     "output_type": "stream",
     "text": [
      "Enter a tuple (e.g., 1 2): 2 3\n",
      "Enter a tuple (e.g., 1 2): 6 8\n",
      "Enter a tuple (e.g., 1 2): 6 2\n",
      "27\n"
     ]
    }
   ],
   "source": [
    "score = 0\n",
    "\n",
    "for _ in range(3):\n",
    "    # Get input for each round\n",
    "    a, b = map(int, input(\"Enter a tuple (e.g., 1 2): \").split())\n",
    "\n",
    "    if a == b:\n",
    "        score = 0\n",
    "        break\n",
    "\n",
    "    score += a + b\n",
    "\n",
    "print(score)\n"
   ]
  },
  {
   "cell_type": "markdown",
   "id": "dee14e26",
   "metadata": {},
   "source": [
    "### 14) This is a reverse coding challenge. Normally you're given explicit directions with how to create a function. Here, you must generate your own function to satisfy the relationship between the inputs and outputs.\n",
    "\n",
    "### Your task is to create a function that, when fed the inputs below, produces the sample outputs shown."
   ]
  },
  {
   "cell_type": "markdown",
   "id": "b84e0909",
   "metadata": {},
   "source": [
    "## while loop"
   ]
  },
  {
   "cell_type": "code",
   "execution_count": 17,
   "id": "a36f82e5",
   "metadata": {},
   "outputs": [
    {
     "name": "stdout",
     "output_type": "stream",
     "text": [
      "Enter a number: 25\n",
      "Output: 10\n"
     ]
    }
   ],
   "source": [
    "while True:                                  # Get user input for the number using a while loop for validation\n",
    "    user_input = input(\"Enter a number: \")\n",
    "\n",
    "    if user_input.isdigit():                     # Check if the input is a valid integer\n",
    "        break\n",
    "    else:\n",
    "        print(\"Invalid input. Please enter a valid integer.\")\n",
    "\n",
    "num = int(user_input)                    # Convert the input to an integer and calculate the result\n",
    "result = 1\n",
    "\n",
    "for digit in str(num):   # Multiply the individual digits of the input number\n",
    "    result *= int(digit)\n",
    "\n",
    "print(\"Output:\", result)      # Display the result\n"
   ]
  },
  {
   "cell_type": "markdown",
   "id": "7ab11fa5",
   "metadata": {},
   "source": [
    "## for loop"
   ]
  },
  {
   "cell_type": "code",
   "execution_count": 18,
   "id": "632b209c",
   "metadata": {},
   "outputs": [
    {
     "name": "stdout",
     "output_type": "stream",
     "text": [
      "Enter a number: 65\n",
      "Output: 30\n"
     ]
    }
   ],
   "source": [
    "result = 1\n",
    "\n",
    "for _ in range(3):  # Allow three attempts\n",
    "    user_input = input(\"Enter a number: \")\n",
    "\n",
    "    if user_input.isdigit():  # Check if the input is a valid integer\n",
    "        break\n",
    "    else:\n",
    "        print(\"Invalid input. Please enter a valid integer.\")\n",
    "else:\n",
    "    print(\"Too many invalid attempts. Exiting.\")\n",
    "    exit()\n",
    "\n",
    "num = int(user_input)          # Convert the input to an integer and calculate the result\n",
    "\n",
    "for digit in str(num):\n",
    "    result *= int(digit)      # Multiply the individual digits of the input number\n",
    "\n",
    "# Display the result\n",
    "print(\"Output:\", result)\n"
   ]
  },
  {
   "cell_type": "code",
   "execution_count": null,
   "id": "792efb76",
   "metadata": {},
   "outputs": [],
   "source": []
  },
  {
   "cell_type": "code",
   "execution_count": null,
   "id": "7c7afa52",
   "metadata": {},
   "outputs": [],
   "source": []
  }
 ],
 "metadata": {
  "kernelspec": {
   "display_name": "Python 3 (ipykernel)",
   "language": "python",
   "name": "python3"
  },
  "language_info": {
   "codemirror_mode": {
    "name": "ipython",
    "version": 3
   },
   "file_extension": ".py",
   "mimetype": "text/x-python",
   "name": "python",
   "nbconvert_exporter": "python",
   "pygments_lexer": "ipython3",
   "version": "3.11.5"
  }
 },
 "nbformat": 4,
 "nbformat_minor": 5
}
